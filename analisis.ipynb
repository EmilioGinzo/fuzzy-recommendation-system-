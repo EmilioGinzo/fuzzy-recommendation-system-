{
 "cells": [
  {
   "cell_type": "markdown",
   "metadata": {},
   "source": [
    " - combinar las tablas\n",
    " - limpiar datos\n",
    " - combinar las columnas title, brand, summary, description en una nueva columna\n",
    " - tokenizar la nueva columnas combinada\n",
    " - calcular similitud con la similitud de los items tokenizados del coseno\n",
    " - los que son muy similares los eliminamos de la lista\n",
    " - agarramos algunos items de la lista y calculamos el mean del overall\n",
    " - ordenamos nuevamente descendentemente pero esta vez basados en el overall mean => lista2\n",
    " - recomendamos los 10 primeros de la lista 2\n",
    "\n"
   ]
  },
  {
   "cell_type": "code",
   "execution_count": 3,
   "metadata": {},
   "outputs": [],
   "source": [
    "import nltk\n",
    "import json\n",
    "import pandas as pd\n",
    "import gzip\n",
    "import numpy as np\n",
    "import matplotlib.pyplot as plt\n",
    "import seaborn as sns\n",
    "from sklearn.metrics.pairwise import cosine_similarity\n",
    "import skfuzzy as fuzz\n",
    "from sklearn.feature_extraction.text import TfidfVectorizer\n",
    "from skfuzzy import control as ctrl"
   ]
  },
  {
   "cell_type": "code",
   "execution_count": 4,
   "metadata": {},
   "outputs": [],
   "source": [
    "PATH = './AMAZON_FASHION.json.gz'\n",
    "PATH_meta = './meta_AMAZON_FASHION.json.gz'"
   ]
  },
  {
   "cell_type": "markdown",
   "metadata": {},
   "source": [
    "## MODULO 1\n",
    "### Lector de datasets"
   ]
  },
  {
   "cell_type": "code",
   "execution_count": 5,
   "metadata": {},
   "outputs": [],
   "source": [
    "def parse(path):\n",
    "  g = gzip.open(path, 'rb')\n",
    "  for l in g:\n",
    "    yield json.loads(l)\n",
    "\n",
    "def getDF(path):\n",
    "  i = 0\n",
    "  df = {}\n",
    "  for d in parse(path):\n",
    "    df[i] = d\n",
    "    i += 1\n",
    "  return pd.DataFrame.from_dict(df, orient='index')"
   ]
  },
  {
   "cell_type": "code",
   "execution_count": 6,
   "metadata": {},
   "outputs": [],
   "source": [
    "df = getDF(PATH)\n",
    "df_meta = getDF(PATH_meta)"
   ]
  },
  {
   "cell_type": "code",
   "execution_count": 7,
   "metadata": {},
   "outputs": [
    {
     "data": {
      "text/plain": [
       "(186637, 16)"
      ]
     },
     "execution_count": 7,
     "metadata": {},
     "output_type": "execute_result"
    }
   ],
   "source": [
    "df_meta.shape"
   ]
  },
  {
   "cell_type": "code",
   "execution_count": 8,
   "metadata": {},
   "outputs": [
    {
     "data": {
      "text/plain": [
       "186194"
      ]
     },
     "execution_count": 8,
     "metadata": {},
     "output_type": "execute_result"
    }
   ],
   "source": [
    "df_meta['asin'].nunique()"
   ]
  },
  {
   "cell_type": "markdown",
   "metadata": {},
   "source": [
    "notamos que hay productos que no son unicos, arreglamos eso"
   ]
  },
  {
   "cell_type": "code",
   "execution_count": 9,
   "metadata": {},
   "outputs": [
    {
     "data": {
      "text/plain": [
       "(186194, 16)"
      ]
     },
     "execution_count": 9,
     "metadata": {},
     "output_type": "execute_result"
    }
   ],
   "source": [
    "df_meta= df_meta.drop_duplicates(subset='asin', keep='first')\n",
    "df_meta.shape"
   ]
  },
  {
   "cell_type": "code",
   "execution_count": 10,
   "metadata": {},
   "outputs": [
    {
     "data": {
      "text/plain": [
       "Text(0, 0.5, 'Count')"
      ]
     },
     "execution_count": 10,
     "metadata": {},
     "output_type": "execute_result"
    },
    {
     "data": {
      "image/png": "[encoded data removed]",
      "text/plain": [
       "<Figure size 1000x500 with 1 Axes>"
      ]
     },
     "metadata": {},
     "output_type": "display_data"
    }
   ],
   "source": [
    "ax = df['overall'].value_counts().sort_index().plot(kind='bar', title=\"Count of reviews by star\",figsize=(10, 5))\n",
    "ax.set_xlabel(\"Star\")\n",
    "ax.set_ylabel(\"Count\")"
   ]
  },
  {
   "cell_type": "markdown",
   "metadata": {},
   "source": [
    "notamos que los reviews estan sesgados hacia 5 estrellas"
   ]
  },
  {
   "cell_type": "markdown",
   "metadata": {},
   "source": [
    "### Tokenizacion de comentarios"
   ]
  },
  {
   "cell_type": "code",
   "execution_count": 11,
   "metadata": {},
   "outputs": [
    {
     "name": "stderr",
     "output_type": "stream",
     "text": [
      "[nltk_data] Downloading package punkt to\n",
      "[nltk_data]     C:\\Users\\coraj\\AppData\\Roaming\\nltk_data...\n",
      "[nltk_data]   Package punkt is already up-to-date!\n",
      "[nltk_data] Downloading package averaged_perceptron_tagger to\n",
      "[nltk_data]     C:\\Users\\coraj\\AppData\\Roaming\\nltk_data...\n",
      "[nltk_data]   Package averaged_perceptron_tagger is already up-to-\n",
      "[nltk_data]       date!\n",
      "[nltk_data] Downloading package maxent_ne_chunker to\n",
      "[nltk_data]     C:\\Users\\coraj\\AppData\\Roaming\\nltk_data...\n",
      "[nltk_data]   Package maxent_ne_chunker is already up-to-date!\n",
      "[nltk_data] Downloading package words to\n",
      "[nltk_data]     C:\\Users\\coraj\\AppData\\Roaming\\nltk_data...\n",
      "[nltk_data]   Package words is already up-to-date!\n"
     ]
    },
    {
     "data": {
      "text/plain": [
       "True"
      ]
     },
     "execution_count": 11,
     "metadata": {},
     "output_type": "execute_result"
    }
   ],
   "source": [
    "nltk.download('punkt')\n",
    "nltk.download('averaged_perceptron_tagger')\n",
    "nltk.download('maxent_ne_chunker')\n",
    "nltk.download('words')"
   ]
  },
  {
   "cell_type": "markdown",
   "metadata": {},
   "source": [
    "## MODULO 2\n",
    "### Rating Score\n",
    "calculamos el overall mean"
   ]
  },
  {
   "cell_type": "code",
   "execution_count": 12,
   "metadata": {},
   "outputs": [
    {
     "data": {
      "text/html": [
       "<div>\n",
       "<style scoped>\n",
       "    .dataframe tbody tr th:only-of-type {\n",
       "        vertical-align: middle;\n",
       "    }\n",
       "\n",
       "    .dataframe tbody tr th {\n",
       "        vertical-align: top;\n",
       "    }\n",
       "\n",
       "    .dataframe thead th {\n",
       "        text-align: right;\n",
       "    }\n",
       "</style>\n",
       "<table border=\"1\" class=\"dataframe\">\n",
       "  <thead>\n",
       "    <tr style=\"text-align: right;\">\n",
       "      <th></th>\n",
       "      <th>asin</th>\n",
       "      <th>overall</th>\n",
       "    </tr>\n",
       "  </thead>\n",
       "  <tbody>\n",
       "    <tr>\n",
       "      <th>0</th>\n",
       "      <td>0764443682</td>\n",
       "      <td>5.000000</td>\n",
       "    </tr>\n",
       "    <tr>\n",
       "      <th>1</th>\n",
       "      <td>1291691480</td>\n",
       "      <td>5.000000</td>\n",
       "    </tr>\n",
       "    <tr>\n",
       "      <th>2</th>\n",
       "      <td>1940280001</td>\n",
       "      <td>5.000000</td>\n",
       "    </tr>\n",
       "    <tr>\n",
       "      <th>3</th>\n",
       "      <td>1940735033</td>\n",
       "      <td>4.857143</td>\n",
       "    </tr>\n",
       "    <tr>\n",
       "      <th>4</th>\n",
       "      <td>1940967805</td>\n",
       "      <td>5.000000</td>\n",
       "    </tr>\n",
       "    <tr>\n",
       "      <th>...</th>\n",
       "      <td>...</td>\n",
       "      <td>...</td>\n",
       "    </tr>\n",
       "    <tr>\n",
       "      <th>186184</th>\n",
       "      <td>B01HJGXL4O</td>\n",
       "      <td>5.000000</td>\n",
       "    </tr>\n",
       "    <tr>\n",
       "      <th>186185</th>\n",
       "      <td>B01HJGZVYW</td>\n",
       "      <td>4.000000</td>\n",
       "    </tr>\n",
       "    <tr>\n",
       "      <th>186186</th>\n",
       "      <td>B01HJH7JY6</td>\n",
       "      <td>5.000000</td>\n",
       "    </tr>\n",
       "    <tr>\n",
       "      <th>186187</th>\n",
       "      <td>B01HJHF97K</td>\n",
       "      <td>3.000000</td>\n",
       "    </tr>\n",
       "    <tr>\n",
       "      <th>186188</th>\n",
       "      <td>B01HJHTH5U</td>\n",
       "      <td>4.625000</td>\n",
       "    </tr>\n",
       "  </tbody>\n",
       "</table>\n",
       "<p>186189 rows × 2 columns</p>\n",
       "</div>"
      ],
      "text/plain": [
       "              asin   overall\n",
       "0       0764443682  5.000000\n",
       "1       1291691480  5.000000\n",
       "2       1940280001  5.000000\n",
       "3       1940735033  4.857143\n",
       "4       1940967805  5.000000\n",
       "...            ...       ...\n",
       "186184  B01HJGXL4O  5.000000\n",
       "186185  B01HJGZVYW  4.000000\n",
       "186186  B01HJH7JY6  5.000000\n",
       "186187  B01HJHF97K  3.000000\n",
       "186188  B01HJHTH5U  4.625000\n",
       "\n",
       "[186189 rows x 2 columns]"
      ]
     },
     "execution_count": 12,
     "metadata": {},
     "output_type": "execute_result"
    }
   ],
   "source": [
    "overall_mean = df.groupby('asin')['overall'].mean().reset_index()\n",
    "overall_mean\n",
    "# num_asin_values = df_meta['asin'].nunique()\n",
    "# num_asin_values"
   ]
  },
  {
   "cell_type": "markdown",
   "metadata": {},
   "source": [
    "agregamos la columnas id al dataframe df_meta"
   ]
  },
  {
   "cell_type": "code",
   "execution_count": 13,
   "metadata": {},
   "outputs": [],
   "source": [
    "df_meta['id']=[i for i in range(0,df_meta.shape[0])]"
   ]
  },
  {
   "cell_type": "markdown",
   "metadata": {},
   "source": [
    "reducimos la muestra para facilitar el procesamiento "
   ]
  },
  {
   "cell_type": "code",
   "execution_count": 14,
   "metadata": {},
   "outputs": [],
   "source": [
    "CANTIDAD = 10000"
   ]
  },
  {
   "cell_type": "code",
   "execution_count": 15,
   "metadata": {},
   "outputs": [],
   "source": [
    "df_meta_cortado = df_meta.head(CANTIDAD)"
   ]
  },
  {
   "cell_type": "markdown",
   "metadata": {},
   "source": [
    "creamos una nueva columnas que contiene la informacion que necesitamos para encontrar items similares"
   ]
  },
  {
   "cell_type": "code",
   "execution_count": 16,
   "metadata": {},
   "outputs": [
    {
     "name": "stderr",
     "output_type": "stream",
     "text": [
      "C:\\Users\\coraj\\AppData\\Local\\Temp\\ipykernel_13452\\2222405249.py:7: SettingWithCopyWarning: \n",
      "A value is trying to be set on a copy of a slice from a DataFrame.\n",
      "Try using .loc[row_indexer,col_indexer] = value instead\n",
      "\n",
      "See the caveats in the documentation: https://pandas.pydata.org/pandas-docs/stable/user_guide/indexing.html#returning-a-view-versus-a-copy\n",
      "  df_meta_cortado['combined_text'] = df_meta_cortado[existing_columns].apply(lambda row: ' '.join(str(val) for val in row), axis=1)\n"
     ]
    }
   ],
   "source": [
    "columns_to_combine = ['title', 'brand', 'summary', 'description', 'expliota']\n",
    "existing_columns = [col for col in columns_to_combine if col in df_meta_cortado.columns]\n",
    "\n",
    "if existing_columns:\n",
    "    # Al menos una de las columnas en 'existing_columns' existe en el df_meta_cortadoFrame 'df_meta_cortado'.\n",
    "    # Puedes combinar las columnas existentes y crear la nueva columna 'combined_text'.\n",
    "    df_meta_cortado['combined_text'] = df_meta_cortado[existing_columns].apply(lambda row: ' '.join(str(val) for val in row), axis=1)\n"
   ]
  },
  {
   "cell_type": "markdown",
   "metadata": {},
   "source": [
    "La matriz vecs contiene las puntuaciones TF-IDF ( Frecuencia de Término - Frecuencia Inversa de Documento) para cada palabra en cada documento. Las puntuaciones TF-IDF representan la importancia de una palabra para un documento en la colección."
   ]
  },
  {
   "cell_type": "code",
   "execution_count": 17,
   "metadata": {},
   "outputs": [
    {
     "data": {
      "text/plain": [
       "(10000, 22929)"
      ]
     },
     "execution_count": 17,
     "metadata": {},
     "output_type": "execute_result"
    }
   ],
   "source": [
    "vec = TfidfVectorizer()\n",
    "vecs = vec.fit_transform(df_meta_cortado['combined_text'].apply(lambda x: np.str_(x)))\n",
    "vecs.shape"
   ]
  },
  {
   "cell_type": "markdown",
   "metadata": {},
   "source": [
    "## Modulo 3\n",
    "### Similarity Score"
   ]
  },
  {
   "cell_type": "markdown",
   "metadata": {},
   "source": [
    "Esto significa que tienes 10000 documentos (las filas del DataFrame df_meta_cortado) y 22929 palabras únicas en todos los documentos (las características)."
   ]
  },
  {
   "cell_type": "markdown",
   "metadata": {},
   "source": [
    "calcular la similitud del coseno entre cada par de vectores en vecs\n",
    "\n",
    "Su valor varía de -1 (vectores completamente opuestos) a 1 (vectores idénticos), con 0 indicando ortogonalidad (vectores perpendiculares)."
   ]
  },
  {
   "cell_type": "code",
   "execution_count": 18,
   "metadata": {},
   "outputs": [
    {
     "data": {
      "text/plain": [
       "array([[1.        , 0.00388052, 0.039671  , ..., 0.00938346, 0.00938346,\n",
       "        0.00179705],\n",
       "       [0.00388052, 1.        , 0.        , ..., 0.        , 0.        ,\n",
       "        0.00467325],\n",
       "       [0.039671  , 0.        , 1.        , ..., 0.1177269 , 0.1177269 ,\n",
       "        0.        ],\n",
       "       ...,\n",
       "       [0.00938346, 0.        , 0.1177269 , ..., 1.        , 1.        ,\n",
       "        0.        ],\n",
       "       [0.00938346, 0.        , 0.1177269 , ..., 1.        , 1.        ,\n",
       "        0.        ],\n",
       "       [0.00179705, 0.00467325, 0.        , ..., 0.        , 0.        ,\n",
       "        1.        ]])"
      ]
     },
     "execution_count": 18,
     "metadata": {},
     "output_type": "execute_result"
    }
   ],
   "source": [
    "similaridad = cosine_similarity(vecs)\n",
    "similaridad"
   ]
  },
  {
   "cell_type": "markdown",
   "metadata": {},
   "source": [
    "Maybe borrar?\n",
    "maybe no"
   ]
  },
  {
   "cell_type": "code",
   "execution_count": 19,
   "metadata": {},
   "outputs": [],
   "source": [
    "def fuzzificar(max, min, valor):\n",
    "    intervalo = (max - min) / 4\n",
    "\n",
    "    if valor <= min + intervalo:\n",
    "        return \"pesimo\"\n",
    "    elif valor <= min + 2 * intervalo:\n",
    "        return \"normal\"\n",
    "    elif valor <= min + 3 * intervalo:\n",
    "        return \"bueno\"\n",
    "    else:\n",
    "        return \"excelente\""
   ]
  },
  {
   "cell_type": "code",
   "execution_count": 20,
   "metadata": {},
   "outputs": [],
   "source": [
    "def recommend(asin):\n",
    "    item_id = df_meta_cortado[df_meta_cortado.asin == asin]['id'].values[0]\n",
    "    scores = list(enumerate(similaridad[item_id]))\n",
    "    sorted_scores = sorted(scores, key=lambda x:x[1], reverse=True)\n",
    "    # si score es mayor o igual a 1 entonces se elimina de la lista\n",
    "    scores_no_1 = [i for i in sorted_scores if i[1]<0.8]\n",
    "    # fuzzificar el score\n",
    "    # scores_no_1 = [(score[0], fuzzificar(scores_no_1[0][1], scores_no_1[-1][1], score[1])) for score in scores_no_1]\n",
    "    # sorted_scores=sorted_scores[1:]\n",
    "    items_selected=[df_meta_cortado[items_selected[0]==df_meta_cortado['id']]['asin'].values[0] for items_selected in scores_no_1]\n",
    "    return (items_selected, scores_no_1)"
   ]
  },
  {
   "cell_type": "markdown",
   "metadata": {},
   "source": [
    "### Seleccionamos un producto aleatorio"
   ]
  },
  {
   "cell_type": "markdown",
   "metadata": {},
   "source": [
    "Usamos el producto con ASIN = 1291691480"
   ]
  },
  {
   "cell_type": "code",
   "execution_count": 21,
   "metadata": {},
   "outputs": [
    {
     "name": "stdout",
     "output_type": "stream",
     "text": [
      "Item ID:  3000\n",
      "Similarity Score:  0.20165276828741638\n",
      "ASIN:  B000Q4O5CY\n",
      "\n",
      "\n",
      "Overall Mean:  3000    4.0\n",
      "Name: overall, dtype: float64\n",
      "\n",
      "\n",
      "Item ID:  5460\n",
      "Similarity Score:  0.16068090381605266\n",
      "ASIN:  B0020WB36G\n",
      "\n",
      "\n",
      "Overall Mean:  5460    3.166667\n",
      "Name: overall, dtype: float64\n",
      "\n",
      "\n"
     ]
    }
   ],
   "source": [
    "asins, similaridad_score = recommend('1291691480')\n",
    "for i in range(2):\n",
    "    print('Item ID: ',similaridad_score[i][0])\n",
    "    print('Similarity Score: ',similaridad_score[i][1])\n",
    "    print('ASIN: ',asins[i])\n",
    "    print('\\n')\n",
    "    # Busca el 'overall_mean' correspondiente al 'asin'\n",
    "    overall_mean_item = overall_mean.loc[overall_mean['asin'] == asins[i], 'overall']\n",
    "    print('Overall Mean: ', overall_mean_item)\n",
    "    print('\\n')"
   ]
  },
  {
   "cell_type": "code",
   "execution_count": 22,
   "metadata": {},
   "outputs": [
    {
     "data": {
      "text/plain": [
       "(0.0, 10000.0)"
      ]
     },
     "execution_count": 22,
     "metadata": {},
     "output_type": "execute_result"
    },
    {
     "data": {
      "image/png": "[encoded data removed]",
      "text/plain": [
       "<Figure size 1000x500 with 1 Axes>"
      ]
     },
     "metadata": {},
     "output_type": "display_data"
    }
   ],
   "source": [
    "scores_df = pd.DataFrame(similaridad_score, columns=['ItemID', 'Score'])\n",
    "ax = scores_df.plot.scatter(x='ItemID', y='Score', title=\"Densidad de los Similarity Scores\", figsize=(10, 5))\n",
    "ax.set_xlim(0, 10000)"
   ]
  },
  {
   "cell_type": "code",
   "execution_count": 27,
   "metadata": {},
   "outputs": [
    {
     "name": "stdout",
     "output_type": "stream",
     "text": [
      "            asin     Score    Id   overall overall_fuzzificado\n",
      "0     B000Q4O5CY  0.201653  3000  4.000000               bueno\n",
      "1     B0020WB36G  0.160681  5460  3.166667               bueno\n",
      "2     B004GAK2TE  0.160325  8189  4.000000               bueno\n",
      "3     B004BQJPJ6  0.157337  7920  4.000000               bueno\n",
      "4     B000JFE6TM  0.156206  2252  5.000000           excelente\n",
      "...          ...       ...   ...       ...                 ...\n",
      "9994  B005914EJ8  0.000000  9991  2.000000              pesimo\n",
      "9995  B00591YLEG  0.000000  9995  5.000000           excelente\n",
      "9996  B00591XGD8  0.000000  9996  5.000000           excelente\n",
      "9997  B00591VVDA  0.000000  9997  3.000000              normal\n",
      "9998  B00591YFH4  0.000000  9998  4.000000               bueno\n",
      "\n",
      "[9999 rows x 5 columns]\n"
     ]
    }
   ],
   "source": [
    "top_score = [similaridad_score[i][1] for i in range(CANTIDAD - 1)]\n",
    "top_item_id = [similaridad_score[i][0] for i in range(CANTIDAD - 1)]\n",
    "top_asin = asins[:CANTIDAD]\n",
    "\n",
    "# Crear una lista de tuplas que contenga el ASIN, el score y el overall en el mismo orden\n",
    "data = list(zip(top_asin, top_score, top_item_id))\n",
    "\n",
    "# Crear un DataFrame a partir de los datos combinados\n",
    "df_result = pd.DataFrame(data, columns=['asin', 'Score', 'Id'])\n",
    "\n",
    "# Realizar un join entre df_result y result usando la columna 'ASIN' como clave de unión\n",
    "final_result = pd.merge(df_result, overall_mean, on='asin')\n",
    "\n",
    "# fuzzificar overall mean\n",
    "final_result['overall_fuzzificado'] = final_result['overall'].apply(\n",
    "    lambda valor: fuzzificar(5, 1, valor))\n",
    "\n",
    "# Imprimir el resultado final\n",
    "print(final_result)\n"
   ]
  },
  {
   "cell_type": "markdown",
   "metadata": {},
   "source": [
    "## MODULO 4\n",
    "### Sistema de inferencia difuso"
   ]
  },
  {
   "cell_type": "code",
   "execution_count": 28,
   "metadata": {},
   "outputs": [],
   "source": [
    "# Definimos las variables de entrada y salida para el sistema de control difuso\n",
    "overall = ctrl.Antecedent(np.arange(1, 6, 0.1), 'overall')  # Calificación general\n",
    "similaridad = ctrl.Antecedent(np.arange(-1, 1, 0.1), 'similaridad')  # Similaridad con otros elementos\n",
    "recomendacion = ctrl.Consequent(np.arange(0, 2, 0.1), 'recomendacion')  # Recomendación resultante\n",
    "\n",
    "# Definimos los trapecios para las variables de entrada y salida\n",
    "overall['excelente'] = fuzz.trapmf(overall.universe, [4.1, 5, 5, 5]) # si el valor es [4.1 o 5], entonces es excelente\n",
    "overall['bueno'] = fuzz.trapmf(overall.universe, [3.1, 4, 4, 4.1]) # si el valor es [3.1 o 4.1), entonces es bueno\n",
    "overall['normal'] = fuzz.trapmf(overall.universe, [2.1, 3, 3, 3.1]) # si el valor es [2.1 o 3.1), entonces es normal\n",
    "overall['pesimo'] = fuzz.trapmf(overall.universe, [0.99, 2, 2, 2.1]) # si el valor es (0.99 o 2.1), entonces es pesimo\n",
    "\n",
    "similaridad['muy_similar'] = fuzz.trapmf(similaridad.universe, [0.7, 1, 1, 1]) # si el valor es [0.7 o 1], entonces es muy similar\n",
    "similaridad['similar'] = fuzz.trapmf(similaridad.universe, [0.4, 0.7, 0.7, 0.7]) # si el valor es [0.4 o 0.7), entonces es similar\n",
    "similaridad['poco_similar'] = fuzz.trapmf(similaridad.universe, [0.2, 0.4, 0.4, 0.4]) # si el valor es [0.2 o 0.4), entonces es poco similar\n",
    "similaridad['no_similar'] = fuzz.trapmf(similaridad.universe, [-1, 0, 0, 0.2])  # si el valor es [-1 o 0.2), entonces es no similar\n",
    "\n",
    "\n",
    "recomendacion['muy_recomendado'] = fuzz.trapmf(recomendacion.universe, [1.1, 2, 2, 2]) # si el valor es [1.1 o 2], entonces es muy recomendado\n",
    "recomendacion['recomendado'] = fuzz.trapmf(recomendacion.universe, [0.1, 1, 1, 1.1]) # si el valor es [0.1 o 1.1), entonces es recomendado\n",
    "recomendacion['no_recomendado'] = fuzz.trapmf(recomendacion.universe, [0, 0, 0, 0.1]) # si el valor es [0 o 0.1), entonces es no recomendado\n",
    "\n",
    "# regla 1: si la similaridad es no similar y el overall es excelente, bueno, normal o pesimo, entonces la recomendacion es no recomendado\n",
    "rule1 = ctrl.Rule(similaridad['no_similar'] & (overall['excelente'] | overall['bueno'] | overall['normal'] | overall['pesimo']), recomendacion['no_recomendado'])\n",
    "# regla 2: si la similaridad es muy similar, similar, poco similar o no similar y el overall es pesimo, entonces la recomendacion es no recomendado\n",
    "rule2 = ctrl.Rule(overall['pesimo'] & (similaridad['muy_similar'] | similaridad['similar'] | similaridad['poco_similar'] | similaridad['no_similar']), recomendacion['no_recomendado'])\n",
    "# regla 3: si la similaridad es muy similar o similar y el overall es excelente o bueno, entonces la recomendacion es muy recomendado\n",
    "rule3 = ctrl.Rule((overall['excelente'] | overall['bueno']) & (similaridad['muy_similar'] | similaridad['similar']), recomendacion['muy_recomendado'])\n",
    "# regla 4: si la similaridad es muy similar o similar y el overall es normal, entonces la recomendacion es recomendado\n",
    "rule4 = ctrl.Rule(overall['normal']  & (similaridad['muy_similar'] | similaridad['similar']), recomendacion['recomendado'])\n",
    "# regla 5: si la similaridad es muy similar o similar y el overall es excelente o bueno y poco similar, entonces la recomendacion es recomendado\n",
    "rule5 = ctrl.Rule((overall['excelente'] | overall['bueno']) & (similaridad['poco_similar']), recomendacion['recomendado'])\n",
    "# regla 6: si la similaridad es poco similar y el overall es normal, entonces la recomendacion es no recomendado\n",
    "rule6 = ctrl.Rule(overall['normal'] & similaridad['poco_similar'], recomendacion['no_recomendado'])\n",
    "\n",
    "# Sistema de control y simulación\n",
    "sistema_control = ctrl.ControlSystem([rule1, rule2, rule3, rule4, rule5, rule6])\n",
    "sistema_simulacion = ctrl.ControlSystemSimulation(sistema_control)"
   ]
  },
  {
   "cell_type": "markdown",
   "metadata": {},
   "source": [
    "testeamos"
   ]
  },
  {
   "cell_type": "code",
   "execution_count": 29,
   "metadata": {},
   "outputs": [
    {
     "name": "stdout",
     "output_type": "stream",
     "text": [
      "1.6333333333333335\n"
     ]
    }
   ],
   "source": [
    "# Pasar entradas al sistema\n",
    "sistema_simulacion.input['overall'] = 4  # Ejemplo de calificación\n",
    "sistema_simulacion.input['similaridad'] = 0.7  # Ejemplo de calificación\n",
    "sistema_simulacion.compute() # Defuzzificación\n",
    "\n",
    "print(sistema_simulacion.output['recomendacion'])"
   ]
  },
  {
   "cell_type": "markdown",
   "metadata": {},
   "source": [
    "## MODULO 5\n",
    "### Defusificador"
   ]
  },
  {
   "cell_type": "markdown",
   "metadata": {},
   "source": [
    "Defuzzificamos el resultado"
   ]
  },
  {
   "cell_type": "code",
   "execution_count": 30,
   "metadata": {},
   "outputs": [],
   "source": [
    "def sistema_recomendacion_defuzzificado (recomendacion):\n",
    "    if recomendacion < 0.1:\n",
    "        return 'no_recomendado'\n",
    "    elif recomendacion < 1.1:\n",
    "        return 'recomendado'\n",
    "    else:\n",
    "        return 'muy_recomendado'\n",
    "    "
   ]
  },
  {
   "cell_type": "code",
   "execution_count": 31,
   "metadata": {},
   "outputs": [],
   "source": [
    "def sistema_recomendacion( similarity, overall):\n",
    "    sistema_simulacion.input['overall'] = overall  # Ejemplo de calificación\n",
    "    sistema_simulacion.input['similaridad'] = similarity # Ejemplo de calificación\n",
    "    sistema_simulacion.compute() # Defuzzificación\n",
    "    return (sistema_recomendacion_defuzzificado(sistema_simulacion.output['recomendacion']),sistema_simulacion.output['recomendacion'] )"
   ]
  },
  {
   "cell_type": "code",
   "execution_count": 32,
   "metadata": {},
   "outputs": [
    {
     "data": {
      "text/html": [
       "<div>\n",
       "<style scoped>\n",
       "    .dataframe tbody tr th:only-of-type {\n",
       "        vertical-align: middle;\n",
       "    }\n",
       "\n",
       "    .dataframe tbody tr th {\n",
       "        vertical-align: top;\n",
       "    }\n",
       "\n",
       "    .dataframe thead th {\n",
       "        text-align: right;\n",
       "    }\n",
       "</style>\n",
       "<table border=\"1\" class=\"dataframe\">\n",
       "  <thead>\n",
       "    <tr style=\"text-align: right;\">\n",
       "      <th></th>\n",
       "      <th>asin</th>\n",
       "      <th>Score</th>\n",
       "      <th>Id</th>\n",
       "      <th>overall</th>\n",
       "      <th>overall_fuzzificado</th>\n",
       "      <th>result</th>\n",
       "    </tr>\n",
       "  </thead>\n",
       "  <tbody>\n",
       "    <tr>\n",
       "      <th>0</th>\n",
       "      <td>B000Q4O5CY</td>\n",
       "      <td>0.201653</td>\n",
       "      <td>3000</td>\n",
       "      <td>4.000000</td>\n",
       "      <td>bueno</td>\n",
       "      <td>(recomendado, 0.6016504824734291)</td>\n",
       "    </tr>\n",
       "    <tr>\n",
       "      <th>1</th>\n",
       "      <td>B0020WB36G</td>\n",
       "      <td>0.160681</td>\n",
       "      <td>5460</td>\n",
       "      <td>3.166667</td>\n",
       "      <td>bueno</td>\n",
       "      <td>(no_recomendado, 0.04817188983855651)</td>\n",
       "    </tr>\n",
       "    <tr>\n",
       "      <th>2</th>\n",
       "      <td>B004GAK2TE</td>\n",
       "      <td>0.160325</td>\n",
       "      <td>8189</td>\n",
       "      <td>4.000000</td>\n",
       "      <td>bueno</td>\n",
       "      <td>(no_recomendado, 0.045222609143451546)</td>\n",
       "    </tr>\n",
       "    <tr>\n",
       "      <th>3</th>\n",
       "      <td>B004BQJPJ6</td>\n",
       "      <td>0.157337</td>\n",
       "      <td>7920</td>\n",
       "      <td>4.000000</td>\n",
       "      <td>bueno</td>\n",
       "      <td>(no_recomendado, 0.04487934731679524)</td>\n",
       "    </tr>\n",
       "    <tr>\n",
       "      <th>4</th>\n",
       "      <td>B000JFE6TM</td>\n",
       "      <td>0.156206</td>\n",
       "      <td>2252</td>\n",
       "      <td>5.000000</td>\n",
       "      <td>excelente</td>\n",
       "      <td>(no_recomendado, 0.04997070884592774)</td>\n",
       "    </tr>\n",
       "    <tr>\n",
       "      <th>...</th>\n",
       "      <td>...</td>\n",
       "      <td>...</td>\n",
       "      <td>...</td>\n",
       "      <td>...</td>\n",
       "      <td>...</td>\n",
       "      <td>...</td>\n",
       "    </tr>\n",
       "    <tr>\n",
       "      <th>9994</th>\n",
       "      <td>B005914EJ8</td>\n",
       "      <td>0.000000</td>\n",
       "      <td>9991</td>\n",
       "      <td>2.000000</td>\n",
       "      <td>pesimo</td>\n",
       "      <td>(no_recomendado, 0.03333333333333333)</td>\n",
       "    </tr>\n",
       "    <tr>\n",
       "      <th>9995</th>\n",
       "      <td>B00591YLEG</td>\n",
       "      <td>0.000000</td>\n",
       "      <td>9995</td>\n",
       "      <td>5.000000</td>\n",
       "      <td>excelente</td>\n",
       "      <td>(no_recomendado, 0.04997070884592774)</td>\n",
       "    </tr>\n",
       "    <tr>\n",
       "      <th>9996</th>\n",
       "      <td>B00591XGD8</td>\n",
       "      <td>0.000000</td>\n",
       "      <td>9996</td>\n",
       "      <td>5.000000</td>\n",
       "      <td>excelente</td>\n",
       "      <td>(no_recomendado, 0.04997070884592774)</td>\n",
       "    </tr>\n",
       "    <tr>\n",
       "      <th>9997</th>\n",
       "      <td>B00591VVDA</td>\n",
       "      <td>0.000000</td>\n",
       "      <td>9997</td>\n",
       "      <td>3.000000</td>\n",
       "      <td>normal</td>\n",
       "      <td>(no_recomendado, 0.03333333333333333)</td>\n",
       "    </tr>\n",
       "    <tr>\n",
       "      <th>9998</th>\n",
       "      <td>B00591YFH4</td>\n",
       "      <td>0.000000</td>\n",
       "      <td>9998</td>\n",
       "      <td>4.000000</td>\n",
       "      <td>bueno</td>\n",
       "      <td>(no_recomendado, 0.03333333333333333)</td>\n",
       "    </tr>\n",
       "  </tbody>\n",
       "</table>\n",
       "<p>9999 rows × 6 columns</p>\n",
       "</div>"
      ],
      "text/plain": [
       "            asin     Score    Id   overall overall_fuzzificado  \\\n",
       "0     B000Q4O5CY  0.201653  3000  4.000000               bueno   \n",
       "1     B0020WB36G  0.160681  5460  3.166667               bueno   \n",
       "2     B004GAK2TE  0.160325  8189  4.000000               bueno   \n",
       "3     B004BQJPJ6  0.157337  7920  4.000000               bueno   \n",
       "4     B000JFE6TM  0.156206  2252  5.000000           excelente   \n",
       "...          ...       ...   ...       ...                 ...   \n",
       "9994  B005914EJ8  0.000000  9991  2.000000              pesimo   \n",
       "9995  B00591YLEG  0.000000  9995  5.000000           excelente   \n",
       "9996  B00591XGD8  0.000000  9996  5.000000           excelente   \n",
       "9997  B00591VVDA  0.000000  9997  3.000000              normal   \n",
       "9998  B00591YFH4  0.000000  9998  4.000000               bueno   \n",
       "\n",
       "                                      result  \n",
       "0          (recomendado, 0.6016504824734291)  \n",
       "1      (no_recomendado, 0.04817188983855651)  \n",
       "2     (no_recomendado, 0.045222609143451546)  \n",
       "3      (no_recomendado, 0.04487934731679524)  \n",
       "4      (no_recomendado, 0.04997070884592774)  \n",
       "...                                      ...  \n",
       "9994   (no_recomendado, 0.03333333333333333)  \n",
       "9995   (no_recomendado, 0.04997070884592774)  \n",
       "9996   (no_recomendado, 0.04997070884592774)  \n",
       "9997   (no_recomendado, 0.03333333333333333)  \n",
       "9998   (no_recomendado, 0.03333333333333333)  \n",
       "\n",
       "[9999 rows x 6 columns]"
      ]
     },
     "execution_count": 32,
     "metadata": {},
     "output_type": "execute_result"
    }
   ],
   "source": [
    "# Aplicar la función fuzzyReglas a cada fila y crear una nueva columna 'result'\n",
    "final_result['result'] = final_result.apply(lambda row: sistema_recomendacion(row['Score'], row['overall']), axis=1)\n",
    "\n",
    "# Mostrar el DataFrame resultante\n",
    "# contar todos los resultados igual a 'Highly Recommended'\n",
    "final_result\n"
   ]
  },
  {
   "cell_type": "code",
   "execution_count": 33,
   "metadata": {},
   "outputs": [
    {
     "data": {
      "text/html": [
       "<div>\n",
       "<style scoped>\n",
       "    .dataframe tbody tr th:only-of-type {\n",
       "        vertical-align: middle;\n",
       "    }\n",
       "\n",
       "    .dataframe tbody tr th {\n",
       "        vertical-align: top;\n",
       "    }\n",
       "\n",
       "    .dataframe thead th {\n",
       "        text-align: right;\n",
       "    }\n",
       "</style>\n",
       "<table border=\"1\" class=\"dataframe\">\n",
       "  <thead>\n",
       "    <tr style=\"text-align: right;\">\n",
       "      <th></th>\n",
       "      <th>asin</th>\n",
       "      <th>Score</th>\n",
       "      <th>Id</th>\n",
       "      <th>overall</th>\n",
       "      <th>overall_fuzzificado</th>\n",
       "      <th>result</th>\n",
       "      <th>title</th>\n",
       "      <th>brand</th>\n",
       "      <th>feature</th>\n",
       "      <th>rank</th>\n",
       "      <th>...</th>\n",
       "      <th>description</th>\n",
       "      <th>price</th>\n",
       "      <th>also_view</th>\n",
       "      <th>also_buy</th>\n",
       "      <th>fit</th>\n",
       "      <th>details</th>\n",
       "      <th>similar_item</th>\n",
       "      <th>tech1</th>\n",
       "      <th>id</th>\n",
       "      <th>combined_text</th>\n",
       "    </tr>\n",
       "  </thead>\n",
       "  <tbody>\n",
       "    <tr>\n",
       "      <th>0</th>\n",
       "      <td>B000Q4O5CY</td>\n",
       "      <td>0.201653</td>\n",
       "      <td>3000</td>\n",
       "      <td>4.000000</td>\n",
       "      <td>bueno</td>\n",
       "      <td>(recomendado, 0.6016504824734291)</td>\n",
       "      <td>Kids Spider Character Brown Web Leather Band F...</td>\n",
       "      <td>Watch Pavilion</td>\n",
       "      <td>[Shipping Weight:\\n                    \\n3 pou...</td>\n",
       "      <td>25,583,777inClothing,ShoesJewelry(</td>\n",
       "      <td>...</td>\n",
       "      <td>[New Spider watch with blue/red spider in cent...</td>\n",
       "      <td>NaN</td>\n",
       "      <td>NaN</td>\n",
       "      <td>NaN</td>\n",
       "      <td>NaN</td>\n",
       "      <td>NaN</td>\n",
       "      <td>NaN</td>\n",
       "      <td>NaN</td>\n",
       "      <td>3000</td>\n",
       "      <td>Kids Spider Character Brown Web Leather Band F...</td>\n",
       "    </tr>\n",
       "    <tr>\n",
       "      <th>1</th>\n",
       "      <td>B0020WB36G</td>\n",
       "      <td>0.160681</td>\n",
       "      <td>5460</td>\n",
       "      <td>3.166667</td>\n",
       "      <td>bueno</td>\n",
       "      <td>(no_recomendado, 0.04817188983855651)</td>\n",
       "      <td>3\" Fantasy Spider Necklace Knife</td>\n",
       "      <td>NaN</td>\n",
       "      <td>NaN</td>\n",
       "      <td>8,242,851inClothing,ShoesJewelry(</td>\n",
       "      <td>...</td>\n",
       "      <td>NaN</td>\n",
       "      <td>NaN</td>\n",
       "      <td>NaN</td>\n",
       "      <td>NaN</td>\n",
       "      <td>NaN</td>\n",
       "      <td>NaN</td>\n",
       "      <td>NaN</td>\n",
       "      <td>NaN</td>\n",
       "      <td>5460</td>\n",
       "      <td>3\" Fantasy Spider Necklace Knife nan nan</td>\n",
       "    </tr>\n",
       "    <tr>\n",
       "      <th>2</th>\n",
       "      <td>B004GAK2TE</td>\n",
       "      <td>0.160325</td>\n",
       "      <td>8189</td>\n",
       "      <td>4.000000</td>\n",
       "      <td>bueno</td>\n",
       "      <td>(no_recomendado, 0.045222609143451546)</td>\n",
       "      <td>Koto- 7.5 B - Black</td>\n",
       "      <td>Promise</td>\n",
       "      <td>[Package Dimensions:\\n                    \\n11...</td>\n",
       "      <td>25,660,231inClothing,ShoesJewelry(</td>\n",
       "      <td>...</td>\n",
       "      <td>NaN</td>\n",
       "      <td>NaN</td>\n",
       "      <td>NaN</td>\n",
       "      <td>NaN</td>\n",
       "      <td>NaN</td>\n",
       "      <td>NaN</td>\n",
       "      <td>NaN</td>\n",
       "      <td>NaN</td>\n",
       "      <td>8189</td>\n",
       "      <td>Koto- 7.5 B - Black Promise nan</td>\n",
       "    </tr>\n",
       "    <tr>\n",
       "      <th>3</th>\n",
       "      <td>B004BQJPJ6</td>\n",
       "      <td>0.157337</td>\n",
       "      <td>7920</td>\n",
       "      <td>4.000000</td>\n",
       "      <td>bueno</td>\n",
       "      <td>(no_recomendado, 0.04487934731679524)</td>\n",
       "      <td>Rowland-6.0 B - Black</td>\n",
       "      <td>PROMISE</td>\n",
       "      <td>[Package Dimensions:\\n                    \\n10...</td>\n",
       "      <td>25,711,210inClothing,ShoesJewelry(</td>\n",
       "      <td>...</td>\n",
       "      <td>NaN</td>\n",
       "      <td>NaN</td>\n",
       "      <td>NaN</td>\n",
       "      <td>NaN</td>\n",
       "      <td>NaN</td>\n",
       "      <td>NaN</td>\n",
       "      <td>NaN</td>\n",
       "      <td>NaN</td>\n",
       "      <td>7920</td>\n",
       "      <td>Rowland-6.0 B - Black PROMISE nan</td>\n",
       "    </tr>\n",
       "    <tr>\n",
       "      <th>4</th>\n",
       "      <td>B000JFE6TM</td>\n",
       "      <td>0.156206</td>\n",
       "      <td>2252</td>\n",
       "      <td>5.000000</td>\n",
       "      <td>excelente</td>\n",
       "      <td>(no_recomendado, 0.04997070884592774)</td>\n",
       "      <td>Spider-Man T-shirt</td>\n",
       "      <td>Shop Zeus</td>\n",
       "      <td>NaN</td>\n",
       "      <td>26,311,438inClothing,ShoesJewelry(</td>\n",
       "      <td>...</td>\n",
       "      <td>NaN</td>\n",
       "      <td>NaN</td>\n",
       "      <td>NaN</td>\n",
       "      <td>NaN</td>\n",
       "      <td>NaN</td>\n",
       "      <td>NaN</td>\n",
       "      <td>NaN</td>\n",
       "      <td>NaN</td>\n",
       "      <td>2252</td>\n",
       "      <td>Spider-Man T-shirt Shop Zeus nan</td>\n",
       "    </tr>\n",
       "    <tr>\n",
       "      <th>...</th>\n",
       "      <td>...</td>\n",
       "      <td>...</td>\n",
       "      <td>...</td>\n",
       "      <td>...</td>\n",
       "      <td>...</td>\n",
       "      <td>...</td>\n",
       "      <td>...</td>\n",
       "      <td>...</td>\n",
       "      <td>...</td>\n",
       "      <td>...</td>\n",
       "      <td>...</td>\n",
       "      <td>...</td>\n",
       "      <td>...</td>\n",
       "      <td>...</td>\n",
       "      <td>...</td>\n",
       "      <td>...</td>\n",
       "      <td>...</td>\n",
       "      <td>...</td>\n",
       "      <td>...</td>\n",
       "      <td>...</td>\n",
       "      <td>...</td>\n",
       "    </tr>\n",
       "    <tr>\n",
       "      <th>9994</th>\n",
       "      <td>B005914EJ8</td>\n",
       "      <td>0.000000</td>\n",
       "      <td>9991</td>\n",
       "      <td>2.000000</td>\n",
       "      <td>pesimo</td>\n",
       "      <td>(no_recomendado, 0.03333333333333333)</td>\n",
       "      <td>Crooks &amp; Castles Women's Knit Cropped Hoodie-L...</td>\n",
       "      <td>Crooks &amp; Castles</td>\n",
       "      <td>[Package Dimensions:\\n                    \\n11...</td>\n",
       "      <td>14,629,888inClothing,ShoesJewelry(</td>\n",
       "      <td>...</td>\n",
       "      <td>[Cropped Hooded Sweatshirt100% Cotton French T...</td>\n",
       "      <td>NaN</td>\n",
       "      <td>NaN</td>\n",
       "      <td>NaN</td>\n",
       "      <td>NaN</td>\n",
       "      <td>NaN</td>\n",
       "      <td>NaN</td>\n",
       "      <td>NaN</td>\n",
       "      <td>9991</td>\n",
       "      <td>Crooks &amp; Castles Women's Knit Cropped Hoodie-L...</td>\n",
       "    </tr>\n",
       "    <tr>\n",
       "      <th>9995</th>\n",
       "      <td>B00591YLEG</td>\n",
       "      <td>0.000000</td>\n",
       "      <td>9995</td>\n",
       "      <td>5.000000</td>\n",
       "      <td>excelente</td>\n",
       "      <td>(no_recomendado, 0.04997070884592774)</td>\n",
       "      <td>Cheryl - BLACK KID LEATHER</td>\n",
       "      <td>Munro</td>\n",
       "      <td>[Package Dimensions:\\n                    \\n13...</td>\n",
       "      <td>12,046,386inClothing,ShoesJewelry(</td>\n",
       "      <td>...</td>\n",
       "      <td>[This shoe has a very rounded toe shape and de...</td>\n",
       "      <td>NaN</td>\n",
       "      <td>NaN</td>\n",
       "      <td>NaN</td>\n",
       "      <td>NaN</td>\n",
       "      <td>NaN</td>\n",
       "      <td>NaN</td>\n",
       "      <td>NaN</td>\n",
       "      <td>9995</td>\n",
       "      <td>Cheryl - BLACK KID LEATHER Munro [\"This shoe h...</td>\n",
       "    </tr>\n",
       "    <tr>\n",
       "      <th>9996</th>\n",
       "      <td>B00591XGD8</td>\n",
       "      <td>0.000000</td>\n",
       "      <td>9996</td>\n",
       "      <td>5.000000</td>\n",
       "      <td>excelente</td>\n",
       "      <td>(no_recomendado, 0.04997070884592774)</td>\n",
       "      <td>Cheryl - BLACK KID LEATHER</td>\n",
       "      <td>Munro</td>\n",
       "      <td>[Package Dimensions:\\n                    \\n13...</td>\n",
       "      <td>10,361,363inClothing,ShoesJewelry(</td>\n",
       "      <td>...</td>\n",
       "      <td>[This shoe has a very rounded toe shape and de...</td>\n",
       "      <td>NaN</td>\n",
       "      <td>NaN</td>\n",
       "      <td>NaN</td>\n",
       "      <td>NaN</td>\n",
       "      <td>NaN</td>\n",
       "      <td>NaN</td>\n",
       "      <td>NaN</td>\n",
       "      <td>9996</td>\n",
       "      <td>Cheryl - BLACK KID LEATHER Munro [\"This shoe h...</td>\n",
       "    </tr>\n",
       "    <tr>\n",
       "      <th>9997</th>\n",
       "      <td>B00591VVDA</td>\n",
       "      <td>0.000000</td>\n",
       "      <td>9997</td>\n",
       "      <td>3.000000</td>\n",
       "      <td>normal</td>\n",
       "      <td>(no_recomendado, 0.03333333333333333)</td>\n",
       "      <td>Cheryl - BLACK KID LEATHER</td>\n",
       "      <td>Munro</td>\n",
       "      <td>[Package Dimensions:\\n                    \\n13...</td>\n",
       "      <td>14,245,395inClothing,ShoesJewelry(</td>\n",
       "      <td>...</td>\n",
       "      <td>[This shoe has a very rounded toe shape and de...</td>\n",
       "      <td>NaN</td>\n",
       "      <td>NaN</td>\n",
       "      <td>NaN</td>\n",
       "      <td>NaN</td>\n",
       "      <td>NaN</td>\n",
       "      <td>NaN</td>\n",
       "      <td>NaN</td>\n",
       "      <td>9997</td>\n",
       "      <td>Cheryl - BLACK KID LEATHER Munro [\"This shoe h...</td>\n",
       "    </tr>\n",
       "    <tr>\n",
       "      <th>9998</th>\n",
       "      <td>B00591YFH4</td>\n",
       "      <td>0.000000</td>\n",
       "      <td>9998</td>\n",
       "      <td>4.000000</td>\n",
       "      <td>bueno</td>\n",
       "      <td>(no_recomendado, 0.03333333333333333)</td>\n",
       "      <td>Cheryl - BLACK KID LEATHER</td>\n",
       "      <td>Munro</td>\n",
       "      <td>[Package Dimensions:\\n                    \\n13...</td>\n",
       "      <td>11,321,582inClothing,ShoesJewelry(</td>\n",
       "      <td>...</td>\n",
       "      <td>[This shoe has a very rounded toe shape and de...</td>\n",
       "      <td>NaN</td>\n",
       "      <td>NaN</td>\n",
       "      <td>NaN</td>\n",
       "      <td>NaN</td>\n",
       "      <td>NaN</td>\n",
       "      <td>NaN</td>\n",
       "      <td>NaN</td>\n",
       "      <td>9998</td>\n",
       "      <td>Cheryl - BLACK KID LEATHER Munro [\"This shoe h...</td>\n",
       "    </tr>\n",
       "  </tbody>\n",
       "</table>\n",
       "<p>9999 rows × 23 columns</p>\n",
       "</div>"
      ],
      "text/plain": [
       "            asin     Score    Id   overall overall_fuzzificado  \\\n",
       "0     B000Q4O5CY  0.201653  3000  4.000000               bueno   \n",
       "1     B0020WB36G  0.160681  5460  3.166667               bueno   \n",
       "2     B004GAK2TE  0.160325  8189  4.000000               bueno   \n",
       "3     B004BQJPJ6  0.157337  7920  4.000000               bueno   \n",
       "4     B000JFE6TM  0.156206  2252  5.000000           excelente   \n",
       "...          ...       ...   ...       ...                 ...   \n",
       "9994  B005914EJ8  0.000000  9991  2.000000              pesimo   \n",
       "9995  B00591YLEG  0.000000  9995  5.000000           excelente   \n",
       "9996  B00591XGD8  0.000000  9996  5.000000           excelente   \n",
       "9997  B00591VVDA  0.000000  9997  3.000000              normal   \n",
       "9998  B00591YFH4  0.000000  9998  4.000000               bueno   \n",
       "\n",
       "                                      result  \\\n",
       "0          (recomendado, 0.6016504824734291)   \n",
       "1      (no_recomendado, 0.04817188983855651)   \n",
       "2     (no_recomendado, 0.045222609143451546)   \n",
       "3      (no_recomendado, 0.04487934731679524)   \n",
       "4      (no_recomendado, 0.04997070884592774)   \n",
       "...                                      ...   \n",
       "9994   (no_recomendado, 0.03333333333333333)   \n",
       "9995   (no_recomendado, 0.04997070884592774)   \n",
       "9996   (no_recomendado, 0.04997070884592774)   \n",
       "9997   (no_recomendado, 0.03333333333333333)   \n",
       "9998   (no_recomendado, 0.03333333333333333)   \n",
       "\n",
       "                                                  title             brand  \\\n",
       "0     Kids Spider Character Brown Web Leather Band F...    Watch Pavilion   \n",
       "1                      3\" Fantasy Spider Necklace Knife               NaN   \n",
       "2                                   Koto- 7.5 B - Black           Promise   \n",
       "3                                 Rowland-6.0 B - Black           PROMISE   \n",
       "4                                    Spider-Man T-shirt         Shop Zeus   \n",
       "...                                                 ...               ...   \n",
       "9994  Crooks & Castles Women's Knit Cropped Hoodie-L...  Crooks & Castles   \n",
       "9995                         Cheryl - BLACK KID LEATHER             Munro   \n",
       "9996                         Cheryl - BLACK KID LEATHER             Munro   \n",
       "9997                         Cheryl - BLACK KID LEATHER             Munro   \n",
       "9998                         Cheryl - BLACK KID LEATHER             Munro   \n",
       "\n",
       "                                                feature  \\\n",
       "0     [Shipping Weight:\\n                    \\n3 pou...   \n",
       "1                                                   NaN   \n",
       "2     [Package Dimensions:\\n                    \\n11...   \n",
       "3     [Package Dimensions:\\n                    \\n10...   \n",
       "4                                                   NaN   \n",
       "...                                                 ...   \n",
       "9994  [Package Dimensions:\\n                    \\n11...   \n",
       "9995  [Package Dimensions:\\n                    \\n13...   \n",
       "9996  [Package Dimensions:\\n                    \\n13...   \n",
       "9997  [Package Dimensions:\\n                    \\n13...   \n",
       "9998  [Package Dimensions:\\n                    \\n13...   \n",
       "\n",
       "                                    rank  ...  \\\n",
       "0     25,583,777inClothing,ShoesJewelry(  ...   \n",
       "1      8,242,851inClothing,ShoesJewelry(  ...   \n",
       "2     25,660,231inClothing,ShoesJewelry(  ...   \n",
       "3     25,711,210inClothing,ShoesJewelry(  ...   \n",
       "4     26,311,438inClothing,ShoesJewelry(  ...   \n",
       "...                                  ...  ...   \n",
       "9994  14,629,888inClothing,ShoesJewelry(  ...   \n",
       "9995  12,046,386inClothing,ShoesJewelry(  ...   \n",
       "9996  10,361,363inClothing,ShoesJewelry(  ...   \n",
       "9997  14,245,395inClothing,ShoesJewelry(  ...   \n",
       "9998  11,321,582inClothing,ShoesJewelry(  ...   \n",
       "\n",
       "                                            description price also_view  \\\n",
       "0     [New Spider watch with blue/red spider in cent...   NaN       NaN   \n",
       "1                                                   NaN   NaN       NaN   \n",
       "2                                                   NaN   NaN       NaN   \n",
       "3                                                   NaN   NaN       NaN   \n",
       "4                                                   NaN   NaN       NaN   \n",
       "...                                                 ...   ...       ...   \n",
       "9994  [Cropped Hooded Sweatshirt100% Cotton French T...   NaN       NaN   \n",
       "9995  [This shoe has a very rounded toe shape and de...   NaN       NaN   \n",
       "9996  [This shoe has a very rounded toe shape and de...   NaN       NaN   \n",
       "9997  [This shoe has a very rounded toe shape and de...   NaN       NaN   \n",
       "9998  [This shoe has a very rounded toe shape and de...   NaN       NaN   \n",
       "\n",
       "     also_buy  fit details similar_item tech1    id  \\\n",
       "0         NaN  NaN     NaN          NaN   NaN  3000   \n",
       "1         NaN  NaN     NaN          NaN   NaN  5460   \n",
       "2         NaN  NaN     NaN          NaN   NaN  8189   \n",
       "3         NaN  NaN     NaN          NaN   NaN  7920   \n",
       "4         NaN  NaN     NaN          NaN   NaN  2252   \n",
       "...       ...  ...     ...          ...   ...   ...   \n",
       "9994      NaN  NaN     NaN          NaN   NaN  9991   \n",
       "9995      NaN  NaN     NaN          NaN   NaN  9995   \n",
       "9996      NaN  NaN     NaN          NaN   NaN  9996   \n",
       "9997      NaN  NaN     NaN          NaN   NaN  9997   \n",
       "9998      NaN  NaN     NaN          NaN   NaN  9998   \n",
       "\n",
       "                                          combined_text  \n",
       "0     Kids Spider Character Brown Web Leather Band F...  \n",
       "1              3\" Fantasy Spider Necklace Knife nan nan  \n",
       "2                       Koto- 7.5 B - Black Promise nan  \n",
       "3                     Rowland-6.0 B - Black PROMISE nan  \n",
       "4                      Spider-Man T-shirt Shop Zeus nan  \n",
       "...                                                 ...  \n",
       "9994  Crooks & Castles Women's Knit Cropped Hoodie-L...  \n",
       "9995  Cheryl - BLACK KID LEATHER Munro [\"This shoe h...  \n",
       "9996  Cheryl - BLACK KID LEATHER Munro [\"This shoe h...  \n",
       "9997  Cheryl - BLACK KID LEATHER Munro [\"This shoe h...  \n",
       "9998  Cheryl - BLACK KID LEATHER Munro [\"This shoe h...  \n",
       "\n",
       "[9999 rows x 23 columns]"
      ]
     },
     "execution_count": 33,
     "metadata": {},
     "output_type": "execute_result"
    }
   ],
   "source": [
    "# Realizar un join entre final_result y dataset_original utilizando la columna 'ASIN' como clave de unión\n",
    "resultado_completo = pd.merge(final_result, df_meta_cortado, on='asin')\n",
    "\n",
    "# Imprimir el resultado completo\n",
    "resultado_completo\n"
   ]
  }
 ],
 "metadata": {
  "kernelspec": {
   "display_name": "Python 3",
   "language": "python",
   "name": "python3"
  },
  "language_info": {
   "codemirror_mode": {
    "name": "ipython",
    "version": 3
   },
   "file_extension": ".py",
   "mimetype": "text/x-python",
   "name": "python",
   "nbconvert_exporter": "python",
   "pygments_lexer": "ipython3",
   "version": "3.10.11"
  }
 },
 "nbformat": 4,
 "nbformat_minor": 2
}
