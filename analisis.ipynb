{
 "cells": [
  {
   "cell_type": "markdown",
   "metadata": {},
   "source": [
    " - combinar las tablas\n",
    " - limpiar datos\n",
    " - combinar las columnas title, brand, summary, description en una nueva columna\n",
    " - tokenizar la nueva columnas combinada\n",
    " - calcular similitud con la similitud de los items tokenizados del coseno\n",
    " - los que son muy similares los eliminamos de la lista\n",
    " - agarramos algunos items de la lista y calculamos el mean del overall\n",
    " - ordenamos nuevamente descendentemente pero esta vez basados en el overall mean => lista2\n",
    " - recomendamos los 10 primeros de la lista 2\n",
    "\n"
   ]
  },
  {
   "cell_type": "code",
   "execution_count": 2,
   "metadata": {},
   "outputs": [],
   "source": [
    "import nltk\n",
    "import json\n",
    "import pandas as pd\n",
    "import gzip\n",
    "import numpy as np\n",
    "import matplotlib.pyplot as plt\n",
    "import seaborn as sns"
   ]
  },
  {
   "cell_type": "code",
   "execution_count": 3,
   "metadata": {},
   "outputs": [],
   "source": [
    "PATH = 'C:/Users/coraj/Documents/fuzzy-recommendation-system-/AMAZON_FASHION.json.gz'\n",
    "\n",
    "def parse(path):\n",
    "  g = gzip.open(path, 'rb')\n",
    "  for l in g:\n",
    "    yield json.loads(l)\n",
    "\n",
    "def getDF(path):\n",
    "  i = 0\n",
    "  df = {}\n",
    "  for d in parse(path):\n",
    "    df[i] = d\n",
    "    i += 1\n",
    "  return pd.DataFrame.from_dict(df, orient='index')\n",
    "\n",
    "df = getDF(PATH)"
   ]
  },
  {
   "cell_type": "code",
   "execution_count": 4,
   "metadata": {},
   "outputs": [
    {
     "data": {
      "text/html": [
       "<div>\n",
       "<style scoped>\n",
       "    .dataframe tbody tr th:only-of-type {\n",
       "        vertical-align: middle;\n",
       "    }\n",
       "\n",
       "    .dataframe tbody tr th {\n",
       "        vertical-align: top;\n",
       "    }\n",
       "\n",
       "    .dataframe thead th {\n",
       "        text-align: right;\n",
       "    }\n",
       "</style>\n",
       "<table border=\"1\" class=\"dataframe\">\n",
       "  <thead>\n",
       "    <tr style=\"text-align: right;\">\n",
       "      <th></th>\n",
       "      <th>overall</th>\n",
       "      <th>verified</th>\n",
       "      <th>reviewTime</th>\n",
       "      <th>reviewerID</th>\n",
       "      <th>asin</th>\n",
       "      <th>reviewerName</th>\n",
       "      <th>reviewText</th>\n",
       "      <th>summary</th>\n",
       "      <th>unixReviewTime</th>\n",
       "      <th>vote</th>\n",
       "      <th>style</th>\n",
       "      <th>image</th>\n",
       "    </tr>\n",
       "  </thead>\n",
       "  <tbody>\n",
       "    <tr>\n",
       "      <th>0</th>\n",
       "      <td>5.0</td>\n",
       "      <td>True</td>\n",
       "      <td>10 20, 2014</td>\n",
       "      <td>A1D4G1SNUZWQOT</td>\n",
       "      <td>7106116521</td>\n",
       "      <td>Tracy</td>\n",
       "      <td>Exactly what I needed.</td>\n",
       "      <td>perfect replacements!!</td>\n",
       "      <td>1413763200</td>\n",
       "      <td>NaN</td>\n",
       "      <td>NaN</td>\n",
       "      <td>NaN</td>\n",
       "    </tr>\n",
       "    <tr>\n",
       "      <th>1</th>\n",
       "      <td>2.0</td>\n",
       "      <td>True</td>\n",
       "      <td>09 28, 2014</td>\n",
       "      <td>A3DDWDH9PX2YX2</td>\n",
       "      <td>7106116521</td>\n",
       "      <td>Sonja Lau</td>\n",
       "      <td>I agree with the other review, the opening is ...</td>\n",
       "      <td>I agree with the other review, the opening is ...</td>\n",
       "      <td>1411862400</td>\n",
       "      <td>3</td>\n",
       "      <td>NaN</td>\n",
       "      <td>NaN</td>\n",
       "    </tr>\n",
       "    <tr>\n",
       "      <th>2</th>\n",
       "      <td>4.0</td>\n",
       "      <td>False</td>\n",
       "      <td>08 25, 2014</td>\n",
       "      <td>A2MWC41EW7XL15</td>\n",
       "      <td>7106116521</td>\n",
       "      <td>Kathleen</td>\n",
       "      <td>Love these... I am going to order another pack...</td>\n",
       "      <td>My New 'Friends' !!</td>\n",
       "      <td>1408924800</td>\n",
       "      <td>NaN</td>\n",
       "      <td>NaN</td>\n",
       "      <td>NaN</td>\n",
       "    </tr>\n",
       "    <tr>\n",
       "      <th>3</th>\n",
       "      <td>2.0</td>\n",
       "      <td>True</td>\n",
       "      <td>08 24, 2014</td>\n",
       "      <td>A2UH2QQ275NV45</td>\n",
       "      <td>7106116521</td>\n",
       "      <td>Jodi Stoner</td>\n",
       "      <td>too tiny an opening</td>\n",
       "      <td>Two Stars</td>\n",
       "      <td>1408838400</td>\n",
       "      <td>NaN</td>\n",
       "      <td>NaN</td>\n",
       "      <td>NaN</td>\n",
       "    </tr>\n",
       "    <tr>\n",
       "      <th>4</th>\n",
       "      <td>3.0</td>\n",
       "      <td>False</td>\n",
       "      <td>07 27, 2014</td>\n",
       "      <td>A89F3LQADZBS5</td>\n",
       "      <td>7106116521</td>\n",
       "      <td>Alexander D.</td>\n",
       "      <td>Okay</td>\n",
       "      <td>Three Stars</td>\n",
       "      <td>1406419200</td>\n",
       "      <td>NaN</td>\n",
       "      <td>NaN</td>\n",
       "      <td>NaN</td>\n",
       "    </tr>\n",
       "  </tbody>\n",
       "</table>\n",
       "</div>"
      ],
      "text/plain": [
       "   overall  verified   reviewTime      reviewerID        asin  reviewerName  \\\n",
       "0      5.0      True  10 20, 2014  A1D4G1SNUZWQOT  7106116521         Tracy   \n",
       "1      2.0      True  09 28, 2014  A3DDWDH9PX2YX2  7106116521     Sonja Lau   \n",
       "2      4.0     False  08 25, 2014  A2MWC41EW7XL15  7106116521      Kathleen   \n",
       "3      2.0      True  08 24, 2014  A2UH2QQ275NV45  7106116521   Jodi Stoner   \n",
       "4      3.0     False  07 27, 2014   A89F3LQADZBS5  7106116521  Alexander D.   \n",
       "\n",
       "                                          reviewText  \\\n",
       "0                             Exactly what I needed.   \n",
       "1  I agree with the other review, the opening is ...   \n",
       "2  Love these... I am going to order another pack...   \n",
       "3                                too tiny an opening   \n",
       "4                                               Okay   \n",
       "\n",
       "                                             summary  unixReviewTime vote  \\\n",
       "0                             perfect replacements!!      1413763200  NaN   \n",
       "1  I agree with the other review, the opening is ...      1411862400    3   \n",
       "2                                My New 'Friends' !!      1408924800  NaN   \n",
       "3                                          Two Stars      1408838400  NaN   \n",
       "4                                        Three Stars      1406419200  NaN   \n",
       "\n",
       "  style image  \n",
       "0   NaN   NaN  \n",
       "1   NaN   NaN  \n",
       "2   NaN   NaN  \n",
       "3   NaN   NaN  \n",
       "4   NaN   NaN  "
      ]
     },
     "execution_count": 4,
     "metadata": {},
     "output_type": "execute_result"
    }
   ],
   "source": [
    "df.head()"
   ]
  },
  {
   "cell_type": "code",
   "execution_count": 5,
   "metadata": {},
   "outputs": [
    {
     "data": {
      "text/plain": [
       "(883636, 12)"
      ]
     },
     "execution_count": 5,
     "metadata": {},
     "output_type": "execute_result"
    }
   ],
   "source": [
    "df.shape"
   ]
  },
  {
   "cell_type": "code",
   "execution_count": 27,
   "metadata": {},
   "outputs": [
    {
     "data": {
      "text/html": [
       "<div>\n",
       "<style scoped>\n",
       "    .dataframe tbody tr th:only-of-type {\n",
       "        vertical-align: middle;\n",
       "    }\n",
       "\n",
       "    .dataframe tbody tr th {\n",
       "        vertical-align: top;\n",
       "    }\n",
       "\n",
       "    .dataframe thead th {\n",
       "        text-align: right;\n",
       "    }\n",
       "</style>\n",
       "<table border=\"1\" class=\"dataframe\">\n",
       "  <thead>\n",
       "    <tr style=\"text-align: right;\">\n",
       "      <th></th>\n",
       "      <th>title</th>\n",
       "      <th>brand</th>\n",
       "      <th>feature</th>\n",
       "      <th>rank</th>\n",
       "      <th>date</th>\n",
       "      <th>asin</th>\n",
       "      <th>imageURL</th>\n",
       "      <th>imageURLHighRes</th>\n",
       "      <th>description</th>\n",
       "      <th>price</th>\n",
       "      <th>also_view</th>\n",
       "      <th>also_buy</th>\n",
       "      <th>fit</th>\n",
       "      <th>details</th>\n",
       "      <th>similar_item</th>\n",
       "      <th>tech1</th>\n",
       "    </tr>\n",
       "  </thead>\n",
       "  <tbody>\n",
       "    <tr>\n",
       "      <th>0</th>\n",
       "      <td>Slime Time Fall Fest [With CDROM and Collector...</td>\n",
       "      <td>Group Publishing (CO)</td>\n",
       "      <td>[Product Dimensions:\\n                    \\n8....</td>\n",
       "      <td>13,052,976inClothing,Shoesamp;Jewelry(</td>\n",
       "      <td>8.70 inches</td>\n",
       "      <td>0764443682</td>\n",
       "      <td>[https://images-na.ssl-images-amazon.com/image...</td>\n",
       "      <td>[https://images-na.ssl-images-amazon.com/image...</td>\n",
       "      <td>NaN</td>\n",
       "      <td>NaN</td>\n",
       "      <td>NaN</td>\n",
       "      <td>NaN</td>\n",
       "      <td>NaN</td>\n",
       "      <td>NaN</td>\n",
       "      <td>NaN</td>\n",
       "      <td>NaN</td>\n",
       "    </tr>\n",
       "    <tr>\n",
       "      <th>1</th>\n",
       "      <td>XCC Qi promise new spider snake preparing men'...</td>\n",
       "      <td>NaN</td>\n",
       "      <td>NaN</td>\n",
       "      <td>11,654,581inClothing,Shoesamp;Jewelry(</td>\n",
       "      <td>5 star</td>\n",
       "      <td>1291691480</td>\n",
       "      <td>[https://images-na.ssl-images-amazon.com/image...</td>\n",
       "      <td>[https://images-na.ssl-images-amazon.com/image...</td>\n",
       "      <td>NaN</td>\n",
       "      <td>NaN</td>\n",
       "      <td>NaN</td>\n",
       "      <td>NaN</td>\n",
       "      <td>NaN</td>\n",
       "      <td>NaN</td>\n",
       "      <td>NaN</td>\n",
       "      <td>NaN</td>\n",
       "    </tr>\n",
       "    <tr>\n",
       "      <th>2</th>\n",
       "      <td>Magical Things I Really Do Do Too!</td>\n",
       "      <td>Christopher Manos</td>\n",
       "      <td>[Package Dimensions:\\n                    \\n8....</td>\n",
       "      <td>19,308,073inClothing,ShoesJewelry(</td>\n",
       "      <td>5 star</td>\n",
       "      <td>1940280001</td>\n",
       "      <td>[https://images-na.ssl-images-amazon.com/image...</td>\n",
       "      <td>[https://images-na.ssl-images-amazon.com/image...</td>\n",
       "      <td>[For the professional or amateur magician.  Ro...</td>\n",
       "      <td>NaN</td>\n",
       "      <td>NaN</td>\n",
       "      <td>NaN</td>\n",
       "      <td>NaN</td>\n",
       "      <td>NaN</td>\n",
       "      <td>NaN</td>\n",
       "      <td>NaN</td>\n",
       "    </tr>\n",
       "    <tr>\n",
       "      <th>3</th>\n",
       "      <td>Ashes to Ashes, Oranges to Oranges</td>\n",
       "      <td>Flickerlamp Publishing</td>\n",
       "      <td>[Package Dimensions:\\n                    \\n8....</td>\n",
       "      <td>19,734,184inClothing,ShoesJewelry(</td>\n",
       "      <td>5 star</td>\n",
       "      <td>1940735033</td>\n",
       "      <td>[https://images-na.ssl-images-amazon.com/image...</td>\n",
       "      <td>[https://images-na.ssl-images-amazon.com/image...</td>\n",
       "      <td>NaN</td>\n",
       "      <td>NaN</td>\n",
       "      <td>NaN</td>\n",
       "      <td>NaN</td>\n",
       "      <td>NaN</td>\n",
       "      <td>NaN</td>\n",
       "      <td>NaN</td>\n",
       "      <td>NaN</td>\n",
       "    </tr>\n",
       "    <tr>\n",
       "      <th>4</th>\n",
       "      <td>Aether &amp; Empire #1 - 2016 First Printing Comic...</td>\n",
       "      <td>NaN</td>\n",
       "      <td>[Package Dimensions:\\n                    \\n10...</td>\n",
       "      <td>10,558,646inClothing,Shoesamp;Jewelry(</td>\n",
       "      <td>5 star</td>\n",
       "      <td>1940967805</td>\n",
       "      <td>[https://images-na.ssl-images-amazon.com/image...</td>\n",
       "      <td>[https://images-na.ssl-images-amazon.com/image...</td>\n",
       "      <td>NaN</td>\n",
       "      <td>$4.50</td>\n",
       "      <td>NaN</td>\n",
       "      <td>NaN</td>\n",
       "      <td>NaN</td>\n",
       "      <td>NaN</td>\n",
       "      <td>NaN</td>\n",
       "      <td>NaN</td>\n",
       "    </tr>\n",
       "  </tbody>\n",
       "</table>\n",
       "</div>"
      ],
      "text/plain": [
       "                                               title                   brand  \\\n",
       "0  Slime Time Fall Fest [With CDROM and Collector...   Group Publishing (CO)   \n",
       "1  XCC Qi promise new spider snake preparing men'...                     NaN   \n",
       "2                 Magical Things I Really Do Do Too!       Christopher Manos   \n",
       "3                 Ashes to Ashes, Oranges to Oranges  Flickerlamp Publishing   \n",
       "4  Aether & Empire #1 - 2016 First Printing Comic...                     NaN   \n",
       "\n",
       "                                             feature  \\\n",
       "0  [Product Dimensions:\\n                    \\n8....   \n",
       "1                                                NaN   \n",
       "2  [Package Dimensions:\\n                    \\n8....   \n",
       "3  [Package Dimensions:\\n                    \\n8....   \n",
       "4  [Package Dimensions:\\n                    \\n10...   \n",
       "\n",
       "                                     rank         date        asin  \\\n",
       "0  13,052,976inClothing,Shoesamp;Jewelry(  8.70 inches  0764443682   \n",
       "1  11,654,581inClothing,Shoesamp;Jewelry(       5 star  1291691480   \n",
       "2      19,308,073inClothing,ShoesJewelry(       5 star  1940280001   \n",
       "3      19,734,184inClothing,ShoesJewelry(       5 star  1940735033   \n",
       "4  10,558,646inClothing,Shoesamp;Jewelry(       5 star  1940967805   \n",
       "\n",
       "                                            imageURL  \\\n",
       "0  [https://images-na.ssl-images-amazon.com/image...   \n",
       "1  [https://images-na.ssl-images-amazon.com/image...   \n",
       "2  [https://images-na.ssl-images-amazon.com/image...   \n",
       "3  [https://images-na.ssl-images-amazon.com/image...   \n",
       "4  [https://images-na.ssl-images-amazon.com/image...   \n",
       "\n",
       "                                     imageURLHighRes  \\\n",
       "0  [https://images-na.ssl-images-amazon.com/image...   \n",
       "1  [https://images-na.ssl-images-amazon.com/image...   \n",
       "2  [https://images-na.ssl-images-amazon.com/image...   \n",
       "3  [https://images-na.ssl-images-amazon.com/image...   \n",
       "4  [https://images-na.ssl-images-amazon.com/image...   \n",
       "\n",
       "                                         description  price also_view  \\\n",
       "0                                                NaN    NaN       NaN   \n",
       "1                                                NaN    NaN       NaN   \n",
       "2  [For the professional or amateur magician.  Ro...    NaN       NaN   \n",
       "3                                                NaN    NaN       NaN   \n",
       "4                                                NaN  $4.50       NaN   \n",
       "\n",
       "  also_buy  fit details similar_item tech1  \n",
       "0      NaN  NaN     NaN          NaN   NaN  \n",
       "1      NaN  NaN     NaN          NaN   NaN  \n",
       "2      NaN  NaN     NaN          NaN   NaN  \n",
       "3      NaN  NaN     NaN          NaN   NaN  \n",
       "4      NaN  NaN     NaN          NaN   NaN  "
      ]
     },
     "execution_count": 27,
     "metadata": {},
     "output_type": "execute_result"
    }
   ],
   "source": [
    "PATH = 'C:/Users/coraj/Documents/fuzzy-recommendation-system-/meta_AMAZON_FASHION.json.gz'\n",
    "\n",
    "def parse(path):\n",
    "  g = gzip.open(path, 'rb')\n",
    "  for l in g:\n",
    "    yield json.loads(l)\n",
    "\n",
    "def getDF(path):\n",
    "  i = 0\n",
    "  df = {}\n",
    "  for d in parse(path):\n",
    "    df[i] = d\n",
    "    i += 1\n",
    "  return pd.DataFrame.from_dict(df, orient='index')\n",
    "\n",
    "df_meta = getDF(PATH)\n",
    "df_meta.head()\n"
   ]
  },
  {
   "cell_type": "code",
   "execution_count": 7,
   "metadata": {},
   "outputs": [
    {
     "data": {
      "text/plain": [
       "(186637, 16)"
      ]
     },
     "execution_count": 7,
     "metadata": {},
     "output_type": "execute_result"
    }
   ],
   "source": [
    "df_meta.shape"
   ]
  },
  {
   "cell_type": "code",
   "execution_count": 8,
   "metadata": {},
   "outputs": [
    {
     "data": {
      "text/plain": [
       "186194"
      ]
     },
     "execution_count": 8,
     "metadata": {},
     "output_type": "execute_result"
    }
   ],
   "source": [
    "df_meta['asin'].nunique()"
   ]
  },
  {
   "cell_type": "code",
   "execution_count": 33,
   "metadata": {},
   "outputs": [
    {
     "data": {
      "text/plain": [
       "(186194, 16)"
      ]
     },
     "execution_count": 33,
     "metadata": {},
     "output_type": "execute_result"
    }
   ],
   "source": [
    "df_meta= df_meta.drop_duplicates(subset='asin', keep='first')\n",
    "df_meta.shape"
   ]
  },
  {
   "cell_type": "code",
   "execution_count": 10,
   "metadata": {},
   "outputs": [],
   "source": [
    "# df_meta = pd.merge(df, df_meta, on='asin', how='left')\n",
    "# pd.set_option('display.max_columns', None)\n",
    "# df_meta.head()"
   ]
  },
  {
   "cell_type": "code",
   "execution_count": 11,
   "metadata": {},
   "outputs": [],
   "source": [
    "# df_meta['vote'][0]"
   ]
  },
  {
   "cell_type": "code",
   "execution_count": 35,
   "metadata": {},
   "outputs": [],
   "source": [
    "columns_to_combine = ['title', 'brand', 'summary', 'description', 'expliota']\n",
    "existing_columns = [col for col in columns_to_combine if col in df_meta.columns]\n",
    "\n",
    "if existing_columns:\n",
    "    # Al menos una de las columnas en 'existing_columns' existe en el df_metaFrame 'df_meta'.\n",
    "    # Puedes combinar las columnas existentes y crear la nueva columna 'combined_text'.\n",
    "    df_meta['combined_text'] = df_meta[existing_columns].apply(lambda row: ' '.join(str(val) for val in row), axis=1)"
   ]
  },
  {
   "cell_type": "code",
   "execution_count": 14,
   "metadata": {},
   "outputs": [
    {
     "data": {
      "text/plain": [
       "Series([], Name: count, dtype: int64)"
      ]
     },
     "execution_count": 14,
     "metadata": {},
     "output_type": "execute_result"
    }
   ],
   "source": [
    "df_meta['similar_item'].value_counts()"
   ]
  },
  {
   "cell_type": "code",
   "execution_count": 15,
   "metadata": {},
   "outputs": [
    {
     "data": {
      "text/plain": [
       "Text(0, 0.5, 'Count')"
      ]
     },
     "execution_count": 15,
     "metadata": {},
     "output_type": "execute_result"
    },
    {
     "data": {
      "image/png": "[encoded data removed]",
      "text/plain": [
       "<Figure size 1000x500 with 1 Axes>"
      ]
     },
     "metadata": {},
     "output_type": "display_data"
    }
   ],
   "source": [
    "ax = df['overall'].value_counts().sort_index().plot(kind='bar', title=\"Count of reviews by star\",figsize=(10, 5))\n",
    "ax.set_xlabel(\"Star\")\n",
    "ax.set_ylabel(\"Count\")\n"
   ]
  },
  {
   "cell_type": "markdown",
   "metadata": {},
   "source": [
    "notamos que los reviews estan sesgados hacia 5 estrellas"
   ]
  },
  {
   "cell_type": "markdown",
   "metadata": {},
   "source": [
    "### Tokenizacion de comentarios"
   ]
  },
  {
   "cell_type": "code",
   "execution_count": 16,
   "metadata": {},
   "outputs": [
    {
     "data": {
      "text/plain": [
       "'Excellent product!'"
      ]
     },
     "execution_count": 16,
     "metadata": {},
     "output_type": "execute_result"
    }
   ],
   "source": [
    "example = df['reviewText'][39]\n",
    "example"
   ]
  },
  {
   "cell_type": "code",
   "execution_count": 17,
   "metadata": {},
   "outputs": [
    {
     "name": "stderr",
     "output_type": "stream",
     "text": [
      "[nltk_data] Downloading package punkt to\n",
      "[nltk_data]     C:\\Users\\coraj\\AppData\\Roaming\\nltk_data...\n",
      "[nltk_data]   Package punkt is already up-to-date!\n"
     ]
    },
    {
     "data": {
      "text/plain": [
       "['Excellent', 'product', '!']"
      ]
     },
     "execution_count": 17,
     "metadata": {},
     "output_type": "execute_result"
    }
   ],
   "source": [
    "nltk.download('punkt')\n",
    "tokens = nltk.word_tokenize(example)\n",
    "tokens"
   ]
  },
  {
   "cell_type": "code",
   "execution_count": 18,
   "metadata": {},
   "outputs": [
    {
     "name": "stderr",
     "output_type": "stream",
     "text": [
      "[nltk_data] Downloading package punkt to\n",
      "[nltk_data]     C:\\Users\\coraj\\AppData\\Roaming\\nltk_data...\n",
      "[nltk_data]   Package punkt is already up-to-date!\n",
      "[nltk_data] Downloading package averaged_perceptron_tagger to\n",
      "[nltk_data]     C:\\Users\\coraj\\AppData\\Roaming\\nltk_data...\n",
      "[nltk_data]   Package averaged_perceptron_tagger is already up-to-\n",
      "[nltk_data]       date!\n",
      "[nltk_data] Downloading package maxent_ne_chunker to\n",
      "[nltk_data]     C:\\Users\\coraj\\AppData\\Roaming\\nltk_data...\n",
      "[nltk_data]   Package maxent_ne_chunker is already up-to-date!\n",
      "[nltk_data] Downloading package words to\n",
      "[nltk_data]     C:\\Users\\coraj\\AppData\\Roaming\\nltk_data...\n",
      "[nltk_data]   Package words is already up-to-date!\n"
     ]
    },
    {
     "data": {
      "text/plain": [
       "True"
      ]
     },
     "execution_count": 18,
     "metadata": {},
     "output_type": "execute_result"
    }
   ],
   "source": [
    "nltk.download('punkt')\n",
    "nltk.download('averaged_perceptron_tagger')\n",
    "nltk.download('maxent_ne_chunker')\n",
    "nltk.download('words')"
   ]
  },
  {
   "cell_type": "code",
   "execution_count": 19,
   "metadata": {},
   "outputs": [
    {
     "data": {
      "text/plain": [
       "[('Excellent', 'JJ'), ('product', 'NN'), ('!', '.')]"
      ]
     },
     "execution_count": 19,
     "metadata": {},
     "output_type": "execute_result"
    }
   ],
   "source": [
    "tagged = nltk.pos_tag(tokens)\n",
    "tagged[:10]"
   ]
  },
  {
   "cell_type": "code",
   "execution_count": 20,
   "metadata": {},
   "outputs": [
    {
     "name": "stdout",
     "output_type": "stream",
     "text": [
      "(S Excellent/JJ product/NN !/.)\n"
     ]
    }
   ],
   "source": [
    "entities = nltk.chunk.ne_chunk(tagged)\n",
    "entities.pprint()"
   ]
  },
  {
   "cell_type": "markdown",
   "metadata": {},
   "source": []
  },
  {
   "cell_type": "code",
   "execution_count": 21,
   "metadata": {},
   "outputs": [
    {
     "data": {
      "text/plain": [
       "asin\n",
       "0764443682    1\n",
       "B0000733OT    1\n",
       "B000072XXH    1\n",
       "B000072ZTR    1\n",
       "B000072ZPG    1\n",
       "B00007337N    1\n",
       "B0000733S9    1\n",
       "B0000733S8    1\n",
       "B000072YTO    1\n",
       "B0000732QL    1\n",
       "B000073249    1\n",
       "B000072WTB    1\n",
       "B000072XRF    1\n",
       "1291691480    1\n",
       "B0000733PM    1\n",
       "B0000731RO    1\n",
       "B0000732QU    1\n",
       "B000073209    1\n",
       "B0000732EP    1\n",
       "B00007325C    1\n",
       "B000074ULT    1\n",
       "B0000732EF    1\n",
       "B000073147    1\n",
       "B000078Q0G    1\n",
       "B000072ZF7    1\n",
       "B0000730S0    1\n",
       "B0000730SA    1\n",
       "B000072XQQ    1\n",
       "1940280001    1\n",
       "1940735033    1\n",
       "1940967805    1\n",
       "1942705034    1\n",
       "3293015344    1\n",
       "5378828716    1\n",
       "6041002984    1\n",
       "630456984X    1\n",
       "7106116521    1\n",
       "8037200124    1\n",
       "8037200221    1\n",
       "8279996567    1\n",
       "9239282785    1\n",
       "9239281533    1\n",
       "9269808971    1\n",
       "9654263246    1\n",
       "B00004T3SN    1\n",
       "B00005OTJ8    1\n",
       "B00006MVYA    1\n",
       "B000072X6P    1\n",
       "B000072WZM    1\n",
       "B000078P9Q    1\n",
       "Name: count, dtype: int64"
      ]
     },
     "execution_count": 21,
     "metadata": {},
     "output_type": "execute_result"
    }
   ],
   "source": [
    "productos = df_meta['asin'].value_counts()\n",
    "productos"
   ]
  },
  {
   "cell_type": "code",
   "execution_count": 22,
   "metadata": {},
   "outputs": [
    {
     "data": {
      "text/plain": [
       "asin\n",
       "0764443682    5.0\n",
       "B00Y88IVK6    5.0\n",
       "B00Y8MUW7M    5.0\n",
       "B00Y8LF6S8    5.0\n",
       "B00Y8FXRX0    5.0\n",
       "             ... \n",
       "B0105EWJWC    1.0\n",
       "B01DK76L5M    1.0\n",
       "B01DK76L52    1.0\n",
       "B01DK76L2A    1.0\n",
       "B010WGHX8S    1.0\n",
       "Name: overall, Length: 186189, dtype: float64"
      ]
     },
     "execution_count": 22,
     "metadata": {},
     "output_type": "execute_result"
    }
   ],
   "source": [
    "overall_mean = df.groupby('asin')['overall'].mean().sort_values(ascending=False)\n",
    "overall_mean\n",
    "# num_asin_values = df_meta['asin'].nunique()\n",
    "# num_asin_values"
   ]
  },
  {
   "cell_type": "code",
   "execution_count": 23,
   "metadata": {},
   "outputs": [
    {
     "data": {
      "text/plain": [
       "<pandas.core.groupby.generic.DataFrameGroupBy object at 0x00000293A7C9A140>"
      ]
     },
     "execution_count": 23,
     "metadata": {},
     "output_type": "execute_result"
    }
   ],
   "source": [
    "df_meta\n",
    "df_meta= df_meta.groupby('asin')\n",
    "df_meta\n",
    "# df_meta['id']=[i for i in range(0,df_meta.shape[0])]"
   ]
  },
  {
   "cell_type": "code",
   "execution_count": 36,
   "metadata": {},
   "outputs": [
    {
     "ename": "KeyboardInterrupt",
     "evalue": "",
     "output_type": "error",
     "traceback": [
      "\u001b[1;31m---------------------------------------------------------------------------\u001b[0m",
      "\u001b[1;31mKeyboardInterrupt\u001b[0m                         Traceback (most recent call last)",
      "\u001b[1;32mc:\\Users\\coraj\\Documents\\fuzzy-recommendation-system-\\analisis.ipynb Cell 26\u001b[0m line \u001b[0;36m5\n\u001b[0;32m      <a href='vscode-notebook-cell:/c%3A/Users/coraj/Documents/fuzzy-recommendation-system-/analisis.ipynb#X35sZmlsZQ%3D%3D?line=2'>3</a>\u001b[0m     data_tokens \u001b[39m=\u001b[39m nltk\u001b[39m.\u001b[39mword_tokenize(row)\n\u001b[0;32m      <a href='vscode-notebook-cell:/c%3A/Users/coraj/Documents/fuzzy-recommendation-system-/analisis.ipynb#X35sZmlsZQ%3D%3D?line=3'>4</a>\u001b[0m     pos_tag \u001b[39m=\u001b[39m nltk\u001b[39m.\u001b[39mpos_tag(data_tokens)\n\u001b[1;32m----> <a href='vscode-notebook-cell:/c%3A/Users/coraj/Documents/fuzzy-recommendation-system-/analisis.ipynb#X35sZmlsZQ%3D%3D?line=4'>5</a>\u001b[0m     ne_chunk \u001b[39m=\u001b[39m nltk\u001b[39m.\u001b[39mchunk\u001b[39m.\u001b[39mne_chunk(pos_tag)\n\u001b[0;32m      <a href='vscode-notebook-cell:/c%3A/Users/coraj/Documents/fuzzy-recommendation-system-/analisis.ipynb#X35sZmlsZQ%3D%3D?line=5'>6</a>\u001b[0m     tokenized_rows\u001b[39m.\u001b[39mappend(ne_chunk)\n\u001b[0;32m      <a href='vscode-notebook-cell:/c%3A/Users/coraj/Documents/fuzzy-recommendation-system-/analisis.ipynb#X35sZmlsZQ%3D%3D?line=6'>7</a>\u001b[0m df_meta[\u001b[39m'\u001b[39m\u001b[39mtokenized_combined_text\u001b[39m\u001b[39m'\u001b[39m] \u001b[39m=\u001b[39m tokenized_rows\n",
      "File \u001b[1;32m~\\AppData\\Local\\Packages\\PythonSoftwareFoundation.Python.3.10_qbz5n2kfra8p0\\LocalCache\\local-packages\\Python310\\site-packages\\nltk\\chunk\\__init__.py:184\u001b[0m, in \u001b[0;36mne_chunk\u001b[1;34m(tagged_tokens, binary)\u001b[0m\n\u001b[0;32m    182\u001b[0m     chunker_pickle \u001b[39m=\u001b[39m _MULTICLASS_NE_CHUNKER\n\u001b[0;32m    183\u001b[0m chunker \u001b[39m=\u001b[39m load(chunker_pickle)\n\u001b[1;32m--> 184\u001b[0m \u001b[39mreturn\u001b[39;00m chunker\u001b[39m.\u001b[39;49mparse(tagged_tokens)\n",
      "File \u001b[1;32m~\\AppData\\Local\\Packages\\PythonSoftwareFoundation.Python.3.10_qbz5n2kfra8p0\\LocalCache\\local-packages\\Python310\\site-packages\\nltk\\chunk\\named_entity.py:127\u001b[0m, in \u001b[0;36mNEChunkParser.parse\u001b[1;34m(self, tokens)\u001b[0m\n\u001b[0;32m    123\u001b[0m \u001b[39mdef\u001b[39;00m \u001b[39mparse\u001b[39m(\u001b[39mself\u001b[39m, tokens):\n\u001b[0;32m    124\u001b[0m \u001b[39m    \u001b[39m\u001b[39m\"\"\"\u001b[39;00m\n\u001b[0;32m    125\u001b[0m \u001b[39m    Each token should be a pos-tagged word\u001b[39;00m\n\u001b[0;32m    126\u001b[0m \u001b[39m    \"\"\"\u001b[39;00m\n\u001b[1;32m--> 127\u001b[0m     tagged \u001b[39m=\u001b[39m \u001b[39mself\u001b[39;49m\u001b[39m.\u001b[39;49m_tagger\u001b[39m.\u001b[39;49mtag(tokens)\n\u001b[0;32m    128\u001b[0m     tree \u001b[39m=\u001b[39m \u001b[39mself\u001b[39m\u001b[39m.\u001b[39m_tagged_to_parse(tagged)\n\u001b[0;32m    129\u001b[0m     \u001b[39mreturn\u001b[39;00m tree\n",
      "File \u001b[1;32m~\\AppData\\Local\\Packages\\PythonSoftwareFoundation.Python.3.10_qbz5n2kfra8p0\\LocalCache\\local-packages\\Python310\\site-packages\\nltk\\tag\\sequential.py:61\u001b[0m, in \u001b[0;36mSequentialBackoffTagger.tag\u001b[1;34m(self, tokens)\u001b[0m\n\u001b[0;32m     59\u001b[0m tags \u001b[39m=\u001b[39m []\n\u001b[0;32m     60\u001b[0m \u001b[39mfor\u001b[39;00m i \u001b[39min\u001b[39;00m \u001b[39mrange\u001b[39m(\u001b[39mlen\u001b[39m(tokens)):\n\u001b[1;32m---> 61\u001b[0m     tags\u001b[39m.\u001b[39mappend(\u001b[39mself\u001b[39;49m\u001b[39m.\u001b[39;49mtag_one(tokens, i, tags))\n\u001b[0;32m     62\u001b[0m \u001b[39mreturn\u001b[39;00m \u001b[39mlist\u001b[39m(\u001b[39mzip\u001b[39m(tokens, tags))\n",
      "File \u001b[1;32m~\\AppData\\Local\\Packages\\PythonSoftwareFoundation.Python.3.10_qbz5n2kfra8p0\\LocalCache\\local-packages\\Python310\\site-packages\\nltk\\tag\\sequential.py:81\u001b[0m, in \u001b[0;36mSequentialBackoffTagger.tag_one\u001b[1;34m(self, tokens, index, history)\u001b[0m\n\u001b[0;32m     79\u001b[0m tag \u001b[39m=\u001b[39m \u001b[39mNone\u001b[39;00m\n\u001b[0;32m     80\u001b[0m \u001b[39mfor\u001b[39;00m tagger \u001b[39min\u001b[39;00m \u001b[39mself\u001b[39m\u001b[39m.\u001b[39m_taggers:\n\u001b[1;32m---> 81\u001b[0m     tag \u001b[39m=\u001b[39m tagger\u001b[39m.\u001b[39;49mchoose_tag(tokens, index, history)\n\u001b[0;32m     82\u001b[0m     \u001b[39mif\u001b[39;00m tag \u001b[39mis\u001b[39;00m \u001b[39mnot\u001b[39;00m \u001b[39mNone\u001b[39;00m:\n\u001b[0;32m     83\u001b[0m         \u001b[39mbreak\u001b[39;00m\n",
      "File \u001b[1;32m~\\AppData\\Local\\Packages\\PythonSoftwareFoundation.Python.3.10_qbz5n2kfra8p0\\LocalCache\\local-packages\\Python310\\site-packages\\nltk\\tag\\sequential.py:653\u001b[0m, in \u001b[0;36mClassifierBasedTagger.choose_tag\u001b[1;34m(self, tokens, index, history)\u001b[0m\n\u001b[0;32m    649\u001b[0m \u001b[39m# Use the classifier to pick a tag.  If a cutoff probability\u001b[39;00m\n\u001b[0;32m    650\u001b[0m \u001b[39m# was specified, then check that the tag's probability is\u001b[39;00m\n\u001b[0;32m    651\u001b[0m \u001b[39m# higher than that cutoff first; otherwise, return None.\u001b[39;00m\n\u001b[0;32m    652\u001b[0m \u001b[39mif\u001b[39;00m \u001b[39mself\u001b[39m\u001b[39m.\u001b[39m_cutoff_prob \u001b[39mis\u001b[39;00m \u001b[39mNone\u001b[39;00m:\n\u001b[1;32m--> 653\u001b[0m     \u001b[39mreturn\u001b[39;00m \u001b[39mself\u001b[39;49m\u001b[39m.\u001b[39;49m_classifier\u001b[39m.\u001b[39;49mclassify(featureset)\n\u001b[0;32m    655\u001b[0m pdist \u001b[39m=\u001b[39m \u001b[39mself\u001b[39m\u001b[39m.\u001b[39m_classifier\u001b[39m.\u001b[39mprob_classify(featureset)\n\u001b[0;32m    656\u001b[0m tag \u001b[39m=\u001b[39m pdist\u001b[39m.\u001b[39mmax()\n",
      "File \u001b[1;32m~\\AppData\\Local\\Packages\\PythonSoftwareFoundation.Python.3.10_qbz5n2kfra8p0\\LocalCache\\local-packages\\Python310\\site-packages\\nltk\\classify\\maxent.py:140\u001b[0m, in \u001b[0;36mMaxentClassifier.classify\u001b[1;34m(self, featureset)\u001b[0m\n\u001b[0;32m    139\u001b[0m \u001b[39mdef\u001b[39;00m \u001b[39mclassify\u001b[39m(\u001b[39mself\u001b[39m, featureset):\n\u001b[1;32m--> 140\u001b[0m     \u001b[39mreturn\u001b[39;00m \u001b[39mself\u001b[39;49m\u001b[39m.\u001b[39;49mprob_classify(featureset)\u001b[39m.\u001b[39mmax()\n",
      "File \u001b[1;32m~\\AppData\\Local\\Packages\\PythonSoftwareFoundation.Python.3.10_qbz5n2kfra8p0\\LocalCache\\local-packages\\Python310\\site-packages\\nltk\\classify\\maxent.py:160\u001b[0m, in \u001b[0;36mMaxentClassifier.prob_classify\u001b[1;34m(self, featureset)\u001b[0m\n\u001b[0;32m    157\u001b[0m         prob_dict[label] \u001b[39m=\u001b[39m prod\n\u001b[0;32m    159\u001b[0m \u001b[39m# Normalize the dictionary to give a probability distribution\u001b[39;00m\n\u001b[1;32m--> 160\u001b[0m \u001b[39mreturn\u001b[39;00m DictionaryProbDist(prob_dict, log\u001b[39m=\u001b[39;49m\u001b[39mself\u001b[39;49m\u001b[39m.\u001b[39;49m_logarithmic, normalize\u001b[39m=\u001b[39;49m\u001b[39mTrue\u001b[39;49;00m)\n",
      "File \u001b[1;32m~\\AppData\\Local\\Packages\\PythonSoftwareFoundation.Python.3.10_qbz5n2kfra8p0\\LocalCache\\local-packages\\Python310\\site-packages\\nltk\\probability.py:716\u001b[0m, in \u001b[0;36mDictionaryProbDist.__init__\u001b[1;34m(self, prob_dict, log, normalize)\u001b[0m\n\u001b[0;32m    711\u001b[0m     \u001b[39mraise\u001b[39;00m \u001b[39mValueError\u001b[39;00m(\n\u001b[0;32m    712\u001b[0m         \u001b[39m\"\u001b[39m\u001b[39mA DictionaryProbDist must have at least one sample \u001b[39m\u001b[39m\"\u001b[39m\n\u001b[0;32m    713\u001b[0m         \u001b[39m+\u001b[39m \u001b[39m\"\u001b[39m\u001b[39mbefore it can be normalized.\u001b[39m\u001b[39m\"\u001b[39m\n\u001b[0;32m    714\u001b[0m     )\n\u001b[0;32m    715\u001b[0m \u001b[39mif\u001b[39;00m log:\n\u001b[1;32m--> 716\u001b[0m     value_sum \u001b[39m=\u001b[39m sum_logs(\u001b[39mlist\u001b[39;49m(\u001b[39mself\u001b[39;49m\u001b[39m.\u001b[39;49m_prob_dict\u001b[39m.\u001b[39;49mvalues()))\n\u001b[0;32m    717\u001b[0m     \u001b[39mif\u001b[39;00m value_sum \u001b[39m<\u001b[39m\u001b[39m=\u001b[39m _NINF:\n\u001b[0;32m    718\u001b[0m         logp \u001b[39m=\u001b[39m math\u001b[39m.\u001b[39mlog(\u001b[39m1.0\u001b[39m \u001b[39m/\u001b[39m \u001b[39mlen\u001b[39m(prob_dict), \u001b[39m2\u001b[39m)\n",
      "File \u001b[1;32m~\\AppData\\Local\\Packages\\PythonSoftwareFoundation.Python.3.10_qbz5n2kfra8p0\\LocalCache\\local-packages\\Python310\\site-packages\\nltk\\probability.py:2299\u001b[0m, in \u001b[0;36msum_logs\u001b[1;34m(logs)\u001b[0m\n\u001b[0;32m   2298\u001b[0m \u001b[39mdef\u001b[39;00m \u001b[39msum_logs\u001b[39m(logs):\n\u001b[1;32m-> 2299\u001b[0m     \u001b[39mreturn\u001b[39;00m reduce(add_logs, logs[\u001b[39m1\u001b[39;49m:], logs[\u001b[39m0\u001b[39;49m]) \u001b[39mif\u001b[39;00m \u001b[39mlen\u001b[39m(logs) \u001b[39m!=\u001b[39m \u001b[39m0\u001b[39m \u001b[39melse\u001b[39;00m _NINF\n",
      "File \u001b[1;32m~\\AppData\\Local\\Packages\\PythonSoftwareFoundation.Python.3.10_qbz5n2kfra8p0\\LocalCache\\local-packages\\Python310\\site-packages\\nltk\\probability.py:2283\u001b[0m, in \u001b[0;36madd_logs\u001b[1;34m(logx, logy)\u001b[0m\n\u001b[0;32m   2275\u001b[0m \u001b[39m##//////////////////////////////////////////////////////\u001b[39;00m\n\u001b[0;32m   2276\u001b[0m \u001b[39m## Adding in log-space.\u001b[39;00m\n\u001b[0;32m   2277\u001b[0m \u001b[39m##//////////////////////////////////////////////////////\u001b[39;00m\n\u001b[0;32m   2278\u001b[0m \n\u001b[0;32m   2279\u001b[0m \u001b[39m# If the difference is bigger than this, then just take the bigger one:\u001b[39;00m\n\u001b[0;32m   2280\u001b[0m _ADD_LOGS_MAX_DIFF \u001b[39m=\u001b[39m math\u001b[39m.\u001b[39mlog(\u001b[39m1e-30\u001b[39m, \u001b[39m2\u001b[39m)\n\u001b[1;32m-> 2283\u001b[0m \u001b[39mdef\u001b[39;00m \u001b[39madd_logs\u001b[39m(logx, logy):\n\u001b[0;32m   2284\u001b[0m \u001b[39m    \u001b[39m\u001b[39m\"\"\"\u001b[39;00m\n\u001b[0;32m   2285\u001b[0m \u001b[39m    Given two numbers ``logx`` = *log(x)* and ``logy`` = *log(y)*, return\u001b[39;00m\n\u001b[0;32m   2286\u001b[0m \u001b[39m    *log(x+y)*.  Conceptually, this is the same as returning\u001b[39;00m\n\u001b[0;32m   2287\u001b[0m \u001b[39m    ``log(2**(logx)+2**(logy))``, but the actual implementation\u001b[39;00m\n\u001b[0;32m   2288\u001b[0m \u001b[39m    avoids overflow errors that could result from direct computation.\u001b[39;00m\n\u001b[0;32m   2289\u001b[0m \u001b[39m    \"\"\"\u001b[39;00m\n\u001b[0;32m   2290\u001b[0m     \u001b[39mif\u001b[39;00m logx \u001b[39m<\u001b[39m logy \u001b[39m+\u001b[39m _ADD_LOGS_MAX_DIFF:\n",
      "\u001b[1;31mKeyboardInterrupt\u001b[0m: "
     ]
    }
   ],
   "source": [
    "tokenized_rows = []\n",
    "for row in df_meta['combined_text']:\n",
    "    data_tokens = nltk.word_tokenize(row)\n",
    "    pos_tag = nltk.pos_tag(data_tokens)\n",
    "    ne_chunk = nltk.chunk.ne_chunk(pos_tag)\n",
    "    tokenized_rows.append(ne_chunk)\n",
    "df_meta['tokenized_combined_text'] = tokenized_rows\n",
    "    "
   ]
  },
  {
   "cell_type": "code",
   "execution_count": null,
   "metadata": {},
   "outputs": [
    {
     "name": "stdout",
     "output_type": "stream",
     "text": [
      "(S\n",
      "  Milliongadgets/NNS\n",
      "  (/(\n",
      "  TM/NNP\n",
      "  )/)\n",
      "  Earring/NNP\n",
      "  Safety/NNP\n",
      "  Backs/NNP\n",
      "  For/IN\n",
      "  (PERSON Fish/NNP Hook/NNP Small/NNP Earrings/NNP)\n",
      "  (/(\n",
      "  150/CD\n",
      "  )/)\n",
      "  nan/NN\n",
      "  perfect/JJ\n",
      "  replacements/NNS\n",
      "  !/.\n",
      "  !/.\n",
      "  nan/NN)\n"
     ]
    }
   ],
   "source": [
    "df_meta['tokenized_combined_text'][0].pprint()"
   ]
  },
  {
   "cell_type": "code",
   "execution_count": null,
   "metadata": {},
   "outputs": [],
   "source": [
    "from sklearn.feature_extraction.text import TfidfVectorizer\n",
    "\n",
    "vec = TfidfVectorizer()"
   ]
  },
  {
   "cell_type": "code",
   "execution_count": null,
   "metadata": {},
   "outputs": [],
   "source": [
    "vecs = vec.fit_transform(df_meta['combined_text'].apply(lambda x: np.str_(x)))"
   ]
  },
  {
   "cell_type": "code",
   "execution_count": null,
   "metadata": {},
   "outputs": [
    {
     "data": {
      "text/plain": [
       "(50, 107)"
      ]
     },
     "execution_count": 25,
     "metadata": {},
     "output_type": "execute_result"
    }
   ],
   "source": [
    "vecs.shape"
   ]
  },
  {
   "cell_type": "code",
   "execution_count": null,
   "metadata": {},
   "outputs": [],
   "source": [
    "from sklearn.metrics.pairwise import cosine_similarity"
   ]
  },
  {
   "cell_type": "code",
   "execution_count": null,
   "metadata": {},
   "outputs": [
    {
     "data": {
      "text/plain": [
       "array([[1.        , 0.59282512, 0.76452769, ..., 0.09055414, 0.09055414,\n",
       "        0.        ],\n",
       "       [0.59282512, 1.        , 0.55950783, ..., 0.00850892, 0.00850892,\n",
       "        0.0079163 ],\n",
       "       [0.76452769, 0.55950783, 1.        , ..., 0.        , 0.        ,\n",
       "        0.        ],\n",
       "       ...,\n",
       "       [0.09055414, 0.00850892, 0.        , ..., 1.        , 1.        ,\n",
       "        0.8170046 ],\n",
       "       [0.09055414, 0.00850892, 0.        , ..., 1.        , 1.        ,\n",
       "        0.8170046 ],\n",
       "       [0.        , 0.0079163 , 0.        , ..., 0.8170046 , 0.8170046 ,\n",
       "        1.        ]])"
      ]
     },
     "execution_count": 34,
     "metadata": {},
     "output_type": "execute_result"
    }
   ],
   "source": [
    "sim = cosine_similarity(vecs)\n",
    "\n",
    "sim"
   ]
  },
  {
   "cell_type": "code",
   "execution_count": 31,
   "metadata": {},
   "outputs": [
    {
     "data": {
      "text/plain": [
       "'J. P. Ourse & Cie. Yellowstone Collection Ranger Shoulder Bag (Java)'"
      ]
     },
     "execution_count": 31,
     "metadata": {},
     "output_type": "execute_result"
    }
   ],
   "source": [
    "df_meta['title'][27]"
   ]
  },
  {
   "cell_type": "code",
   "execution_count": null,
   "metadata": {},
   "outputs": [
    {
     "data": {
      "text/html": [
       "<div>\n",
       "<style scoped>\n",
       "    .dataframe tbody tr th:only-of-type {\n",
       "        vertical-align: middle;\n",
       "    }\n",
       "\n",
       "    .dataframe tbody tr th {\n",
       "        vertical-align: top;\n",
       "    }\n",
       "\n",
       "    .dataframe thead th {\n",
       "        text-align: right;\n",
       "    }\n",
       "</style>\n",
       "<table border=\"1\" class=\"dataframe\">\n",
       "  <thead>\n",
       "    <tr style=\"text-align: right;\">\n",
       "      <th></th>\n",
       "      <th>overall</th>\n",
       "      <th>verified</th>\n",
       "      <th>reviewTime</th>\n",
       "      <th>reviewerID</th>\n",
       "      <th>asin</th>\n",
       "      <th>reviewerName</th>\n",
       "      <th>reviewText</th>\n",
       "      <th>summary</th>\n",
       "      <th>unixReviewTime</th>\n",
       "      <th>vote</th>\n",
       "      <th>style</th>\n",
       "      <th>image</th>\n",
       "      <th>title</th>\n",
       "      <th>brand</th>\n",
       "      <th>feature</th>\n",
       "      <th>rank</th>\n",
       "      <th>date</th>\n",
       "      <th>imageURL</th>\n",
       "      <th>imageURLHighRes</th>\n",
       "      <th>description</th>\n",
       "      <th>price</th>\n",
       "      <th>also_view</th>\n",
       "      <th>also_buy</th>\n",
       "      <th>fit</th>\n",
       "      <th>details</th>\n",
       "      <th>similar_item</th>\n",
       "      <th>tech1</th>\n",
       "      <th>combined_text</th>\n",
       "      <th>id</th>\n",
       "      <th>tokenized_combined_text</th>\n",
       "    </tr>\n",
       "  </thead>\n",
       "  <tbody>\n",
       "    <tr>\n",
       "      <th>0</th>\n",
       "      <td>5.0</td>\n",
       "      <td>True</td>\n",
       "      <td>10 20, 2014</td>\n",
       "      <td>A1D4G1SNUZWQOT</td>\n",
       "      <td>7106116521</td>\n",
       "      <td>Tracy</td>\n",
       "      <td>Exactly what I needed.</td>\n",
       "      <td>perfect replacements!!</td>\n",
       "      <td>1413763200</td>\n",
       "      <td>NaN</td>\n",
       "      <td>NaN</td>\n",
       "      <td>NaN</td>\n",
       "      <td>Milliongadgets(TM) Earring Safety Backs For Fi...</td>\n",
       "      <td>NaN</td>\n",
       "      <td>NaN</td>\n",
       "      <td>2,081,098inClothing,ShoesJewelry(</td>\n",
       "      <td>fishhook</td>\n",
       "      <td>[https://images-na.ssl-images-amazon.com/image...</td>\n",
       "      <td>[https://images-na.ssl-images-amazon.com/image...</td>\n",
       "      <td>NaN</td>\n",
       "      <td>NaN</td>\n",
       "      <td>NaN</td>\n",
       "      <td>NaN</td>\n",
       "      <td>NaN</td>\n",
       "      <td>NaN</td>\n",
       "      <td>NaN</td>\n",
       "      <td>NaN</td>\n",
       "      <td>Milliongadgets(TM) Earring Safety Backs For Fi...</td>\n",
       "      <td>0</td>\n",
       "      <td>[(Milliongadgets, NNS), ((, (), (TM, NNP), (),...</td>\n",
       "    </tr>\n",
       "    <tr>\n",
       "      <th>1</th>\n",
       "      <td>2.0</td>\n",
       "      <td>True</td>\n",
       "      <td>09 28, 2014</td>\n",
       "      <td>A3DDWDH9PX2YX2</td>\n",
       "      <td>7106116521</td>\n",
       "      <td>Sonja Lau</td>\n",
       "      <td>I agree with the other review, the opening is ...</td>\n",
       "      <td>I agree with the other review, the opening is ...</td>\n",
       "      <td>1411862400</td>\n",
       "      <td>3</td>\n",
       "      <td>NaN</td>\n",
       "      <td>NaN</td>\n",
       "      <td>Milliongadgets(TM) Earring Safety Backs For Fi...</td>\n",
       "      <td>NaN</td>\n",
       "      <td>NaN</td>\n",
       "      <td>2,081,098inClothing,ShoesJewelry(</td>\n",
       "      <td>fishhook</td>\n",
       "      <td>[https://images-na.ssl-images-amazon.com/image...</td>\n",
       "      <td>[https://images-na.ssl-images-amazon.com/image...</td>\n",
       "      <td>NaN</td>\n",
       "      <td>NaN</td>\n",
       "      <td>NaN</td>\n",
       "      <td>NaN</td>\n",
       "      <td>NaN</td>\n",
       "      <td>NaN</td>\n",
       "      <td>NaN</td>\n",
       "      <td>NaN</td>\n",
       "      <td>Milliongadgets(TM) Earring Safety Backs For Fi...</td>\n",
       "      <td>1</td>\n",
       "      <td>[(Milliongadgets, NNS), ((, (), (TM, NNP), (),...</td>\n",
       "    </tr>\n",
       "    <tr>\n",
       "      <th>2</th>\n",
       "      <td>4.0</td>\n",
       "      <td>False</td>\n",
       "      <td>08 25, 2014</td>\n",
       "      <td>A2MWC41EW7XL15</td>\n",
       "      <td>7106116521</td>\n",
       "      <td>Kathleen</td>\n",
       "      <td>Love these... I am going to order another pack...</td>\n",
       "      <td>My New 'Friends' !!</td>\n",
       "      <td>1408924800</td>\n",
       "      <td>NaN</td>\n",
       "      <td>NaN</td>\n",
       "      <td>NaN</td>\n",
       "      <td>Milliongadgets(TM) Earring Safety Backs For Fi...</td>\n",
       "      <td>NaN</td>\n",
       "      <td>NaN</td>\n",
       "      <td>2,081,098inClothing,ShoesJewelry(</td>\n",
       "      <td>fishhook</td>\n",
       "      <td>[https://images-na.ssl-images-amazon.com/image...</td>\n",
       "      <td>[https://images-na.ssl-images-amazon.com/image...</td>\n",
       "      <td>NaN</td>\n",
       "      <td>NaN</td>\n",
       "      <td>NaN</td>\n",
       "      <td>NaN</td>\n",
       "      <td>NaN</td>\n",
       "      <td>NaN</td>\n",
       "      <td>NaN</td>\n",
       "      <td>NaN</td>\n",
       "      <td>Milliongadgets(TM) Earring Safety Backs For Fi...</td>\n",
       "      <td>2</td>\n",
       "      <td>[(Milliongadgets, NNS), ((, (), (TM, NNP), (),...</td>\n",
       "    </tr>\n",
       "    <tr>\n",
       "      <th>3</th>\n",
       "      <td>2.0</td>\n",
       "      <td>True</td>\n",
       "      <td>08 24, 2014</td>\n",
       "      <td>A2UH2QQ275NV45</td>\n",
       "      <td>7106116521</td>\n",
       "      <td>Jodi Stoner</td>\n",
       "      <td>too tiny an opening</td>\n",
       "      <td>Two Stars</td>\n",
       "      <td>1408838400</td>\n",
       "      <td>NaN</td>\n",
       "      <td>NaN</td>\n",
       "      <td>NaN</td>\n",
       "      <td>Milliongadgets(TM) Earring Safety Backs For Fi...</td>\n",
       "      <td>NaN</td>\n",
       "      <td>NaN</td>\n",
       "      <td>2,081,098inClothing,ShoesJewelry(</td>\n",
       "      <td>fishhook</td>\n",
       "      <td>[https://images-na.ssl-images-amazon.com/image...</td>\n",
       "      <td>[https://images-na.ssl-images-amazon.com/image...</td>\n",
       "      <td>NaN</td>\n",
       "      <td>NaN</td>\n",
       "      <td>NaN</td>\n",
       "      <td>NaN</td>\n",
       "      <td>NaN</td>\n",
       "      <td>NaN</td>\n",
       "      <td>NaN</td>\n",
       "      <td>NaN</td>\n",
       "      <td>Milliongadgets(TM) Earring Safety Backs For Fi...</td>\n",
       "      <td>3</td>\n",
       "      <td>[(Milliongadgets, NNS), ((, (), (TM, NNP), (),...</td>\n",
       "    </tr>\n",
       "    <tr>\n",
       "      <th>4</th>\n",
       "      <td>3.0</td>\n",
       "      <td>False</td>\n",
       "      <td>07 27, 2014</td>\n",
       "      <td>A89F3LQADZBS5</td>\n",
       "      <td>7106116521</td>\n",
       "      <td>Alexander D.</td>\n",
       "      <td>Okay</td>\n",
       "      <td>Three Stars</td>\n",
       "      <td>1406419200</td>\n",
       "      <td>NaN</td>\n",
       "      <td>NaN</td>\n",
       "      <td>NaN</td>\n",
       "      <td>Milliongadgets(TM) Earring Safety Backs For Fi...</td>\n",
       "      <td>NaN</td>\n",
       "      <td>NaN</td>\n",
       "      <td>2,081,098inClothing,ShoesJewelry(</td>\n",
       "      <td>fishhook</td>\n",
       "      <td>[https://images-na.ssl-images-amazon.com/image...</td>\n",
       "      <td>[https://images-na.ssl-images-amazon.com/image...</td>\n",
       "      <td>NaN</td>\n",
       "      <td>NaN</td>\n",
       "      <td>NaN</td>\n",
       "      <td>NaN</td>\n",
       "      <td>NaN</td>\n",
       "      <td>NaN</td>\n",
       "      <td>NaN</td>\n",
       "      <td>NaN</td>\n",
       "      <td>Milliongadgets(TM) Earring Safety Backs For Fi...</td>\n",
       "      <td>4</td>\n",
       "      <td>[(Milliongadgets, NNS), ((, (), (TM, NNP), (),...</td>\n",
       "    </tr>\n",
       "  </tbody>\n",
       "</table>\n",
       "</div>"
      ],
      "text/plain": [
       "   overall  verified   reviewTime      reviewerID        asin  reviewerName  \\\n",
       "0      5.0      True  10 20, 2014  A1D4G1SNUZWQOT  7106116521         Tracy   \n",
       "1      2.0      True  09 28, 2014  A3DDWDH9PX2YX2  7106116521     Sonja Lau   \n",
       "2      4.0     False  08 25, 2014  A2MWC41EW7XL15  7106116521      Kathleen   \n",
       "3      2.0      True  08 24, 2014  A2UH2QQ275NV45  7106116521   Jodi Stoner   \n",
       "4      3.0     False  07 27, 2014   A89F3LQADZBS5  7106116521  Alexander D.   \n",
       "\n",
       "                                          reviewText  \\\n",
       "0                             Exactly what I needed.   \n",
       "1  I agree with the other review, the opening is ...   \n",
       "2  Love these... I am going to order another pack...   \n",
       "3                                too tiny an opening   \n",
       "4                                               Okay   \n",
       "\n",
       "                                             summary  unixReviewTime vote  \\\n",
       "0                             perfect replacements!!      1413763200  NaN   \n",
       "1  I agree with the other review, the opening is ...      1411862400    3   \n",
       "2                                My New 'Friends' !!      1408924800  NaN   \n",
       "3                                          Two Stars      1408838400  NaN   \n",
       "4                                        Three Stars      1406419200  NaN   \n",
       "\n",
       "  style image                                              title brand  \\\n",
       "0   NaN   NaN  Milliongadgets(TM) Earring Safety Backs For Fi...   NaN   \n",
       "1   NaN   NaN  Milliongadgets(TM) Earring Safety Backs For Fi...   NaN   \n",
       "2   NaN   NaN  Milliongadgets(TM) Earring Safety Backs For Fi...   NaN   \n",
       "3   NaN   NaN  Milliongadgets(TM) Earring Safety Backs For Fi...   NaN   \n",
       "4   NaN   NaN  Milliongadgets(TM) Earring Safety Backs For Fi...   NaN   \n",
       "\n",
       "  feature                               rank      date  \\\n",
       "0     NaN  2,081,098inClothing,ShoesJewelry(  fishhook   \n",
       "1     NaN  2,081,098inClothing,ShoesJewelry(  fishhook   \n",
       "2     NaN  2,081,098inClothing,ShoesJewelry(  fishhook   \n",
       "3     NaN  2,081,098inClothing,ShoesJewelry(  fishhook   \n",
       "4     NaN  2,081,098inClothing,ShoesJewelry(  fishhook   \n",
       "\n",
       "                                            imageURL  \\\n",
       "0  [https://images-na.ssl-images-amazon.com/image...   \n",
       "1  [https://images-na.ssl-images-amazon.com/image...   \n",
       "2  [https://images-na.ssl-images-amazon.com/image...   \n",
       "3  [https://images-na.ssl-images-amazon.com/image...   \n",
       "4  [https://images-na.ssl-images-amazon.com/image...   \n",
       "\n",
       "                                     imageURLHighRes description price  \\\n",
       "0  [https://images-na.ssl-images-amazon.com/image...         NaN   NaN   \n",
       "1  [https://images-na.ssl-images-amazon.com/image...         NaN   NaN   \n",
       "2  [https://images-na.ssl-images-amazon.com/image...         NaN   NaN   \n",
       "3  [https://images-na.ssl-images-amazon.com/image...         NaN   NaN   \n",
       "4  [https://images-na.ssl-images-amazon.com/image...         NaN   NaN   \n",
       "\n",
       "  also_view also_buy  fit details similar_item tech1  \\\n",
       "0       NaN      NaN  NaN     NaN          NaN   NaN   \n",
       "1       NaN      NaN  NaN     NaN          NaN   NaN   \n",
       "2       NaN      NaN  NaN     NaN          NaN   NaN   \n",
       "3       NaN      NaN  NaN     NaN          NaN   NaN   \n",
       "4       NaN      NaN  NaN     NaN          NaN   NaN   \n",
       "\n",
       "                                       combined_text  id  \\\n",
       "0  Milliongadgets(TM) Earring Safety Backs For Fi...   0   \n",
       "1  Milliongadgets(TM) Earring Safety Backs For Fi...   1   \n",
       "2  Milliongadgets(TM) Earring Safety Backs For Fi...   2   \n",
       "3  Milliongadgets(TM) Earring Safety Backs For Fi...   3   \n",
       "4  Milliongadgets(TM) Earring Safety Backs For Fi...   4   \n",
       "\n",
       "                             tokenized_combined_text  \n",
       "0  [(Milliongadgets, NNS), ((, (), (TM, NNP), (),...  \n",
       "1  [(Milliongadgets, NNS), ((, (), (TM, NNP), (),...  \n",
       "2  [(Milliongadgets, NNS), ((, (), (TM, NNP), (),...  \n",
       "3  [(Milliongadgets, NNS), ((, (), (TM, NNP), (),...  \n",
       "4  [(Milliongadgets, NNS), ((, (), (TM, NNP), (),...  "
      ]
     },
     "execution_count": 29,
     "metadata": {},
     "output_type": "execute_result"
    }
   ],
   "source": [
    "df_meta.head()"
   ]
  },
  {
   "cell_type": "code",
   "execution_count": null,
   "metadata": {},
   "outputs": [
    {
     "data": {
      "text/html": [
       "<div>\n",
       "<style scoped>\n",
       "    .dataframe tbody tr th:only-of-type {\n",
       "        vertical-align: middle;\n",
       "    }\n",
       "\n",
       "    .dataframe tbody tr th {\n",
       "        vertical-align: top;\n",
       "    }\n",
       "\n",
       "    .dataframe thead th {\n",
       "        text-align: right;\n",
       "    }\n",
       "</style>\n",
       "<table border=\"1\" class=\"dataframe\">\n",
       "  <thead>\n",
       "    <tr style=\"text-align: right;\">\n",
       "      <th></th>\n",
       "      <th>overall</th>\n",
       "      <th>verified</th>\n",
       "      <th>reviewTime</th>\n",
       "      <th>reviewerID</th>\n",
       "      <th>asin</th>\n",
       "      <th>reviewerName</th>\n",
       "      <th>reviewText</th>\n",
       "      <th>summary</th>\n",
       "      <th>unixReviewTime</th>\n",
       "      <th>vote</th>\n",
       "      <th>style</th>\n",
       "      <th>image</th>\n",
       "      <th>title</th>\n",
       "      <th>brand</th>\n",
       "      <th>feature</th>\n",
       "      <th>rank</th>\n",
       "      <th>date</th>\n",
       "      <th>imageURL</th>\n",
       "      <th>imageURLHighRes</th>\n",
       "      <th>description</th>\n",
       "      <th>price</th>\n",
       "      <th>also_view</th>\n",
       "      <th>also_buy</th>\n",
       "      <th>fit</th>\n",
       "      <th>details</th>\n",
       "      <th>similar_item</th>\n",
       "      <th>tech1</th>\n",
       "      <th>combined_text</th>\n",
       "      <th>id</th>\n",
       "      <th>tokenized_combined_text</th>\n",
       "    </tr>\n",
       "  </thead>\n",
       "  <tbody>\n",
       "    <tr>\n",
       "      <th>0</th>\n",
       "      <td>5.0</td>\n",
       "      <td>True</td>\n",
       "      <td>10 20, 2014</td>\n",
       "      <td>A1D4G1SNUZWQOT</td>\n",
       "      <td>7106116521</td>\n",
       "      <td>Tracy</td>\n",
       "      <td>Exactly what I needed.</td>\n",
       "      <td>perfect replacements!!</td>\n",
       "      <td>1413763200</td>\n",
       "      <td>NaN</td>\n",
       "      <td>NaN</td>\n",
       "      <td>NaN</td>\n",
       "      <td>Milliongadgets(TM) Earring Safety Backs For Fi...</td>\n",
       "      <td>NaN</td>\n",
       "      <td>NaN</td>\n",
       "      <td>2,081,098inClothing,ShoesJewelry(</td>\n",
       "      <td>fishhook</td>\n",
       "      <td>[https://images-na.ssl-images-amazon.com/image...</td>\n",
       "      <td>[https://images-na.ssl-images-amazon.com/image...</td>\n",
       "      <td>NaN</td>\n",
       "      <td>NaN</td>\n",
       "      <td>NaN</td>\n",
       "      <td>NaN</td>\n",
       "      <td>NaN</td>\n",
       "      <td>NaN</td>\n",
       "      <td>NaN</td>\n",
       "      <td>NaN</td>\n",
       "      <td>Milliongadgets(TM) Earring Safety Backs For Fi...</td>\n",
       "      <td>0</td>\n",
       "      <td>[(Milliongadgets, NNS), ((, (), (TM, NNP), (),...</td>\n",
       "    </tr>\n",
       "    <tr>\n",
       "      <th>1</th>\n",
       "      <td>2.0</td>\n",
       "      <td>True</td>\n",
       "      <td>09 28, 2014</td>\n",
       "      <td>A3DDWDH9PX2YX2</td>\n",
       "      <td>7106116521</td>\n",
       "      <td>Sonja Lau</td>\n",
       "      <td>I agree with the other review, the opening is ...</td>\n",
       "      <td>I agree with the other review, the opening is ...</td>\n",
       "      <td>1411862400</td>\n",
       "      <td>3</td>\n",
       "      <td>NaN</td>\n",
       "      <td>NaN</td>\n",
       "      <td>Milliongadgets(TM) Earring Safety Backs For Fi...</td>\n",
       "      <td>NaN</td>\n",
       "      <td>NaN</td>\n",
       "      <td>2,081,098inClothing,ShoesJewelry(</td>\n",
       "      <td>fishhook</td>\n",
       "      <td>[https://images-na.ssl-images-amazon.com/image...</td>\n",
       "      <td>[https://images-na.ssl-images-amazon.com/image...</td>\n",
       "      <td>NaN</td>\n",
       "      <td>NaN</td>\n",
       "      <td>NaN</td>\n",
       "      <td>NaN</td>\n",
       "      <td>NaN</td>\n",
       "      <td>NaN</td>\n",
       "      <td>NaN</td>\n",
       "      <td>NaN</td>\n",
       "      <td>Milliongadgets(TM) Earring Safety Backs For Fi...</td>\n",
       "      <td>1</td>\n",
       "      <td>[(Milliongadgets, NNS), ((, (), (TM, NNP), (),...</td>\n",
       "    </tr>\n",
       "    <tr>\n",
       "      <th>2</th>\n",
       "      <td>4.0</td>\n",
       "      <td>False</td>\n",
       "      <td>08 25, 2014</td>\n",
       "      <td>A2MWC41EW7XL15</td>\n",
       "      <td>7106116521</td>\n",
       "      <td>Kathleen</td>\n",
       "      <td>Love these... I am going to order another pack...</td>\n",
       "      <td>My New 'Friends' !!</td>\n",
       "      <td>1408924800</td>\n",
       "      <td>NaN</td>\n",
       "      <td>NaN</td>\n",
       "      <td>NaN</td>\n",
       "      <td>Milliongadgets(TM) Earring Safety Backs For Fi...</td>\n",
       "      <td>NaN</td>\n",
       "      <td>NaN</td>\n",
       "      <td>2,081,098inClothing,ShoesJewelry(</td>\n",
       "      <td>fishhook</td>\n",
       "      <td>[https://images-na.ssl-images-amazon.com/image...</td>\n",
       "      <td>[https://images-na.ssl-images-amazon.com/image...</td>\n",
       "      <td>NaN</td>\n",
       "      <td>NaN</td>\n",
       "      <td>NaN</td>\n",
       "      <td>NaN</td>\n",
       "      <td>NaN</td>\n",
       "      <td>NaN</td>\n",
       "      <td>NaN</td>\n",
       "      <td>NaN</td>\n",
       "      <td>Milliongadgets(TM) Earring Safety Backs For Fi...</td>\n",
       "      <td>2</td>\n",
       "      <td>[(Milliongadgets, NNS), ((, (), (TM, NNP), (),...</td>\n",
       "    </tr>\n",
       "    <tr>\n",
       "      <th>3</th>\n",
       "      <td>2.0</td>\n",
       "      <td>True</td>\n",
       "      <td>08 24, 2014</td>\n",
       "      <td>A2UH2QQ275NV45</td>\n",
       "      <td>7106116521</td>\n",
       "      <td>Jodi Stoner</td>\n",
       "      <td>too tiny an opening</td>\n",
       "      <td>Two Stars</td>\n",
       "      <td>1408838400</td>\n",
       "      <td>NaN</td>\n",
       "      <td>NaN</td>\n",
       "      <td>NaN</td>\n",
       "      <td>Milliongadgets(TM) Earring Safety Backs For Fi...</td>\n",
       "      <td>NaN</td>\n",
       "      <td>NaN</td>\n",
       "      <td>2,081,098inClothing,ShoesJewelry(</td>\n",
       "      <td>fishhook</td>\n",
       "      <td>[https://images-na.ssl-images-amazon.com/image...</td>\n",
       "      <td>[https://images-na.ssl-images-amazon.com/image...</td>\n",
       "      <td>NaN</td>\n",
       "      <td>NaN</td>\n",
       "      <td>NaN</td>\n",
       "      <td>NaN</td>\n",
       "      <td>NaN</td>\n",
       "      <td>NaN</td>\n",
       "      <td>NaN</td>\n",
       "      <td>NaN</td>\n",
       "      <td>Milliongadgets(TM) Earring Safety Backs For Fi...</td>\n",
       "      <td>3</td>\n",
       "      <td>[(Milliongadgets, NNS), ((, (), (TM, NNP), (),...</td>\n",
       "    </tr>\n",
       "    <tr>\n",
       "      <th>4</th>\n",
       "      <td>3.0</td>\n",
       "      <td>False</td>\n",
       "      <td>07 27, 2014</td>\n",
       "      <td>A89F3LQADZBS5</td>\n",
       "      <td>7106116521</td>\n",
       "      <td>Alexander D.</td>\n",
       "      <td>Okay</td>\n",
       "      <td>Three Stars</td>\n",
       "      <td>1406419200</td>\n",
       "      <td>NaN</td>\n",
       "      <td>NaN</td>\n",
       "      <td>NaN</td>\n",
       "      <td>Milliongadgets(TM) Earring Safety Backs For Fi...</td>\n",
       "      <td>NaN</td>\n",
       "      <td>NaN</td>\n",
       "      <td>2,081,098inClothing,ShoesJewelry(</td>\n",
       "      <td>fishhook</td>\n",
       "      <td>[https://images-na.ssl-images-amazon.com/image...</td>\n",
       "      <td>[https://images-na.ssl-images-amazon.com/image...</td>\n",
       "      <td>NaN</td>\n",
       "      <td>NaN</td>\n",
       "      <td>NaN</td>\n",
       "      <td>NaN</td>\n",
       "      <td>NaN</td>\n",
       "      <td>NaN</td>\n",
       "      <td>NaN</td>\n",
       "      <td>NaN</td>\n",
       "      <td>Milliongadgets(TM) Earring Safety Backs For Fi...</td>\n",
       "      <td>4</td>\n",
       "      <td>[(Milliongadgets, NNS), ((, (), (TM, NNP), (),...</td>\n",
       "    </tr>\n",
       "    <tr>\n",
       "      <th>5</th>\n",
       "      <td>5.0</td>\n",
       "      <td>True</td>\n",
       "      <td>07 19, 2014</td>\n",
       "      <td>A29HLOUW0NS0EH</td>\n",
       "      <td>7106116521</td>\n",
       "      <td>Patricia R. Erwin</td>\n",
       "      <td>Exactly what I wanted.</td>\n",
       "      <td>Five Stars</td>\n",
       "      <td>1405728000</td>\n",
       "      <td>NaN</td>\n",
       "      <td>NaN</td>\n",
       "      <td>NaN</td>\n",
       "      <td>Milliongadgets(TM) Earring Safety Backs For Fi...</td>\n",
       "      <td>NaN</td>\n",
       "      <td>NaN</td>\n",
       "      <td>2,081,098inClothing,ShoesJewelry(</td>\n",
       "      <td>fishhook</td>\n",
       "      <td>[https://images-na.ssl-images-amazon.com/image...</td>\n",
       "      <td>[https://images-na.ssl-images-amazon.com/image...</td>\n",
       "      <td>NaN</td>\n",
       "      <td>NaN</td>\n",
       "      <td>NaN</td>\n",
       "      <td>NaN</td>\n",
       "      <td>NaN</td>\n",
       "      <td>NaN</td>\n",
       "      <td>NaN</td>\n",
       "      <td>NaN</td>\n",
       "      <td>Milliongadgets(TM) Earring Safety Backs For Fi...</td>\n",
       "      <td>5</td>\n",
       "      <td>[(Milliongadgets, NNS), ((, (), (TM, NNP), (),...</td>\n",
       "    </tr>\n",
       "    <tr>\n",
       "      <th>6</th>\n",
       "      <td>4.0</td>\n",
       "      <td>True</td>\n",
       "      <td>05 31, 2014</td>\n",
       "      <td>A7QS961ROI6E0</td>\n",
       "      <td>7106116521</td>\n",
       "      <td>REBECCA S LAYTON</td>\n",
       "      <td>These little plastic backs work great.  No mor...</td>\n",
       "      <td>Works great!</td>\n",
       "      <td>1401494400</td>\n",
       "      <td>NaN</td>\n",
       "      <td>NaN</td>\n",
       "      <td>NaN</td>\n",
       "      <td>Milliongadgets(TM) Earring Safety Backs For Fi...</td>\n",
       "      <td>NaN</td>\n",
       "      <td>NaN</td>\n",
       "      <td>2,081,098inClothing,ShoesJewelry(</td>\n",
       "      <td>fishhook</td>\n",
       "      <td>[https://images-na.ssl-images-amazon.com/image...</td>\n",
       "      <td>[https://images-na.ssl-images-amazon.com/image...</td>\n",
       "      <td>NaN</td>\n",
       "      <td>NaN</td>\n",
       "      <td>NaN</td>\n",
       "      <td>NaN</td>\n",
       "      <td>NaN</td>\n",
       "      <td>NaN</td>\n",
       "      <td>NaN</td>\n",
       "      <td>NaN</td>\n",
       "      <td>Milliongadgets(TM) Earring Safety Backs For Fi...</td>\n",
       "      <td>6</td>\n",
       "      <td>[(Milliongadgets, NNS), ((, (), (TM, NNP), (),...</td>\n",
       "    </tr>\n",
       "  </tbody>\n",
       "</table>\n",
       "</div>"
      ],
      "text/plain": [
       "   overall  verified   reviewTime      reviewerID        asin  \\\n",
       "0      5.0      True  10 20, 2014  A1D4G1SNUZWQOT  7106116521   \n",
       "1      2.0      True  09 28, 2014  A3DDWDH9PX2YX2  7106116521   \n",
       "2      4.0     False  08 25, 2014  A2MWC41EW7XL15  7106116521   \n",
       "3      2.0      True  08 24, 2014  A2UH2QQ275NV45  7106116521   \n",
       "4      3.0     False  07 27, 2014   A89F3LQADZBS5  7106116521   \n",
       "5      5.0      True  07 19, 2014  A29HLOUW0NS0EH  7106116521   \n",
       "6      4.0      True  05 31, 2014   A7QS961ROI6E0  7106116521   \n",
       "\n",
       "        reviewerName                                         reviewText  \\\n",
       "0              Tracy                             Exactly what I needed.   \n",
       "1          Sonja Lau  I agree with the other review, the opening is ...   \n",
       "2           Kathleen  Love these... I am going to order another pack...   \n",
       "3        Jodi Stoner                                too tiny an opening   \n",
       "4       Alexander D.                                               Okay   \n",
       "5  Patricia R. Erwin                             Exactly what I wanted.   \n",
       "6   REBECCA S LAYTON  These little plastic backs work great.  No mor...   \n",
       "\n",
       "                                             summary  unixReviewTime vote  \\\n",
       "0                             perfect replacements!!      1413763200  NaN   \n",
       "1  I agree with the other review, the opening is ...      1411862400    3   \n",
       "2                                My New 'Friends' !!      1408924800  NaN   \n",
       "3                                          Two Stars      1408838400  NaN   \n",
       "4                                        Three Stars      1406419200  NaN   \n",
       "5                                         Five Stars      1405728000  NaN   \n",
       "6                                       Works great!      1401494400  NaN   \n",
       "\n",
       "  style image                                              title brand  \\\n",
       "0   NaN   NaN  Milliongadgets(TM) Earring Safety Backs For Fi...   NaN   \n",
       "1   NaN   NaN  Milliongadgets(TM) Earring Safety Backs For Fi...   NaN   \n",
       "2   NaN   NaN  Milliongadgets(TM) Earring Safety Backs For Fi...   NaN   \n",
       "3   NaN   NaN  Milliongadgets(TM) Earring Safety Backs For Fi...   NaN   \n",
       "4   NaN   NaN  Milliongadgets(TM) Earring Safety Backs For Fi...   NaN   \n",
       "5   NaN   NaN  Milliongadgets(TM) Earring Safety Backs For Fi...   NaN   \n",
       "6   NaN   NaN  Milliongadgets(TM) Earring Safety Backs For Fi...   NaN   \n",
       "\n",
       "  feature                               rank      date  \\\n",
       "0     NaN  2,081,098inClothing,ShoesJewelry(  fishhook   \n",
       "1     NaN  2,081,098inClothing,ShoesJewelry(  fishhook   \n",
       "2     NaN  2,081,098inClothing,ShoesJewelry(  fishhook   \n",
       "3     NaN  2,081,098inClothing,ShoesJewelry(  fishhook   \n",
       "4     NaN  2,081,098inClothing,ShoesJewelry(  fishhook   \n",
       "5     NaN  2,081,098inClothing,ShoesJewelry(  fishhook   \n",
       "6     NaN  2,081,098inClothing,ShoesJewelry(  fishhook   \n",
       "\n",
       "                                            imageURL  \\\n",
       "0  [https://images-na.ssl-images-amazon.com/image...   \n",
       "1  [https://images-na.ssl-images-amazon.com/image...   \n",
       "2  [https://images-na.ssl-images-amazon.com/image...   \n",
       "3  [https://images-na.ssl-images-amazon.com/image...   \n",
       "4  [https://images-na.ssl-images-amazon.com/image...   \n",
       "5  [https://images-na.ssl-images-amazon.com/image...   \n",
       "6  [https://images-na.ssl-images-amazon.com/image...   \n",
       "\n",
       "                                     imageURLHighRes description price  \\\n",
       "0  [https://images-na.ssl-images-amazon.com/image...         NaN   NaN   \n",
       "1  [https://images-na.ssl-images-amazon.com/image...         NaN   NaN   \n",
       "2  [https://images-na.ssl-images-amazon.com/image...         NaN   NaN   \n",
       "3  [https://images-na.ssl-images-amazon.com/image...         NaN   NaN   \n",
       "4  [https://images-na.ssl-images-amazon.com/image...         NaN   NaN   \n",
       "5  [https://images-na.ssl-images-amazon.com/image...         NaN   NaN   \n",
       "6  [https://images-na.ssl-images-amazon.com/image...         NaN   NaN   \n",
       "\n",
       "  also_view also_buy  fit details similar_item tech1  \\\n",
       "0       NaN      NaN  NaN     NaN          NaN   NaN   \n",
       "1       NaN      NaN  NaN     NaN          NaN   NaN   \n",
       "2       NaN      NaN  NaN     NaN          NaN   NaN   \n",
       "3       NaN      NaN  NaN     NaN          NaN   NaN   \n",
       "4       NaN      NaN  NaN     NaN          NaN   NaN   \n",
       "5       NaN      NaN  NaN     NaN          NaN   NaN   \n",
       "6       NaN      NaN  NaN     NaN          NaN   NaN   \n",
       "\n",
       "                                       combined_text  id  \\\n",
       "0  Milliongadgets(TM) Earring Safety Backs For Fi...   0   \n",
       "1  Milliongadgets(TM) Earring Safety Backs For Fi...   1   \n",
       "2  Milliongadgets(TM) Earring Safety Backs For Fi...   2   \n",
       "3  Milliongadgets(TM) Earring Safety Backs For Fi...   3   \n",
       "4  Milliongadgets(TM) Earring Safety Backs For Fi...   4   \n",
       "5  Milliongadgets(TM) Earring Safety Backs For Fi...   5   \n",
       "6  Milliongadgets(TM) Earring Safety Backs For Fi...   6   \n",
       "\n",
       "                             tokenized_combined_text  \n",
       "0  [(Milliongadgets, NNS), ((, (), (TM, NNP), (),...  \n",
       "1  [(Milliongadgets, NNS), ((, (), (TM, NNP), (),...  \n",
       "2  [(Milliongadgets, NNS), ((, (), (TM, NNP), (),...  \n",
       "3  [(Milliongadgets, NNS), ((, (), (TM, NNP), (),...  \n",
       "4  [(Milliongadgets, NNS), ((, (), (TM, NNP), (),...  \n",
       "5  [(Milliongadgets, NNS), ((, (), (TM, NNP), (),...  \n",
       "6  [(Milliongadgets, NNS), ((, (), (TM, NNP), (),...  "
      ]
     },
     "execution_count": 30,
     "metadata": {},
     "output_type": "execute_result"
    }
   ],
   "source": [
    "asin = '7106116521'\n",
    "movie_id=df_meta[df_meta.asin==asin]\n",
    "movie_id\n"
   ]
  },
  {
   "cell_type": "code",
   "execution_count": null,
   "metadata": {},
   "outputs": [],
   "source": [
    "def recommend(asin):\n",
    "    item_id = df_meta[df_meta.asin == asin]['id'].values[0]\n",
    "    scores = list(enumerate(sim[item_id]))\n",
    "    sorted_scores= sorted(scores, key=lambda x:x[1], reverse=True)\n",
    "    sorted_scores = sorted_scores\n",
    "    sorted_scores=sorted_scores[1:]\n",
    "    items_selected=[df_meta[items_selected[0]==df_meta['id']]['title'].values[0] for items_selected in sorted_scores]\n",
    "    return items_selected"
   ]
  },
  {
   "cell_type": "code",
   "execution_count": null,
   "metadata": {},
   "outputs": [
    {
     "data": {
      "text/plain": [
       "49"
      ]
     },
     "execution_count": 38,
     "metadata": {},
     "output_type": "execute_result"
    }
   ],
   "source": [
    "temp = recommend('B00007GDFV')\n",
    "len(temp)"
   ]
  },
  {
   "cell_type": "code",
   "execution_count": null,
   "metadata": {},
   "outputs": [
    {
     "ename": "ValueError",
     "evalue": "The truth value of an array with more than one element is ambiguous. Use a.any() or a.all()",
     "output_type": "error",
     "traceback": [
      "\u001b[1;31m---------------------------------------------------------------------------\u001b[0m",
      "\u001b[1;31mValueError\u001b[0m                                Traceback (most recent call last)",
      "\u001b[1;32mc:\\Users\\coraj\\Documents\\fuzzy-recommendation-system-\\analisis.ipynb Cell 32\u001b[0m line \u001b[0;36m7\n\u001b[0;32m      <a href='vscode-notebook-cell:/c%3A/Users/coraj/Documents/fuzzy-recommendation-system-/analisis.ipynb#X50sZmlsZQ%3D%3D?line=3'>4</a>\u001b[0m index_similarity_pairs \u001b[39m=\u001b[39m [(i, sim[i]) \u001b[39mfor\u001b[39;00m i \u001b[39min\u001b[39;00m \u001b[39mrange\u001b[39m(\u001b[39mlen\u001b[39m(sim))]\n\u001b[0;32m      <a href='vscode-notebook-cell:/c%3A/Users/coraj/Documents/fuzzy-recommendation-system-/analisis.ipynb#X50sZmlsZQ%3D%3D?line=5'>6</a>\u001b[0m \u001b[39m# Ordenar la lista de tuplas en función de las similitudes\u001b[39;00m\n\u001b[1;32m----> <a href='vscode-notebook-cell:/c%3A/Users/coraj/Documents/fuzzy-recommendation-system-/analisis.ipynb#X50sZmlsZQ%3D%3D?line=6'>7</a>\u001b[0m index_similarity_pairs\u001b[39m.\u001b[39msort(key\u001b[39m=\u001b[39m\u001b[39mlambda\u001b[39;00m x: x[\u001b[39m1\u001b[39m], reverse\u001b[39m=\u001b[39m\u001b[39mTrue\u001b[39;00m)\n\u001b[0;32m      <a href='vscode-notebook-cell:/c%3A/Users/coraj/Documents/fuzzy-recommendation-system-/analisis.ipynb#X50sZmlsZQ%3D%3D?line=8'>9</a>\u001b[0m \u001b[39m# Obtener los índices ordenados y las similitudes ordenadas\u001b[39;00m\n\u001b[0;32m     <a href='vscode-notebook-cell:/c%3A/Users/coraj/Documents/fuzzy-recommendation-system-/analisis.ipynb#X50sZmlsZQ%3D%3D?line=9'>10</a>\u001b[0m sorted_indices \u001b[39m=\u001b[39m [pair[\u001b[39m0\u001b[39m] \u001b[39mfor\u001b[39;00m pair \u001b[39min\u001b[39;00m index_similarity_pairs]\n",
      "\u001b[1;31mValueError\u001b[0m: The truth value of an array with more than one element is ambiguous. Use a.any() or a.all()"
     ]
    }
   ],
   "source": [
    "def recommend_ten(movie_list):\n",
    "    first_ten = []\n",
    "    for movie in movie_list:\n",
    "        \n"
   ]
  }
 ],
 "metadata": {
  "kernelspec": {
   "display_name": "Python 3",
   "language": "python",
   "name": "python3"
  },
  "language_info": {
   "codemirror_mode": {
    "name": "ipython",
    "version": 3
   },
   "file_extension": ".py",
   "mimetype": "text/x-python",
   "name": "python",
   "nbconvert_exporter": "python",
   "pygments_lexer": "ipython3",
   "version": "3.10.11"
  }
 },
 "nbformat": 4,
 "nbformat_minor": 2
}
