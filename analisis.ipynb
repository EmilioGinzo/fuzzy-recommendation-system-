{
 "cells": [
  {
   "cell_type": "markdown",
   "metadata": {},
   "source": [
    " - combinar las tablas\n",
    " - limpiar datos\n",
    " - combinar las columnas title, brand, summary, description en una nueva columna\n",
    " - tokenizar la nueva columnas combinada\n",
    " - calcular similitud con la similitud de los items tokenizados del coseno\n",
    " - los que son muy similares los eliminamos de la lista\n",
    " - agarramos algunos items de la lista y calculamos el mean del overall\n",
    " - ordenamos nuevamente descendentemente pero esta vez basados en el overall mean => lista2\n",
    " - recomendamos los 10 primeros de la lista 2\n",
    "\n"
   ]
  },
  {
   "cell_type": "code",
   "execution_count": 3,
   "metadata": {},
   "outputs": [],
   "source": [
    "import nltk\n",
    "import json\n",
    "import pandas as pd\n",
    "import gzip\n",
    "import numpy as np\n",
    "import matplotlib.pyplot as plt\n",
    "import seaborn as sns"
   ]
  },
  {
   "cell_type": "code",
   "execution_count": 104,
   "metadata": {},
   "outputs": [],
   "source": [
    "PATH = './AMAZON_FASHION.json.gz'\n",
    "PATH_meta = './meta_AMAZON_FASHION.json.gz'"
   ]
  },
  {
   "cell_type": "code",
   "execution_count": 105,
   "metadata": {},
   "outputs": [],
   "source": [
    "def parse(path):\n",
    "  g = gzip.open(path, 'rb')\n",
    "  for l in g:\n",
    "    yield json.loads(l)\n",
    "\n",
    "def getDF(path):\n",
    "  i = 0\n",
    "  df = {}\n",
    "  for d in parse(path):\n",
    "    df[i] = d\n",
    "    i += 1\n",
    "  return pd.DataFrame.from_dict(df, orient='index')"
   ]
  },
  {
   "cell_type": "code",
   "execution_count": 106,
   "metadata": {},
   "outputs": [],
   "source": [
    "df = getDF(PATH)\n",
    "df_meta = getDF(PATH_meta)"
   ]
  },
  {
   "cell_type": "code",
   "execution_count": 107,
   "metadata": {},
   "outputs": [
    {
     "data": {
      "text/plain": [
       "(186637, 16)"
      ]
     },
     "execution_count": 107,
     "metadata": {},
     "output_type": "execute_result"
    }
   ],
   "source": [
    "df_meta.shape"
   ]
  },
  {
   "cell_type": "code",
   "execution_count": 108,
   "metadata": {},
   "outputs": [
    {
     "data": {
      "text/plain": [
       "186194"
      ]
     },
     "execution_count": 108,
     "metadata": {},
     "output_type": "execute_result"
    }
   ],
   "source": [
    "df_meta['asin'].nunique()"
   ]
  },
  {
   "cell_type": "markdown",
   "metadata": {},
   "source": [
    "notamos que hay productos que no son unicos, arreglamos eso"
   ]
  },
  {
   "cell_type": "code",
   "execution_count": 109,
   "metadata": {},
   "outputs": [
    {
     "data": {
      "text/plain": [
       "(186194, 16)"
      ]
     },
     "execution_count": 109,
     "metadata": {},
     "output_type": "execute_result"
    }
   ],
   "source": [
    "df_meta= df_meta.drop_duplicates(subset='asin', keep='first')\n",
    "df_meta.shape"
   ]
  },
  {
   "cell_type": "markdown",
   "metadata": {},
   "source": [
    "creamos una nueva columnas que contiene la informacion que necesitamos para encontrar items similares"
   ]
  },
  {
   "cell_type": "code",
   "execution_count": 110,
   "metadata": {},
   "outputs": [],
   "source": [
    "columns_to_combine = ['title', 'brand', 'summary', 'description', 'expliota']\n",
    "existing_columns = [col for col in columns_to_combine if col in df_meta.columns]\n",
    "\n",
    "if existing_columns:\n",
    "    # Al menos una de las columnas en 'existing_columns' existe en el df_metaFrame 'df_meta'.\n",
    "    # Puedes combinar las columnas existentes y crear la nueva columna 'combined_text'.\n",
    "    df_meta['combined_text'] = df_meta[existing_columns].apply(lambda row: ' '.join(str(val) for val in row), axis=1)"
   ]
  },
  {
   "cell_type": "code",
   "execution_count": 111,
   "metadata": {},
   "outputs": [
    {
     "data": {
      "text/plain": [
       "Text(0, 0.5, 'Count')"
      ]
     },
     "execution_count": 111,
     "metadata": {},
     "output_type": "execute_result"
    },
    {
     "data": {
      "image/png": "[encoded data removed]",
      "text/plain": [
       "<Figure size 1000x500 with 1 Axes>"
      ]
     },
     "metadata": {},
     "output_type": "display_data"
    }
   ],
   "source": [
    "ax = df['overall'].value_counts().sort_index().plot(kind='bar', title=\"Count of reviews by star\",figsize=(10, 5))\n",
    "ax.set_xlabel(\"Star\")\n",
    "ax.set_ylabel(\"Count\")\n"
   ]
  },
  {
   "cell_type": "markdown",
   "metadata": {},
   "source": [
    "notamos que los reviews estan sesgados hacia 5 estrellas"
   ]
  },
  {
   "cell_type": "markdown",
   "metadata": {},
   "source": [
    "calculamos el promedio de estrellas por producto y creamos una nueva columna en el df_metaFrame 'df_meta' para almacenar el promedio de estrellas por producto."
   ]
  },
  {
   "cell_type": "code",
   "execution_count": 112,
   "metadata": {},
   "outputs": [],
   "source": [
    "# Calcular el \"rating score\" promedio por 'asin'\n",
    "rating_score = df.groupby('asin')['overall'].mean().reset_index()\n",
    "\n",
    "# Renombrar la columna resultante como 'rating_score'\n",
    "rating_score.rename(columns={'overall': 'rating_score'}, inplace=True)\n",
    "\n",
    "# Fusionar el DataFrame original con el \"rating score\" usando 'asin' como clave\n",
    "df = df.merge(rating_score, on='asin', how='left')"
   ]
  },
  {
   "cell_type": "markdown",
   "metadata": {},
   "source": [
    "### Tokenizacion de comentarios"
   ]
  },
  {
   "cell_type": "code",
   "execution_count": 113,
   "metadata": {},
   "outputs": [
    {
     "data": {
      "text/plain": [
       "'Excellent product!'"
      ]
     },
     "execution_count": 113,
     "metadata": {},
     "output_type": "execute_result"
    }
   ],
   "source": [
    "example = df['reviewText'][39]\n",
    "example"
   ]
  },
  {
   "cell_type": "code",
   "execution_count": 114,
   "metadata": {},
   "outputs": [
    {
     "name": "stderr",
     "output_type": "stream",
     "text": [
      "[nltk_data] Downloading package punkt to\n",
      "[nltk_data]     C:\\Users\\coraj\\AppData\\Roaming\\nltk_data...\n",
      "[nltk_data]   Package punkt is already up-to-date!\n"
     ]
    },
    {
     "data": {
      "text/plain": [
       "['Excellent', 'product', '!']"
      ]
     },
     "execution_count": 114,
     "metadata": {},
     "output_type": "execute_result"
    }
   ],
   "source": [
    "nltk.download('punkt')\n",
    "tokens = nltk.word_tokenize(example)\n",
    "tokens"
   ]
  },
  {
   "cell_type": "code",
   "execution_count": 115,
   "metadata": {},
   "outputs": [
    {
     "name": "stderr",
     "output_type": "stream",
     "text": [
      "[nltk_data] Downloading package punkt to\n",
      "[nltk_data]     C:\\Users\\coraj\\AppData\\Roaming\\nltk_data...\n",
      "[nltk_data]   Package punkt is already up-to-date!\n",
      "[nltk_data] Downloading package averaged_perceptron_tagger to\n",
      "[nltk_data]     C:\\Users\\coraj\\AppData\\Roaming\\nltk_data...\n",
      "[nltk_data]   Package averaged_perceptron_tagger is already up-to-\n",
      "[nltk_data]       date!\n",
      "[nltk_data] Downloading package maxent_ne_chunker to\n",
      "[nltk_data]     C:\\Users\\coraj\\AppData\\Roaming\\nltk_data...\n",
      "[nltk_data]   Package maxent_ne_chunker is already up-to-date!\n",
      "[nltk_data] Downloading package words to\n",
      "[nltk_data]     C:\\Users\\coraj\\AppData\\Roaming\\nltk_data...\n",
      "[nltk_data]   Package words is already up-to-date!\n"
     ]
    },
    {
     "data": {
      "text/plain": [
       "True"
      ]
     },
     "execution_count": 115,
     "metadata": {},
     "output_type": "execute_result"
    }
   ],
   "source": [
    "nltk.download('punkt')\n",
    "nltk.download('averaged_perceptron_tagger')\n",
    "nltk.download('maxent_ne_chunker')\n",
    "nltk.download('words')"
   ]
  },
  {
   "cell_type": "code",
   "execution_count": 116,
   "metadata": {},
   "outputs": [
    {
     "data": {
      "text/plain": [
       "[('Excellent', 'JJ'), ('product', 'NN'), ('!', '.')]"
      ]
     },
     "execution_count": 116,
     "metadata": {},
     "output_type": "execute_result"
    }
   ],
   "source": [
    "tagged = nltk.pos_tag(tokens)\n",
    "tagged[:10]"
   ]
  },
  {
   "cell_type": "code",
   "execution_count": 117,
   "metadata": {},
   "outputs": [
    {
     "name": "stdout",
     "output_type": "stream",
     "text": [
      "(S Excellent/JJ product/NN !/.)\n"
     ]
    }
   ],
   "source": [
    "entities = nltk.chunk.ne_chunk(tagged)\n",
    "entities.pprint()"
   ]
  },
  {
   "cell_type": "code",
   "execution_count": 118,
   "metadata": {},
   "outputs": [
    {
     "data": {
      "text/html": [
       "<div>\n",
       "<style scoped>\n",
       "    .dataframe tbody tr th:only-of-type {\n",
       "        vertical-align: middle;\n",
       "    }\n",
       "\n",
       "    .dataframe tbody tr th {\n",
       "        vertical-align: top;\n",
       "    }\n",
       "\n",
       "    .dataframe thead th {\n",
       "        text-align: right;\n",
       "    }\n",
       "</style>\n",
       "<table border=\"1\" class=\"dataframe\">\n",
       "  <thead>\n",
       "    <tr style=\"text-align: right;\">\n",
       "      <th></th>\n",
       "      <th>asin</th>\n",
       "      <th>overall</th>\n",
       "    </tr>\n",
       "  </thead>\n",
       "  <tbody>\n",
       "    <tr>\n",
       "      <th>0</th>\n",
       "      <td>0764443682</td>\n",
       "      <td>5.000000</td>\n",
       "    </tr>\n",
       "    <tr>\n",
       "      <th>1</th>\n",
       "      <td>1291691480</td>\n",
       "      <td>5.000000</td>\n",
       "    </tr>\n",
       "    <tr>\n",
       "      <th>2</th>\n",
       "      <td>1940280001</td>\n",
       "      <td>5.000000</td>\n",
       "    </tr>\n",
       "    <tr>\n",
       "      <th>3</th>\n",
       "      <td>1940735033</td>\n",
       "      <td>4.857143</td>\n",
       "    </tr>\n",
       "    <tr>\n",
       "      <th>4</th>\n",
       "      <td>1940967805</td>\n",
       "      <td>5.000000</td>\n",
       "    </tr>\n",
       "    <tr>\n",
       "      <th>...</th>\n",
       "      <td>...</td>\n",
       "      <td>...</td>\n",
       "    </tr>\n",
       "    <tr>\n",
       "      <th>186184</th>\n",
       "      <td>B01HJGXL4O</td>\n",
       "      <td>5.000000</td>\n",
       "    </tr>\n",
       "    <tr>\n",
       "      <th>186185</th>\n",
       "      <td>B01HJGZVYW</td>\n",
       "      <td>4.000000</td>\n",
       "    </tr>\n",
       "    <tr>\n",
       "      <th>186186</th>\n",
       "      <td>B01HJH7JY6</td>\n",
       "      <td>5.000000</td>\n",
       "    </tr>\n",
       "    <tr>\n",
       "      <th>186187</th>\n",
       "      <td>B01HJHF97K</td>\n",
       "      <td>3.000000</td>\n",
       "    </tr>\n",
       "    <tr>\n",
       "      <th>186188</th>\n",
       "      <td>B01HJHTH5U</td>\n",
       "      <td>4.625000</td>\n",
       "    </tr>\n",
       "  </tbody>\n",
       "</table>\n",
       "<p>186189 rows × 2 columns</p>\n",
       "</div>"
      ],
      "text/plain": [
       "              asin   overall\n",
       "0       0764443682  5.000000\n",
       "1       1291691480  5.000000\n",
       "2       1940280001  5.000000\n",
       "3       1940735033  4.857143\n",
       "4       1940967805  5.000000\n",
       "...            ...       ...\n",
       "186184  B01HJGXL4O  5.000000\n",
       "186185  B01HJGZVYW  4.000000\n",
       "186186  B01HJH7JY6  5.000000\n",
       "186187  B01HJHF97K  3.000000\n",
       "186188  B01HJHTH5U  4.625000\n",
       "\n",
       "[186189 rows x 2 columns]"
      ]
     },
     "execution_count": 118,
     "metadata": {},
     "output_type": "execute_result"
    }
   ],
   "source": [
    "overall_mean = df.groupby('asin')['overall'].mean().reset_index()\n",
    "overall_mean\n",
    "# num_asin_values = df_meta['asin'].nunique()\n",
    "# num_asin_values"
   ]
  },
  {
   "cell_type": "code",
   "execution_count": 119,
   "metadata": {},
   "outputs": [],
   "source": [
    "df_meta['id']=[i for i in range(0,df_meta.shape[0])]"
   ]
  },
  {
   "cell_type": "markdown",
   "metadata": {},
   "source": [
    "reducimos el tama;o total de las muestras a fin de procesar mas rapido"
   ]
  },
  {
   "cell_type": "code",
   "execution_count": 120,
   "metadata": {},
   "outputs": [],
   "source": [
    "df_meta_cortado = df_meta.head(1000)"
   ]
  },
  {
   "cell_type": "code",
   "execution_count": 121,
   "metadata": {},
   "outputs": [],
   "source": [
    "from sklearn.feature_extraction.text import TfidfVectorizer\n",
    "\n",
    "vec = TfidfVectorizer()\n"
   ]
  },
  {
   "cell_type": "code",
   "execution_count": 159,
   "metadata": {},
   "outputs": [],
   "source": [
    "import skfuzzy as fuzz"
   ]
  },
  {
   "cell_type": "code",
   "execution_count": 164,
   "metadata": {},
   "outputs": [
    {
     "data": {
      "text/plain": [
       "(1000, 4729)"
      ]
     },
     "execution_count": 164,
     "metadata": {},
     "output_type": "execute_result"
    }
   ],
   "source": [
    "vecs = vec.fit_transform(df_meta_cortado['combined_text'].apply(lambda x: np.str_(x)))\n",
    "vecs.shape"
   ]
  },
  {
   "cell_type": "code",
   "execution_count": 165,
   "metadata": {},
   "outputs": [],
   "source": [
    "from sklearn.metrics.pairwise import cosine_similarity"
   ]
  },
  {
   "cell_type": "code",
   "execution_count": 166,
   "metadata": {},
   "outputs": [
    {
     "data": {
      "text/plain": [
       "array([[1.        , 0.00457813, 0.05680882, ..., 0.03664615, 0.00384476,\n",
       "        0.00273318],\n",
       "       [0.00457813, 1.        , 0.        , ..., 0.        , 0.00984572,\n",
       "        0.00699916],\n",
       "       [0.05680882, 0.        , 1.        , ..., 0.02968493, 0.02942811,\n",
       "        0.        ],\n",
       "       ...,\n",
       "       [0.03664615, 0.        , 0.02968493, ..., 1.        , 0.        ,\n",
       "        0.        ],\n",
       "       [0.00384476, 0.00984572, 0.02942811, ..., 0.        , 1.        ,\n",
       "        0.00587797],\n",
       "       [0.00273318, 0.00699916, 0.        , ..., 0.        , 0.00587797,\n",
       "        1.        ]])"
      ]
     },
     "execution_count": 166,
     "metadata": {},
     "output_type": "execute_result"
    }
   ],
   "source": [
    "similaridad = cosine_similarity(vecs)\n",
    "similaridad"
   ]
  },
  {
   "cell_type": "code",
   "execution_count": 125,
   "metadata": {},
   "outputs": [
    {
     "data": {
      "text/html": [
       "<div>\n",
       "<style scoped>\n",
       "    .dataframe tbody tr th:only-of-type {\n",
       "        vertical-align: middle;\n",
       "    }\n",
       "\n",
       "    .dataframe tbody tr th {\n",
       "        vertical-align: top;\n",
       "    }\n",
       "\n",
       "    .dataframe thead th {\n",
       "        text-align: right;\n",
       "    }\n",
       "</style>\n",
       "<table border=\"1\" class=\"dataframe\">\n",
       "  <thead>\n",
       "    <tr style=\"text-align: right;\">\n",
       "      <th></th>\n",
       "      <th>title</th>\n",
       "      <th>brand</th>\n",
       "      <th>feature</th>\n",
       "      <th>rank</th>\n",
       "      <th>date</th>\n",
       "      <th>asin</th>\n",
       "      <th>imageURL</th>\n",
       "      <th>imageURLHighRes</th>\n",
       "      <th>description</th>\n",
       "      <th>price</th>\n",
       "      <th>also_view</th>\n",
       "      <th>also_buy</th>\n",
       "      <th>fit</th>\n",
       "      <th>details</th>\n",
       "      <th>similar_item</th>\n",
       "      <th>tech1</th>\n",
       "      <th>combined_text</th>\n",
       "      <th>id</th>\n",
       "    </tr>\n",
       "  </thead>\n",
       "  <tbody>\n",
       "    <tr>\n",
       "      <th>0</th>\n",
       "      <td>Slime Time Fall Fest [With CDROM and Collector...</td>\n",
       "      <td>Group Publishing (CO)</td>\n",
       "      <td>[Product Dimensions:\\n                    \\n8....</td>\n",
       "      <td>13,052,976inClothing,Shoesamp;Jewelry(</td>\n",
       "      <td>8.70 inches</td>\n",
       "      <td>0764443682</td>\n",
       "      <td>[https://images-na.ssl-images-amazon.com/image...</td>\n",
       "      <td>[https://images-na.ssl-images-amazon.com/image...</td>\n",
       "      <td>NaN</td>\n",
       "      <td>NaN</td>\n",
       "      <td>NaN</td>\n",
       "      <td>NaN</td>\n",
       "      <td>NaN</td>\n",
       "      <td>NaN</td>\n",
       "      <td>NaN</td>\n",
       "      <td>NaN</td>\n",
       "      <td>Slime Time Fall Fest [With CDROM and Collector...</td>\n",
       "      <td>0</td>\n",
       "    </tr>\n",
       "    <tr>\n",
       "      <th>1</th>\n",
       "      <td>XCC Qi promise new spider snake preparing men'...</td>\n",
       "      <td>NaN</td>\n",
       "      <td>NaN</td>\n",
       "      <td>11,654,581inClothing,Shoesamp;Jewelry(</td>\n",
       "      <td>5 star</td>\n",
       "      <td>1291691480</td>\n",
       "      <td>[https://images-na.ssl-images-amazon.com/image...</td>\n",
       "      <td>[https://images-na.ssl-images-amazon.com/image...</td>\n",
       "      <td>NaN</td>\n",
       "      <td>NaN</td>\n",
       "      <td>NaN</td>\n",
       "      <td>NaN</td>\n",
       "      <td>NaN</td>\n",
       "      <td>NaN</td>\n",
       "      <td>NaN</td>\n",
       "      <td>NaN</td>\n",
       "      <td>XCC Qi promise new spider snake preparing men'...</td>\n",
       "      <td>1</td>\n",
       "    </tr>\n",
       "  </tbody>\n",
       "</table>\n",
       "</div>"
      ],
      "text/plain": [
       "                                               title                  brand  \\\n",
       "0  Slime Time Fall Fest [With CDROM and Collector...  Group Publishing (CO)   \n",
       "1  XCC Qi promise new spider snake preparing men'...                    NaN   \n",
       "\n",
       "                                             feature  \\\n",
       "0  [Product Dimensions:\\n                    \\n8....   \n",
       "1                                                NaN   \n",
       "\n",
       "                                     rank         date        asin  \\\n",
       "0  13,052,976inClothing,Shoesamp;Jewelry(  8.70 inches  0764443682   \n",
       "1  11,654,581inClothing,Shoesamp;Jewelry(       5 star  1291691480   \n",
       "\n",
       "                                            imageURL  \\\n",
       "0  [https://images-na.ssl-images-amazon.com/image...   \n",
       "1  [https://images-na.ssl-images-amazon.com/image...   \n",
       "\n",
       "                                     imageURLHighRes description price  \\\n",
       "0  [https://images-na.ssl-images-amazon.com/image...         NaN   NaN   \n",
       "1  [https://images-na.ssl-images-amazon.com/image...         NaN   NaN   \n",
       "\n",
       "  also_view also_buy  fit details similar_item tech1  \\\n",
       "0       NaN      NaN  NaN     NaN          NaN   NaN   \n",
       "1       NaN      NaN  NaN     NaN          NaN   NaN   \n",
       "\n",
       "                                       combined_text  id  \n",
       "0  Slime Time Fall Fest [With CDROM and Collector...   0  \n",
       "1  XCC Qi promise new spider snake preparing men'...   1  "
      ]
     },
     "execution_count": 125,
     "metadata": {},
     "output_type": "execute_result"
    }
   ],
   "source": [
    "df_meta_cortado.head(2)"
   ]
  },
  {
   "cell_type": "code",
   "execution_count": 203,
   "metadata": {},
   "outputs": [],
   "source": [
    "def fuzzificar(min, max, valor):\n",
    "    intervalo = (max - min) / 4\n",
    "\n",
    "    if valor < min + intervalo:\n",
    "        return \"pesimo\"\n",
    "    elif valor < min + 2 * intervalo:\n",
    "        return \"normal\"\n",
    "    elif valor < min + 3 * intervalo:\n",
    "        return \"bueno\"\n",
    "    else:\n",
    "        return \"excelente\""
   ]
  },
  {
   "cell_type": "code",
   "execution_count": 205,
   "metadata": {},
   "outputs": [],
   "source": [
    "def recommend(asin):\n",
    "    item_id = df_meta_cortado[df_meta_cortado.asin == asin]['id'].values[0]\n",
    "    scores = list(enumerate(similaridad[item_id]))\n",
    "    sorted_scores = sorted(scores, key=lambda x:x[1], reverse=True)\n",
    "    # si score es mayor o igual a 1 entonces se elimina de la lista\n",
    "    scores_no_1 = [i for i in sorted_scores if i[1]<1]\n",
    "    # fuzzificar el score\n",
    "    scores_no_1 = [(score[0], fuzzificar(scores_no_1[0][1], scores_no_1[-1][1], score[1])) for score in scores_no_1]\n",
    "    print(scores_no_1)\n",
    "\n",
    "    # sorted_scores=sorted_scores[1:]\n",
    "    items_selected=[df_meta_cortado[items_selected[0]==df_meta_cortado['id']]['asin'].values[0] for items_selected in scores_no_1]\n",
    "    return items_selected, scores_no_1"
   ]
  },
  {
   "cell_type": "code",
   "execution_count": 206,
   "metadata": {},
   "outputs": [
    {
     "name": "stdout",
     "output_type": "stream",
     "text": [
      "[(297, 'excelente'), (309, 'excelente'), (298, 'excelente'), (586, 'pesimo'), (59, 'pesimo'), (137, 'pesimo'), (691, 'pesimo'), (114, 'pesimo'), (692, 'pesimo'), (112, 'pesimo'), (119, 'pesimo'), (329, 'pesimo'), (933, 'pesimo'), (511, 'pesimo'), (39, 'pesimo'), (665, 'pesimo'), (138, 'pesimo'), (26, 'pesimo'), (476, 'pesimo'), (882, 'pesimo'), (720, 'pesimo'), (339, 'pesimo'), (987, 'pesimo'), (950, 'pesimo'), (36, 'pesimo'), (850, 'pesimo'), (0, 'pesimo'), (519, 'pesimo'), (200, 'pesimo'), (49, 'pesimo'), (56, 'pesimo'), (995, 'pesimo'), (228, 'pesimo'), (435, 'pesimo'), (438, 'pesimo'), (883, 'pesimo'), (538, 'pesimo'), (449, 'pesimo'), (154, 'pesimo'), (582, 'pesimo'), (201, 'pesimo'), (113, 'pesimo'), (308, 'pesimo'), (504, 'pesimo'), (479, 'pesimo'), (217, 'pesimo'), (481, 'pesimo'), (508, 'pesimo'), (640, 'pesimo'), (899, 'pesimo'), (982, 'pesimo'), (737, 'pesimo'), (357, 'pesimo'), (90, 'pesimo'), (875, 'pesimo'), (304, 'pesimo'), (282, 'pesimo'), (439, 'pesimo'), (391, 'pesimo'), (584, 'pesimo'), (280, 'pesimo'), (135, 'pesimo'), (393, 'pesimo'), (394, 'pesimo'), (962, 'pesimo'), (567, 'pesimo'), (68, 'pesimo'), (326, 'pesimo'), (212, 'pesimo'), (886, 'pesimo'), (281, 'pesimo'), (242, 'pesimo'), (20, 'pesimo'), (887, 'pesimo'), (892, 'pesimo'), (757, 'pesimo'), (244, 'pesimo'), (40, 'pesimo'), (819, 'pesimo'), (364, 'pesimo'), (210, 'pesimo'), (9, 'pesimo'), (351, 'pesimo'), (893, 'pesimo'), (88, 'pesimo'), (639, 'pesimo'), (879, 'pesimo'), (74, 'pesimo'), (849, 'pesimo'), (432, 'pesimo'), (356, 'pesimo'), (878, 'pesimo'), (381, 'pesimo'), (645, 'pesimo'), (453, 'pesimo'), (764, 'pesimo'), (209, 'pesimo'), (847, 'pesimo'), (763, 'pesimo'), (540, 'pesimo'), (927, 'pesimo'), (550, 'pesimo'), (35, 'pesimo'), (448, 'pesimo'), (977, 'pesimo'), (713, 'pesimo'), (512, 'pesimo'), (380, 'pesimo'), (941, 'pesimo'), (431, 'pesimo'), (433, 'pesimo'), (718, 'pesimo'), (634, 'pesimo'), (199, 'pesimo'), (583, 'pesimo'), (566, 'pesimo'), (85, 'pesimo'), (888, 'pesimo'), (544, 'pesimo'), (392, 'pesimo'), (389, 'pesimo'), (390, 'pesimo'), (698, 'pesimo'), (852, 'pesimo'), (37, 'pesimo'), (434, 'pesimo'), (349, 'pesimo'), (507, 'pesimo'), (908, 'pesimo'), (365, 'pesimo'), (122, 'pesimo'), (729, 'pesimo'), (533, 'pesimo'), (167, 'pesimo'), (46, 'pesimo'), (374, 'pesimo'), (149, 'pesimo'), (452, 'pesimo'), (170, 'pesimo'), (283, 'pesimo'), (156, 'pesimo'), (183, 'pesimo'), (931, 'pesimo'), (241, 'pesimo'), (505, 'pesimo'), (545, 'pesimo'), (375, 'pesimo'), (376, 'pesimo'), (355, 'pesimo'), (289, 'pesimo'), (497, 'pesimo'), (921, 'pesimo'), (986, 'pesimo'), (345, 'pesimo'), (411, 'pesimo'), (363, 'pesimo'), (576, 'pesimo'), (64, 'pesimo'), (697, 'pesimo'), (347, 'pesimo'), (936, 'pesimo'), (851, 'pesimo'), (65, 'pesimo'), (922, 'pesimo'), (934, 'pesimo'), (78, 'pesimo'), (985, 'pesimo'), (63, 'pesimo'), (700, 'pesimo'), (371, 'pesimo'), (543, 'pesimo'), (738, 'pesimo'), (325, 'pesimo'), (842, 'pesimo'), (229, 'pesimo'), (121, 'pesimo'), (164, 'pesimo'), (116, 'pesimo'), (96, 'pesimo'), (169, 'pesimo'), (735, 'pesimo'), (166, 'pesimo'), (541, 'pesimo'), (44, 'pesimo'), (491, 'pesimo'), (441, 'pesimo'), (5, 'pesimo'), (399, 'pesimo'), (565, 'pesimo'), (43, 'pesimo'), (896, 'pesimo'), (488, 'pesimo'), (631, 'pesimo'), (102, 'pesimo'), (948, 'pesimo'), (172, 'pesimo'), (160, 'pesimo'), (93, 'pesimo'), (687, 'pesimo'), (795, 'pesimo'), (542, 'pesimo'), (485, 'pesimo'), (831, 'pesimo'), (526, 'pesimo'), (328, 'pesimo'), (523, 'pesimo'), (489, 'pesimo'), (498, 'pesimo'), (302, 'pesimo'), (580, 'pesimo'), (97, 'pesimo'), (84, 'pesimo'), (973, 'pesimo'), (79, 'pesimo'), (664, 'pesimo'), (292, 'pesimo'), (502, 'pesimo'), (774, 'pesimo'), (87, 'pesimo'), (501, 'pesimo'), (633, 'pesimo'), (92, 'pesimo'), (499, 'pesimo'), (575, 'pesimo'), (490, 'pesimo'), (581, 'pesimo'), (846, 'pesimo'), (80, 'pesimo'), (516, 'pesimo'), (82, 'pesimo'), (917, 'pesimo'), (86, 'pesimo'), (10, 'pesimo'), (416, 'pesimo'), (535, 'pesimo'), (81, 'pesimo'), (83, 'pesimo'), (577, 'pesimo'), (797, 'pesimo'), (524, 'pesimo'), (534, 'pesimo'), (925, 'pesimo'), (500, 'pesimo'), (335, 'pesimo'), (897, 'pesimo'), (563, 'pesimo'), (890, 'pesimo'), (546, 'pesimo'), (564, 'pesimo'), (89, 'pesimo'), (239, 'pesimo'), (251, 'pesimo'), (702, 'pesimo'), (779, 'pesimo'), (487, 'pesimo'), (813, 'pesimo'), (853, 'pesimo'), (6, 'pesimo'), (723, 'pesimo'), (384, 'pesimo'), (726, 'pesimo'), (727, 'pesimo'), (385, 'pesimo'), (336, 'pesimo'), (1, 'pesimo'), (520, 'pesimo'), (871, 'pesimo'), (742, 'pesimo'), (419, 'pesimo'), (547, 'pesimo'), (16, 'pesimo'), (960, 'pesimo'), (4, 'pesimo'), (573, 'pesimo'), (679, 'pesimo'), (676, 'pesimo'), (677, 'pesimo'), (681, 'pesimo'), (872, 'pesimo'), (761, 'pesimo'), (762, 'pesimo'), (140, 'pesimo'), (141, 'pesimo'), (142, 'pesimo'), (870, 'pesimo'), (859, 'pesimo'), (637, 'pesimo'), (651, 'pesimo'), (683, 'pesimo'), (537, 'pesimo'), (480, 'pesimo'), (609, 'pesimo'), (402, 'pesimo'), (110, 'pesimo'), (420, 'pesimo'), (473, 'pesimo'), (780, 'pesimo'), (622, 'pesimo'), (612, 'pesimo'), (513, 'pesimo'), (417, 'pesimo'), (615, 'pesimo'), (621, 'pesimo'), (885, 'pesimo'), (395, 'pesimo'), (396, 'pesimo'), (693, 'pesimo'), (965, 'pesimo'), (972, 'pesimo'), (613, 'pesimo'), (620, 'pesimo'), (623, 'pesimo'), (625, 'pesimo'), (628, 'pesimo'), (253, 'pesimo'), (423, 'pesimo'), (705, 'pesimo'), (478, 'pesimo'), (998, 'pesimo'), (610, 'pesimo'), (773, 'pesimo'), (616, 'pesimo'), (618, 'pesimo'), (649, 'pesimo'), (589, 'pesimo'), (662, 'pesimo'), (976, 'pesimo'), (585, 'pesimo'), (418, 'pesimo'), (816, 'pesimo'), (680, 'pesimo'), (611, 'pesimo'), (957, 'pesimo'), (559, 'pesimo'), (835, 'pesimo'), (41, 'pesimo'), (51, 'pesimo'), (694, 'pesimo'), (238, 'pesimo'), (760, 'pesimo'), (34, 'pesimo'), (123, 'pesimo'), (834, 'pesimo'), (514, 'pesimo'), (889, 'pesimo'), (902, 'pesimo'), (801, 'pesimo'), (695, 'pesimo'), (825, 'pesimo'), (53, 'pesimo'), (766, 'pesimo'), (54, 'pesimo'), (900, 'pesimo'), (574, 'pesimo'), (398, 'pesimo'), (225, 'pesimo'), (709, 'pesimo'), (769, 'pesimo'), (296, 'pesimo'), (604, 'pesimo'), (599, 'pesimo'), (739, 'pesimo'), (469, 'pesimo'), (108, 'pesimo'), (463, 'pesimo'), (468, 'pesimo'), (503, 'pesimo'), (107, 'pesimo'), (106, 'pesimo'), (472, 'pesimo'), (470, 'pesimo'), (725, 'pesimo'), (827, 'pesimo'), (344, 'pesimo'), (477, 'pesimo'), (314, 'pesimo'), (22, 'pesimo'), (830, 'pesimo'), (50, 'pesimo'), (975, 'pesimo'), (838, 'pesimo'), (158, 'pesimo'), (510, 'pesimo'), (630, 'pesimo'), (828, 'pesimo'), (938, 'pesimo'), (953, 'pesimo'), (95, 'pesimo'), (704, 'pesimo'), (624, 'pesimo'), (366, 'pesimo'), (475, 'pesimo'), (568, 'pesimo'), (197, 'pesimo'), (955, 'pesimo'), (684, 'pesimo'), (744, 'pesimo'), (810, 'pesimo'), (721, 'pesimo'), (824, 'pesimo'), (120, 'pesimo'), (421, 'pesimo'), (626, 'pesimo'), (73, 'pesimo'), (949, 'pesimo'), (952, 'pesimo'), (25, 'pesimo'), (629, 'pesimo'), (724, 'pesimo'), (792, 'pesimo'), (788, 'pesimo'), (912, 'pesimo'), (66, 'pesimo'), (918, 'pesimo'), (716, 'pesimo'), (717, 'pesimo'), (641, 'pesimo'), (954, 'pesimo'), (47, 'pesimo'), (980, 'pesimo'), (31, 'pesimo'), (596, 'pesimo'), (240, 'pesimo'), (62, 'pesimo'), (791, 'pesimo'), (821, 'pesimo'), (75, 'pesimo'), (77, 'pesimo'), (881, 'pesimo'), (981, 'pesimo'), (826, 'pesimo'), (205, 'pesimo'), (898, 'pesimo'), (127, 'pesimo'), (436, 'pesimo'), (627, 'pesimo'), (951, 'pesimo'), (29, 'pesimo'), (560, 'pesimo'), (52, 'pesimo'), (614, 'pesimo'), (619, 'pesimo'), (532, 'pesimo'), (592, 'pesimo'), (232, 'pesimo'), (321, 'pesimo'), (397, 'pesimo'), (266, 'pesimo'), (814, 'pesimo'), (643, 'pesimo'), (290, 'pesimo'), (657, 'pesimo'), (94, 'pesimo'), (76, 'pesimo'), (966, 'pesimo'), (58, 'pesimo'), (910, 'pesimo'), (21, 'pesimo'), (400, 'pesimo'), (71, 'pesimo'), (139, 'pesimo'), (159, 'pesimo'), (796, 'pesimo'), (749, 'pesimo'), (55, 'pesimo'), (758, 'pesimo'), (969, 'pesimo'), (286, 'pesimo'), (714, 'pesimo'), (840, 'pesimo'), (72, 'pesimo'), (67, 'pesimo'), (971, 'pesimo'), (48, 'pesimo'), (790, 'pesimo'), (111, 'pesimo'), (745, 'pesimo'), (597, 'pesimo'), (734, 'pesimo'), (658, 'pesimo'), (303, 'pesimo'), (467, 'pesimo'), (408, 'pesimo'), (937, 'pesimo'), (593, 'pesimo'), (648, 'pesimo'), (276, 'pesimo'), (722, 'pesimo'), (747, 'pesimo'), (823, 'pesimo'), (970, 'pesimo'), (354, 'pesimo'), (905, 'pesimo'), (746, 'pesimo'), (909, 'pesimo'), (656, 'pesimo'), (377, 'pesimo'), (522, 'pesimo'), (686, 'pesimo'), (932, 'pesimo'), (403, 'pesimo'), (536, 'pesimo'), (710, 'pesimo'), (923, 'pesimo'), (157, 'pesimo'), (237, 'pesimo'), (653, 'pesimo'), (313, 'pesimo'), (30, 'pesimo'), (310, 'pesimo'), (305, 'pesimo'), (770, 'pesimo'), (817, 'pesimo'), (548, 'pesimo'), (165, 'pesimo'), (440, 'pesimo'), (517, 'pesimo'), (28, 'pesimo'), (857, 'pesimo'), (465, 'pesimo'), (736, 'pesimo'), (924, 'pesimo'), (919, 'pesimo'), (733, 'pesimo'), (320, 'pesimo'), (999, 'pesimo'), (844, 'pesimo'), (506, 'pesimo'), (636, 'pesimo'), (991, 'pesimo'), (307, 'pesimo'), (841, 'pesimo'), (301, 'pesimo'), (211, 'pesimo'), (748, 'pesimo'), (32, 'pesimo'), (781, 'pesimo'), (895, 'pesimo'), (911, 'pesimo'), (442, 'pesimo'), (845, 'pesimo'), (24, 'pesimo'), (171, 'pesimo'), (916, 'pesimo'), (295, 'pesimo'), (689, 'pesimo'), (904, 'pesimo'), (914, 'pesimo'), (42, 'pesimo'), (312, 'pesimo'), (61, 'pesimo'), (956, 'pesimo'), (929, 'pesimo'), (311, 'pesimo'), (771, 'pesimo'), (891, 'pesimo'), (428, 'pesimo'), (33, 'pesimo'), (913, 'pesimo'), (935, 'pesimo'), (443, 'pesimo'), (989, 'pesimo'), (655, 'pesimo'), (404, 'pesimo'), (685, 'pesimo'), (353, 'pesimo'), (388, 'pesimo'), (750, 'pesimo'), (45, 'pesimo'), (672, 'pesimo'), (300, 'pesimo'), (60, 'pesimo'), (854, 'pesimo'), (837, 'pesimo'), (590, 'pesimo'), (663, 'pesimo'), (151, 'pesimo'), (711, 'pesimo'), (930, 'pesimo'), (168, 'pesimo'), (101, 'pesimo'), (712, 'pesimo'), (495, 'pesimo'), (755, 'pesimo'), (7, 'pesimo'), (464, 'pesimo'), (701, 'pesimo'), (591, 'pesimo'), (494, 'pesimo'), (992, 'pesimo'), (316, 'pesimo'), (98, 'pesimo'), (549, 'pesimo'), (496, 'pesimo'), (669, 'pesimo'), (660, 'pesimo'), (942, 'pesimo'), (644, 'pesimo'), (848, 'pesimo'), (990, 'pesimo'), (988, 'pesimo'), (319, 'pesimo'), (315, 'pesimo'), (926, 'pesimo'), (337, 'pesimo'), (227, 'pesimo'), (943, 'pesimo'), (944, 'pesimo'), (263, 'pesimo'), (832, 'pesimo'), (444, 'pesimo'), (675, 'pesimo'), (984, 'pesimo'), (996, 'pesimo'), (350, 'pesimo'), (19, 'pesimo'), (983, 'pesimo'), (979, 'pesimo'), (173, 'pesimo'), (207, 'pesimo'), (8, 'pesimo'), (587, 'pesimo'), (767, 'pesimo'), (174, 'pesimo'), (27, 'pesimo'), (150, 'pesimo'), (386, 'pesimo'), (348, 'pesimo'), (968, 'pesimo'), (671, 'pesimo'), (579, 'pesimo'), (445, 'pesimo'), (146, 'pesimo'), (486, 'pesimo'), (794, 'pesimo'), (3, 'pesimo'), (23, 'pesimo'), (571, 'pesimo'), (907, 'pesimo'), (906, 'pesimo'), (920, 'pesimo'), (670, 'pesimo'), (284, 'pesimo'), (595, 'pesimo'), (245, 'pesimo'), (387, 'pesimo'), (182, 'pesimo'), (915, 'pesimo'), (15, 'pesimo'), (867, 'pesimo'), (798, 'pesimo'), (552, 'pesimo'), (688, 'pesimo'), (143, 'pesimo'), (557, 'pesimo'), (518, 'pesimo'), (144, 'pesimo'), (38, 'pesimo'), (707, 'pesimo'), (800, 'pesimo'), (515, 'pesimo'), (558, 'pesimo'), (928, 'pesimo'), (650, 'pesimo'), (236, 'pesimo'), (14, 'pesimo'), (940, 'pesimo'), (145, 'pesimo'), (179, 'pesimo'), (661, 'pesimo'), (13, 'pesimo'), (690, 'pesimo'), (839, 'pesimo'), (368, 'pesimo'), (352, 'pesimo'), (959, 'pesimo'), (820, 'pesimo'), (903, 'pesimo'), (180, 'pesimo'), (756, 'pesimo'), (175, 'pesimo'), (799, 'pesimo'), (382, 'pesimo'), (176, 'pesimo'), (256, 'pesimo'), (327, 'pesimo'), (260, 'pesimo'), (562, 'pesimo'), (807, 'pesimo'), (554, 'pesimo'), (358, 'pesimo'), (414, 'pesimo'), (324, 'pesimo'), (230, 'pesimo'), (555, 'pesimo'), (341, 'pesimo'), (57, 'pesimo'), (184, 'pesimo'), (964, 'pesimo'), (204, 'pesimo'), (195, 'pesimo'), (70, 'pesimo'), (437, 'pesimo'), (598, 'pesimo'), (272, 'pesimo'), (787, 'pesimo'), (732, 'pesimo'), (783, 'pesimo'), (531, 'pesimo'), (556, 'pesimo'), (963, 'pesimo'), (202, 'pesimo'), (553, 'pesimo'), (271, 'pesimo'), (466, 'pesimo'), (269, 'pesimo'), (203, 'pesimo'), (876, 'pesimo'), (673, 'pesimo'), (668, 'pesimo'), (843, 'pesimo'), (836, 'pesimo'), (346, 'pesimo'), (178, 'pesimo'), (177, 'pesimo'), (855, 'pesimo'), (752, 'pesimo'), (751, 'pesimo'), (208, 'pesimo'), (858, 'pesimo'), (728, 'pesimo'), (91, 'pesimo'), (551, 'pesimo'), (359, 'pesimo'), (678, 'pesimo'), (181, 'pesimo'), (642, 'pesimo'), (427, 'pesimo'), (401, 'pesimo'), (118, 'pesimo'), (362, 'pesimo'), (115, 'pesimo'), (361, 'pesimo'), (360, 'pesimo'), (370, 'pesimo'), (772, 'pesimo'), (775, 'pesimo'), (958, 'pesimo'), (861, 'pesimo'), (860, 'pesimo'), (863, 'pesimo'), (635, 'pesimo'), (784, 'pesimo'), (901, 'pesimo'), (715, 'pesimo'), (786, 'pesimo'), (865, 'pesimo'), (862, 'pesimo'), (864, 'pesimo'), (994, 'pesimo'), (674, 'pesimo'), (224, 'pesimo'), (815, 'pesimo'), (945, 'pesimo'), (322, 'pesimo'), (946, 'pesimo'), (2, 'pesimo'), (11, 'pesimo'), (12, 'pesimo'), (17, 'pesimo'), (18, 'pesimo'), (69, 'pesimo'), (99, 'pesimo'), (100, 'pesimo'), (103, 'pesimo'), (104, 'pesimo'), (105, 'pesimo'), (109, 'pesimo'), (117, 'pesimo'), (124, 'pesimo'), (125, 'pesimo'), (126, 'pesimo'), (128, 'pesimo'), (129, 'pesimo'), (130, 'pesimo'), (131, 'pesimo'), (132, 'pesimo'), (133, 'pesimo'), (134, 'pesimo'), (136, 'pesimo'), (147, 'pesimo'), (148, 'pesimo'), (152, 'pesimo'), (153, 'pesimo'), (155, 'pesimo'), (161, 'pesimo'), (162, 'pesimo'), (163, 'pesimo'), (185, 'pesimo'), (186, 'pesimo'), (187, 'pesimo'), (188, 'pesimo'), (189, 'pesimo'), (190, 'pesimo'), (191, 'pesimo'), (192, 'pesimo'), (193, 'pesimo'), (194, 'pesimo'), (196, 'pesimo'), (198, 'pesimo'), (206, 'pesimo'), (213, 'pesimo'), (214, 'pesimo'), (215, 'pesimo'), (216, 'pesimo'), (218, 'pesimo'), (219, 'pesimo'), (220, 'pesimo'), (221, 'pesimo'), (222, 'pesimo'), (223, 'pesimo'), (226, 'pesimo'), (231, 'pesimo'), (233, 'pesimo'), (234, 'pesimo'), (235, 'pesimo'), (243, 'pesimo'), (246, 'pesimo'), (247, 'pesimo'), (248, 'pesimo'), (249, 'pesimo'), (250, 'pesimo'), (252, 'pesimo'), (254, 'pesimo'), (255, 'pesimo'), (257, 'pesimo'), (258, 'pesimo'), (259, 'pesimo'), (261, 'pesimo'), (262, 'pesimo'), (264, 'pesimo'), (265, 'pesimo'), (267, 'pesimo'), (268, 'pesimo'), (270, 'pesimo'), (273, 'pesimo'), (274, 'pesimo'), (275, 'pesimo'), (277, 'pesimo'), (278, 'pesimo'), (279, 'pesimo'), (285, 'pesimo'), (287, 'pesimo'), (288, 'pesimo'), (291, 'pesimo'), (293, 'pesimo'), (294, 'pesimo'), (306, 'pesimo'), (317, 'pesimo'), (318, 'pesimo'), (323, 'pesimo'), (330, 'pesimo'), (331, 'pesimo'), (332, 'pesimo'), (333, 'pesimo'), (334, 'pesimo'), (338, 'pesimo'), (340, 'pesimo'), (342, 'pesimo'), (343, 'pesimo'), (367, 'pesimo'), (369, 'pesimo'), (372, 'pesimo'), (373, 'pesimo'), (378, 'pesimo'), (379, 'pesimo'), (383, 'pesimo'), (405, 'pesimo'), (406, 'pesimo'), (407, 'pesimo'), (409, 'pesimo'), (410, 'pesimo'), (412, 'pesimo'), (413, 'pesimo'), (415, 'pesimo'), (422, 'pesimo'), (424, 'pesimo'), (425, 'pesimo'), (426, 'pesimo'), (429, 'pesimo'), (430, 'pesimo'), (446, 'pesimo'), (447, 'pesimo'), (450, 'pesimo'), (451, 'pesimo'), (454, 'pesimo'), (455, 'pesimo'), (456, 'pesimo'), (457, 'pesimo'), (458, 'pesimo'), (459, 'pesimo'), (460, 'pesimo'), (461, 'pesimo'), (462, 'pesimo'), (471, 'pesimo'), (474, 'pesimo'), (482, 'pesimo'), (483, 'pesimo'), (484, 'pesimo'), (492, 'pesimo'), (493, 'pesimo'), (509, 'pesimo'), (521, 'pesimo'), (525, 'pesimo'), (527, 'pesimo'), (528, 'pesimo'), (529, 'pesimo'), (530, 'pesimo'), (539, 'pesimo'), (561, 'pesimo'), (569, 'pesimo'), (570, 'pesimo'), (572, 'pesimo'), (578, 'pesimo'), (588, 'pesimo'), (594, 'pesimo'), (600, 'pesimo'), (601, 'pesimo'), (602, 'pesimo'), (603, 'pesimo'), (605, 'pesimo'), (606, 'pesimo'), (607, 'pesimo'), (608, 'pesimo'), (617, 'pesimo'), (632, 'pesimo'), (638, 'pesimo'), (646, 'pesimo'), (647, 'pesimo'), (652, 'pesimo'), (654, 'pesimo'), (659, 'pesimo'), (666, 'pesimo'), (667, 'pesimo'), (682, 'pesimo'), (696, 'pesimo'), (699, 'pesimo'), (703, 'pesimo'), (706, 'pesimo'), (708, 'pesimo'), (719, 'pesimo'), (730, 'pesimo'), (731, 'pesimo'), (740, 'pesimo'), (741, 'pesimo'), (743, 'pesimo'), (753, 'pesimo'), (754, 'pesimo'), (759, 'pesimo'), (765, 'pesimo'), (768, 'pesimo'), (776, 'pesimo'), (777, 'pesimo'), (778, 'pesimo'), (782, 'pesimo'), (785, 'pesimo'), (789, 'pesimo'), (793, 'pesimo'), (802, 'pesimo'), (803, 'pesimo'), (804, 'pesimo'), (805, 'pesimo'), (806, 'pesimo'), (808, 'pesimo'), (809, 'pesimo'), (811, 'pesimo'), (812, 'pesimo'), (818, 'pesimo'), (822, 'pesimo'), (829, 'pesimo'), (833, 'pesimo'), (856, 'pesimo'), (866, 'pesimo'), (868, 'pesimo'), (869, 'pesimo'), (873, 'pesimo'), (874, 'pesimo'), (877, 'pesimo'), (880, 'pesimo'), (884, 'pesimo'), (894, 'pesimo'), (939, 'pesimo'), (947, 'pesimo'), (961, 'pesimo'), (967, 'pesimo'), (974, 'pesimo'), (978, 'pesimo'), (993, 'pesimo'), (997, 'pesimo')]\n",
      "Item ID:  297\n",
      "Similarity Score:  excelente\n",
      "ASIN:  B0001NLH30\n",
      "\n",
      "\n",
      "Overall Mean:  4.0\n",
      "\n",
      "\n",
      "Item ID:  309\n",
      "Similarity Score:  excelente\n",
      "ASIN:  B0001NLHUS\n",
      "\n",
      "\n",
      "Overall Mean:  3.0\n",
      "\n",
      "\n"
     ]
    }
   ],
   "source": [
    "asins, similaridad_score = recommend('B0001NLGV8')\n",
    "\n",
    "for i in range(2):\n",
    "    print('Item ID: ',similaridad_score[i][0])\n",
    "    print('Similarity Score: ',similaridad_score[i][1])\n",
    "    print('ASIN: ',asins[i])\n",
    "    print('\\n')\n",
    "    # Busca el 'overall_mean' correspondiente al 'asin'\n",
    "    overall_mean_item = overall_mean.loc[overall_mean['asin'] == asins[i], 'overall'].values[0]\n",
    "    print('Overall Mean: ', overall_mean_item)\n",
    "    print('\\n')"
   ]
  },
  {
   "cell_type": "code",
   "execution_count": 200,
   "metadata": {},
   "outputs": [
    {
     "data": {
      "text/plain": [
       "(0.0, 0.35)"
      ]
     },
     "execution_count": 200,
     "metadata": {},
     "output_type": "execute_result"
    },
    {
     "data": {
      "image/png": "[encoded data removed]",
      "text/plain": [
       "<Figure size 1000x500 with 1 Axes>"
      ]
     },
     "metadata": {},
     "output_type": "display_data"
    }
   ],
   "source": [
    "scores_df = pd.DataFrame(similaridad_score, columns=['ItemID', 'Score'])\n",
    "ax = scores_df['Score'].plot.kde(title=\"Density of reviews by star\", figsize=(10, 5))\n",
    "ax.set_xlim(0, 0.35)"
   ]
  },
  {
   "cell_type": "code",
   "execution_count": 133,
   "metadata": {},
   "outputs": [
    {
     "name": "stdout",
     "output_type": "stream",
     "text": [
      "['B0001NLH30', 'B0001NLHUS', 'B0001NLH1C', 'B0006U8BPK', 'B00007AV0C', 'B0000BZZEM', 'B0007TBNOG', 'B0000A98WO', 'B0007TBMWO', 'B0000A98NK']\n",
      "         asin                       Score  overall\n",
      "0  B0001NLH30  (297, 0.35632088724547323)      4.0\n",
      "1  B0001NLHUS   (309, 0.3423792970309506)      3.0\n",
      "2  B0001NLH1C   (298, 0.3343886668301189)      1.0\n",
      "3  B0006U8BPK  (586, 0.22771284078989293)      5.0\n",
      "4  B00007AV0C   (59, 0.19598189626488433)      5.0\n",
      "5  B0000BZZEM  (137, 0.18819810977508622)      5.0\n",
      "6  B0007TBNOG  (691, 0.18080430618163593)      5.0\n",
      "7  B0000A98WO   (114, 0.1708513884718601)      4.0\n",
      "8  B0007TBMWO  (692, 0.17042984371019484)      5.0\n",
      "9  B0000A98NK  (112, 0.16339388396514157)      5.0\n"
     ]
    }
   ],
   "source": [
    "top_100_score = scores[:10]\n",
    "top_100_asin = asins[:10]\n",
    "\n",
    "print(top_100_asin)\n",
    "# Crear una lista de tuplas que contenga el ASIN, el score y el overall en el mismo orden\n",
    "data = list(zip(top_100_asin, top_100_score))\n",
    "\n",
    "# Crear un DataFrame a partir de los datos combinados\n",
    "df_result = pd.DataFrame(data, columns=['asin', 'Score'])\n",
    "\n",
    "# Realizar un join entre df_result y result usando la columna 'ASIN' como clave de unión\n",
    "final_result = pd.merge(df_result, overall_mean, on='asin')\n",
    "\n",
    "# Imprimir el resultado final\n",
    "print(final_result)\n"
   ]
  },
  {
   "cell_type": "code",
   "execution_count": 129,
   "metadata": {},
   "outputs": [
    {
     "name": "stdout",
     "output_type": "stream",
     "text": [
      "         asin                       Score  overall  \\\n",
      "0  B0001NLH30  (297, 0.35632088724547323)      4.0   \n",
      "1  B0001NLHUS   (309, 0.3423792970309506)      3.0   \n",
      "2  B0001NLH1C   (298, 0.3343886668301189)      1.0   \n",
      "3  B0006U8BPK  (586, 0.22771284078989293)      5.0   \n",
      "4  B00007AV0C   (59, 0.19598189626488433)      5.0   \n",
      "5  B0000BZZEM  (137, 0.18819810977508622)      5.0   \n",
      "6  B0007TBNOG  (691, 0.18080430618163593)      5.0   \n",
      "7  B0000A98WO   (114, 0.1708513884718601)      4.0   \n",
      "8  B0007TBMWO  (692, 0.17042984371019484)      5.0   \n",
      "9  B0000A98NK  (112, 0.16339388396514157)      5.0   \n",
      "\n",
      "                                               title brand feature  \\\n",
      "0  Samsonite Umbrellas Mini Flat Lightweight Open...   NaN     NaN   \n",
      "1  Samsonite Umbrellas Ultra Mini Flat Lightweigh...   NaN     NaN   \n",
      "2  Samsonite Umbrellas Mini Flat Lightweight Open...   NaN     NaN   \n",
      "3  OWC Single Cherry Wood Automatic Watch Winder ...  AROA     NaN   \n",
      "4  Samsonite Business Cases Leather Portfolio (Bl...   NaN     NaN   \n",
      "5                 Samsonite Sideloader Mobile Office   NaN     NaN   \n",
      "6    Samsonite Silhouette 9 Commuter Tote (Burgundy)   NaN     NaN   \n",
      "7           CalPak Arctic Circle (Navy/ Grey/ Black)   NaN     NaN   \n",
      "8     Samsonite Oyster Beauty Case (closeout) (Teal)   NaN     NaN   \n",
      "9     Samsonite Swing (Closeout) (Key Lime/Charcoal)   NaN     NaN   \n",
      "\n",
      "                                     rank               date  \\\n",
      "0      25,882,901inClothing,ShoesJewelry(  5 star5 star (0%)   \n",
      "1      25,658,552inClothing,ShoesJewelry(  5 star5 star (0%)   \n",
      "2      26,064,172inClothing,ShoesJewelry(  5 star5 star (0%)   \n",
      "3                                     NaN             5 star   \n",
      "4      25,422,306inClothing,ShoesJewelry(             5 star   \n",
      "5  26,001,155inClothing,Shoesamp;Jewelry(             5 star   \n",
      "6                                     NaN             5 star   \n",
      "7      26,152,751inClothing,ShoesJewelry(  5 star5 star (0%)   \n",
      "8      25,802,285inClothing,ShoesJewelry(             5 star   \n",
      "9      26,306,009inClothing,ShoesJewelry(             5 star   \n",
      "\n",
      "                                            imageURL  \\\n",
      "0                                                NaN   \n",
      "1                                                NaN   \n",
      "2                                                NaN   \n",
      "3                                                NaN   \n",
      "4                                                NaN   \n",
      "5  [https://images-na.ssl-images-amazon.com/image...   \n",
      "6                                                NaN   \n",
      "7  [https://images-na.ssl-images-amazon.com/image...   \n",
      "8                                                NaN   \n",
      "9                                                NaN   \n",
      "\n",
      "                                     imageURLHighRes description price  \\\n",
      "0                                                NaN         NaN   NaN   \n",
      "1                                                NaN         NaN   NaN   \n",
      "2                                                NaN         NaN   NaN   \n",
      "3                                                NaN         NaN   NaN   \n",
      "4                                                NaN         NaN   NaN   \n",
      "5  [https://images-na.ssl-images-amazon.com/image...         NaN   NaN   \n",
      "6                                                NaN         NaN   NaN   \n",
      "7  [https://images-na.ssl-images-amazon.com/image...         NaN   NaN   \n",
      "8                                                NaN         NaN   NaN   \n",
      "9                                                NaN         NaN   NaN   \n",
      "\n",
      "  also_view also_buy  fit details similar_item tech1  \\\n",
      "0       NaN      NaN  NaN     NaN          NaN   NaN   \n",
      "1       NaN      NaN  NaN     NaN          NaN   NaN   \n",
      "2       NaN      NaN  NaN     NaN          NaN   NaN   \n",
      "3       NaN      NaN  NaN     NaN          NaN   NaN   \n",
      "4       NaN      NaN  NaN     NaN          NaN   NaN   \n",
      "5       NaN      NaN  NaN     NaN          NaN   NaN   \n",
      "6       NaN      NaN  NaN     NaN          NaN   NaN   \n",
      "7       NaN      NaN  NaN     NaN          NaN   NaN   \n",
      "8       NaN      NaN  NaN     NaN          NaN   NaN   \n",
      "9       NaN      NaN  NaN     NaN          NaN   NaN   \n",
      "\n",
      "                                       combined_text   id  \n",
      "0  Samsonite Umbrellas Mini Flat Lightweight Open...  297  \n",
      "1  Samsonite Umbrellas Ultra Mini Flat Lightweigh...  309  \n",
      "2  Samsonite Umbrellas Mini Flat Lightweight Open...  298  \n",
      "3  OWC Single Cherry Wood Automatic Watch Winder ...  586  \n",
      "4  Samsonite Business Cases Leather Portfolio (Bl...   59  \n",
      "5         Samsonite Sideloader Mobile Office nan nan  137  \n",
      "6  Samsonite Silhouette 9 Commuter Tote (Burgundy...  691  \n",
      "7   CalPak Arctic Circle (Navy/ Grey/ Black) nan nan  114  \n",
      "8  Samsonite Oyster Beauty Case (closeout) (Teal)...  692  \n",
      "9  Samsonite Swing (Closeout) (Key Lime/Charcoal)...  112  \n"
     ]
    }
   ],
   "source": [
    "# Realizar un join entre final_result y dataset_original utilizando la columna 'ASIN' como clave de unión\n",
    "resultado_completo = pd.merge(final_result, df_meta_cortado, on='asin')\n",
    "\n",
    "# Imprimir el resultado completo\n",
    "print(resultado_completo)\n"
   ]
  }
 ],
 "metadata": {
  "kernelspec": {
   "display_name": "Python 3",
   "language": "python",
   "name": "python3"
  },
  "language_info": {
   "codemirror_mode": {
    "name": "ipython",
    "version": 3
   },
   "file_extension": ".py",
   "mimetype": "text/x-python",
   "name": "python",
   "nbconvert_exporter": "python",
   "pygments_lexer": "ipython3",
   "version": "3.11.3"
  }
 },
 "nbformat": 4,
 "nbformat_minor": 2
}
