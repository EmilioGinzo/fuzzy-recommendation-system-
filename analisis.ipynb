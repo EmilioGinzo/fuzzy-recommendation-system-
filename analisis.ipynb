{
 "cells": [
  {
   "cell_type": "code",
   "execution_count": 284,
   "metadata": {},
   "outputs": [],
   "source": [
    "import nltk\n",
    "import json\n",
    "import pandas as pd\n",
    "import gzip\n",
    "import numpy as np\n",
    "import matplotlib.pyplot as plt\n",
    "import seaborn as sns\n",
    "from sklearn.metrics.pairwise import cosine_similarity\n",
    "import skfuzzy as fuzz\n",
    "from sklearn.feature_extraction.text import TfidfVectorizer\n",
    "from skfuzzy import control as ctrl\n",
    "import random\n",
    "from IPython.display import display\n"
   ]
  },
  {
   "cell_type": "code",
   "execution_count": 285,
   "metadata": {},
   "outputs": [],
   "source": [
    "PATH = './AMAZON_FASHION.json.gz'\n",
    "PATH_meta = './meta_AMAZON_FASHION.json.gz'"
   ]
  },
  {
   "cell_type": "markdown",
   "metadata": {},
   "source": [
    "## MODULO 1\n",
    "### Lector de datasets"
   ]
  },
  {
   "cell_type": "code",
   "execution_count": 286,
   "metadata": {},
   "outputs": [],
   "source": [
    "def parse(path):\n",
    "  g = gzip.open(path, 'rb')\n",
    "  for l in g:\n",
    "    yield json.loads(l)\n",
    "\n",
    "def getDF(path):\n",
    "  i = 0\n",
    "  df = {}\n",
    "  for d in parse(path):\n",
    "    df[i] = d\n",
    "    i += 1\n",
    "  return pd.DataFrame.from_dict(df, orient='index')"
   ]
  },
  {
   "cell_type": "code",
   "execution_count": 287,
   "metadata": {},
   "outputs": [],
   "source": [
    "df = getDF(PATH)\n",
    "df_meta = getDF(PATH_meta)"
   ]
  },
  {
   "cell_type": "code",
   "execution_count": 288,
   "metadata": {},
   "outputs": [
    {
     "data": {
      "text/plain": [
       "(186637, 16)"
      ]
     },
     "execution_count": 288,
     "metadata": {},
     "output_type": "execute_result"
    }
   ],
   "source": [
    "df_meta.shape"
   ]
  },
  {
   "cell_type": "code",
   "execution_count": 289,
   "metadata": {},
   "outputs": [
    {
     "data": {
      "text/plain": [
       "186194"
      ]
     },
     "execution_count": 289,
     "metadata": {},
     "output_type": "execute_result"
    }
   ],
   "source": [
    "df_meta['asin'].nunique()"
   ]
  },
  {
   "cell_type": "markdown",
   "metadata": {},
   "source": [
    "notamos que hay productos que no son unicos, arreglamos eso"
   ]
  },
  {
   "cell_type": "code",
   "execution_count": 290,
   "metadata": {},
   "outputs": [
    {
     "data": {
      "text/plain": [
       "(186194, 16)"
      ]
     },
     "execution_count": 290,
     "metadata": {},
     "output_type": "execute_result"
    }
   ],
   "source": [
    "df_meta= df_meta.drop_duplicates(subset='asin', keep='first')\n",
    "df_meta.shape"
   ]
  },
  {
   "cell_type": "markdown",
   "metadata": {},
   "source": [
    "Eliminamos las filas que tengan vacio una de estas columnas"
   ]
  },
  {
   "cell_type": "code",
   "execution_count": 291,
   "metadata": {},
   "outputs": [],
   "source": [
    "columns_to_combine = ['title', 'brand', 'summary', 'description', 'expliota']\n",
    "existing_columns = [col for col in columns_to_combine if col in df_meta.columns]\n",
    "\n",
    "if existing_columns:\n",
    "    for column in existing_columns:\n",
    "        df_meta = df_meta[df_meta[column].astype(bool)]\n",
    "    df_meta = df_meta.dropna(subset=existing_columns)"
   ]
  },
  {
   "cell_type": "code",
   "execution_count": 292,
   "metadata": {},
   "outputs": [
    {
     "data": {
      "text/plain": [
       "(12738, 16)"
      ]
     },
     "execution_count": 292,
     "metadata": {},
     "output_type": "execute_result"
    }
   ],
   "source": [
    "df_meta.shape"
   ]
  },
  {
   "cell_type": "code",
   "execution_count": 293,
   "metadata": {},
   "outputs": [
    {
     "data": {
      "text/html": [
       "<div>\n",
       "<style scoped>\n",
       "    .dataframe tbody tr th:only-of-type {\n",
       "        vertical-align: middle;\n",
       "    }\n",
       "\n",
       "    .dataframe tbody tr th {\n",
       "        vertical-align: top;\n",
       "    }\n",
       "\n",
       "    .dataframe thead th {\n",
       "        text-align: right;\n",
       "    }\n",
       "</style>\n",
       "<table border=\"1\" class=\"dataframe\">\n",
       "  <thead>\n",
       "    <tr style=\"text-align: right;\">\n",
       "      <th></th>\n",
       "      <th>title</th>\n",
       "      <th>brand</th>\n",
       "      <th>feature</th>\n",
       "      <th>rank</th>\n",
       "      <th>date</th>\n",
       "      <th>asin</th>\n",
       "      <th>imageURL</th>\n",
       "      <th>imageURLHighRes</th>\n",
       "      <th>description</th>\n",
       "      <th>price</th>\n",
       "      <th>also_view</th>\n",
       "      <th>also_buy</th>\n",
       "      <th>fit</th>\n",
       "      <th>details</th>\n",
       "      <th>similar_item</th>\n",
       "      <th>tech1</th>\n",
       "    </tr>\n",
       "  </thead>\n",
       "  <tbody>\n",
       "    <tr>\n",
       "      <th>2</th>\n",
       "      <td>Magical Things I Really Do Do Too!</td>\n",
       "      <td>Christopher Manos</td>\n",
       "      <td>[Package Dimensions:\\n                    \\n8....</td>\n",
       "      <td>19,308,073inClothing,ShoesJewelry(</td>\n",
       "      <td>5 star</td>\n",
       "      <td>1940280001</td>\n",
       "      <td>[https://images-na.ssl-images-amazon.com/image...</td>\n",
       "      <td>[https://images-na.ssl-images-amazon.com/image...</td>\n",
       "      <td>[For the professional or amateur magician.  Ro...</td>\n",
       "      <td>NaN</td>\n",
       "      <td>NaN</td>\n",
       "      <td>NaN</td>\n",
       "      <td>NaN</td>\n",
       "      <td>NaN</td>\n",
       "      <td>NaN</td>\n",
       "      <td>NaN</td>\n",
       "    </tr>\n",
       "    <tr>\n",
       "      <th>11</th>\n",
       "      <td>Envirosax Kids Series Jessie &amp; Lulu</td>\n",
       "      <td>Envirosax</td>\n",
       "      <td>[Product Dimensions:\\n                    \\n17...</td>\n",
       "      <td>25,698,912inClothing,ShoesJewelry(</td>\n",
       "      <td>5 star</td>\n",
       "      <td>8037200124</td>\n",
       "      <td>NaN</td>\n",
       "      <td>NaN</td>\n",
       "      <td>[Educating the next generation in the responsi...</td>\n",
       "      <td>NaN</td>\n",
       "      <td>NaN</td>\n",
       "      <td>NaN</td>\n",
       "      <td>NaN</td>\n",
       "      <td>NaN</td>\n",
       "      <td>NaN</td>\n",
       "      <td>NaN</td>\n",
       "    </tr>\n",
       "    <tr>\n",
       "      <th>12</th>\n",
       "      <td>Envirosax Greengrocer Series Bag 7 Guava</td>\n",
       "      <td>Envirosax</td>\n",
       "      <td>[Product Dimensions:\\n                    \\n18...</td>\n",
       "      <td>25,850,143inClothing,ShoesJewelry(</td>\n",
       "      <td>5 star</td>\n",
       "      <td>8037200221</td>\n",
       "      <td>NaN</td>\n",
       "      <td>NaN</td>\n",
       "      <td>[Envirosax Greengrocer - a range of plain colo...</td>\n",
       "      <td>NaN</td>\n",
       "      <td>NaN</td>\n",
       "      <td>NaN</td>\n",
       "      <td>NaN</td>\n",
       "      <td>NaN</td>\n",
       "      <td>NaN</td>\n",
       "      <td>NaN</td>\n",
       "    </tr>\n",
       "    <tr>\n",
       "      <th>17</th>\n",
       "      <td>X. L. Carbon Fiber Money Clip, made in the USA</td>\n",
       "      <td>Roar Carbon</td>\n",
       "      <td>[Real Carbon Fiber, Made in USA, 5 year warran...</td>\n",
       "      <td>3,725,957inClothing,Shoesamp;Jewelry(</td>\n",
       "      <td>5 star</td>\n",
       "      <td>9654263246</td>\n",
       "      <td>[https://images-na.ssl-images-amazon.com/image...</td>\n",
       "      <td>[https://images-na.ssl-images-amazon.com/image...</td>\n",
       "      <td>[When you pull out your extra large carbon fib...</td>\n",
       "      <td>$14.99</td>\n",
       "      <td>[B07CQ3KY5B, B014TEOG3O, B078429G6J, B01FRG9Z7...</td>\n",
       "      <td>NaN</td>\n",
       "      <td>NaN</td>\n",
       "      <td>NaN</td>\n",
       "      <td>NaN</td>\n",
       "      <td>NaN</td>\n",
       "    </tr>\n",
       "    <tr>\n",
       "      <th>18</th>\n",
       "      <td>Shimmer Anne Shine Clip On Costume/Halloween C...</td>\n",
       "      <td>Shimmer Anne Shine</td>\n",
       "      <td>[Shimmer Anne Shine Clip On Costume/Halloween ...</td>\n",
       "      <td>468,314inClothing,ShoesJewelry(</td>\n",
       "      <td>5 star</td>\n",
       "      <td>B00004T3SN</td>\n",
       "      <td>[https://images-na.ssl-images-amazon.com/image...</td>\n",
       "      <td>[https://images-na.ssl-images-amazon.com/image...</td>\n",
       "      <td>[A fun addition to any costume party, play, or...</td>\n",
       "      <td>$6.99</td>\n",
       "      <td>[B00Q5RRK78, B00RN3JILE, B00PMUTNOM, B01KA5PTY...</td>\n",
       "      <td>[B01KA5PTYG]</td>\n",
       "      <td>NaN</td>\n",
       "      <td>NaN</td>\n",
       "      <td>NaN</td>\n",
       "      <td>NaN</td>\n",
       "    </tr>\n",
       "  </tbody>\n",
       "</table>\n",
       "</div>"
      ],
      "text/plain": [
       "                                                title               brand  \\\n",
       "2                  Magical Things I Really Do Do Too!   Christopher Manos   \n",
       "11                Envirosax Kids Series Jessie & Lulu           Envirosax   \n",
       "12           Envirosax Greengrocer Series Bag 7 Guava           Envirosax   \n",
       "17     X. L. Carbon Fiber Money Clip, made in the USA         Roar Carbon   \n",
       "18  Shimmer Anne Shine Clip On Costume/Halloween C...  Shimmer Anne Shine   \n",
       "\n",
       "                                              feature  \\\n",
       "2   [Package Dimensions:\\n                    \\n8....   \n",
       "11  [Product Dimensions:\\n                    \\n17...   \n",
       "12  [Product Dimensions:\\n                    \\n18...   \n",
       "17  [Real Carbon Fiber, Made in USA, 5 year warran...   \n",
       "18  [Shimmer Anne Shine Clip On Costume/Halloween ...   \n",
       "\n",
       "                                     rank    date        asin  \\\n",
       "2      19,308,073inClothing,ShoesJewelry(  5 star  1940280001   \n",
       "11     25,698,912inClothing,ShoesJewelry(  5 star  8037200124   \n",
       "12     25,850,143inClothing,ShoesJewelry(  5 star  8037200221   \n",
       "17  3,725,957inClothing,Shoesamp;Jewelry(  5 star  9654263246   \n",
       "18        468,314inClothing,ShoesJewelry(  5 star  B00004T3SN   \n",
       "\n",
       "                                             imageURL  \\\n",
       "2   [https://images-na.ssl-images-amazon.com/image...   \n",
       "11                                                NaN   \n",
       "12                                                NaN   \n",
       "17  [https://images-na.ssl-images-amazon.com/image...   \n",
       "18  [https://images-na.ssl-images-amazon.com/image...   \n",
       "\n",
       "                                      imageURLHighRes  \\\n",
       "2   [https://images-na.ssl-images-amazon.com/image...   \n",
       "11                                                NaN   \n",
       "12                                                NaN   \n",
       "17  [https://images-na.ssl-images-amazon.com/image...   \n",
       "18  [https://images-na.ssl-images-amazon.com/image...   \n",
       "\n",
       "                                          description   price  \\\n",
       "2   [For the professional or amateur magician.  Ro...     NaN   \n",
       "11  [Educating the next generation in the responsi...     NaN   \n",
       "12  [Envirosax Greengrocer - a range of plain colo...     NaN   \n",
       "17  [When you pull out your extra large carbon fib...  $14.99   \n",
       "18  [A fun addition to any costume party, play, or...   $6.99   \n",
       "\n",
       "                                            also_view      also_buy  fit  \\\n",
       "2                                                 NaN           NaN  NaN   \n",
       "11                                                NaN           NaN  NaN   \n",
       "12                                                NaN           NaN  NaN   \n",
       "17  [B07CQ3KY5B, B014TEOG3O, B078429G6J, B01FRG9Z7...           NaN  NaN   \n",
       "18  [B00Q5RRK78, B00RN3JILE, B00PMUTNOM, B01KA5PTY...  [B01KA5PTYG]  NaN   \n",
       "\n",
       "   details similar_item tech1  \n",
       "2      NaN          NaN   NaN  \n",
       "11     NaN          NaN   NaN  \n",
       "12     NaN          NaN   NaN  \n",
       "17     NaN          NaN   NaN  \n",
       "18     NaN          NaN   NaN  "
      ]
     },
     "execution_count": 293,
     "metadata": {},
     "output_type": "execute_result"
    }
   ],
   "source": [
    "df_meta.head()"
   ]
  },
  {
   "cell_type": "code",
   "execution_count": 294,
   "metadata": {},
   "outputs": [
    {
     "data": {
      "text/plain": [
       "Text(0, 0.5, 'Count')"
      ]
     },
     "execution_count": 294,
     "metadata": {},
     "output_type": "execute_result"
    },
    {
     "data": {
      "image/png": "[encoded data removed]",
      "text/plain": [
       "<Figure size 1000x500 with 1 Axes>"
      ]
     },
     "metadata": {},
     "output_type": "display_data"
    }
   ],
   "source": [
    "ax = df['overall'].value_counts().sort_index().plot(kind='bar', title=\"Count of reviews by star\",figsize=(10, 5))\n",
    "ax.set_xlabel(\"Star\")\n",
    "ax.set_ylabel(\"Count\")"
   ]
  },
  {
   "cell_type": "markdown",
   "metadata": {},
   "source": [
    "notamos que los reviews estan sesgados hacia 5 estrellas"
   ]
  },
  {
   "cell_type": "markdown",
   "metadata": {},
   "source": [
    "### Tokenizacion de comentarios"
   ]
  },
  {
   "cell_type": "code",
   "execution_count": 295,
   "metadata": {},
   "outputs": [
    {
     "name": "stderr",
     "output_type": "stream",
     "text": [
      "[nltk_data] Downloading package punkt to\n",
      "[nltk_data]     C:\\Users\\coraj\\AppData\\Roaming\\nltk_data...\n",
      "[nltk_data]   Package punkt is already up-to-date!\n",
      "[nltk_data] Downloading package averaged_perceptron_tagger to\n",
      "[nltk_data]     C:\\Users\\coraj\\AppData\\Roaming\\nltk_data...\n",
      "[nltk_data]   Package averaged_perceptron_tagger is already up-to-\n",
      "[nltk_data]       date!\n",
      "[nltk_data] Downloading package maxent_ne_chunker to\n",
      "[nltk_data]     C:\\Users\\coraj\\AppData\\Roaming\\nltk_data...\n",
      "[nltk_data]   Package maxent_ne_chunker is already up-to-date!\n",
      "[nltk_data] Downloading package words to\n",
      "[nltk_data]     C:\\Users\\coraj\\AppData\\Roaming\\nltk_data...\n",
      "[nltk_data]   Package words is already up-to-date!\n"
     ]
    },
    {
     "data": {
      "text/plain": [
       "True"
      ]
     },
     "execution_count": 295,
     "metadata": {},
     "output_type": "execute_result"
    }
   ],
   "source": [
    "nltk.download('punkt')\n",
    "nltk.download('averaged_perceptron_tagger')\n",
    "nltk.download('maxent_ne_chunker')\n",
    "nltk.download('words')"
   ]
  },
  {
   "cell_type": "markdown",
   "metadata": {},
   "source": [
    "## MODULO 2\n",
    "### Rating Score\n",
    "calculamos el overall mean"
   ]
  },
  {
   "cell_type": "code",
   "execution_count": 296,
   "metadata": {},
   "outputs": [
    {
     "data": {
      "text/html": [
       "<div>\n",
       "<style scoped>\n",
       "    .dataframe tbody tr th:only-of-type {\n",
       "        vertical-align: middle;\n",
       "    }\n",
       "\n",
       "    .dataframe tbody tr th {\n",
       "        vertical-align: top;\n",
       "    }\n",
       "\n",
       "    .dataframe thead th {\n",
       "        text-align: right;\n",
       "    }\n",
       "</style>\n",
       "<table border=\"1\" class=\"dataframe\">\n",
       "  <thead>\n",
       "    <tr style=\"text-align: right;\">\n",
       "      <th></th>\n",
       "      <th>asin</th>\n",
       "      <th>overall</th>\n",
       "    </tr>\n",
       "  </thead>\n",
       "  <tbody>\n",
       "    <tr>\n",
       "      <th>0</th>\n",
       "      <td>0764443682</td>\n",
       "      <td>5.000000</td>\n",
       "    </tr>\n",
       "    <tr>\n",
       "      <th>1</th>\n",
       "      <td>1291691480</td>\n",
       "      <td>5.000000</td>\n",
       "    </tr>\n",
       "    <tr>\n",
       "      <th>2</th>\n",
       "      <td>1940280001</td>\n",
       "      <td>5.000000</td>\n",
       "    </tr>\n",
       "    <tr>\n",
       "      <th>3</th>\n",
       "      <td>1940735033</td>\n",
       "      <td>4.857143</td>\n",
       "    </tr>\n",
       "    <tr>\n",
       "      <th>4</th>\n",
       "      <td>1940967805</td>\n",
       "      <td>5.000000</td>\n",
       "    </tr>\n",
       "    <tr>\n",
       "      <th>...</th>\n",
       "      <td>...</td>\n",
       "      <td>...</td>\n",
       "    </tr>\n",
       "    <tr>\n",
       "      <th>186184</th>\n",
       "      <td>B01HJGXL4O</td>\n",
       "      <td>5.000000</td>\n",
       "    </tr>\n",
       "    <tr>\n",
       "      <th>186185</th>\n",
       "      <td>B01HJGZVYW</td>\n",
       "      <td>4.000000</td>\n",
       "    </tr>\n",
       "    <tr>\n",
       "      <th>186186</th>\n",
       "      <td>B01HJH7JY6</td>\n",
       "      <td>5.000000</td>\n",
       "    </tr>\n",
       "    <tr>\n",
       "      <th>186187</th>\n",
       "      <td>B01HJHF97K</td>\n",
       "      <td>3.000000</td>\n",
       "    </tr>\n",
       "    <tr>\n",
       "      <th>186188</th>\n",
       "      <td>B01HJHTH5U</td>\n",
       "      <td>4.625000</td>\n",
       "    </tr>\n",
       "  </tbody>\n",
       "</table>\n",
       "<p>186189 rows × 2 columns</p>\n",
       "</div>"
      ],
      "text/plain": [
       "              asin   overall\n",
       "0       0764443682  5.000000\n",
       "1       1291691480  5.000000\n",
       "2       1940280001  5.000000\n",
       "3       1940735033  4.857143\n",
       "4       1940967805  5.000000\n",
       "...            ...       ...\n",
       "186184  B01HJGXL4O  5.000000\n",
       "186185  B01HJGZVYW  4.000000\n",
       "186186  B01HJH7JY6  5.000000\n",
       "186187  B01HJHF97K  3.000000\n",
       "186188  B01HJHTH5U  4.625000\n",
       "\n",
       "[186189 rows x 2 columns]"
      ]
     },
     "execution_count": 296,
     "metadata": {},
     "output_type": "execute_result"
    }
   ],
   "source": [
    "overall_mean = df.groupby('asin')['overall'].mean().reset_index()\n",
    "overall_mean\n",
    "# num_asin_values = df_meta['asin'].nunique()\n",
    "# num_asin_values"
   ]
  },
  {
   "cell_type": "markdown",
   "metadata": {},
   "source": [
    "agregamos la columnas id al dataframe df_meta"
   ]
  },
  {
   "cell_type": "code",
   "execution_count": 297,
   "metadata": {},
   "outputs": [],
   "source": [
    "df_meta['id']=[i for i in range(0,df_meta.shape[0])]"
   ]
  },
  {
   "cell_type": "markdown",
   "metadata": {},
   "source": [
    "reducimos la muestra para facilitar el procesamiento "
   ]
  },
  {
   "cell_type": "code",
   "execution_count": 298,
   "metadata": {},
   "outputs": [],
   "source": [
    "CANTIDAD = 10000"
   ]
  },
  {
   "cell_type": "code",
   "execution_count": 299,
   "metadata": {},
   "outputs": [],
   "source": [
    "df_meta_cortado = df_meta.head(CANTIDAD)"
   ]
  },
  {
   "cell_type": "markdown",
   "metadata": {},
   "source": [
    "creamos una nueva columnas que contiene la informacion que necesitamos para encontrar items similares"
   ]
  },
  {
   "cell_type": "code",
   "execution_count": 300,
   "metadata": {},
   "outputs": [
    {
     "name": "stderr",
     "output_type": "stream",
     "text": [
      "C:\\Users\\coraj\\AppData\\Local\\Temp\\ipykernel_20708\\1163952785.py:7: SettingWithCopyWarning: \n",
      "A value is trying to be set on a copy of a slice from a DataFrame.\n",
      "Try using .loc[row_indexer,col_indexer] = value instead\n",
      "\n",
      "See the caveats in the documentation: https://pandas.pydata.org/pandas-docs/stable/user_guide/indexing.html#returning-a-view-versus-a-copy\n",
      "  df_meta_cortado.loc[:, 'combined_text'] = df_meta_cortado[existing_columns].apply(lambda row: ' '.join(str(val) for val in row), axis=1)\n"
     ]
    }
   ],
   "source": [
    "columns_to_combine = ['title', 'brand', 'summary', 'description', 'expliota']\n",
    "existing_columns = [col for col in columns_to_combine if col in df_meta_cortado.columns]\n",
    "\n",
    "if existing_columns:\n",
    "    # Al menos una de las columnas en 'existing_columns' existe en el df_meta_cortadoFrame 'df_meta_cortado'.\n",
    "    # Puedes combinar las columnas existentes y crear la nueva columna 'combined_text'.\n",
    "    df_meta_cortado.loc[:, 'combined_text'] = df_meta_cortado[existing_columns].apply(lambda row: ' '.join(str(val) for val in row), axis=1)\n"
   ]
  },
  {
   "cell_type": "markdown",
   "metadata": {},
   "source": [
    "La matriz vecs contiene las puntuaciones TF-IDF ( Frecuencia de Término - Frecuencia Inversa de Documento) para cada palabra en cada documento. Las puntuaciones TF-IDF representan la importancia de una palabra para un documento en la colección."
   ]
  },
  {
   "cell_type": "code",
   "execution_count": 301,
   "metadata": {},
   "outputs": [
    {
     "data": {
      "text/plain": [
       "(10000, 30648)"
      ]
     },
     "execution_count": 301,
     "metadata": {},
     "output_type": "execute_result"
    }
   ],
   "source": [
    "\n",
    "vec = TfidfVectorizer()\n",
    "vecs = vec.fit_transform(df_meta_cortado['combined_text'].apply(lambda x: np.str_(x)))\n",
    "vecs.shape"
   ]
  },
  {
   "cell_type": "markdown",
   "metadata": {},
   "source": [
    "## Modulo 3\n",
    "### Similarity Score"
   ]
  },
  {
   "cell_type": "markdown",
   "metadata": {},
   "source": [
    "Esto significa que tienes 10000 documentos (las filas del DataFrame df_meta_cortado) y 22929 palabras únicas en todos los documentos (las características)."
   ]
  },
  {
   "cell_type": "markdown",
   "metadata": {},
   "source": [
    "calcular la similitud del coseno entre cada par de vectores en vecs\n",
    "\n",
    "Su valor varía de -1 (vectores completamente opuestos) a 1 (vectores idénticos), con 0 indicando ortogonalidad (vectores perpendiculares)."
   ]
  },
  {
   "cell_type": "code",
   "execution_count": 302,
   "metadata": {},
   "outputs": [
    {
     "data": {
      "text/plain": [
       "array([[1.        , 0.0379272 , 0.04252424, ..., 0.00757512, 0.00755539,\n",
       "        0.        ],\n",
       "       [0.0379272 , 1.        , 0.5591654 , ..., 0.00506212, 0.00504893,\n",
       "        0.        ],\n",
       "       [0.04252424, 0.5591654 , 1.        , ..., 0.00772944, 0.0077093 ,\n",
       "        0.        ],\n",
       "       ...,\n",
       "       [0.00757512, 0.00506212, 0.00772944, ..., 1.        , 0.88378144,\n",
       "        0.04166206],\n",
       "       [0.00755539, 0.00504893, 0.0077093 , ..., 0.88378144, 1.        ,\n",
       "        0.0415535 ],\n",
       "       [0.        , 0.        , 0.        , ..., 0.04166206, 0.0415535 ,\n",
       "        1.        ]])"
      ]
     },
     "execution_count": 302,
     "metadata": {},
     "output_type": "execute_result"
    }
   ],
   "source": [
    "similaridad = cosine_similarity(vecs)\n",
    "similaridad"
   ]
  },
  {
   "cell_type": "code",
   "execution_count": 303,
   "metadata": {},
   "outputs": [],
   "source": [
    "def recommend(asin):\n",
    "    item_id = df_meta_cortado[df_meta_cortado.asin == asin]['id'].values[0]\n",
    "    scores = list(enumerate(similaridad[item_id]))\n",
    "    sorted_scores = sorted(scores, key=lambda x:x[1], reverse=True)\n",
    "    # si score es mayor o igual a 1 entonces se elimina de la lista\n",
    "    scores_no_1 = [i for i in sorted_scores if i[1]<0.8]\n",
    "    # fuzzificar el score\n",
    "    # scores_no_1 = [(score[0], fuzzificar(scores_no_1[0][1], scores_no_1[-1][1], score[1])) for score in scores_no_1]\n",
    "    # sorted_scores=sorted_scores[1:]\n",
    "    items_selected=[df_meta_cortado[items_selected[0]==df_meta_cortado['id']]['asin'].values[0] for items_selected in scores_no_1]\n",
    "    return (items_selected, scores_no_1)"
   ]
  },
  {
   "cell_type": "markdown",
   "metadata": {},
   "source": [
    "### Seleccionamos 4 productos aleatorios"
   ]
  },
  {
   "cell_type": "code",
   "execution_count": 304,
   "metadata": {},
   "outputs": [
    {
     "name": "stdout",
     "output_type": "stream",
     "text": [
      "B0096DI17Q\n",
      "B00H589AEW\n",
      "B00LW85T6Y\n",
      "B00YPZC8DS\n"
     ]
    }
   ],
   "source": [
    "# Inicializa listas vacías para almacenar los resultados\n",
    "asins_resultados = []\n",
    "similaridad_score_resultados = []\n",
    "random_asin_valores= []\n",
    "\n",
    "# Lista de asins únicos del DataFrame df_meta_cortado\n",
    "asins_unicos = df_meta_cortado['asin'].unique()\n",
    "\n",
    "# Realiza 4 recomendaciones con valores aleatorios\n",
    "for i in range(4):\n",
    "    random_asin = random.choice(asins_unicos)\n",
    "    print(random_asin)\n",
    "    asins, similaridad_score = recommend(random_asin)\n",
    "    # Agrega los resultados a las listas\n",
    "    asins_resultados.append(asins)\n",
    "    similaridad_score_resultados.append(similaridad_score)\n",
    "    random_asin_valores.append(random_asin)\n"
   ]
  },
  {
   "cell_type": "code",
   "execution_count": 305,
   "metadata": {},
   "outputs": [
    {
     "data": {
      "image/png": "[encoded data removed]",
      "text/plain": [
       "<Figure size 1200x800 with 4 Axes>"
      ]
     },
     "metadata": {},
     "output_type": "display_data"
    }
   ],
   "source": [
    "fig, axs = plt.subplots(2, 2, figsize=(12, 8))\n",
    "\n",
    "# Iterar a través de los 4 resultados y graficarlos en subplots separados\n",
    "for i in range(4):\n",
    "    scores_df = pd.DataFrame(similaridad_score_resultados[i], columns=['ItemID', 'Score'])\n",
    "    ax = axs[i // 2, i % 2]  # Seleccionar el subplot adecuado\n",
    "    ax.scatter(scores_df['ItemID'], scores_df['Score'])\n",
    "    ax.set_title(f'Similarity Scores #{i+1}')\n",
    "    ax.set_xlim(0, scores_df['ItemID'].max())\n",
    "\n",
    "plt.tight_layout()\n",
    "plt.show()\n"
   ]
  },
  {
   "cell_type": "code",
   "execution_count": 306,
   "metadata": {},
   "outputs": [],
   "source": [
    "# Inicializa listas vacías para almacenar los resultados\n",
    "final_results = []\n",
    "# Itera a través de los 4 conjuntos de resultados\n",
    "for producto in range(4):\n",
    "    top_scores_product = [similarity_score[1] for similarity_score in similaridad_score_resultados[producto][:CANTIDAD]]\n",
    "    top_item_ids_product = [similarity_score[0] for similarity_score in similaridad_score_resultados[producto][:CANTIDAD]]\n",
    "    top_asin_product = asins_resultados[producto][:CANTIDAD]\n",
    "\n",
    "    # Crear una lista de tuplas que contenga el ASIN, el score y el overall en el mismo orden\n",
    "    data = list(zip(top_asin_product, top_scores_product, top_item_ids_product))\n",
    "\n",
    "    # Crear un DataFrame a partir de los datos combinados\n",
    "    df_result = pd.DataFrame(data, columns=['asin', 'Score', 'Id'])\n",
    "\n",
    "    # Realizar un join entre df_result y result usando la columna 'ASIN' como clave de unión\n",
    "    final_result = pd.merge(df_result, overall_mean, on='asin')\n",
    "    final_results.append(final_result)\n",
    "\n"
   ]
  },
  {
   "cell_type": "markdown",
   "metadata": {},
   "source": [
    "## MODULO 4\n",
    "### Sistema de inferencia difuso"
   ]
  },
  {
   "cell_type": "code",
   "execution_count": 307,
   "metadata": {},
   "outputs": [],
   "source": [
    "# Definimos las variables de entrada y salida para el sistema de control difuso\n",
    "overall = ctrl.Antecedent(np.arange(1, 6, 0.1), 'overall')  # Calificación general\n",
    "similaridad = ctrl.Antecedent(np.arange(-1, 1, 0.1), 'similaridad')  # Similaridad con otros elementos\n",
    "recomendacion = ctrl.Consequent(np.arange(0, 2, 0.1), 'recomendacion')  # Recomendación resultante\n",
    "\n",
    "# Definimos los trapecios para las variables de entrada y salida\n",
    "overall['excelente'] = fuzz.trapmf(overall.universe, [4.1, 5, 5, 5]) # si el valor es [4.1 o 5], entonces es excelente\n",
    "overall['bueno'] = fuzz.trapmf(overall.universe, [3.1, 4, 4, 4.1]) # si el valor es [3.1 o 4.1), entonces es bueno\n",
    "overall['normal'] = fuzz.trapmf(overall.universe, [2.1, 3, 3, 3.1]) # si el valor es [2.1 o 3.1), entonces es normal\n",
    "overall['pesimo'] = fuzz.trapmf(overall.universe, [0.99, 2, 2, 2.1]) # si el valor es (0.99 o 2.1), entonces es pesimo\n",
    "\n",
    "similaridad['muy_similar'] = fuzz.trapmf(similaridad.universe, [0.7, 1, 1, 1]) # si el valor es [0.7 o 1], entonces es muy similar\n",
    "similaridad['similar'] = fuzz.trapmf(similaridad.universe, [0.4, 0.7, 0.7, 0.7]) # si el valor es [0.4 o 0.7), entonces es similar\n",
    "similaridad['poco_similar'] = fuzz.trapmf(similaridad.universe, [0.2, 0.4, 0.4, 0.4]) # si el valor es [0.2 o 0.4), entonces es poco similar\n",
    "similaridad['no_similar'] = fuzz.trapmf(similaridad.universe, [-1, 0, 0, 0.2])  # si el valor es [-1 o 0.2), entonces es no similar\n",
    "\n",
    "\n",
    "recomendacion['muy_recomendado'] = fuzz.trapmf(recomendacion.universe, [1.1, 2, 2, 2]) # si el valor es [1.1 o 2], entonces es muy recomendado\n",
    "recomendacion['recomendado'] = fuzz.trapmf(recomendacion.universe, [0.1, 1, 1, 1.1]) # si el valor es [0.1 o 1.1), entonces es recomendado\n",
    "recomendacion['no_recomendado'] = fuzz.trapmf(recomendacion.universe, [0, 0, 0, 0.1]) # si el valor es [0 o 0.1), entonces es no recomendado\n",
    "\n",
    "# regla 1: si la similaridad es no similar y el overall es excelente, bueno, normal o pesimo, entonces la recomendacion es no recomendado\n",
    "rule1 = ctrl.Rule(similaridad['no_similar'] & (overall['excelente'] | overall['bueno'] | overall['normal'] | overall['pesimo']), recomendacion['no_recomendado'])\n",
    "# regla 2: si la similaridad es muy similar, similar, poco similar o no similar y el overall es pesimo, entonces la recomendacion es no recomendado\n",
    "rule2 = ctrl.Rule(overall['pesimo'] & (similaridad['muy_similar'] | similaridad['similar'] | similaridad['poco_similar'] | similaridad['no_similar']), recomendacion['no_recomendado'])\n",
    "# regla 3: si la similaridad es muy similar o similar y el overall es excelente o bueno, entonces la recomendacion es muy recomendado\n",
    "rule3 = ctrl.Rule((overall['excelente'] | overall['bueno']) & (similaridad['muy_similar'] | similaridad['similar']), recomendacion['muy_recomendado'])\n",
    "# regla 4: si la similaridad es muy similar o similar y el overall es normal, entonces la recomendacion es recomendado\n",
    "rule4 = ctrl.Rule(overall['normal']  & (similaridad['muy_similar'] | similaridad['similar']), recomendacion['recomendado'])\n",
    "# regla 5: si la similaridad es muy similar o similar y el overall es excelente o bueno y poco similar, entonces la recomendacion es recomendado\n",
    "rule5 = ctrl.Rule((overall['excelente'] | overall['bueno']) & (similaridad['poco_similar']), recomendacion['recomendado'])\n",
    "# regla 6: si la similaridad es poco similar y el overall es normal, entonces la recomendacion es no recomendado\n",
    "rule6 = ctrl.Rule(overall['normal'] & similaridad['poco_similar'], recomendacion['no_recomendado'])\n",
    "\n",
    "# Sistema de control y simulación\n",
    "sistema_control = ctrl.ControlSystem([rule1, rule2, rule3, rule4, rule5, rule6])\n",
    "sistema_simulacion = ctrl.ControlSystemSimulation(sistema_control)"
   ]
  },
  {
   "cell_type": "markdown",
   "metadata": {},
   "source": [
    "testeamos"
   ]
  },
  {
   "cell_type": "code",
   "execution_count": 308,
   "metadata": {},
   "outputs": [
    {
     "name": "stdout",
     "output_type": "stream",
     "text": [
      "1.6333333333333335\n"
     ]
    }
   ],
   "source": [
    "# Pasar entradas al sistema\n",
    "sistema_simulacion.input['overall'] = 4  # Ejemplo de calificación\n",
    "sistema_simulacion.input['similaridad'] = 0.7  # Ejemplo de calificación\n",
    "sistema_simulacion.compute() # Defuzzificación\n",
    "\n",
    "# Por el metodo 'centroide'\n",
    "print(sistema_simulacion.output['recomendacion'])"
   ]
  },
  {
   "cell_type": "markdown",
   "metadata": {},
   "source": [
    "## MODULO 5\n",
    "### Defusificador"
   ]
  },
  {
   "cell_type": "markdown",
   "metadata": {},
   "source": [
    "Defuzzificamos el resultado"
   ]
  },
  {
   "cell_type": "code",
   "execution_count": 309,
   "metadata": {},
   "outputs": [],
   "source": [
    "def sistema_recomendacion_defuzzificado (recomendacion):\n",
    "    if recomendacion < 0.1:\n",
    "        return 'no_recomendado'\n",
    "    elif recomendacion < 1.1:\n",
    "        return 'recomendado'\n",
    "    else:\n",
    "        return 'muy_recomendado'\n",
    "    "
   ]
  },
  {
   "cell_type": "code",
   "execution_count": 310,
   "metadata": {},
   "outputs": [],
   "source": [
    "def sistema_recomendacion( similarity, overall):\n",
    "    sistema_simulacion.input['overall'] = overall  # Ejemplo de calificación\n",
    "    sistema_simulacion.input['similaridad'] = similarity # Ejemplo de calificación\n",
    "    sistema_simulacion.compute() # Defuzzificación\n",
    "    return (sistema_recomendacion_defuzzificado(sistema_simulacion.output['recomendacion']),sistema_simulacion.output['recomendacion'] )"
   ]
  },
  {
   "cell_type": "code",
   "execution_count": 311,
   "metadata": {},
   "outputs": [],
   "source": [
    "# Itera a través de los 4 conjuntos de resultados\n",
    "\n",
    "for i in range(4):\n",
    "   # Aplicar la función fuzzyReglas a cada fila y crear una nueva columna 'result'\n",
    "    final_results[i]['result'] = final_results[i].apply(lambda row: sistema_recomendacion(row['Score'], row['overall']), axis=1) \n",
    "\n",
    "# Para mostrar el DataFrame resultante\n",
    "for i, df_result in enumerate(final_results):\n",
    "    sorted_results = final_results[i].sort_values(by='result', key=lambda x: x.apply(lambda y: y[1] if isinstance(y, tuple) else y), ascending=False)\n",
    "\n",
    "\n"
   ]
  },
  {
   "cell_type": "code",
   "execution_count": 313,
   "metadata": {},
   "outputs": [
    {
     "name": "stdout",
     "output_type": "stream",
     "text": [
      "Producto seleccionado: \n"
     ]
    },
    {
     "data": {
      "text/html": [
       "<div>\n",
       "<style scoped>\n",
       "    .dataframe tbody tr th:only-of-type {\n",
       "        vertical-align: middle;\n",
       "    }\n",
       "\n",
       "    .dataframe tbody tr th {\n",
       "        vertical-align: top;\n",
       "    }\n",
       "\n",
       "    .dataframe thead th {\n",
       "        text-align: right;\n",
       "    }\n",
       "</style>\n",
       "<table border=\"1\" class=\"dataframe\">\n",
       "  <thead>\n",
       "    <tr style=\"text-align: right;\">\n",
       "      <th></th>\n",
       "      <th>asin</th>\n",
       "      <th>title</th>\n",
       "      <th>description</th>\n",
       "    </tr>\n",
       "  </thead>\n",
       "  <tbody>\n",
       "    <tr>\n",
       "      <th>17181</th>\n",
       "      <td>B0096DI17Q</td>\n",
       "      <td>handmade rhodium seed beads necklace, Santeria...</td>\n",
       "      <td>[hand made beaded necklace, green and black be...</td>\n",
       "    </tr>\n",
       "  </tbody>\n",
       "</table>\n",
       "</div>"
      ],
      "text/plain": [
       "             asin                                              title  \\\n",
       "17181  B0096DI17Q  handmade rhodium seed beads necklace, Santeria...   \n",
       "\n",
       "                                             description  \n",
       "17181  [hand made beaded necklace, green and black be...  "
      ]
     },
     "metadata": {},
     "output_type": "display_data"
    },
    {
     "name": "stdout",
     "output_type": "stream",
     "text": [
      "Productos recomendados:\n"
     ]
    },
    {
     "data": {
      "text/html": [
       "<div>\n",
       "<style scoped>\n",
       "    .dataframe tbody tr th:only-of-type {\n",
       "        vertical-align: middle;\n",
       "    }\n",
       "\n",
       "    .dataframe tbody tr th {\n",
       "        vertical-align: top;\n",
       "    }\n",
       "\n",
       "    .dataframe thead th {\n",
       "        text-align: right;\n",
       "    }\n",
       "</style>\n",
       "<table border=\"1\" class=\"dataframe\">\n",
       "  <thead>\n",
       "    <tr style=\"text-align: right;\">\n",
       "      <th></th>\n",
       "      <th>asin</th>\n",
       "      <th>title</th>\n",
       "      <th>description</th>\n",
       "      <th>result</th>\n",
       "    </tr>\n",
       "  </thead>\n",
       "  <tbody>\n",
       "    <tr>\n",
       "      <th>0</th>\n",
       "      <td>B005IM1572</td>\n",
       "      <td>Pugster Believe 925 Sterling Silver Believe In...</td>\n",
       "      <td>[Our Believe Believe In You European Bead is m...</td>\n",
       "      <td>(recomendado, 0.5991563255241156)</td>\n",
       "    </tr>\n",
       "    <tr>\n",
       "      <th>1</th>\n",
       "      <td>B0081K27AW</td>\n",
       "      <td>Gold-plated round beads (3mm, 100 beads)</td>\n",
       "      <td>[The round beads are made of gold-plated brass...</td>\n",
       "      <td>(recomendado, 0.5987578822704156)</td>\n",
       "    </tr>\n",
       "    <tr>\n",
       "      <th>2</th>\n",
       "      <td>B0081K23E2</td>\n",
       "      <td>Amethyst glass faceted round beads (6mm, 12 in...</td>\n",
       "      <td>[12 inch strand. The faceted round beads are m...</td>\n",
       "      <td>(recomendado, 0.5987400177319178)</td>\n",
       "    </tr>\n",
       "    <tr>\n",
       "      <th>3</th>\n",
       "      <td>B00SLGRR7O</td>\n",
       "      <td>Qiji Statement Handmade Necklace Elegant Costu...</td>\n",
       "      <td>[The collection is handmade styles with vary k...</td>\n",
       "      <td>(recomendado, 0.5987395608091959)</td>\n",
       "    </tr>\n",
       "    <tr>\n",
       "      <th>4</th>\n",
       "      <td>B00U5KNS7M</td>\n",
       "      <td>Nuptse Sparkly Silver and Electric Blue Handma...</td>\n",
       "      <td>[A beautiful bracelet set featuring three colo...</td>\n",
       "      <td>(recomendado, 0.5984722804676588)</td>\n",
       "    </tr>\n",
       "  </tbody>\n",
       "</table>\n",
       "</div>"
      ],
      "text/plain": [
       "         asin                                              title  \\\n",
       "0  B005IM1572  Pugster Believe 925 Sterling Silver Believe In...   \n",
       "1  B0081K27AW           Gold-plated round beads (3mm, 100 beads)   \n",
       "2  B0081K23E2  Amethyst glass faceted round beads (6mm, 12 in...   \n",
       "3  B00SLGRR7O  Qiji Statement Handmade Necklace Elegant Costu...   \n",
       "4  B00U5KNS7M  Nuptse Sparkly Silver and Electric Blue Handma...   \n",
       "\n",
       "                                         description  \\\n",
       "0  [Our Believe Believe In You European Bead is m...   \n",
       "1  [The round beads are made of gold-plated brass...   \n",
       "2  [12 inch strand. The faceted round beads are m...   \n",
       "3  [The collection is handmade styles with vary k...   \n",
       "4  [A beautiful bracelet set featuring three colo...   \n",
       "\n",
       "                              result  \n",
       "0  (recomendado, 0.5991563255241156)  \n",
       "1  (recomendado, 0.5987578822704156)  \n",
       "2  (recomendado, 0.5987400177319178)  \n",
       "3  (recomendado, 0.5987395608091959)  \n",
       "4  (recomendado, 0.5984722804676588)  "
      ]
     },
     "metadata": {},
     "output_type": "display_data"
    },
    {
     "name": "stdout",
     "output_type": "stream",
     "text": [
      "Producto seleccionado: \n"
     ]
    },
    {
     "data": {
      "text/html": [
       "<div>\n",
       "<style scoped>\n",
       "    .dataframe tbody tr th:only-of-type {\n",
       "        vertical-align: middle;\n",
       "    }\n",
       "\n",
       "    .dataframe tbody tr th {\n",
       "        vertical-align: top;\n",
       "    }\n",
       "\n",
       "    .dataframe thead th {\n",
       "        text-align: right;\n",
       "    }\n",
       "</style>\n",
       "<table border=\"1\" class=\"dataframe\">\n",
       "  <thead>\n",
       "    <tr style=\"text-align: right;\">\n",
       "      <th></th>\n",
       "      <th>asin</th>\n",
       "      <th>title</th>\n",
       "      <th>description</th>\n",
       "    </tr>\n",
       "  </thead>\n",
       "  <tbody>\n",
       "    <tr>\n",
       "      <th>35345</th>\n",
       "      <td>B00H589AEW</td>\n",
       "      <td>Stetson Elk Horn Wool Cowboy Hat</td>\n",
       "      <td>[The Stetson Elk Horn Crushable Wool Felt Hat ...</td>\n",
       "    </tr>\n",
       "  </tbody>\n",
       "</table>\n",
       "</div>"
      ],
      "text/plain": [
       "             asin                             title  \\\n",
       "35345  B00H589AEW  Stetson Elk Horn Wool Cowboy Hat   \n",
       "\n",
       "                                             description  \n",
       "35345  [The Stetson Elk Horn Crushable Wool Felt Hat ...  "
      ]
     },
     "metadata": {},
     "output_type": "display_data"
    },
    {
     "name": "stdout",
     "output_type": "stream",
     "text": [
      "Productos recomendados:\n"
     ]
    },
    {
     "data": {
      "text/html": [
       "<div>\n",
       "<style scoped>\n",
       "    .dataframe tbody tr th:only-of-type {\n",
       "        vertical-align: middle;\n",
       "    }\n",
       "\n",
       "    .dataframe tbody tr th {\n",
       "        vertical-align: top;\n",
       "    }\n",
       "\n",
       "    .dataframe thead th {\n",
       "        text-align: right;\n",
       "    }\n",
       "</style>\n",
       "<table border=\"1\" class=\"dataframe\">\n",
       "  <thead>\n",
       "    <tr style=\"text-align: right;\">\n",
       "      <th></th>\n",
       "      <th>asin</th>\n",
       "      <th>title</th>\n",
       "      <th>description</th>\n",
       "      <th>result</th>\n",
       "    </tr>\n",
       "  </thead>\n",
       "  <tbody>\n",
       "    <tr>\n",
       "      <th>0</th>\n",
       "      <td>B005GKDL9G</td>\n",
       "      <td>Stetson Men's Bozeman Wool Felt Crushable Cowb...</td>\n",
       "      <td>[The Stetson Bozeman Crushable Wool Felt Hat f...</td>\n",
       "      <td>(muy_recomendado, 1.5622353223103496)</td>\n",
       "    </tr>\n",
       "    <tr>\n",
       "      <th>1</th>\n",
       "      <td>B005GKDL8W</td>\n",
       "      <td>Stetson Men's Bozeman Wool Felt Crushable Cowb...</td>\n",
       "      <td>[The Stetson Bozeman Crushable Wool Felt Hat f...</td>\n",
       "      <td>(muy_recomendado, 1.5622353223103496)</td>\n",
       "    </tr>\n",
       "    <tr>\n",
       "      <th>2</th>\n",
       "      <td>B003WYFH8G</td>\n",
       "      <td>M / Black</td>\n",
       "      <td>[Features:* Crushable Hat* 3\" Brim* Water Repe...</td>\n",
       "      <td>(recomendado, 0.9999602701628987)</td>\n",
       "    </tr>\n",
       "    <tr>\n",
       "      <th>3</th>\n",
       "      <td>B00WTSLPQO</td>\n",
       "      <td>M&amp;F Western Unisex Twister Wool Cowboy Hat w/F...</td>\n",
       "      <td>[The M&amp;F Western™ Twister Wool Cowboy Hat w/ F...</td>\n",
       "      <td>(no_recomendado, 0.04978959551425497)</td>\n",
       "    </tr>\n",
       "    <tr>\n",
       "      <th>4</th>\n",
       "      <td>B00IPS7F20</td>\n",
       "      <td>Pink Cowboy Cowgirl Tiara Felt Light up Prince...</td>\n",
       "      <td>[Perfect for your next rodeo or western-themed...</td>\n",
       "      <td>(no_recomendado, 0.04785961534213451)</td>\n",
       "    </tr>\n",
       "  </tbody>\n",
       "</table>\n",
       "</div>"
      ],
      "text/plain": [
       "         asin                                              title  \\\n",
       "0  B005GKDL9G  Stetson Men's Bozeman Wool Felt Crushable Cowb...   \n",
       "1  B005GKDL8W  Stetson Men's Bozeman Wool Felt Crushable Cowb...   \n",
       "2  B003WYFH8G                                          M / Black   \n",
       "3  B00WTSLPQO  M&F Western Unisex Twister Wool Cowboy Hat w/F...   \n",
       "4  B00IPS7F20  Pink Cowboy Cowgirl Tiara Felt Light up Prince...   \n",
       "\n",
       "                                         description  \\\n",
       "0  [The Stetson Bozeman Crushable Wool Felt Hat f...   \n",
       "1  [The Stetson Bozeman Crushable Wool Felt Hat f...   \n",
       "2  [Features:* Crushable Hat* 3\" Brim* Water Repe...   \n",
       "3  [The M&F Western™ Twister Wool Cowboy Hat w/ F...   \n",
       "4  [Perfect for your next rodeo or western-themed...   \n",
       "\n",
       "                                  result  \n",
       "0  (muy_recomendado, 1.5622353223103496)  \n",
       "1  (muy_recomendado, 1.5622353223103496)  \n",
       "2      (recomendado, 0.9999602701628987)  \n",
       "3  (no_recomendado, 0.04978959551425497)  \n",
       "4  (no_recomendado, 0.04785961534213451)  "
      ]
     },
     "metadata": {},
     "output_type": "display_data"
    },
    {
     "name": "stdout",
     "output_type": "stream",
     "text": [
      "Producto seleccionado: \n"
     ]
    },
    {
     "data": {
      "text/html": [
       "<div>\n",
       "<style scoped>\n",
       "    .dataframe tbody tr th:only-of-type {\n",
       "        vertical-align: middle;\n",
       "    }\n",
       "\n",
       "    .dataframe tbody tr th {\n",
       "        vertical-align: top;\n",
       "    }\n",
       "\n",
       "    .dataframe thead th {\n",
       "        text-align: right;\n",
       "    }\n",
       "</style>\n",
       "<table border=\"1\" class=\"dataframe\">\n",
       "  <thead>\n",
       "    <tr style=\"text-align: right;\">\n",
       "      <th></th>\n",
       "      <th>asin</th>\n",
       "      <th>title</th>\n",
       "      <th>description</th>\n",
       "    </tr>\n",
       "  </thead>\n",
       "  <tbody>\n",
       "    <tr>\n",
       "      <th>52499</th>\n",
       "      <td>B00LW85T6Y</td>\n",
       "      <td>Maltese Cross Pocket Watch</td>\n",
       "      <td>[Maltese Cross Pocket Watch]</td>\n",
       "    </tr>\n",
       "  </tbody>\n",
       "</table>\n",
       "</div>"
      ],
      "text/plain": [
       "             asin                       title                   description\n",
       "52499  B00LW85T6Y  Maltese Cross Pocket Watch  [Maltese Cross Pocket Watch]"
      ]
     },
     "metadata": {},
     "output_type": "display_data"
    },
    {
     "name": "stdout",
     "output_type": "stream",
     "text": [
      "Productos recomendados:\n"
     ]
    },
    {
     "data": {
      "text/html": [
       "<div>\n",
       "<style scoped>\n",
       "    .dataframe tbody tr th:only-of-type {\n",
       "        vertical-align: middle;\n",
       "    }\n",
       "\n",
       "    .dataframe tbody tr th {\n",
       "        vertical-align: top;\n",
       "    }\n",
       "\n",
       "    .dataframe thead th {\n",
       "        text-align: right;\n",
       "    }\n",
       "</style>\n",
       "<table border=\"1\" class=\"dataframe\">\n",
       "  <thead>\n",
       "    <tr style=\"text-align: right;\">\n",
       "      <th></th>\n",
       "      <th>asin</th>\n",
       "      <th>title</th>\n",
       "      <th>description</th>\n",
       "      <th>result</th>\n",
       "    </tr>\n",
       "  </thead>\n",
       "  <tbody>\n",
       "    <tr>\n",
       "      <th>0</th>\n",
       "      <td>B007JRMN0M</td>\n",
       "      <td>Gold Horse Pocket Watch Necklace Watch Quartz ...</td>\n",
       "      <td>[Package contents:  1x GOLD HORSE POCKET WATCH]</td>\n",
       "      <td>(recomendado, 0.5992191939543055)</td>\n",
       "    </tr>\n",
       "    <tr>\n",
       "      <th>1</th>\n",
       "      <td>B005WP28OE</td>\n",
       "      <td>York Rite Maltese Malta Cross Masonic Freemaso...</td>\n",
       "      <td>[This lapel pin is made of the best quality ma...</td>\n",
       "      <td>(recomendado, 0.5984383131721449)</td>\n",
       "    </tr>\n",
       "    <tr>\n",
       "      <th>2</th>\n",
       "      <td>B003TOEWL2</td>\n",
       "      <td>Sterling Silver Cross Necklace</td>\n",
       "      <td>[This necklace features a cross design and a s...</td>\n",
       "      <td>(recomendado, 0.5979244747157568)</td>\n",
       "    </tr>\n",
       "    <tr>\n",
       "      <th>3</th>\n",
       "      <td>B00IMC5E7M</td>\n",
       "      <td>Antique Necklace-style Pocket Quartz Watch wit...</td>\n",
       "      <td>[This item is Antique Necklace-style Pocket Qu...</td>\n",
       "      <td>(recomendado, 0.6130117349786234)</td>\n",
       "    </tr>\n",
       "    <tr>\n",
       "      <th>4</th>\n",
       "      <td>B00XWXPQDI</td>\n",
       "      <td>Spiral Galaxy Necklace Outer Space Milky Way A...</td>\n",
       "      <td>[material alloy Measurements: watch: 40mm diam...</td>\n",
       "      <td>(no_recomendado, 0.048835760639137665)</td>\n",
       "    </tr>\n",
       "  </tbody>\n",
       "</table>\n",
       "</div>"
      ],
      "text/plain": [
       "         asin                                              title  \\\n",
       "0  B007JRMN0M  Gold Horse Pocket Watch Necklace Watch Quartz ...   \n",
       "1  B005WP28OE  York Rite Maltese Malta Cross Masonic Freemaso...   \n",
       "2  B003TOEWL2                     Sterling Silver Cross Necklace   \n",
       "3  B00IMC5E7M  Antique Necklace-style Pocket Quartz Watch wit...   \n",
       "4  B00XWXPQDI  Spiral Galaxy Necklace Outer Space Milky Way A...   \n",
       "\n",
       "                                         description  \\\n",
       "0    [Package contents:  1x GOLD HORSE POCKET WATCH]   \n",
       "1  [This lapel pin is made of the best quality ma...   \n",
       "2  [This necklace features a cross design and a s...   \n",
       "3  [This item is Antique Necklace-style Pocket Qu...   \n",
       "4  [material alloy Measurements: watch: 40mm diam...   \n",
       "\n",
       "                                   result  \n",
       "0       (recomendado, 0.5992191939543055)  \n",
       "1       (recomendado, 0.5984383131721449)  \n",
       "2       (recomendado, 0.5979244747157568)  \n",
       "3       (recomendado, 0.6130117349786234)  \n",
       "4  (no_recomendado, 0.048835760639137665)  "
      ]
     },
     "metadata": {},
     "output_type": "display_data"
    },
    {
     "name": "stdout",
     "output_type": "stream",
     "text": [
      "Producto seleccionado: \n"
     ]
    },
    {
     "data": {
      "text/html": [
       "<div>\n",
       "<style scoped>\n",
       "    .dataframe tbody tr th:only-of-type {\n",
       "        vertical-align: middle;\n",
       "    }\n",
       "\n",
       "    .dataframe tbody tr th {\n",
       "        vertical-align: top;\n",
       "    }\n",
       "\n",
       "    .dataframe thead th {\n",
       "        text-align: right;\n",
       "    }\n",
       "</style>\n",
       "<table border=\"1\" class=\"dataframe\">\n",
       "  <thead>\n",
       "    <tr style=\"text-align: right;\">\n",
       "      <th></th>\n",
       "      <th>asin</th>\n",
       "      <th>title</th>\n",
       "      <th>description</th>\n",
       "    </tr>\n",
       "  </thead>\n",
       "  <tbody>\n",
       "    <tr>\n",
       "      <th>95007</th>\n",
       "      <td>B00YPZC8DS</td>\n",
       "      <td>Boys Hero Beanie Hat - Red - Knit Winter Kids ...</td>\n",
       "      <td>[FAST SHIPPING - FUNKY &amp; FUN KNIT WINTER SKI H...</td>\n",
       "    </tr>\n",
       "  </tbody>\n",
       "</table>\n",
       "</div>"
      ],
      "text/plain": [
       "             asin                                              title  \\\n",
       "95007  B00YPZC8DS  Boys Hero Beanie Hat - Red - Knit Winter Kids ...   \n",
       "\n",
       "                                             description  \n",
       "95007  [FAST SHIPPING - FUNKY & FUN KNIT WINTER SKI H...  "
      ]
     },
     "metadata": {},
     "output_type": "display_data"
    },
    {
     "name": "stdout",
     "output_type": "stream",
     "text": [
      "Productos recomendados:\n"
     ]
    },
    {
     "data": {
      "text/html": [
       "<div>\n",
       "<style scoped>\n",
       "    .dataframe tbody tr th:only-of-type {\n",
       "        vertical-align: middle;\n",
       "    }\n",
       "\n",
       "    .dataframe tbody tr th {\n",
       "        vertical-align: top;\n",
       "    }\n",
       "\n",
       "    .dataframe thead th {\n",
       "        text-align: right;\n",
       "    }\n",
       "</style>\n",
       "<table border=\"1\" class=\"dataframe\">\n",
       "  <thead>\n",
       "    <tr style=\"text-align: right;\">\n",
       "      <th></th>\n",
       "      <th>asin</th>\n",
       "      <th>title</th>\n",
       "      <th>description</th>\n",
       "      <th>result</th>\n",
       "    </tr>\n",
       "  </thead>\n",
       "  <tbody>\n",
       "    <tr>\n",
       "      <th>0</th>\n",
       "      <td>B00QW28K02</td>\n",
       "      <td>Sidecca Winter Knit Stripe Slouchy Beanie Hat-...</td>\n",
       "      <td>[Unisex Warm Chunky Ribbed Cable Knit Beanie S...</td>\n",
       "      <td>(recomendado, 0.5995902838747502)</td>\n",
       "    </tr>\n",
       "    <tr>\n",
       "      <th>1</th>\n",
       "      <td>B00GZLCC90</td>\n",
       "      <td>ArRord Braided Women Lady Warm Rageared Baggy ...</td>\n",
       "      <td>[ArRord Braided Women Lady Warm Rageared Baggy...</td>\n",
       "      <td>(recomendado, 0.6027713027713024)</td>\n",
       "    </tr>\n",
       "    <tr>\n",
       "      <th>2</th>\n",
       "      <td>B00NM9KK1U</td>\n",
       "      <td>PanDaDa Baby Boys Winter Hats Caps Hat Beanie ...</td>\n",
       "      <td>[Urparcel Baby Boys Earflap Hats Winter Cap Ha...</td>\n",
       "      <td>(recomendado, 0.6916642228533213)</td>\n",
       "    </tr>\n",
       "    <tr>\n",
       "      <th>3</th>\n",
       "      <td>B00NP254JW</td>\n",
       "      <td>Unisex Ski Wacky Beard Knit Winter Hat Beanie</td>\n",
       "      <td>[Soft and comfortable, protect you from cold w...</td>\n",
       "      <td>(recomendado, 0.6868499294224806)</td>\n",
       "    </tr>\n",
       "    <tr>\n",
       "      <th>4</th>\n",
       "      <td>B0149GU5HI</td>\n",
       "      <td>Red White Pom Pom Cuff Knit Beanie Hat</td>\n",
       "      <td>[Our Red White Pom Pom Beanie is a classic bea...</td>\n",
       "      <td>(recomendado, 0.6777112168601196)</td>\n",
       "    </tr>\n",
       "  </tbody>\n",
       "</table>\n",
       "</div>"
      ],
      "text/plain": [
       "         asin                                              title  \\\n",
       "0  B00QW28K02  Sidecca Winter Knit Stripe Slouchy Beanie Hat-...   \n",
       "1  B00GZLCC90  ArRord Braided Women Lady Warm Rageared Baggy ...   \n",
       "2  B00NM9KK1U  PanDaDa Baby Boys Winter Hats Caps Hat Beanie ...   \n",
       "3  B00NP254JW      Unisex Ski Wacky Beard Knit Winter Hat Beanie   \n",
       "4  B0149GU5HI             Red White Pom Pom Cuff Knit Beanie Hat   \n",
       "\n",
       "                                         description  \\\n",
       "0  [Unisex Warm Chunky Ribbed Cable Knit Beanie S...   \n",
       "1  [ArRord Braided Women Lady Warm Rageared Baggy...   \n",
       "2  [Urparcel Baby Boys Earflap Hats Winter Cap Ha...   \n",
       "3  [Soft and comfortable, protect you from cold w...   \n",
       "4  [Our Red White Pom Pom Beanie is a classic bea...   \n",
       "\n",
       "                              result  \n",
       "0  (recomendado, 0.5995902838747502)  \n",
       "1  (recomendado, 0.6027713027713024)  \n",
       "2  (recomendado, 0.6916642228533213)  \n",
       "3  (recomendado, 0.6868499294224806)  \n",
       "4  (recomendado, 0.6777112168601196)  "
      ]
     },
     "metadata": {},
     "output_type": "display_data"
    }
   ],
   "source": [
    "for i in range(4):\n",
    "    producto_encontrado = df_meta_cortado.loc[df_meta_cortado['asin'] == random_asin_valores[i], ['asin', 'title', 'description']] \n",
    "    print(\"Producto seleccionado: \")\n",
    "    display(producto_encontrado)\n",
    "    resultado_completo = pd.merge(final_results[i], df_meta_cortado, on='asin')[['asin', 'title', 'description', 'result']]\n",
    "    print(\"Productos recomendados:\")\n",
    "    display(resultado_completo.head(5))\n"
   ]
  }
 ],
 "metadata": {
  "kernelspec": {
   "display_name": "Python 3",
   "language": "python",
   "name": "python3"
  },
  "language_info": {
   "codemirror_mode": {
    "name": "ipython",
    "version": 3
   },
   "file_extension": ".py",
   "mimetype": "text/x-python",
   "name": "python",
   "nbconvert_exporter": "python",
   "pygments_lexer": "ipython3",
   "version": "3.11.3"
  }
 },
 "nbformat": 4,
 "nbformat_minor": 2
}
