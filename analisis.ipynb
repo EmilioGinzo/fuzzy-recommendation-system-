{
 "cells": [
  {
   "cell_type": "markdown",
   "metadata": {},
   "source": [
    " - combinar las tablas\n",
    " - limpiar datos\n",
    " - combinar las columnas title, brand, summary, description en una nueva columna\n",
    " - tokenizar la nueva columnas combinada\n",
    " - calcular similitud con la similitud de los items tokenizados del coseno\n",
    " - ordenar descendentemente los items similares => lista 1\n",
    " - los que son muy similares los eliminamos de la lista\n",
    " - agarramos algunos items de la lista y calculamos el mean del overall\n",
    " - ordenamos nuevamente descendentemente pero esta vez basados en el overall mean => lista2\n",
    " - recomendamos los 10 primeros de la lista 2\n",
    "\n"
   ]
  },
  {
   "cell_type": "code",
   "execution_count": 2,
   "metadata": {},
   "outputs": [],
   "source": [
    "import nltk\n",
    "import json\n",
    "import pandas as pd\n",
    "import gzip\n",
    "import numpy as np\n",
    "import matplotlib.pyplot as plt\n",
    "import seaborn as sns"
   ]
  },
  {
   "cell_type": "code",
   "execution_count": 3,
   "metadata": {},
   "outputs": [],
   "source": [
    "PATH = 'C:/Users/coraj/Documents/fuzzy-recommendation-system-/AMAZON_FASHION.json.gz'\n",
    "\n",
    "def parse(path):\n",
    "  g = gzip.open(path, 'rb')\n",
    "  for l in g:\n",
    "    yield json.loads(l)\n",
    "\n",
    "def getDF(path):\n",
    "  i = 0\n",
    "  df = {}\n",
    "  for d in parse(path):\n",
    "    df[i] = d\n",
    "    i += 1\n",
    "  return pd.DataFrame.from_dict(df, orient='index')\n",
    "\n",
    "df = getDF(PATH)"
   ]
  },
  {
   "cell_type": "code",
   "execution_count": 4,
   "metadata": {},
   "outputs": [
    {
     "data": {
      "text/html": [
       "<div>\n",
       "<style scoped>\n",
       "    .dataframe tbody tr th:only-of-type {\n",
       "        vertical-align: middle;\n",
       "    }\n",
       "\n",
       "    .dataframe tbody tr th {\n",
       "        vertical-align: top;\n",
       "    }\n",
       "\n",
       "    .dataframe thead th {\n",
       "        text-align: right;\n",
       "    }\n",
       "</style>\n",
       "<table border=\"1\" class=\"dataframe\">\n",
       "  <thead>\n",
       "    <tr style=\"text-align: right;\">\n",
       "      <th></th>\n",
       "      <th>overall</th>\n",
       "      <th>verified</th>\n",
       "      <th>reviewTime</th>\n",
       "      <th>reviewerID</th>\n",
       "      <th>asin</th>\n",
       "      <th>reviewerName</th>\n",
       "      <th>reviewText</th>\n",
       "      <th>summary</th>\n",
       "      <th>unixReviewTime</th>\n",
       "      <th>vote</th>\n",
       "      <th>style</th>\n",
       "      <th>image</th>\n",
       "    </tr>\n",
       "  </thead>\n",
       "  <tbody>\n",
       "    <tr>\n",
       "      <th>0</th>\n",
       "      <td>5.0</td>\n",
       "      <td>True</td>\n",
       "      <td>10 20, 2014</td>\n",
       "      <td>A1D4G1SNUZWQOT</td>\n",
       "      <td>7106116521</td>\n",
       "      <td>Tracy</td>\n",
       "      <td>Exactly what I needed.</td>\n",
       "      <td>perfect replacements!!</td>\n",
       "      <td>1413763200</td>\n",
       "      <td>NaN</td>\n",
       "      <td>NaN</td>\n",
       "      <td>NaN</td>\n",
       "    </tr>\n",
       "    <tr>\n",
       "      <th>1</th>\n",
       "      <td>2.0</td>\n",
       "      <td>True</td>\n",
       "      <td>09 28, 2014</td>\n",
       "      <td>A3DDWDH9PX2YX2</td>\n",
       "      <td>7106116521</td>\n",
       "      <td>Sonja Lau</td>\n",
       "      <td>I agree with the other review, the opening is ...</td>\n",
       "      <td>I agree with the other review, the opening is ...</td>\n",
       "      <td>1411862400</td>\n",
       "      <td>3</td>\n",
       "      <td>NaN</td>\n",
       "      <td>NaN</td>\n",
       "    </tr>\n",
       "    <tr>\n",
       "      <th>2</th>\n",
       "      <td>4.0</td>\n",
       "      <td>False</td>\n",
       "      <td>08 25, 2014</td>\n",
       "      <td>A2MWC41EW7XL15</td>\n",
       "      <td>7106116521</td>\n",
       "      <td>Kathleen</td>\n",
       "      <td>Love these... I am going to order another pack...</td>\n",
       "      <td>My New 'Friends' !!</td>\n",
       "      <td>1408924800</td>\n",
       "      <td>NaN</td>\n",
       "      <td>NaN</td>\n",
       "      <td>NaN</td>\n",
       "    </tr>\n",
       "    <tr>\n",
       "      <th>3</th>\n",
       "      <td>2.0</td>\n",
       "      <td>True</td>\n",
       "      <td>08 24, 2014</td>\n",
       "      <td>A2UH2QQ275NV45</td>\n",
       "      <td>7106116521</td>\n",
       "      <td>Jodi Stoner</td>\n",
       "      <td>too tiny an opening</td>\n",
       "      <td>Two Stars</td>\n",
       "      <td>1408838400</td>\n",
       "      <td>NaN</td>\n",
       "      <td>NaN</td>\n",
       "      <td>NaN</td>\n",
       "    </tr>\n",
       "    <tr>\n",
       "      <th>4</th>\n",
       "      <td>3.0</td>\n",
       "      <td>False</td>\n",
       "      <td>07 27, 2014</td>\n",
       "      <td>A89F3LQADZBS5</td>\n",
       "      <td>7106116521</td>\n",
       "      <td>Alexander D.</td>\n",
       "      <td>Okay</td>\n",
       "      <td>Three Stars</td>\n",
       "      <td>1406419200</td>\n",
       "      <td>NaN</td>\n",
       "      <td>NaN</td>\n",
       "      <td>NaN</td>\n",
       "    </tr>\n",
       "  </tbody>\n",
       "</table>\n",
       "</div>"
      ],
      "text/plain": [
       "   overall  verified   reviewTime      reviewerID        asin  reviewerName  \\\n",
       "0      5.0      True  10 20, 2014  A1D4G1SNUZWQOT  7106116521         Tracy   \n",
       "1      2.0      True  09 28, 2014  A3DDWDH9PX2YX2  7106116521     Sonja Lau   \n",
       "2      4.0     False  08 25, 2014  A2MWC41EW7XL15  7106116521      Kathleen   \n",
       "3      2.0      True  08 24, 2014  A2UH2QQ275NV45  7106116521   Jodi Stoner   \n",
       "4      3.0     False  07 27, 2014   A89F3LQADZBS5  7106116521  Alexander D.   \n",
       "\n",
       "                                          reviewText  \\\n",
       "0                             Exactly what I needed.   \n",
       "1  I agree with the other review, the opening is ...   \n",
       "2  Love these... I am going to order another pack...   \n",
       "3                                too tiny an opening   \n",
       "4                                               Okay   \n",
       "\n",
       "                                             summary  unixReviewTime vote  \\\n",
       "0                             perfect replacements!!      1413763200  NaN   \n",
       "1  I agree with the other review, the opening is ...      1411862400    3   \n",
       "2                                My New 'Friends' !!      1408924800  NaN   \n",
       "3                                          Two Stars      1408838400  NaN   \n",
       "4                                        Three Stars      1406419200  NaN   \n",
       "\n",
       "  style image  \n",
       "0   NaN   NaN  \n",
       "1   NaN   NaN  \n",
       "2   NaN   NaN  \n",
       "3   NaN   NaN  \n",
       "4   NaN   NaN  "
      ]
     },
     "execution_count": 4,
     "metadata": {},
     "output_type": "execute_result"
    }
   ],
   "source": [
    "df.head()"
   ]
  },
  {
   "cell_type": "code",
   "execution_count": 5,
   "metadata": {},
   "outputs": [
    {
     "data": {
      "text/plain": [
       "(883636, 12)"
      ]
     },
     "execution_count": 5,
     "metadata": {},
     "output_type": "execute_result"
    }
   ],
   "source": [
    "df.shape"
   ]
  },
  {
   "cell_type": "code",
   "execution_count": 6,
   "metadata": {},
   "outputs": [
    {
     "data": {
      "text/html": [
       "<div>\n",
       "<style scoped>\n",
       "    .dataframe tbody tr th:only-of-type {\n",
       "        vertical-align: middle;\n",
       "    }\n",
       "\n",
       "    .dataframe tbody tr th {\n",
       "        vertical-align: top;\n",
       "    }\n",
       "\n",
       "    .dataframe thead th {\n",
       "        text-align: right;\n",
       "    }\n",
       "</style>\n",
       "<table border=\"1\" class=\"dataframe\">\n",
       "  <thead>\n",
       "    <tr style=\"text-align: right;\">\n",
       "      <th></th>\n",
       "      <th>title</th>\n",
       "      <th>brand</th>\n",
       "      <th>feature</th>\n",
       "      <th>rank</th>\n",
       "      <th>date</th>\n",
       "      <th>asin</th>\n",
       "      <th>imageURL</th>\n",
       "      <th>imageURLHighRes</th>\n",
       "      <th>description</th>\n",
       "      <th>price</th>\n",
       "      <th>also_view</th>\n",
       "      <th>also_buy</th>\n",
       "      <th>fit</th>\n",
       "      <th>details</th>\n",
       "      <th>similar_item</th>\n",
       "      <th>tech1</th>\n",
       "    </tr>\n",
       "  </thead>\n",
       "  <tbody>\n",
       "    <tr>\n",
       "      <th>0</th>\n",
       "      <td>Slime Time Fall Fest [With CDROM and Collector...</td>\n",
       "      <td>Group Publishing (CO)</td>\n",
       "      <td>[Product Dimensions:\\n                    \\n8....</td>\n",
       "      <td>13,052,976inClothing,Shoesamp;Jewelry(</td>\n",
       "      <td>8.70 inches</td>\n",
       "      <td>0764443682</td>\n",
       "      <td>[https://images-na.ssl-images-amazon.com/image...</td>\n",
       "      <td>[https://images-na.ssl-images-amazon.com/image...</td>\n",
       "      <td>NaN</td>\n",
       "      <td>NaN</td>\n",
       "      <td>NaN</td>\n",
       "      <td>NaN</td>\n",
       "      <td>NaN</td>\n",
       "      <td>NaN</td>\n",
       "      <td>NaN</td>\n",
       "      <td>NaN</td>\n",
       "    </tr>\n",
       "    <tr>\n",
       "      <th>1</th>\n",
       "      <td>XCC Qi promise new spider snake preparing men'...</td>\n",
       "      <td>NaN</td>\n",
       "      <td>NaN</td>\n",
       "      <td>11,654,581inClothing,Shoesamp;Jewelry(</td>\n",
       "      <td>5 star</td>\n",
       "      <td>1291691480</td>\n",
       "      <td>[https://images-na.ssl-images-amazon.com/image...</td>\n",
       "      <td>[https://images-na.ssl-images-amazon.com/image...</td>\n",
       "      <td>NaN</td>\n",
       "      <td>NaN</td>\n",
       "      <td>NaN</td>\n",
       "      <td>NaN</td>\n",
       "      <td>NaN</td>\n",
       "      <td>NaN</td>\n",
       "      <td>NaN</td>\n",
       "      <td>NaN</td>\n",
       "    </tr>\n",
       "    <tr>\n",
       "      <th>2</th>\n",
       "      <td>Magical Things I Really Do Do Too!</td>\n",
       "      <td>Christopher Manos</td>\n",
       "      <td>[Package Dimensions:\\n                    \\n8....</td>\n",
       "      <td>19,308,073inClothing,ShoesJewelry(</td>\n",
       "      <td>5 star</td>\n",
       "      <td>1940280001</td>\n",
       "      <td>[https://images-na.ssl-images-amazon.com/image...</td>\n",
       "      <td>[https://images-na.ssl-images-amazon.com/image...</td>\n",
       "      <td>[For the professional or amateur magician.  Ro...</td>\n",
       "      <td>NaN</td>\n",
       "      <td>NaN</td>\n",
       "      <td>NaN</td>\n",
       "      <td>NaN</td>\n",
       "      <td>NaN</td>\n",
       "      <td>NaN</td>\n",
       "      <td>NaN</td>\n",
       "    </tr>\n",
       "    <tr>\n",
       "      <th>3</th>\n",
       "      <td>Ashes to Ashes, Oranges to Oranges</td>\n",
       "      <td>Flickerlamp Publishing</td>\n",
       "      <td>[Package Dimensions:\\n                    \\n8....</td>\n",
       "      <td>19,734,184inClothing,ShoesJewelry(</td>\n",
       "      <td>5 star</td>\n",
       "      <td>1940735033</td>\n",
       "      <td>[https://images-na.ssl-images-amazon.com/image...</td>\n",
       "      <td>[https://images-na.ssl-images-amazon.com/image...</td>\n",
       "      <td>NaN</td>\n",
       "      <td>NaN</td>\n",
       "      <td>NaN</td>\n",
       "      <td>NaN</td>\n",
       "      <td>NaN</td>\n",
       "      <td>NaN</td>\n",
       "      <td>NaN</td>\n",
       "      <td>NaN</td>\n",
       "    </tr>\n",
       "    <tr>\n",
       "      <th>4</th>\n",
       "      <td>Aether &amp; Empire #1 - 2016 First Printing Comic...</td>\n",
       "      <td>NaN</td>\n",
       "      <td>[Package Dimensions:\\n                    \\n10...</td>\n",
       "      <td>10,558,646inClothing,Shoesamp;Jewelry(</td>\n",
       "      <td>5 star</td>\n",
       "      <td>1940967805</td>\n",
       "      <td>[https://images-na.ssl-images-amazon.com/image...</td>\n",
       "      <td>[https://images-na.ssl-images-amazon.com/image...</td>\n",
       "      <td>NaN</td>\n",
       "      <td>$4.50</td>\n",
       "      <td>NaN</td>\n",
       "      <td>NaN</td>\n",
       "      <td>NaN</td>\n",
       "      <td>NaN</td>\n",
       "      <td>NaN</td>\n",
       "      <td>NaN</td>\n",
       "    </tr>\n",
       "  </tbody>\n",
       "</table>\n",
       "</div>"
      ],
      "text/plain": [
       "                                               title                   brand  \\\n",
       "0  Slime Time Fall Fest [With CDROM and Collector...   Group Publishing (CO)   \n",
       "1  XCC Qi promise new spider snake preparing men'...                     NaN   \n",
       "2                 Magical Things I Really Do Do Too!       Christopher Manos   \n",
       "3                 Ashes to Ashes, Oranges to Oranges  Flickerlamp Publishing   \n",
       "4  Aether & Empire #1 - 2016 First Printing Comic...                     NaN   \n",
       "\n",
       "                                             feature  \\\n",
       "0  [Product Dimensions:\\n                    \\n8....   \n",
       "1                                                NaN   \n",
       "2  [Package Dimensions:\\n                    \\n8....   \n",
       "3  [Package Dimensions:\\n                    \\n8....   \n",
       "4  [Package Dimensions:\\n                    \\n10...   \n",
       "\n",
       "                                     rank         date        asin  \\\n",
       "0  13,052,976inClothing,Shoesamp;Jewelry(  8.70 inches  0764443682   \n",
       "1  11,654,581inClothing,Shoesamp;Jewelry(       5 star  1291691480   \n",
       "2      19,308,073inClothing,ShoesJewelry(       5 star  1940280001   \n",
       "3      19,734,184inClothing,ShoesJewelry(       5 star  1940735033   \n",
       "4  10,558,646inClothing,Shoesamp;Jewelry(       5 star  1940967805   \n",
       "\n",
       "                                            imageURL  \\\n",
       "0  [https://images-na.ssl-images-amazon.com/image...   \n",
       "1  [https://images-na.ssl-images-amazon.com/image...   \n",
       "2  [https://images-na.ssl-images-amazon.com/image...   \n",
       "3  [https://images-na.ssl-images-amazon.com/image...   \n",
       "4  [https://images-na.ssl-images-amazon.com/image...   \n",
       "\n",
       "                                     imageURLHighRes  \\\n",
       "0  [https://images-na.ssl-images-amazon.com/image...   \n",
       "1  [https://images-na.ssl-images-amazon.com/image...   \n",
       "2  [https://images-na.ssl-images-amazon.com/image...   \n",
       "3  [https://images-na.ssl-images-amazon.com/image...   \n",
       "4  [https://images-na.ssl-images-amazon.com/image...   \n",
       "\n",
       "                                         description  price also_view  \\\n",
       "0                                                NaN    NaN       NaN   \n",
       "1                                                NaN    NaN       NaN   \n",
       "2  [For the professional or amateur magician.  Ro...    NaN       NaN   \n",
       "3                                                NaN    NaN       NaN   \n",
       "4                                                NaN  $4.50       NaN   \n",
       "\n",
       "  also_buy  fit details similar_item tech1  \n",
       "0      NaN  NaN     NaN          NaN   NaN  \n",
       "1      NaN  NaN     NaN          NaN   NaN  \n",
       "2      NaN  NaN     NaN          NaN   NaN  \n",
       "3      NaN  NaN     NaN          NaN   NaN  \n",
       "4      NaN  NaN     NaN          NaN   NaN  "
      ]
     },
     "execution_count": 6,
     "metadata": {},
     "output_type": "execute_result"
    }
   ],
   "source": [
    "PATH = 'C:/Users/coraj/Documents/fuzzy-recommendation-system-/meta_AMAZON_FASHION.json.gz'\n",
    "\n",
    "def parse(path):\n",
    "  g = gzip.open(path, 'rb')\n",
    "  for l in g:\n",
    "    yield json.loads(l)\n",
    "\n",
    "def getDF(path):\n",
    "  i = 0\n",
    "  df = {}\n",
    "  for d in parse(path):\n",
    "    df[i] = d\n",
    "    i += 1\n",
    "  return pd.DataFrame.from_dict(df, orient='index')\n",
    "\n",
    "df_meta = getDF(PATH)\n",
    "df_meta.head()\n"
   ]
  },
  {
   "cell_type": "code",
   "execution_count": 26,
   "metadata": {},
   "outputs": [
    {
     "data": {
      "text/html": [
       "<div>\n",
       "<style scoped>\n",
       "    .dataframe tbody tr th:only-of-type {\n",
       "        vertical-align: middle;\n",
       "    }\n",
       "\n",
       "    .dataframe tbody tr th {\n",
       "        vertical-align: top;\n",
       "    }\n",
       "\n",
       "    .dataframe thead th {\n",
       "        text-align: right;\n",
       "    }\n",
       "</style>\n",
       "<table border=\"1\" class=\"dataframe\">\n",
       "  <thead>\n",
       "    <tr style=\"text-align: right;\">\n",
       "      <th></th>\n",
       "      <th>overall</th>\n",
       "      <th>verified</th>\n",
       "      <th>reviewTime</th>\n",
       "      <th>reviewerID</th>\n",
       "      <th>asin</th>\n",
       "      <th>reviewerName</th>\n",
       "      <th>reviewText</th>\n",
       "      <th>summary</th>\n",
       "      <th>unixReviewTime</th>\n",
       "      <th>vote</th>\n",
       "      <th>style</th>\n",
       "      <th>image</th>\n",
       "      <th>title</th>\n",
       "      <th>brand</th>\n",
       "      <th>feature</th>\n",
       "      <th>rank</th>\n",
       "      <th>date</th>\n",
       "      <th>imageURL</th>\n",
       "      <th>imageURLHighRes</th>\n",
       "      <th>description</th>\n",
       "      <th>price</th>\n",
       "      <th>also_view</th>\n",
       "      <th>also_buy</th>\n",
       "      <th>fit</th>\n",
       "      <th>details</th>\n",
       "      <th>similar_item</th>\n",
       "      <th>tech1</th>\n",
       "    </tr>\n",
       "  </thead>\n",
       "  <tbody>\n",
       "    <tr>\n",
       "      <th>0</th>\n",
       "      <td>5.0</td>\n",
       "      <td>True</td>\n",
       "      <td>10 20, 2014</td>\n",
       "      <td>A1D4G1SNUZWQOT</td>\n",
       "      <td>7106116521</td>\n",
       "      <td>Tracy</td>\n",
       "      <td>Exactly what I needed.</td>\n",
       "      <td>perfect replacements!!</td>\n",
       "      <td>1413763200</td>\n",
       "      <td>NaN</td>\n",
       "      <td>NaN</td>\n",
       "      <td>NaN</td>\n",
       "      <td>Milliongadgets(TM) Earring Safety Backs For Fi...</td>\n",
       "      <td>NaN</td>\n",
       "      <td>NaN</td>\n",
       "      <td>2,081,098inClothing,ShoesJewelry(</td>\n",
       "      <td>fishhook</td>\n",
       "      <td>[https://images-na.ssl-images-amazon.com/image...</td>\n",
       "      <td>[https://images-na.ssl-images-amazon.com/image...</td>\n",
       "      <td>NaN</td>\n",
       "      <td>NaN</td>\n",
       "      <td>NaN</td>\n",
       "      <td>NaN</td>\n",
       "      <td>NaN</td>\n",
       "      <td>NaN</td>\n",
       "      <td>NaN</td>\n",
       "      <td>NaN</td>\n",
       "    </tr>\n",
       "    <tr>\n",
       "      <th>1</th>\n",
       "      <td>2.0</td>\n",
       "      <td>True</td>\n",
       "      <td>09 28, 2014</td>\n",
       "      <td>A3DDWDH9PX2YX2</td>\n",
       "      <td>7106116521</td>\n",
       "      <td>Sonja Lau</td>\n",
       "      <td>I agree with the other review, the opening is ...</td>\n",
       "      <td>I agree with the other review, the opening is ...</td>\n",
       "      <td>1411862400</td>\n",
       "      <td>3</td>\n",
       "      <td>NaN</td>\n",
       "      <td>NaN</td>\n",
       "      <td>Milliongadgets(TM) Earring Safety Backs For Fi...</td>\n",
       "      <td>NaN</td>\n",
       "      <td>NaN</td>\n",
       "      <td>2,081,098inClothing,ShoesJewelry(</td>\n",
       "      <td>fishhook</td>\n",
       "      <td>[https://images-na.ssl-images-amazon.com/image...</td>\n",
       "      <td>[https://images-na.ssl-images-amazon.com/image...</td>\n",
       "      <td>NaN</td>\n",
       "      <td>NaN</td>\n",
       "      <td>NaN</td>\n",
       "      <td>NaN</td>\n",
       "      <td>NaN</td>\n",
       "      <td>NaN</td>\n",
       "      <td>NaN</td>\n",
       "      <td>NaN</td>\n",
       "    </tr>\n",
       "    <tr>\n",
       "      <th>2</th>\n",
       "      <td>4.0</td>\n",
       "      <td>False</td>\n",
       "      <td>08 25, 2014</td>\n",
       "      <td>A2MWC41EW7XL15</td>\n",
       "      <td>7106116521</td>\n",
       "      <td>Kathleen</td>\n",
       "      <td>Love these... I am going to order another pack...</td>\n",
       "      <td>My New 'Friends' !!</td>\n",
       "      <td>1408924800</td>\n",
       "      <td>NaN</td>\n",
       "      <td>NaN</td>\n",
       "      <td>NaN</td>\n",
       "      <td>Milliongadgets(TM) Earring Safety Backs For Fi...</td>\n",
       "      <td>NaN</td>\n",
       "      <td>NaN</td>\n",
       "      <td>2,081,098inClothing,ShoesJewelry(</td>\n",
       "      <td>fishhook</td>\n",
       "      <td>[https://images-na.ssl-images-amazon.com/image...</td>\n",
       "      <td>[https://images-na.ssl-images-amazon.com/image...</td>\n",
       "      <td>NaN</td>\n",
       "      <td>NaN</td>\n",
       "      <td>NaN</td>\n",
       "      <td>NaN</td>\n",
       "      <td>NaN</td>\n",
       "      <td>NaN</td>\n",
       "      <td>NaN</td>\n",
       "      <td>NaN</td>\n",
       "    </tr>\n",
       "    <tr>\n",
       "      <th>3</th>\n",
       "      <td>2.0</td>\n",
       "      <td>True</td>\n",
       "      <td>08 24, 2014</td>\n",
       "      <td>A2UH2QQ275NV45</td>\n",
       "      <td>7106116521</td>\n",
       "      <td>Jodi Stoner</td>\n",
       "      <td>too tiny an opening</td>\n",
       "      <td>Two Stars</td>\n",
       "      <td>1408838400</td>\n",
       "      <td>NaN</td>\n",
       "      <td>NaN</td>\n",
       "      <td>NaN</td>\n",
       "      <td>Milliongadgets(TM) Earring Safety Backs For Fi...</td>\n",
       "      <td>NaN</td>\n",
       "      <td>NaN</td>\n",
       "      <td>2,081,098inClothing,ShoesJewelry(</td>\n",
       "      <td>fishhook</td>\n",
       "      <td>[https://images-na.ssl-images-amazon.com/image...</td>\n",
       "      <td>[https://images-na.ssl-images-amazon.com/image...</td>\n",
       "      <td>NaN</td>\n",
       "      <td>NaN</td>\n",
       "      <td>NaN</td>\n",
       "      <td>NaN</td>\n",
       "      <td>NaN</td>\n",
       "      <td>NaN</td>\n",
       "      <td>NaN</td>\n",
       "      <td>NaN</td>\n",
       "    </tr>\n",
       "    <tr>\n",
       "      <th>4</th>\n",
       "      <td>3.0</td>\n",
       "      <td>False</td>\n",
       "      <td>07 27, 2014</td>\n",
       "      <td>A89F3LQADZBS5</td>\n",
       "      <td>7106116521</td>\n",
       "      <td>Alexander D.</td>\n",
       "      <td>Okay</td>\n",
       "      <td>Three Stars</td>\n",
       "      <td>1406419200</td>\n",
       "      <td>NaN</td>\n",
       "      <td>NaN</td>\n",
       "      <td>NaN</td>\n",
       "      <td>Milliongadgets(TM) Earring Safety Backs For Fi...</td>\n",
       "      <td>NaN</td>\n",
       "      <td>NaN</td>\n",
       "      <td>2,081,098inClothing,ShoesJewelry(</td>\n",
       "      <td>fishhook</td>\n",
       "      <td>[https://images-na.ssl-images-amazon.com/image...</td>\n",
       "      <td>[https://images-na.ssl-images-amazon.com/image...</td>\n",
       "      <td>NaN</td>\n",
       "      <td>NaN</td>\n",
       "      <td>NaN</td>\n",
       "      <td>NaN</td>\n",
       "      <td>NaN</td>\n",
       "      <td>NaN</td>\n",
       "      <td>NaN</td>\n",
       "      <td>NaN</td>\n",
       "    </tr>\n",
       "  </tbody>\n",
       "</table>\n",
       "</div>"
      ],
      "text/plain": [
       "   overall  verified   reviewTime      reviewerID        asin  reviewerName  \\\n",
       "0      5.0      True  10 20, 2014  A1D4G1SNUZWQOT  7106116521         Tracy   \n",
       "1      2.0      True  09 28, 2014  A3DDWDH9PX2YX2  7106116521     Sonja Lau   \n",
       "2      4.0     False  08 25, 2014  A2MWC41EW7XL15  7106116521      Kathleen   \n",
       "3      2.0      True  08 24, 2014  A2UH2QQ275NV45  7106116521   Jodi Stoner   \n",
       "4      3.0     False  07 27, 2014   A89F3LQADZBS5  7106116521  Alexander D.   \n",
       "\n",
       "                                          reviewText  \\\n",
       "0                             Exactly what I needed.   \n",
       "1  I agree with the other review, the opening is ...   \n",
       "2  Love these... I am going to order another pack...   \n",
       "3                                too tiny an opening   \n",
       "4                                               Okay   \n",
       "\n",
       "                                             summary  unixReviewTime vote  \\\n",
       "0                             perfect replacements!!      1413763200  NaN   \n",
       "1  I agree with the other review, the opening is ...      1411862400    3   \n",
       "2                                My New 'Friends' !!      1408924800  NaN   \n",
       "3                                          Two Stars      1408838400  NaN   \n",
       "4                                        Three Stars      1406419200  NaN   \n",
       "\n",
       "  style image                                              title brand  \\\n",
       "0   NaN   NaN  Milliongadgets(TM) Earring Safety Backs For Fi...   NaN   \n",
       "1   NaN   NaN  Milliongadgets(TM) Earring Safety Backs For Fi...   NaN   \n",
       "2   NaN   NaN  Milliongadgets(TM) Earring Safety Backs For Fi...   NaN   \n",
       "3   NaN   NaN  Milliongadgets(TM) Earring Safety Backs For Fi...   NaN   \n",
       "4   NaN   NaN  Milliongadgets(TM) Earring Safety Backs For Fi...   NaN   \n",
       "\n",
       "  feature                               rank      date  \\\n",
       "0     NaN  2,081,098inClothing,ShoesJewelry(  fishhook   \n",
       "1     NaN  2,081,098inClothing,ShoesJewelry(  fishhook   \n",
       "2     NaN  2,081,098inClothing,ShoesJewelry(  fishhook   \n",
       "3     NaN  2,081,098inClothing,ShoesJewelry(  fishhook   \n",
       "4     NaN  2,081,098inClothing,ShoesJewelry(  fishhook   \n",
       "\n",
       "                                            imageURL  \\\n",
       "0  [https://images-na.ssl-images-amazon.com/image...   \n",
       "1  [https://images-na.ssl-images-amazon.com/image...   \n",
       "2  [https://images-na.ssl-images-amazon.com/image...   \n",
       "3  [https://images-na.ssl-images-amazon.com/image...   \n",
       "4  [https://images-na.ssl-images-amazon.com/image...   \n",
       "\n",
       "                                     imageURLHighRes description price  \\\n",
       "0  [https://images-na.ssl-images-amazon.com/image...         NaN   NaN   \n",
       "1  [https://images-na.ssl-images-amazon.com/image...         NaN   NaN   \n",
       "2  [https://images-na.ssl-images-amazon.com/image...         NaN   NaN   \n",
       "3  [https://images-na.ssl-images-amazon.com/image...         NaN   NaN   \n",
       "4  [https://images-na.ssl-images-amazon.com/image...         NaN   NaN   \n",
       "\n",
       "  also_view also_buy  fit details similar_item tech1  \n",
       "0       NaN      NaN  NaN     NaN          NaN   NaN  \n",
       "1       NaN      NaN  NaN     NaN          NaN   NaN  \n",
       "2       NaN      NaN  NaN     NaN          NaN   NaN  \n",
       "3       NaN      NaN  NaN     NaN          NaN   NaN  \n",
       "4       NaN      NaN  NaN     NaN          NaN   NaN  "
      ]
     },
     "execution_count": 26,
     "metadata": {},
     "output_type": "execute_result"
    }
   ],
   "source": [
    "tablas_combinadas = pd.merge(df, df_meta, on='asin', how='left')\n",
    "pd.set_option('display.max_columns', None)\n",
    "tablas_combinadas.head()"
   ]
  },
  {
   "cell_type": "code",
   "execution_count": 27,
   "metadata": {},
   "outputs": [
    {
     "data": {
      "text/plain": [
       "nan"
      ]
     },
     "execution_count": 27,
     "metadata": {},
     "output_type": "execute_result"
    }
   ],
   "source": [
    "tablas_combinadas['vote'][0]"
   ]
  },
  {
   "cell_type": "code",
   "execution_count": 39,
   "metadata": {},
   "outputs": [],
   "source": [
    "columns_to_combine = ['title', 'brand', 'summary', 'description', 'expliota']\n",
    "existing_columns = [col for col in columns_to_combine if col in tablas_combinadas.columns]\n",
    "\n",
    "if existing_columns:\n",
    "    # Al menos una de las columnas en 'existing_columns' existe en el tablas_combinadasFrame 'tablas_combinadas'.\n",
    "    # Puedes combinar las columnas existentes y crear la nueva columna 'combined_text'.\n",
    "    tablas_combinadas['combined_text'] = tablas_combinadas[existing_columns].apply(lambda row: ' '.join(str(val) for val in row), axis=1)"
   ]
  },
  {
   "cell_type": "code",
   "execution_count": 43,
   "metadata": {},
   "outputs": [],
   "source": [
    "tablas_combinadas = tablas_combinadas[:50]"
   ]
  },
  {
   "cell_type": "code",
   "execution_count": 23,
   "metadata": {},
   "outputs": [
    {
     "data": {
      "text/plain": [
       "similar_item\n",
       "[{'asin': '', 'href': '', 'name': 'Winter White Ivory Thick Slouchy Knit Oversized Beanie Cap Hat,One Size,Indie Pink', 'img': 'https://images-na.ssl-images-amazon.com/images/I/61EUG32%2BRQL._SL500_AC_SS350_.jpg', 'features': {'Customer Rating': '4 out of 5 stars\n",
       "\n",
       "(261)', 'Price': '$9.99', 'Shipping': 'Eligible for FREE Shipping', 'Sold By': 'NY FASHION DEALS'}}, {'asin': 'B0765C1995', 'href': '/dp/B0765C1995/ref=psdc_10304191_t1_B00O0ZTS04', 'name': 'C.C Unisex Colorful Confetti Soft Stretch Cable Knit Beanie Skull Cap - Mint', 'img': 'https://images-na.ssl-images-amazon.com/images/I/610wvM24E3L._SL500_AC_SS350_.jpg', 'features': {'Customer Rating': '4 out of 5 stars\n",
       "\n",
       "(7)', 'Price': '$10.71', 'Shipping': 'Eligible for FREE Shipping', 'Sold By': 'Keebon International'}}, {'asin': 'B077BHT7FW', 'href': '/dp/B077BHT7FW/ref=psdc_10304191_t2_B00O0ZTS04', 'name': 'C.C Unisex Colorful Confetti Soft Stretch Cable Knit Beanie Skull Cap - Dark Purple', 'img': 'https://images-na.ssl-images-amazon.com/images/I/61YXQle9k9L._SL500_AC_SS350_.jpg', 'features': {'Customer Rating': '4 out of 5 stars\n",
       "\n",
       "(3)', 'Price': '$9.99', 'Shipping': 'Eligible for FREE Shipping', 'Sold By': 'Keebon International'}}, {'asin': 'B016DVZJXC', 'href': '/dp/B016DVZJXC/ref=psdc_10304191_t3_B00O0ZTS04', 'name': 'Winter White Ivory Thick Slouchy Knit Oversized Beanie Cap Hat, black/lightgrey', 'img': 'https://images-na.ssl-images-amazon.com/images/I/51WCReL49mL._SL500_AC_SS350_.jpg', 'features': {'Customer Rating': '5 out of 5 stars\n",
       "\n",
       "(1)', 'Price': '$22.30', 'Shipping': 'Eligible for FREE Shipping', 'Sold By': 'NY FASHION DEALS'}}]                                                                                                                                                                                                                                                                                                                                                                                                                                                                                                                                                                                                                                                                                                                                                                                                                                                                                                                                                                                                                                                                                                                                                                                                                                                                                                                                                                                                                                                        333\n",
       "[{'asin': '', 'href': '', 'name': 'Sun Visor UV Protection HAT Cap Hiking Golf Tennis Outdoor (Bestdeal-L-Black)', 'img': 'https://images-na.ssl-images-amazon.com/images/I/41onN9-HgLL._SL500_AC_SS350_.jpg', 'features': {'Customer Rating': '3 out of 5 stars\n",
       "\n",
       "(176)', 'Price': '$14.99', 'Shipping': 'Eligible for FREE Shipping', 'Sold By': 'GLJ Trading Co.'}}, {'asin': 'B01090MD4Q', 'href': '/dp/B01090MD4Q/ref=psdc_10304191_t1_B00UZLNLD2', 'name': 'Oidon Plastic Sun Visor UV Protection Hat Cap (Black)', 'img': 'https://images-na.ssl-images-amazon.com/images/I/41b7ddVWcyL._SL500_AC_SS350_.jpg', 'features': {'Customer Rating': '3 out of 5 stars\n",
       "\n",
       "(129)', 'Price': '$12.98', 'Shipping': 'Eligible for FREE Shipping', 'Sold By': 'Ganesha King'}}, {'asin': 'B00JP5N5MQ', 'href': '/dp/B00JP5N5MQ/ref=psdc_10304191_t2_B00UZLNLD2', 'name': 'SOVIS Black Extra Length over 99% UVB and UVA2 / 97.2% UVA1 Facial Protection Sun Cap Solar Visor Hat Worldwide Patented', 'img': 'https://images-na.ssl-images-amazon.com/images/I/31vvG8aUo1L._SL500_AC_SS350_.jpg', 'features': {'Customer Rating': '4 out of 5 stars\n",
       "\n",
       "(12)', 'Price': '$29.99', 'Shipping': '$8.95', 'Sold By': 'AXtion Systems'}}, {'asin': 'B00JP6O5TC', 'href': '/dp/B00JP6O5TC/ref=psdc_10304191_t3_B00UZLNLD2', 'name': 'SOVIS Sky Blue Extra Length over 99% UVB and UVA2 / 97.2% UVA1 protection Facial Protection Sun Cap Solar Visor Hat Worldwide Patented', 'img': 'https://images-na.ssl-images-amazon.com/images/I/41eSJR1c71L._SL500_AC_SS350_.jpg', 'features': {'Customer Rating': '4 out of 5 stars\n",
       "\n",
       "(6)', 'Price': '$29.99', 'Shipping': '$8.95', 'Sold By': 'AXtion Systems'}}, {'asin': 'B00JP6LFXG', 'href': '/dp/B00JP6LFXG/ref=psdc_10304191_t4_B00UZLNLD2', 'name': 'SOVIS Navy Blue Extra Length -over 97% UVB and UVA2 / 97.2% UVA1 Facial Protection Sun Cap Solar Visor Hat Worldwide Patented', 'img': 'https://images-na.ssl-images-amazon.com/images/I/31ZTp%2BZUTCL._SL500_AC_SS350_.jpg', 'features': {'Customer Rating': '5 out of 5 stars\n",
       "\n",
       "(3)', 'Price': '$29.99', 'Shipping': '$8.95', 'Sold By': 'AXtion Systems'}}]                                                                                                                                                                                                                                                                                                                                                                                                                                                                                                                                                                                                                                                                                                                                                                                                                                                                                                                                                                                        232\n",
       "[{'asin': '', 'href': '', 'name': 'Festive Santa Cap! The one and only CapSanta.', 'img': 'https://images-na.ssl-images-amazon.com/images/I/31efjbHEFDL._SL500_AC_SS350_.jpg', 'features': {'Customer Rating': '4 out of 5 stars\n",
       "\n",
       "(224)', 'Price': '$24.00', 'Shipping': 'Eligible for FREE Shipping', 'Sold By': 'MyCapSanta', 'Color': 'Red and White'}}, {'asin': 'B00OZ1381S', 'href': '/dp/B00OZ1381S/ref=psdc_723477011_t1_B00ZDR23BO', 'name': 'Santa Baseball Hat', 'img': 'https://images-na.ssl-images-amazon.com/images/I/415Pa18O%2BbL._SL500_AC_SS350_.jpg', 'features': {'Customer Rating': '3 out of 5 stars\n",
       "\n",
       "(43)', 'Price': '$8.27', 'Shipping': 'Eligible for FREE Shipping', 'Sold By': 'UFORTY', 'Color': 'Multicolor'}}, {'asin': 'B008QH1JCM', 'href': '/dp/B008QH1JCM/ref=psdc_723477011_t2_B00ZDR23BO', 'name': 'Beistle 1-Pack Plush Santa Chimney Hat', 'img': 'https://images-na.ssl-images-amazon.com/images/I/413K2StC0JL._SL500_AC_SS350_.jpg', 'features': {'Customer Rating': '4 out of 5 stars\n",
       "\n",
       "(153)', 'Price': '$12.82', 'Shipping': 'Eligible for FREE Shipping', 'Sold By': 'Global Village Brands', 'Color': 'Black/Red/White'}}, {'asin': 'B01J9SRVSM', 'href': '/dp/B01J9SRVSM/ref=psdc_723477011_t3_B00ZDR23BO', 'name': 'B-Land Unisex-Adult's Santa Hat, Velvet Christmas Hat with Plush Trim ∧ Comfort Liner', 'img': 'https://images-na.ssl-images-amazon.com/images/I/41fFz%2BYNTVL._SL500_AC_SS350_.jpg', 'features': {'Customer Rating': '4 out of 5 stars\n",
       "\n",
       "(247)', 'Price': '$10.99', 'Shipping': 'Eligible for FREE Shipping', 'Sold By': 'B-Land', 'Color': 'Red White'}}, {'asin': 'B003XZNV1Y', 'href': '/dp/B003XZNV1Y/ref=psdc_723477011_t4_B00ZDR23BO', 'name': 'Dear Santa Santa Christmas Hat with Hand Stitched Naughty Or Nice Festive Holiday Hat', 'img': 'https://images-na.ssl-images-amazon.com/images/I/418TBjD5iCL._SL500_AC_SS350_.jpg', 'features': {'Customer Rating': '3 out of 5 stars\n",
       "\n",
       "(102)', 'Price': '$8.99', 'Shipping': 'Eligible for FREE Shipping', 'Sold By': 'JH Direct', 'Color': 'Green / Brown'}}]                                                                                                                                                                                                                                                                                                                                                                                                                                                                                                                                                                                                                                                                                                                                                                                                                                                                                                                                                                                                                                                   206\n",
       "[{'asin': '', 'href': '', 'name': 'High Heel Protectors THREE SIZES Stoppers for Small/Medium/Large Stiletto High Heels Shoes - Walk in Grass At Weddings & Outdoor Events with No Sinking', 'img': 'https://images-na.ssl-images-amazon.com/images/I/41%2BFxoKoilL._SL500_AC_SS350_.jpg', 'features': {'Customer Rating': '3 out of 5 stars\n",
       "\n",
       "(141)', 'Price': 'Unavailable', 'Shipping': '', 'Sold By': '', 'Color': '', 'Size': ''}}, {'asin': 'B07BR6CKQ2', 'href': '/dp/B07BR6CKQ2/ref=psdc_3780111_t1_B01G9O8HIW', 'name': 'High Heel Protectors by MEGON - Heels Stopper for Women's Shoes, 6 pairs Small/Medium/Large - Perfect for Weddings, Races, Formal Occasions - Protecting from Grass, Gravel, Bricks & Cracks', 'img': 'https://images-na.ssl-images-amazon.com/images/I/51G4gzlIIQL._SL500_AC_SS350_.jpg', 'features': {'Customer Rating': '4 out of 5 stars\n",
       "\n",
       "(17)', 'Price': '$6.99', 'Shipping': 'Eligible for FREE Shipping', 'Sold By': 'Megon US', 'Color': 'Transparent', 'Size': 'Small/Medium/Large'}}, {'asin': 'B074V2J9Q6', 'href': '/dp/B074V2J9Q6/ref=psdc_3780111_t2_B01G9O8HIW', 'name': 'Mtlee 8 Pairs High Heel Protector Heel Repair Caps Covers, Extra Small, Small, Medium, Large, Clear', 'img': 'https://images-na.ssl-images-amazon.com/images/I/416DQEjmqIL._SL500_AC_SS350_.jpg', 'features': {'Customer Rating': '3 out of 5 stars\n",
       "\n",
       "(45)', 'Price': '$8.99', 'Shipping': 'Eligible for FREE Shipping', 'Sold By': 'MTLee US', 'Color': 'Clear', 'Size': 'Medium'}}, {'asin': 'B0769BWVTS', 'href': '/dp/B0769BWVTS/ref=psdc_3780111_t3_B01G9O8HIW', 'name': 'Aohaolee Transparent 6 pairs high heel protectors heel stoppers with 2 Small, 2 Medium and 2 Large Size', 'img': 'https://images-na.ssl-images-amazon.com/images/I/413uoOULY0L._SL500_AC_SS350_.jpg', 'features': {'Customer Rating': '5 out of 5 stars\n",
       "\n",
       "(4)', 'Price': '$6.00', 'Shipping': 'Eligible for FREE Shipping', 'Sold By': 'Make Better Of You', 'Color': 'Transparent', 'Size': '2 Small, 2 Medium, 2 Large'}}, {'asin': 'B00EZOWYTM', 'href': '/dp/B00EZOWYTM/ref=psdc_3780111_t4_B01G9O8HIW', 'name': 'HEEL PROTECTORS for High Heeled Shoes - Stops Your Heels Sinking in Grass - Crystal Clear with Carry Pouch', 'img': 'https://images-na.ssl-images-amazon.com/images/I/41vdTAvSHdL._SL500_AC_SS350_.jpg', 'features': {'Customer Rating': '4 out of 5 stars\n",
       "\n",
       "(311)', 'Price': '$7.95', 'Shipping': 'Eligible for FREE Shipping', 'Sold By': 'Starlettos', 'Color': 'Crystal, Clear', 'Size': 'One Size'}}, {'asin': 'B01CT833XQ', 'href': '/dp/B01CT833XQ/ref=psdc_3780111_t5_B01G9O8HIW', 'name': 'Heel Protectors Variety Bridal Pack by Solemates  Heel Stoppers for Any Wedding or Outdoor Event, Helps Protect from Grass, Gravel, Bricks, and Cracks (3 Narrow, 6 Classic, 3 Wide)', 'img': 'https://images-na.ssl-images-amazon.com/images/I/41LhwFdqyjL._SL500_AC_SS350_.jpg', 'features': {'Customer Rating': '0 out of 5 stars\n",
       "\n",
       "(0)', 'Price': '$99.99', 'Shipping': 'Eligible for FREE Shipping', 'Sold By': 'SoleMates', 'Color': 'Clear Multi Size', 'Size': '3 Narrow, 6 Classic, 3 Wide'}}]    139\n",
       "[{'asin': '', 'href': '', 'name': 'No Holes! Fake, Non Piercing Spring Hoops Jewelry-Silver (Lip, Ears, Nose) Clip On', 'img': 'https://images-na.ssl-images-amazon.com/images/I/41spk26g%2BRL._SL500_AC_SS350_.jpg', 'features': {'Customer Rating': '3 out of 5 stars\n",
       "\n",
       "(134)', 'Price': '$6.95', 'Shipping': 'Eligible for FREE Shipping', 'Sold By': 'BodyJewelryOnline'}}, {'asin': 'B01M349PIP', 'href': '/dp/B01M349PIP/ref=psdc_10304191_t1_B00B7QXXSW', 'name': 'Coolrunner Fake Nose Ring Goth Punk Lip Ear Nose Clip On Fake Piercing Nose Lip Hoop Rings Earrings 4 Pair (2)', 'img': 'https://images-na.ssl-images-amazon.com/images/I/51t0KnL2s8L._SL500_AC_SS350_.jpg', 'features': {'Customer Rating': '3 out of 5 stars\n",
       "\n",
       "(24)', 'Price': '$6.99', 'Shipping': 'Eligible for FREE Shipping', 'Sold By': 'Coolrunner'}}, {'asin': 'B01CBLZSAM', 'href': '/dp/B01CBLZSAM/ref=psdc_10304191_t2_B00B7QXXSW', 'name': '60 Crystals Stickers 2 mm Fake Nose Stud, Silver Fake Nose Stud, Self Adhesive Nose Stud, Costume Jewels Online', 'img': 'https://images-na.ssl-images-amazon.com/images/I/31%2BHa1xyH3L._SL500_AC_SS350_.jpg', 'features': {'Customer Rating': '3 out of 5 stars\n",
       "\n",
       "(10)', 'Price': '$5.99', 'Shipping': 'Eligible for FREE Shipping', 'Sold By': 'Batra's Fine Touch'}}, {'asin': 'B019C9HYQM', 'href': '/dp/B019C9HYQM/ref=psdc_10304191_t3_B00B7QXXSW', 'name': '60 Crystals Stickers Fake Nose Stud, Silver Fake Nose Stud, Self Adhesive Nose Stud', 'img': 'https://images-na.ssl-images-amazon.com/images/I/31HhazEom5L._SL500_AC_SS350_.jpg', 'features': {'Customer Rating': '3 out of 5 stars\n",
       "\n",
       "(38)', 'Price': '$3.90', 'Shipping': 'Eligible for FREE Shipping', 'Sold By': 'DailyNeedsStore'}}]                                                                                                                                                                                                                                                                                                                                                                                                                                                                                                                                                                                                                                                                                                                                                                                                                                                                                                                                                                                                                                                                                                                                                                                                                                                                                                                                                                                               128\n",
       "                                                                                                                                                                                                                                                                                                                                                                                                                                                                                                                                                                                                                                                                                                                                                                                                                                                                                                                                                                                                                                                                                                                                                                                                                                                                                                                                                                                                                                                                                                                                                                                                                                                                                                                                                                                                                                                                                                                                                                                                                                                                                                                                                                                                                                                                                                                                                                                                                                                                                                                                                                                                                                                                                                                                                                                                                                                                                                                                                                                                                                                                                                                                         ... \n",
       "[{'asin': '', 'href': '', 'name': 'Footwear interior cleaner, cares and cleans the inside of shoes, Kaps Avocado Lotion', 'img': 'https://images-na.ssl-images-amazon.com/images/I/31kZ3sUoWJL._SL500_AC_SS350_.jpg', 'features': {'Customer Rating': '1 out of 5 stars\n",
       "\n",
       "(1)', 'Price': '$9.19', 'Shipping': 'Eligible for FREE Shipping', 'Sold By': 'InsolesShop', 'Batteries are Included': 'No', 'Model Year': '2017'}}, {'asin': 'B01F9FVUEA', 'href': '/dp/B01F9FVUEA/ref=psdc_3621779011_t1_B00KYQHNMS', 'name': 'Shoe Cleaner Kit - ShoeAnew Bundle, 8 Oz. Fabric Cleaner Solution, Microfiber Cloth, and Brush', 'img': 'https://images-na.ssl-images-amazon.com/images/I/41IyDZ183oL._SL500_AC_SS350_.jpg', 'features': {'Customer Rating': '4 out of 5 stars\n",
       "\n",
       "(392)', 'Price': '$16.97', 'Shipping': 'Eligible for FREE Shipping', 'Sold By': 'CredgePro, LLC', 'Batteries are Included': 'No', 'Model Year': ''}}, {'asin': 'B00A7NDT3A', 'href': '/dp/B00A7NDT3A/ref=psdc_3621779011_t2_B00KYQHNMS', 'name': 'Pink Miracle Shoe Cleaner Kit 8 Oz. Bottle Fabric Cleaner For Leather, Whites, and Nubuck Sneakers', 'img': 'https://images-na.ssl-images-amazon.com/images/I/41nlMMMVHoL._SL500_AC_SS350_.jpg', 'features': {'Customer Rating': '4 out of 5 stars\n",
       "\n",
       "(908)', 'Price': '$17.97', 'Shipping': 'Eligible for FREE Shipping', 'Sold By': 'NewQuickFit', 'Batteries are Included': 'No', 'Model Year': ''}}, {'asin': 'B007BWPPXM', 'href': '/dp/B007BWPPXM/ref=psdc_3621779011_t3_B00KYQHNMS', 'name': 'Reshoevn8r Sneaker and Shoe Cleaning Kit Laundry System | 4 Oz. Advanced Cleaning Solution, All-Purpose Brush, Adjustable Shoe Trees, Patented Laundry Bag | Perfect for Leather, Canvas, Mesh, Knit', 'img': 'https://images-na.ssl-images-amazon.com/images/I/51BuvGZJQML._SL500_AC_SS350_.jpg', 'features': {'Customer Rating': '3 out of 5 stars\n",
       "\n",
       "(184)', 'Price': '$38.88', 'Shipping': 'Eligible for FREE Shipping', 'Sold By': 'Reshoevn8r', 'Batteries are Included': 'No', 'Model Year': '2016'}}]                                                                                                                                                                                                                                                                                                                                                                                                                                                                                                                                                                                                                                                                                                                                                                                                                                                                                                                                                                                                                                                                                                   1\n",
       "[{'asin': '', 'href': '', 'name': 'MG Women's Twill Enzyme Washed Adjustable Ballcap W/Pre-Curved Bill (One Size) - Khaki', 'img': 'https://images-na.ssl-images-amazon.com/images/I/41fQYUAdThL._SL500_AC_SS350_.jpg', 'features': {'Customer Rating': '4 out of 5 stars\n",
       "\n",
       "(1)', 'Price': '$12.95', 'Shipping': 'Eligible for FREE Shipping', 'Sold By': 'EZ Sportzwear'}}, {'asin': 'B00VV8JQ9Q', 'href': '/dp/B00VV8JQ9Q/ref=psdc_10304191_t1_B00VV8JYJI', 'name': 'MG Women's Twill Enzyme Washed Adjustable Ballcap W/Pre-Curved Bill (One Size) - Camo', 'img': 'https://images-na.ssl-images-amazon.com/images/I/41mVBLI19YL._SL500_AC_SS350_.jpg', 'features': {'Customer Rating': '5 out of 5 stars\n",
       "\n",
       "(2)', 'Price': '$11.95', 'Shipping': 'Eligible for FREE Shipping', 'Sold By': 'EZ Sportzwear'}}, {'asin': 'B00VV8JIO4', 'href': '/dp/B00VV8JIO4/ref=psdc_10304191_t2_B00VV8JYJI', 'name': 'MG Women's Twill Enzyme Washed Adjustable Ballcap W/Pre-Curved Bill (One Size) - Black', 'img': 'https://images-na.ssl-images-amazon.com/images/I/41YfDHfMjSL._SL500_AC_SS350_.jpg', 'features': {'Customer Rating': '0 out of 5 stars\n",
       "\n",
       "(0)', 'Price': '$11.95', 'Shipping': 'Eligible for FREE Shipping', 'Sold By': 'EZ Sportzwear'}}, {'asin': 'B00VV8JKOC', 'href': '/dp/B00VV8JKOC/ref=psdc_10304191_t3_B00VV8JYJI', 'name': 'MG Women's Twill Enzyme Washed Adjustable Ballcap W/Pre-Curved Bill (One Size) - Blue', 'img': 'https://images-na.ssl-images-amazon.com/images/I/413IoZFH1qL._SL500_AC_SS350_.jpg', 'features': {'Customer Rating': '0 out of 5 stars\n",
       "\n",
       "(0)', 'Price': '$11.95', 'Shipping': 'Eligible for FREE Shipping', 'Sold By': 'EZ Sportzwear'}}]                                                                                                                                                                                                                                                                                                                                                                                                                                                                                                                                                                                                                                                                                                                                                                                                                                                                                                                                                                                                                                                                                                                                                                                                                                                                                                                                                                                                                                                          1\n",
       "[{'asin': '', 'href': '', 'name': 'Women's Fashion Flat Shoelaces Baby Blue 27\" Inches', 'img': 'https://images-na.ssl-images-amazon.com/images/I/31yCRdJJGDL._SL500_AC_SS350_.jpg', 'features': {'Customer Rating': '2 out of 5 stars\n",
       "\n",
       "(1)', 'Price': '$1.49', 'Shipping': '$2.97', 'Sold By': 'TI Store'}}, {'asin': 'B00KMFPXQE', 'href': '/dp/B00KMFPXQE/ref=psdc_10304191_t1_B00KMFPSIW', 'name': 'Women's Fashion Flat Shoelaces Baby Blue 45\" Inches', 'img': 'https://images-na.ssl-images-amazon.com/images/I/31yCRdJJGDL._SL500_AC_SS350_.jpg', 'features': {'Customer Rating': '4 out of 5 stars\n",
       "\n",
       "(1)', 'Price': '$1.48', 'Shipping': '$2.97', 'Sold By': 'TI Store'}}, {'asin': 'B00KMFQZ5W', 'href': '/dp/B00KMFQZ5W/ref=psdc_10304191_t2_B00KMFPSIW', 'name': 'Women's Fashion Flat Shoelaces Royal Blue 45\" Inches', 'img': 'https://images-na.ssl-images-amazon.com/images/I/41IWDm60mWL._SL500_AC_SS350_.jpg', 'features': {'Customer Rating': '5 out of 5 stars\n",
       "\n",
       "(1)', 'Price': '$1.48', 'Shipping': '$2.97', 'Sold By': 'TI Store'}}, {'asin': 'B00KMFRGQE', 'href': '/dp/B00KMFRGQE/ref=psdc_10304191_t3_B00KMFPSIW', 'name': 'Women's Fashion Flat Shoelaces Classic Blue 36\" Inches', 'img': 'https://images-na.ssl-images-amazon.com/images/I/41GdkL4y5OL._SL500_AC_SS350_.jpg', 'features': {'Customer Rating': '2 out of 5 stars\n",
       "\n",
       "(2)', 'Price': '$1.48', 'Shipping': '$2.97', 'Sold By': 'TI Store'}}]                                                                                                                                                                                                                                                                                                                                                                                                                                                                                                                                                                                                                                                                                                                                                                                                                                                                                                                                                                                                                                                                                                                                                                                                                                                                                                                                                                                                                                                                                                                                                                                                                                                                                                            1\n",
       "[{'asin': '', 'href': '', 'name': 'Amurleopard Baby Leather Shoes Toddler Prewalker Sailboat 6-12 Months', 'img': 'https://images-na.ssl-images-amazon.com/images/I/41lKltlZXBL._SL500_AC_SS350_.jpg', 'features': {'Customer Rating': '5 out of 5 stars\n",
       "\n",
       "(1)', 'Price': '$11.99', 'Shipping': 'Eligible for FREE Shipping', 'Sold By': 'Amur&FreeFisher'}}, {'asin': 'B00SOK4KQI', 'href': '/dp/B00SOK4KQI/ref=psdc_10304191_t1_B00V9LJZ50', 'name': 'Amurleopard Baby Leather Shoes Toddler Prewalker Bass 0-6 Months', 'img': 'https://images-na.ssl-images-amazon.com/images/I/51UlWGL9UZL._SL500_AC_SS350_.jpg', 'features': {'Customer Rating': '3 out of 5 stars\n",
       "\n",
       "(2)', 'Price': '$12.99', 'Shipping': 'Eligible for FREE Shipping', 'Sold By': 'Amur&FreeFisher'}}, {'asin': 'B00SOK10DO', 'href': '/dp/B00SOK10DO/ref=psdc_10304191_t2_B00V9LJZ50', 'name': 'Amurleopard Baby Leather Shoes Toddler Prewalker Beetle for 12-18 months', 'img': 'https://images-na.ssl-images-amazon.com/images/I/41hBtvLcauL._SL500_AC_SS350_.jpg', 'features': {'Customer Rating': '0 out of 5 stars\n",
       "\n",
       "(0)', 'Price': '$7.90', 'Shipping': 'Eligible for FREE Shipping', 'Sold By': 'Amur&FreeFisher'}}, {'asin': 'B00SOK0NJ6', 'href': '/dp/B00SOK0NJ6/ref=psdc_10304191_t3_B00V9LJZ50', 'name': 'Amurleopard Baby Leather Shoes Toddler Prewalker Beige for 0-6 months', 'img': 'https://images-na.ssl-images-amazon.com/images/I/51GIPKPpQXL._SL500_AC_SS350_.jpg', 'features': {'Customer Rating': '0 out of 5 stars\n",
       "\n",
       "(0)', 'Price': '$11.99', 'Shipping': 'Eligible for FREE Shipping', 'Sold By': 'Amur&FreeFisher'}}]                                                                                                                                                                                                                                                                                                                                                                                                                                                                                                                                                                                                                                                                                                                                                                                                                                                                                                                                                                                                                                                                                                                                                                                                                                                                                                                                                                                                                                                                                                                       1\n",
       "[{'asin': '', 'href': '', 'name': 'Handbag Inc Quilted Solid Color with Polka Dot Trim Large 20\" Duffel Overnight Travel Bag (Orange & White)', 'img': 'https://images-na.ssl-images-amazon.com/images/I/51rV5H%2BgO3L._SL500_AC_SS350_.jpg', 'features': {'Customer Rating': '5 out of 5 stars\n",
       "\n",
       "(1)', 'Price': '$34.70', 'Shipping': 'Eligible for FREE Shipping', 'Sold By': 'holyland'}}, {'asin': 'B00NN6L0SO', 'href': '/dp/B00NN6L0SO/ref=psdc_10304191_t1_B00PD5RI9I', 'name': 'Handbag Inc Quilted Solid Color with Polka Dot Trim Large 20\" Duffel Overnight Travel Bag Royal & White', 'img': 'https://images-na.ssl-images-amazon.com/images/I/51spsOuFsiL._SL500_AC_SS350_.jpg', 'features': {'Customer Rating': '0 out of 5 stars\n",
       "\n",
       "(0)', 'Price': '$38.98', 'Shipping': '$5.99', 'Sold By': 'Hot items'}}, {'asin': 'B00PD5RIAC', 'href': '/dp/B00PD5RIAC/ref=psdc_10304191_t2_B00PD5RI9I', 'name': 'Handbag Inc Quilted Solid Color with Polka Dot Trim Large 20\" Duffel Overnight Travel Bag (Burgundy & White)', 'img': 'https://images-na.ssl-images-amazon.com/images/I/51nrtKkLPLL._SL500_AC_SS350_.jpg', 'features': {'Customer Rating': '0 out of 5 stars\n",
       "\n",
       "(0)', 'Price': '$26.98', 'Shipping': '$6.00', 'Sold By': 'Hot items'}}, {'asin': 'B00PD5RI7K', 'href': '/dp/B00PD5RI7K/ref=psdc_10304191_t3_B00PD5RI9I', 'name': 'Handbag Inc Quilted Solid Color with Polka Dot Trim Large 20\" Duffel Overnight Travel Bag (Navy Blue & Orange)', 'img': 'https://images-na.ssl-images-amazon.com/images/I/510Go4FNcIL._SL500_AC_SS350_.jpg', 'features': {'Customer Rating': '4 out of 5 stars\n",
       "\n",
       "(1)', 'Price': '$34.70', 'Shipping': 'Eligible for FREE Shipping', 'Sold By': 'holyland'}}]                                                                                                                                                                                                                                                                                                                                                                                                                                                                                                                                                                                                                                                                                                                                                                                                                                                                                                                                                                                                                                                                                                                                                                                                                                                                                                                                                                                                                               1\n",
       "Name: count, Length: 315, dtype: int64"
      ]
     },
     "execution_count": 23,
     "metadata": {},
     "output_type": "execute_result"
    }
   ],
   "source": [
    "tablas_combinadas['similar_item'].value_counts()"
   ]
  },
  {
   "cell_type": "code",
   "execution_count": 17,
   "metadata": {},
   "outputs": [
    {
     "data": {
      "text/plain": [
       "Text(0, 0.5, 'Count')"
      ]
     },
     "execution_count": 17,
     "metadata": {},
     "output_type": "execute_result"
    },
    {
     "data": {
      "image/png": "[encoded data removed]",
      "text/plain": [
       "<Figure size 1000x500 with 1 Axes>"
      ]
     },
     "metadata": {},
     "output_type": "display_data"
    }
   ],
   "source": [
    "ax = tablas_combinadas['overall'].value_counts().sort_index().plot(kind='bar', title=\"Count of reviews by star\",figsize=(10, 5))\n",
    "ax.set_xlabel(\"Star\")\n",
    "ax.set_ylabel(\"Count\")\n"
   ]
  },
  {
   "cell_type": "markdown",
   "metadata": {},
   "source": [
    "notamos que los reviews estan sesgados hacia 5 estrellas"
   ]
  },
  {
   "cell_type": "markdown",
   "metadata": {},
   "source": [
    "### Tokenizacion de comentarios"
   ]
  },
  {
   "cell_type": "code",
   "execution_count": 52,
   "metadata": {},
   "outputs": [
    {
     "data": {
      "text/plain": [
       "'Wonderful item. I have purchased several of these. They last forever unless you lose them.  I am happy with my purchase Buxton is made to last.'"
      ]
     },
     "execution_count": 52,
     "metadata": {},
     "output_type": "execute_result"
    }
   ],
   "source": [
    "example = tablas_combinadas['reviewText'][39]\n",
    "example"
   ]
  },
  {
   "cell_type": "code",
   "execution_count": 53,
   "metadata": {},
   "outputs": [
    {
     "name": "stderr",
     "output_type": "stream",
     "text": [
      "[nltk_data] Downloading package punkt to\n",
      "[nltk_data]     C:\\Users\\coraj\\AppData\\Roaming\\nltk_data...\n",
      "[nltk_data]   Package punkt is already up-to-date!\n"
     ]
    },
    {
     "data": {
      "text/plain": [
       "['Wonderful',\n",
       " 'item',\n",
       " '.',\n",
       " 'I',\n",
       " 'have',\n",
       " 'purchased',\n",
       " 'several',\n",
       " 'of',\n",
       " 'these',\n",
       " '.',\n",
       " 'They',\n",
       " 'last',\n",
       " 'forever',\n",
       " 'unless',\n",
       " 'you',\n",
       " 'lose',\n",
       " 'them',\n",
       " '.',\n",
       " 'I',\n",
       " 'am',\n",
       " 'happy',\n",
       " 'with',\n",
       " 'my',\n",
       " 'purchase',\n",
       " 'Buxton',\n",
       " 'is',\n",
       " 'made',\n",
       " 'to',\n",
       " 'last',\n",
       " '.']"
      ]
     },
     "execution_count": 53,
     "metadata": {},
     "output_type": "execute_result"
    }
   ],
   "source": [
    "nltk.download('punkt')\n",
    "tokens = nltk.word_tokenize(example)\n",
    "tokens"
   ]
  },
  {
   "cell_type": "code",
   "execution_count": 11,
   "metadata": {},
   "outputs": [
    {
     "name": "stderr",
     "output_type": "stream",
     "text": [
      "[nltk_data] Downloading package punkt to\n",
      "[nltk_data]     C:\\Users\\coraj\\AppData\\Roaming\\nltk_data...\n",
      "[nltk_data]   Package punkt is already up-to-date!\n",
      "[nltk_data] Downloading package averaged_perceptron_tagger to\n",
      "[nltk_data]     C:\\Users\\coraj\\AppData\\Roaming\\nltk_data...\n",
      "[nltk_data]   Package averaged_perceptron_tagger is already up-to-\n",
      "[nltk_data]       date!\n",
      "[nltk_data] Downloading package maxent_ne_chunker to\n",
      "[nltk_data]     C:\\Users\\coraj\\AppData\\Roaming\\nltk_data...\n",
      "[nltk_data]   Package maxent_ne_chunker is already up-to-date!\n",
      "[nltk_data] Downloading package words to\n",
      "[nltk_data]     C:\\Users\\coraj\\AppData\\Roaming\\nltk_data...\n",
      "[nltk_data]   Package words is already up-to-date!\n"
     ]
    },
    {
     "data": {
      "text/plain": [
       "True"
      ]
     },
     "execution_count": 11,
     "metadata": {},
     "output_type": "execute_result"
    }
   ],
   "source": [
    "nltk.download('punkt')\n",
    "nltk.download('averaged_perceptron_tagger')\n",
    "nltk.download('maxent_ne_chunker')\n",
    "nltk.download('words')"
   ]
  },
  {
   "cell_type": "code",
   "execution_count": 12,
   "metadata": {},
   "outputs": [
    {
     "data": {
      "text/plain": [
       "[('Excellent', 'JJ'), ('product', 'NN'), ('!', '.')]"
      ]
     },
     "execution_count": 12,
     "metadata": {},
     "output_type": "execute_result"
    }
   ],
   "source": [
    "tagged = nltk.pos_tag(tokens)\n",
    "tagged[:10]"
   ]
  },
  {
   "cell_type": "code",
   "execution_count": 13,
   "metadata": {},
   "outputs": [
    {
     "name": "stdout",
     "output_type": "stream",
     "text": [
      "(S Excellent/JJ product/NN !/.)\n"
     ]
    }
   ],
   "source": [
    "entities = nltk.chunk.ne_chunk(tagged)\n",
    "entities.pprint()"
   ]
  },
  {
   "cell_type": "markdown",
   "metadata": {},
   "source": []
  },
  {
   "cell_type": "code",
   "execution_count": 14,
   "metadata": {},
   "outputs": [
    {
     "data": {
      "text/plain": [
       "reviewerID\n",
       "A3G5KDMFNRUXHB    40\n",
       "A3JBQHQZEZPQK4    36\n",
       "A1RRX286ZRI830    32\n",
       "A2PBHVTPTIIGKR    31\n",
       "A2GP4EJIAA2OE0    29\n",
       "                  ..\n",
       "A3F8ZWBOAZUZE2     1\n",
       "A2HI8EO6V5PST8     1\n",
       "A3GKQ3VSTGLAHW     1\n",
       "A3HEDQXYV9OCVR     1\n",
       "A2RSX9E79DUHRX     1\n",
       "Name: count, Length: 749233, dtype: int64"
      ]
     },
     "execution_count": 14,
     "metadata": {},
     "output_type": "execute_result"
    }
   ],
   "source": [
    "reviewer = tablas_combinadas['reviewerID'].value_counts()\n",
    "reviewer"
   ]
  },
  {
   "cell_type": "code",
   "execution_count": 20,
   "metadata": {},
   "outputs": [
    {
     "data": {
      "text/plain": [
       "asin\n",
       "B000V0IBDM    4384\n",
       "B000KPIHQ4    4375\n",
       "B00I0VHS10    3889\n",
       "B00RLSCLJM    3638\n",
       "B000PHANNM    2572\n",
       "              ... \n",
       "B00VT2YP22       1\n",
       "B00VT2OM4I       1\n",
       "B00VT2YZYU       1\n",
       "B00VT02V7K       1\n",
       "B01HJG5NMW       1\n",
       "Name: count, Length: 186189, dtype: int64"
      ]
     },
     "execution_count": 20,
     "metadata": {},
     "output_type": "execute_result"
    }
   ],
   "source": [
    "productos = tablas_combinadas['asin'].value_counts()\n",
    "productos"
   ]
  },
  {
   "cell_type": "code",
   "execution_count": 19,
   "metadata": {},
   "outputs": [
    {
     "data": {
      "text/plain": [
       "asin\n",
       "0764443682    5.0\n",
       "B00Y88IVK6    5.0\n",
       "B00Y8MUW7M    5.0\n",
       "B00Y8LF6S8    5.0\n",
       "B00Y8FXRX0    5.0\n",
       "             ... \n",
       "B0105EWJWC    1.0\n",
       "B01DK76L5M    1.0\n",
       "B01DK76L52    1.0\n",
       "B01DK76L2A    1.0\n",
       "B010WGHX8S    1.0\n",
       "Name: overall, Length: 186189, dtype: float64"
      ]
     },
     "execution_count": 19,
     "metadata": {},
     "output_type": "execute_result"
    }
   ],
   "source": [
    "overall_mean = tablas_combinadas.groupby('asin')['overall'].mean().sort_values(ascending=False)\n",
    "overall_mean"
   ]
  },
  {
   "cell_type": "code",
   "execution_count": 62,
   "metadata": {},
   "outputs": [
    {
     "name": "stderr",
     "output_type": "stream",
     "text": [
      "C:\\Users\\coraj\\AppData\\Local\\Temp\\ipykernel_19700\\2838406169.py:7: SettingWithCopyWarning: \n",
      "A value is trying to be set on a copy of a slice from a DataFrame.\n",
      "Try using .loc[row_indexer,col_indexer] = value instead\n",
      "\n",
      "See the caveats in the documentation: https://pandas.pydata.org/pandas-docs/stable/user_guide/indexing.html#returning-a-view-versus-a-copy\n",
      "  tablas_combinadas['tokenized_combined_text'] = tokenized_rows\n"
     ]
    }
   ],
   "source": [
    "tokenized_rows = []\n",
    "for row in tablas_combinadas['combined_text']:\n",
    "    data_tokens = nltk.word_tokenize(row)\n",
    "    pos_tag = nltk.pos_tag(data_tokens)\n",
    "    ne_chunk = nltk.chunk.ne_chunk(pos_tag)\n",
    "    tokenized_rows.append(ne_chunk)\n",
    "tablas_combinadas['tokenized_combined_text'] = tokenized_rows\n",
    "    "
   ]
  },
  {
   "cell_type": "code",
   "execution_count": 64,
   "metadata": {},
   "outputs": [
    {
     "name": "stdout",
     "output_type": "stream",
     "text": [
      "(S\n",
      "  Milliongadgets/NNS\n",
      "  (/(\n",
      "  TM/NNP\n",
      "  )/)\n",
      "  Earring/NNP\n",
      "  Safety/NNP\n",
      "  Backs/NNP\n",
      "  For/IN\n",
      "  (PERSON Fish/NNP Hook/NNP Small/NNP Earrings/NNP)\n",
      "  (/(\n",
      "  150/CD\n",
      "  )/)\n",
      "  nan/NN\n",
      "  perfect/JJ\n",
      "  replacements/NNS\n",
      "  !/.\n",
      "  !/.\n",
      "  nan/NN)\n"
     ]
    }
   ],
   "source": [
    "tablas_combinadas['tokenized_combined_text'][0].pprint()"
   ]
  }
 ],
 "metadata": {
  "kernelspec": {
   "display_name": "Python 3",
   "language": "python",
   "name": "python3"
  },
  "language_info": {
   "codemirror_mode": {
    "name": "ipython",
    "version": 3
   },
   "file_extension": ".py",
   "mimetype": "text/x-python",
   "name": "python",
   "nbconvert_exporter": "python",
   "pygments_lexer": "ipython3",
   "version": "3.10.11"
  }
 },
 "nbformat": 4,
 "nbformat_minor": 2
}
