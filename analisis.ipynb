{
 "cells": [
  {
   "cell_type": "code",
   "execution_count": 206,
   "metadata": {},
   "outputs": [],
   "source": [
    "import nltk\n",
    "import json\n",
    "import pandas as pd\n",
    "import gzip\n",
    "import numpy as np\n",
    "import matplotlib.pyplot as plt\n",
    "import seaborn as sns\n",
    "from sklearn.metrics.pairwise import cosine_similarity\n",
    "import skfuzzy as fuzz\n",
    "from sklearn.feature_extraction.text import TfidfVectorizer\n",
    "from skfuzzy import control as ctrl\n",
    "import random\n",
    "from IPython.display import display\n"
   ]
  },
  {
   "cell_type": "code",
   "execution_count": 207,
   "metadata": {},
   "outputs": [],
   "source": [
    "PATH = './Magazine_Subscriptions.json.gz'\n",
    "PATH_meta = './meta_Magazine_Subscriptions.json.gz'"
   ]
  },
  {
   "cell_type": "markdown",
   "metadata": {},
   "source": [
    "## MODULO 1\n",
    "### Lector de datasets"
   ]
  },
  {
   "cell_type": "code",
   "execution_count": 208,
   "metadata": {},
   "outputs": [],
   "source": [
    "def parse(path):\n",
    "  g = gzip.open(path, 'rb')\n",
    "  for l in g:\n",
    "    yield json.loads(l)\n",
    "\n",
    "def getDF(path):\n",
    "  i = 0\n",
    "  df = {}\n",
    "  for d in parse(path):\n",
    "    df[i] = d\n",
    "    i += 1\n",
    "  return pd.DataFrame.from_dict(df, orient='index')"
   ]
  },
  {
   "cell_type": "code",
   "execution_count": 209,
   "metadata": {},
   "outputs": [],
   "source": [
    "df = getDF(PATH)\n",
    "df_meta = getDF(PATH_meta)"
   ]
  },
  {
   "cell_type": "code",
   "execution_count": 210,
   "metadata": {},
   "outputs": [
    {
     "data": {
      "text/plain": [
       "(3385, 19)"
      ]
     },
     "execution_count": 210,
     "metadata": {},
     "output_type": "execute_result"
    }
   ],
   "source": [
    "df_meta.shape"
   ]
  },
  {
   "cell_type": "code",
   "execution_count": 211,
   "metadata": {},
   "outputs": [
    {
     "data": {
      "text/plain": [
       "2320"
      ]
     },
     "execution_count": 211,
     "metadata": {},
     "output_type": "execute_result"
    }
   ],
   "source": [
    "df_meta['asin'].nunique()"
   ]
  },
  {
   "cell_type": "markdown",
   "metadata": {},
   "source": [
    "notamos que hay productos que no son unicos, arreglamos eso"
   ]
  },
  {
   "cell_type": "code",
   "execution_count": 212,
   "metadata": {},
   "outputs": [
    {
     "data": {
      "text/plain": [
       "(2320, 19)"
      ]
     },
     "execution_count": 212,
     "metadata": {},
     "output_type": "execute_result"
    }
   ],
   "source": [
    "df_meta= df_meta.drop_duplicates(subset='asin', keep='first')\n",
    "df_meta.shape"
   ]
  },
  {
   "cell_type": "markdown",
   "metadata": {},
   "source": [
    "Eliminamos las filas que tengan vacio una de estas columnas"
   ]
  },
  {
   "cell_type": "code",
   "execution_count": 213,
   "metadata": {},
   "outputs": [],
   "source": [
    "columns_to_combine = ['title', 'brand', 'summary', 'description', 'expliota']\n",
    "existing_columns = [col for col in columns_to_combine if col in df_meta_cortado.columns]\n",
    "\n",
    "if existing_columns:\n",
    "    for column in existing_columns:\n",
    "        df_meta = df_meta[df_meta[column].astype(bool)]"
   ]
  },
  {
   "cell_type": "code",
   "execution_count": 214,
   "metadata": {},
   "outputs": [
    {
     "data": {
      "text/plain": [
       "(1934, 19)"
      ]
     },
     "execution_count": 214,
     "metadata": {},
     "output_type": "execute_result"
    }
   ],
   "source": [
    "df_meta.shape"
   ]
  },
  {
   "cell_type": "code",
   "execution_count": 215,
   "metadata": {},
   "outputs": [
    {
     "data": {
      "text/html": [
       "<div>\n",
       "<style scoped>\n",
       "    .dataframe tbody tr th:only-of-type {\n",
       "        vertical-align: middle;\n",
       "    }\n",
       "\n",
       "    .dataframe tbody tr th {\n",
       "        vertical-align: top;\n",
       "    }\n",
       "\n",
       "    .dataframe thead th {\n",
       "        text-align: right;\n",
       "    }\n",
       "</style>\n",
       "<table border=\"1\" class=\"dataframe\">\n",
       "  <thead>\n",
       "    <tr style=\"text-align: right;\">\n",
       "      <th></th>\n",
       "      <th>category</th>\n",
       "      <th>tech1</th>\n",
       "      <th>description</th>\n",
       "      <th>fit</th>\n",
       "      <th>title</th>\n",
       "      <th>also_buy</th>\n",
       "      <th>tech2</th>\n",
       "      <th>brand</th>\n",
       "      <th>feature</th>\n",
       "      <th>rank</th>\n",
       "      <th>also_view</th>\n",
       "      <th>details</th>\n",
       "      <th>main_cat</th>\n",
       "      <th>similar_item</th>\n",
       "      <th>date</th>\n",
       "      <th>price</th>\n",
       "      <th>asin</th>\n",
       "      <th>imageURL</th>\n",
       "      <th>imageURLHighRes</th>\n",
       "    </tr>\n",
       "  </thead>\n",
       "  <tbody>\n",
       "    <tr>\n",
       "      <th>0</th>\n",
       "      <td>[Magazine Subscriptions, Professional &amp; Educat...</td>\n",
       "      <td></td>\n",
       "      <td>[REASON is edited for people interested in eco...</td>\n",
       "      <td></td>\n",
       "      <td>&lt;span class=\"a-size-medium a-color-secondary\"</td>\n",
       "      <td>[B002PXVYLE, B01MCU84LB, B000UHI2LW, B01AKS14A...</td>\n",
       "      <td></td>\n",
       "      <td>Reason Magazine</td>\n",
       "      <td>[]</td>\n",
       "      <td>[]</td>\n",
       "      <td>[B002PXVYLE, B000UHI2LW, B01MCU84LB, B002PXW18...</td>\n",
       "      <td>{'Format:': 'Print Magazine', 'Shipping: ': 'C...</td>\n",
       "      <td>Magazine Subscriptions</td>\n",
       "      <td></td>\n",
       "      <td></td>\n",
       "      <td></td>\n",
       "      <td>B00005N7NQ</td>\n",
       "      <td>[https://images-na.ssl-images-amazon.com/image...</td>\n",
       "      <td>[https://images-na.ssl-images-amazon.com/image...</td>\n",
       "    </tr>\n",
       "    <tr>\n",
       "      <th>1</th>\n",
       "      <td>[Magazine Subscriptions, Arts, Music &amp;amp; Pho...</td>\n",
       "      <td></td>\n",
       "      <td>[Written by and for musicians. Covers a variet...</td>\n",
       "      <td></td>\n",
       "      <td>&lt;span class=\"a-size-medium a-color-secondary\"</td>\n",
       "      <td>[B002PXVYGE, B0054LRNC8, B000BVEELE, B00006KC3...</td>\n",
       "      <td></td>\n",
       "      <td>String Letter Publishers</td>\n",
       "      <td>[]</td>\n",
       "      <td>742 in Magazine Subscriptions (</td>\n",
       "      <td>[B002PXVYGE, B0054LRNC8, B00006L16A, 171906487...</td>\n",
       "      <td>{'Format:': 'Print Magazine', 'Shipping: ': 'C...</td>\n",
       "      <td>Magazine Subscriptions</td>\n",
       "      <td></td>\n",
       "      <td></td>\n",
       "      <td></td>\n",
       "      <td>B00005N7OC</td>\n",
       "      <td>[https://images-na.ssl-images-amazon.com/image...</td>\n",
       "      <td>[https://images-na.ssl-images-amazon.com/image...</td>\n",
       "    </tr>\n",
       "    <tr>\n",
       "      <th>2</th>\n",
       "      <td>[Magazine Subscriptions, Fashion &amp;amp; Style, ...</td>\n",
       "      <td></td>\n",
       "      <td>[Allure is the beauty expert. Every issue is f...</td>\n",
       "      <td></td>\n",
       "      <td>&lt;span class=\"a-size-medium a-color-secondary\"</td>\n",
       "      <td>[B001THPA4O, B002PXVZWW, B001THPA1M, B001THPA1...</td>\n",
       "      <td></td>\n",
       "      <td>Conde Nast Publications</td>\n",
       "      <td>[]</td>\n",
       "      <td>[]</td>\n",
       "      <td>[B002PXVZWW, B001THPA4O, B001THPA1M, B01N819UD...</td>\n",
       "      <td>{'Format:': 'Print Magazine', 'Shipping: ': 'C...</td>\n",
       "      <td>Magazine Subscriptions</td>\n",
       "      <td></td>\n",
       "      <td></td>\n",
       "      <td></td>\n",
       "      <td>B00005N7OD</td>\n",
       "      <td>[https://images-na.ssl-images-amazon.com/image...</td>\n",
       "      <td>[https://images-na.ssl-images-amazon.com/image...</td>\n",
       "    </tr>\n",
       "    <tr>\n",
       "      <th>3</th>\n",
       "      <td>[Magazine Subscriptions, Sports, Recreation &amp; ...</td>\n",
       "      <td></td>\n",
       "      <td>[FLIGHT JOURNAL includes articles on aviation ...</td>\n",
       "      <td></td>\n",
       "      <td>&lt;span class=\"a-size-medium a-color-secondary\"</td>\n",
       "      <td>[B07JVF7QW4, B00ATQ6FPY, B002G551F6, B00008CGW...</td>\n",
       "      <td></td>\n",
       "      <td>AirAge Publishing</td>\n",
       "      <td>[]</td>\n",
       "      <td>[]</td>\n",
       "      <td>[B002G551F6, B00ATQ6FPY, B00005N7PT, B001THPA2...</td>\n",
       "      <td>{'Format:': 'Print Magazine', 'Shipping: ': 'C...</td>\n",
       "      <td>Magazine Subscriptions</td>\n",
       "      <td></td>\n",
       "      <td></td>\n",
       "      <td></td>\n",
       "      <td>B00005N7O9</td>\n",
       "      <td>[https://images-na.ssl-images-amazon.com/image...</td>\n",
       "      <td>[https://images-na.ssl-images-amazon.com/image...</td>\n",
       "    </tr>\n",
       "    <tr>\n",
       "      <th>4</th>\n",
       "      <td>[Magazine Subscriptions, Professional &amp; Educat...</td>\n",
       "      <td></td>\n",
       "      <td>[RIDER is published for the road and street ri...</td>\n",
       "      <td></td>\n",
       "      <td>&lt;span class=\"a-size-medium a-color-secondary\"</td>\n",
       "      <td>[B002PXVYD2, B01BM7TOU6, B000060MKJ, B000BNNIG...</td>\n",
       "      <td></td>\n",
       "      <td>EPG Media &amp; Specialty Information</td>\n",
       "      <td>[]</td>\n",
       "      <td>[]</td>\n",
       "      <td>[B01BM7TOU6, B000060MKJ, B002PXVYD2, B000BNNIG...</td>\n",
       "      <td>{'Format:': 'Print Magazine', 'Shipping: ': 'C...</td>\n",
       "      <td>Magazine Subscriptions</td>\n",
       "      <td></td>\n",
       "      <td></td>\n",
       "      <td></td>\n",
       "      <td>B00005N7O6</td>\n",
       "      <td>[https://images-na.ssl-images-amazon.com/image...</td>\n",
       "      <td>[https://images-na.ssl-images-amazon.com/image...</td>\n",
       "    </tr>\n",
       "  </tbody>\n",
       "</table>\n",
       "</div>"
      ],
      "text/plain": [
       "                                            category tech1  \\\n",
       "0  [Magazine Subscriptions, Professional & Educat...         \n",
       "1  [Magazine Subscriptions, Arts, Music &amp; Pho...         \n",
       "2  [Magazine Subscriptions, Fashion &amp; Style, ...         \n",
       "3  [Magazine Subscriptions, Sports, Recreation & ...         \n",
       "4  [Magazine Subscriptions, Professional & Educat...         \n",
       "\n",
       "                                         description fit  \\\n",
       "0  [REASON is edited for people interested in eco...       \n",
       "1  [Written by and for musicians. Covers a variet...       \n",
       "2  [Allure is the beauty expert. Every issue is f...       \n",
       "3  [FLIGHT JOURNAL includes articles on aviation ...       \n",
       "4  [RIDER is published for the road and street ri...       \n",
       "\n",
       "                                           title  \\\n",
       "0  <span class=\"a-size-medium a-color-secondary\"   \n",
       "1  <span class=\"a-size-medium a-color-secondary\"   \n",
       "2  <span class=\"a-size-medium a-color-secondary\"   \n",
       "3  <span class=\"a-size-medium a-color-secondary\"   \n",
       "4  <span class=\"a-size-medium a-color-secondary\"   \n",
       "\n",
       "                                            also_buy tech2  \\\n",
       "0  [B002PXVYLE, B01MCU84LB, B000UHI2LW, B01AKS14A...         \n",
       "1  [B002PXVYGE, B0054LRNC8, B000BVEELE, B00006KC3...         \n",
       "2  [B001THPA4O, B002PXVZWW, B001THPA1M, B001THPA1...         \n",
       "3  [B07JVF7QW4, B00ATQ6FPY, B002G551F6, B00008CGW...         \n",
       "4  [B002PXVYD2, B01BM7TOU6, B000060MKJ, B000BNNIG...         \n",
       "\n",
       "                               brand feature                             rank  \\\n",
       "0                    Reason Magazine      []                               []   \n",
       "1           String Letter Publishers      []  742 in Magazine Subscriptions (   \n",
       "2            Conde Nast Publications      []                               []   \n",
       "3                  AirAge Publishing      []                               []   \n",
       "4  EPG Media & Specialty Information      []                               []   \n",
       "\n",
       "                                           also_view  \\\n",
       "0  [B002PXVYLE, B000UHI2LW, B01MCU84LB, B002PXW18...   \n",
       "1  [B002PXVYGE, B0054LRNC8, B00006L16A, 171906487...   \n",
       "2  [B002PXVZWW, B001THPA4O, B001THPA1M, B01N819UD...   \n",
       "3  [B002G551F6, B00ATQ6FPY, B00005N7PT, B001THPA2...   \n",
       "4  [B01BM7TOU6, B000060MKJ, B002PXVYD2, B000BNNIG...   \n",
       "\n",
       "                                             details                main_cat  \\\n",
       "0  {'Format:': 'Print Magazine', 'Shipping: ': 'C...  Magazine Subscriptions   \n",
       "1  {'Format:': 'Print Magazine', 'Shipping: ': 'C...  Magazine Subscriptions   \n",
       "2  {'Format:': 'Print Magazine', 'Shipping: ': 'C...  Magazine Subscriptions   \n",
       "3  {'Format:': 'Print Magazine', 'Shipping: ': 'C...  Magazine Subscriptions   \n",
       "4  {'Format:': 'Print Magazine', 'Shipping: ': 'C...  Magazine Subscriptions   \n",
       "\n",
       "  similar_item date price        asin  \\\n",
       "0                          B00005N7NQ   \n",
       "1                          B00005N7OC   \n",
       "2                          B00005N7OD   \n",
       "3                          B00005N7O9   \n",
       "4                          B00005N7O6   \n",
       "\n",
       "                                            imageURL  \\\n",
       "0  [https://images-na.ssl-images-amazon.com/image...   \n",
       "1  [https://images-na.ssl-images-amazon.com/image...   \n",
       "2  [https://images-na.ssl-images-amazon.com/image...   \n",
       "3  [https://images-na.ssl-images-amazon.com/image...   \n",
       "4  [https://images-na.ssl-images-amazon.com/image...   \n",
       "\n",
       "                                     imageURLHighRes  \n",
       "0  [https://images-na.ssl-images-amazon.com/image...  \n",
       "1  [https://images-na.ssl-images-amazon.com/image...  \n",
       "2  [https://images-na.ssl-images-amazon.com/image...  \n",
       "3  [https://images-na.ssl-images-amazon.com/image...  \n",
       "4  [https://images-na.ssl-images-amazon.com/image...  "
      ]
     },
     "execution_count": 215,
     "metadata": {},
     "output_type": "execute_result"
    }
   ],
   "source": [
    "df_meta.head()"
   ]
  },
  {
   "cell_type": "code",
   "execution_count": 216,
   "metadata": {},
   "outputs": [
    {
     "data": {
      "text/plain": [
       "Text(0, 0.5, 'Count')"
      ]
     },
     "execution_count": 216,
     "metadata": {},
     "output_type": "execute_result"
    },
    {
     "data": {
      "image/png": "[encoded data removed]",
      "text/plain": [
       "<Figure size 1000x500 with 1 Axes>"
      ]
     },
     "metadata": {},
     "output_type": "display_data"
    }
   ],
   "source": [
    "ax = df['overall'].value_counts().sort_index().plot(kind='bar', title=\"Count of reviews by star\",figsize=(10, 5))\n",
    "ax.set_xlabel(\"Star\")\n",
    "ax.set_ylabel(\"Count\")"
   ]
  },
  {
   "cell_type": "markdown",
   "metadata": {},
   "source": [
    "notamos que los reviews estan sesgados hacia 5 estrellas"
   ]
  },
  {
   "cell_type": "markdown",
   "metadata": {},
   "source": [
    "### Tokenizacion de comentarios"
   ]
  },
  {
   "cell_type": "code",
   "execution_count": 217,
   "metadata": {},
   "outputs": [
    {
     "name": "stderr",
     "output_type": "stream",
     "text": [
      "[nltk_data] Downloading package punkt to\n",
      "[nltk_data]     C:\\Users\\coraj\\AppData\\Roaming\\nltk_data...\n",
      "[nltk_data]   Package punkt is already up-to-date!\n",
      "[nltk_data] Downloading package averaged_perceptron_tagger to\n",
      "[nltk_data]     C:\\Users\\coraj\\AppData\\Roaming\\nltk_data...\n",
      "[nltk_data]   Package averaged_perceptron_tagger is already up-to-\n",
      "[nltk_data]       date!\n",
      "[nltk_data] Downloading package maxent_ne_chunker to\n",
      "[nltk_data]     C:\\Users\\coraj\\AppData\\Roaming\\nltk_data...\n",
      "[nltk_data]   Package maxent_ne_chunker is already up-to-date!\n",
      "[nltk_data] Downloading package words to\n",
      "[nltk_data]     C:\\Users\\coraj\\AppData\\Roaming\\nltk_data...\n",
      "[nltk_data]   Package words is already up-to-date!\n"
     ]
    },
    {
     "data": {
      "text/plain": [
       "True"
      ]
     },
     "execution_count": 217,
     "metadata": {},
     "output_type": "execute_result"
    }
   ],
   "source": [
    "nltk.download('punkt')\n",
    "nltk.download('averaged_perceptron_tagger')\n",
    "nltk.download('maxent_ne_chunker')\n",
    "nltk.download('words')"
   ]
  },
  {
   "cell_type": "markdown",
   "metadata": {},
   "source": [
    "## MODULO 2\n",
    "### Rating Score\n",
    "calculamos el overall mean"
   ]
  },
  {
   "cell_type": "code",
   "execution_count": 218,
   "metadata": {},
   "outputs": [
    {
     "data": {
      "text/html": [
       "<div>\n",
       "<style scoped>\n",
       "    .dataframe tbody tr th:only-of-type {\n",
       "        vertical-align: middle;\n",
       "    }\n",
       "\n",
       "    .dataframe tbody tr th {\n",
       "        vertical-align: top;\n",
       "    }\n",
       "\n",
       "    .dataframe thead th {\n",
       "        text-align: right;\n",
       "    }\n",
       "</style>\n",
       "<table border=\"1\" class=\"dataframe\">\n",
       "  <thead>\n",
       "    <tr style=\"text-align: right;\">\n",
       "      <th></th>\n",
       "      <th>asin</th>\n",
       "      <th>overall</th>\n",
       "    </tr>\n",
       "  </thead>\n",
       "  <tbody>\n",
       "    <tr>\n",
       "      <th>0</th>\n",
       "      <td>B00005N7NQ</td>\n",
       "      <td>3.803419</td>\n",
       "    </tr>\n",
       "    <tr>\n",
       "      <th>1</th>\n",
       "      <td>B00005N7O3</td>\n",
       "      <td>3.600000</td>\n",
       "    </tr>\n",
       "    <tr>\n",
       "      <th>2</th>\n",
       "      <td>B00005N7O4</td>\n",
       "      <td>4.333333</td>\n",
       "    </tr>\n",
       "    <tr>\n",
       "      <th>3</th>\n",
       "      <td>B00005N7O6</td>\n",
       "      <td>4.531250</td>\n",
       "    </tr>\n",
       "    <tr>\n",
       "      <th>4</th>\n",
       "      <td>B00005N7O9</td>\n",
       "      <td>4.434783</td>\n",
       "    </tr>\n",
       "    <tr>\n",
       "      <th>...</th>\n",
       "      <td>...</td>\n",
       "      <td>...</td>\n",
       "    </tr>\n",
       "    <tr>\n",
       "      <th>2423</th>\n",
       "      <td>B01HI8V1AE</td>\n",
       "      <td>4.750000</td>\n",
       "    </tr>\n",
       "    <tr>\n",
       "      <th>2424</th>\n",
       "      <td>B01HI8V1C2</td>\n",
       "      <td>4.000000</td>\n",
       "    </tr>\n",
       "    <tr>\n",
       "      <th>2425</th>\n",
       "      <td>B01HI8V1I6</td>\n",
       "      <td>4.500000</td>\n",
       "    </tr>\n",
       "    <tr>\n",
       "      <th>2426</th>\n",
       "      <td>B01HI8V1MC</td>\n",
       "      <td>4.071429</td>\n",
       "    </tr>\n",
       "    <tr>\n",
       "      <th>2427</th>\n",
       "      <td>B01HIZSSQM</td>\n",
       "      <td>5.000000</td>\n",
       "    </tr>\n",
       "  </tbody>\n",
       "</table>\n",
       "<p>2428 rows × 2 columns</p>\n",
       "</div>"
      ],
      "text/plain": [
       "            asin   overall\n",
       "0     B00005N7NQ  3.803419\n",
       "1     B00005N7O3  3.600000\n",
       "2     B00005N7O4  4.333333\n",
       "3     B00005N7O6  4.531250\n",
       "4     B00005N7O9  4.434783\n",
       "...          ...       ...\n",
       "2423  B01HI8V1AE  4.750000\n",
       "2424  B01HI8V1C2  4.000000\n",
       "2425  B01HI8V1I6  4.500000\n",
       "2426  B01HI8V1MC  4.071429\n",
       "2427  B01HIZSSQM  5.000000\n",
       "\n",
       "[2428 rows x 2 columns]"
      ]
     },
     "execution_count": 218,
     "metadata": {},
     "output_type": "execute_result"
    }
   ],
   "source": [
    "overall_mean = df.groupby('asin')['overall'].mean().reset_index()\n",
    "overall_mean\n",
    "# num_asin_values = df_meta['asin'].nunique()\n",
    "# num_asin_values"
   ]
  },
  {
   "cell_type": "markdown",
   "metadata": {},
   "source": [
    "agregamos la columnas id al dataframe df_meta"
   ]
  },
  {
   "cell_type": "code",
   "execution_count": 219,
   "metadata": {},
   "outputs": [],
   "source": [
    "df_meta['id']=[i for i in range(0,df_meta.shape[0])]"
   ]
  },
  {
   "cell_type": "markdown",
   "metadata": {},
   "source": [
    "reducimos la muestra para facilitar el procesamiento "
   ]
  },
  {
   "cell_type": "code",
   "execution_count": 220,
   "metadata": {},
   "outputs": [],
   "source": [
    "CANTIDAD = 10000"
   ]
  },
  {
   "cell_type": "code",
   "execution_count": 221,
   "metadata": {},
   "outputs": [],
   "source": [
    "df_meta_cortado = df_meta.head(CANTIDAD)"
   ]
  },
  {
   "cell_type": "markdown",
   "metadata": {},
   "source": [
    "creamos una nueva columnas que contiene la informacion que necesitamos para encontrar items similares"
   ]
  },
  {
   "cell_type": "code",
   "execution_count": 222,
   "metadata": {},
   "outputs": [
    {
     "name": "stderr",
     "output_type": "stream",
     "text": [
      "C:\\Users\\coraj\\AppData\\Local\\Temp\\ipykernel_20708\\1163952785.py:7: SettingWithCopyWarning: \n",
      "A value is trying to be set on a copy of a slice from a DataFrame.\n",
      "Try using .loc[row_indexer,col_indexer] = value instead\n",
      "\n",
      "See the caveats in the documentation: https://pandas.pydata.org/pandas-docs/stable/user_guide/indexing.html#returning-a-view-versus-a-copy\n",
      "  df_meta_cortado.loc[:, 'combined_text'] = df_meta_cortado[existing_columns].apply(lambda row: ' '.join(str(val) for val in row), axis=1)\n"
     ]
    }
   ],
   "source": [
    "columns_to_combine = ['title', 'brand', 'summary', 'description', 'expliota']\n",
    "existing_columns = [col for col in columns_to_combine if col in df_meta_cortado.columns]\n",
    "\n",
    "if existing_columns:\n",
    "    # Al menos una de las columnas en 'existing_columns' existe en el df_meta_cortadoFrame 'df_meta_cortado'.\n",
    "    # Puedes combinar las columnas existentes y crear la nueva columna 'combined_text'.\n",
    "    df_meta_cortado.loc[:, 'combined_text'] = df_meta_cortado[existing_columns].apply(lambda row: ' '.join(str(val) for val in row), axis=1)\n"
   ]
  },
  {
   "cell_type": "markdown",
   "metadata": {},
   "source": [
    "La matriz vecs contiene las puntuaciones TF-IDF ( Frecuencia de Término - Frecuencia Inversa de Documento) para cada palabra en cada documento. Las puntuaciones TF-IDF representan la importancia de una palabra para un documento en la colección."
   ]
  },
  {
   "cell_type": "code",
   "execution_count": 223,
   "metadata": {},
   "outputs": [
    {
     "data": {
      "text/plain": [
       "(1934, 9859)"
      ]
     },
     "execution_count": 223,
     "metadata": {},
     "output_type": "execute_result"
    }
   ],
   "source": [
    "\n",
    "vec = TfidfVectorizer()\n",
    "vecs = vec.fit_transform(df_meta_cortado['combined_text'].apply(lambda x: np.str_(x)))\n",
    "vecs.shape"
   ]
  },
  {
   "cell_type": "markdown",
   "metadata": {},
   "source": [
    "## Modulo 3\n",
    "### Similarity Score"
   ]
  },
  {
   "cell_type": "markdown",
   "metadata": {},
   "source": [
    "Esto significa que tienes 10000 documentos (las filas del DataFrame df_meta_cortado) y 22929 palabras únicas en todos los documentos (las características)."
   ]
  },
  {
   "cell_type": "markdown",
   "metadata": {},
   "source": [
    "calcular la similitud del coseno entre cada par de vectores en vecs\n",
    "\n",
    "Su valor varía de -1 (vectores completamente opuestos) a 1 (vectores idénticos), con 0 indicando ortogonalidad (vectores perpendiculares)."
   ]
  },
  {
   "cell_type": "code",
   "execution_count": 224,
   "metadata": {},
   "outputs": [
    {
     "data": {
      "text/plain": [
       "array([[1.        , 0.02948667, 0.04802728, ..., 0.07626159, 0.02335784,\n",
       "        0.01958847],\n",
       "       [0.02948667, 1.        , 0.10854755, ..., 0.0316815 , 0.01740582,\n",
       "        0.03391683],\n",
       "       [0.04802728, 0.10854755, 1.        , ..., 0.10030577, 0.03020507,\n",
       "        0.10641362],\n",
       "       ...,\n",
       "       [0.07626159, 0.0316815 , 0.10030577, ..., 1.        , 0.24305012,\n",
       "        0.22732716],\n",
       "       [0.02335784, 0.01740582, 0.03020507, ..., 0.24305012, 1.        ,\n",
       "        0.23461906],\n",
       "       [0.01958847, 0.03391683, 0.10641362, ..., 0.22732716, 0.23461906,\n",
       "        1.        ]])"
      ]
     },
     "execution_count": 224,
     "metadata": {},
     "output_type": "execute_result"
    }
   ],
   "source": [
    "similaridad = cosine_similarity(vecs)\n",
    "similaridad"
   ]
  },
  {
   "cell_type": "code",
   "execution_count": 225,
   "metadata": {},
   "outputs": [],
   "source": [
    "def recommend(asin):\n",
    "    item_id = df_meta_cortado[df_meta_cortado.asin == asin]['id'].values[0]\n",
    "    scores = list(enumerate(similaridad[item_id]))\n",
    "    sorted_scores = sorted(scores, key=lambda x:x[1], reverse=True)\n",
    "    # si score es mayor o igual a 1 entonces se elimina de la lista\n",
    "    scores_no_1 = [i for i in sorted_scores if i[1]<0.8]\n",
    "    # fuzzificar el score\n",
    "    # scores_no_1 = [(score[0], fuzzificar(scores_no_1[0][1], scores_no_1[-1][1], score[1])) for score in scores_no_1]\n",
    "    # sorted_scores=sorted_scores[1:]\n",
    "    items_selected=[df_meta_cortado[items_selected[0]==df_meta_cortado['id']]['asin'].values[0] for items_selected in scores_no_1]\n",
    "    return (items_selected, scores_no_1)"
   ]
  },
  {
   "cell_type": "markdown",
   "metadata": {},
   "source": [
    "### Seleccionamos 4 productos aleatorios"
   ]
  },
  {
   "cell_type": "code",
   "execution_count": 226,
   "metadata": {},
   "outputs": [
    {
     "name": "stdout",
     "output_type": "stream",
     "text": [
      "B00XII1UBE\n",
      "B00YQH9874\n",
      "B009WBQX9K\n",
      "B000063XJR\n"
     ]
    }
   ],
   "source": [
    "# Inicializa listas vacías para almacenar los resultados\n",
    "asins_resultados = []\n",
    "similaridad_score_resultados = []\n",
    "random_asin_valores= []\n",
    "\n",
    "# Lista de asins únicos del DataFrame df_meta_cortado\n",
    "asins_unicos = df_meta_cortado['asin'].unique()\n",
    "\n",
    "# Realiza 4 recomendaciones con valores aleatorios\n",
    "for i in range(4):\n",
    "    random_asin = random.choice(asins_unicos)\n",
    "    print(random_asin)\n",
    "    asins, similaridad_score = recommend(random_asin)\n",
    "    # Agrega los resultados a las listas\n",
    "    asins_resultados.append(asins)\n",
    "    similaridad_score_resultados.append(similaridad_score)\n",
    "    random_asin_valores.append(random_asin)\n"
   ]
  },
  {
   "cell_type": "code",
   "execution_count": 235,
   "metadata": {},
   "outputs": [
    {
     "data": {
      "image/png": "[encoded data removed]",
      "text/plain": [
       "<Figure size 1200x800 with 4 Axes>"
      ]
     },
     "metadata": {},
     "output_type": "display_data"
    }
   ],
   "source": [
    "fig, axs = plt.subplots(2, 2, figsize=(12, 8))\n",
    "\n",
    "# Iterar a través de los 4 resultados y graficarlos en subplots separados\n",
    "for i in range(4):\n",
    "    scores_df = pd.DataFrame(similaridad_score_resultados[i], columns=['ItemID', 'Score'])\n",
    "    ax = axs[i // 2, i % 2]  # Seleccionar el subplot adecuado\n",
    "    ax.scatter(scores_df['ItemID'], scores_df['Score'])\n",
    "    ax.set_title(f'Similarity Scores #{i+1}')\n",
    "    ax.set_xlim(0, scores_df['ItemID'].max())\n",
    "\n",
    "plt.tight_layout()\n",
    "plt.show()\n"
   ]
  },
  {
   "cell_type": "code",
   "execution_count": 228,
   "metadata": {},
   "outputs": [
    {
     "name": "stdout",
     "output_type": "stream",
     "text": [
      "            asin     Score    Id   overall\n",
      "0     B00005N7TG  0.371340    47  3.587302\n",
      "1     B00D8GWHYA  0.259045  1390  3.269841\n",
      "2     B00HG1BP0U  0.259045  1427  3.459259\n",
      "3     B00SIC2JSI  0.251722  1524  2.000000\n",
      "4     B00SIC2JY2  0.251722  1525  5.000000\n",
      "...          ...       ...   ...       ...\n",
      "1915  B002Y1K2YW  0.007512  1255  5.000000\n",
      "1916  B00008WMD1  0.006536   819  4.200000\n",
      "1917  B00006K5D5  0.005564   287  4.041667\n",
      "1918  B00ADT5S9G  0.004177  1357  5.000000\n",
      "1919  B00005R8BN  0.002153   160  4.016667\n",
      "\n",
      "[1920 rows x 4 columns]\n",
      "            asin     Score    Id   overall\n",
      "0     B015HSVUKS  0.327111  1727  4.375000\n",
      "1     B01HI8V10E  0.327111  1928  4.550000\n",
      "2     B00SIC2JSI  0.324785  1524  2.000000\n",
      "3     B00SIC2JY2  0.324785  1525  5.000000\n",
      "4     B00VATZI1G  0.324785  1567  4.250000\n",
      "...          ...       ...   ...       ...\n",
      "1925  B001P79SQY  0.008906  1216  5.000000\n",
      "1926  B00006KBSA  0.008458   302  5.000000\n",
      "1927  B00G2GWEZU  0.004548  1414  3.666667\n",
      "1928  B00FI9LOXU  0.003041  1410  5.000000\n",
      "1929  B00ADT5S9G  0.002223  1357  5.000000\n",
      "\n",
      "[1930 rows x 4 columns]\n",
      "            asin     Score    Id   overall\n",
      "0     B007TBWZ3I  0.153633  1341  3.500000\n",
      "1     B00007JXIB  0.138509   741  3.375000\n",
      "2     B00HG1BOWO  0.117012  1425  3.769841\n",
      "3     B00N9KO2UM  0.117012  1459  3.857143\n",
      "4     B00O3IRBI4  0.117012  1478  4.148148\n",
      "...          ...       ...   ...       ...\n",
      "1928  B0078UBTBY  0.005681  1331  4.888889\n",
      "1929  B00TRFRGNI  0.005681  1551  2.857143\n",
      "1930  B00007AXY5  0.005363   630  3.500000\n",
      "1931  B0015RA2NC  0.004807  1192  4.000000\n",
      "1932  B00ADT5S9G  0.002140  1357  5.000000\n",
      "\n",
      "[1933 rows x 4 columns]\n",
      "            asin     Score    Id   overall\n",
      "0     B000063XJH  0.402434   203  4.377358\n",
      "1     B00PE3SNFM  0.395518  1497  4.229508\n",
      "2     B00O9K26AY  0.391452  1485  4.666667\n",
      "3     B00XUMIBHY  0.387797  1622  4.514706\n",
      "4     B000063XJI  0.357515   205  4.550000\n",
      "...          ...       ...   ...       ...\n",
      "1928  B000IOEJCI  0.003784  1118  4.421488\n",
      "1929  B00006K88Z  0.003457   284  4.000000\n",
      "1930  B00006K4AO  0.003316   268  3.000000\n",
      "1931  B00006K5D5  0.002538   287  4.041667\n",
      "1932  B00005R8BN  0.000982   160  4.016667\n",
      "\n",
      "[1933 rows x 4 columns]\n"
     ]
    }
   ],
   "source": [
    "# Inicializa listas vacías para almacenar los resultados\n",
    "final_results = []\n",
    "# Itera a través de los 4 conjuntos de resultados\n",
    "for producto in range(4):\n",
    "    top_scores_product = [similarity_score[1] for similarity_score in similaridad_score_resultados[producto][:CANTIDAD]]\n",
    "    top_item_ids_product = [similarity_score[0] for similarity_score in similaridad_score_resultados[producto][:CANTIDAD]]\n",
    "    top_asin_product = asins_resultados[producto][:CANTIDAD]\n",
    "\n",
    "    # Crear una lista de tuplas que contenga el ASIN, el score y el overall en el mismo orden\n",
    "    data = list(zip(top_asin_product, top_scores_product, top_item_ids_product))\n",
    "\n",
    "    # Crear un DataFrame a partir de los datos combinados\n",
    "    df_result = pd.DataFrame(data, columns=['asin', 'Score', 'Id'])\n",
    "\n",
    "    # Realizar un join entre df_result y result usando la columna 'ASIN' como clave de unión\n",
    "    final_result = pd.merge(df_result, overall_mean, on='asin')\n",
    "    final_results.append(final_result)\n",
    "\n"
   ]
  },
  {
   "cell_type": "markdown",
   "metadata": {},
   "source": [
    "## MODULO 4\n",
    "### Sistema de inferencia difuso"
   ]
  },
  {
   "cell_type": "code",
   "execution_count": 229,
   "metadata": {},
   "outputs": [],
   "source": [
    "# Definimos las variables de entrada y salida para el sistema de control difuso\n",
    "overall = ctrl.Antecedent(np.arange(1, 6, 0.1), 'overall')  # Calificación general\n",
    "similaridad = ctrl.Antecedent(np.arange(-1, 1, 0.1), 'similaridad')  # Similaridad con otros elementos\n",
    "recomendacion = ctrl.Consequent(np.arange(0, 2, 0.1), 'recomendacion')  # Recomendación resultante\n",
    "\n",
    "# Definimos los trapecios para las variables de entrada y salida\n",
    "overall['excelente'] = fuzz.trapmf(overall.universe, [4.1, 5, 5, 5]) # si el valor es [4.1 o 5], entonces es excelente\n",
    "overall['bueno'] = fuzz.trapmf(overall.universe, [3.1, 4, 4, 4.1]) # si el valor es [3.1 o 4.1), entonces es bueno\n",
    "overall['normal'] = fuzz.trapmf(overall.universe, [2.1, 3, 3, 3.1]) # si el valor es [2.1 o 3.1), entonces es normal\n",
    "overall['pesimo'] = fuzz.trapmf(overall.universe, [0.99, 2, 2, 2.1]) # si el valor es (0.99 o 2.1), entonces es pesimo\n",
    "\n",
    "similaridad['muy_similar'] = fuzz.trapmf(similaridad.universe, [0.7, 1, 1, 1]) # si el valor es [0.7 o 1], entonces es muy similar\n",
    "similaridad['similar'] = fuzz.trapmf(similaridad.universe, [0.4, 0.7, 0.7, 0.7]) # si el valor es [0.4 o 0.7), entonces es similar\n",
    "similaridad['poco_similar'] = fuzz.trapmf(similaridad.universe, [0.2, 0.4, 0.4, 0.4]) # si el valor es [0.2 o 0.4), entonces es poco similar\n",
    "similaridad['no_similar'] = fuzz.trapmf(similaridad.universe, [-1, 0, 0, 0.2])  # si el valor es [-1 o 0.2), entonces es no similar\n",
    "\n",
    "\n",
    "recomendacion['muy_recomendado'] = fuzz.trapmf(recomendacion.universe, [1.1, 2, 2, 2]) # si el valor es [1.1 o 2], entonces es muy recomendado\n",
    "recomendacion['recomendado'] = fuzz.trapmf(recomendacion.universe, [0.1, 1, 1, 1.1]) # si el valor es [0.1 o 1.1), entonces es recomendado\n",
    "recomendacion['no_recomendado'] = fuzz.trapmf(recomendacion.universe, [0, 0, 0, 0.1]) # si el valor es [0 o 0.1), entonces es no recomendado\n",
    "\n",
    "# regla 1: si la similaridad es no similar y el overall es excelente, bueno, normal o pesimo, entonces la recomendacion es no recomendado\n",
    "rule1 = ctrl.Rule(similaridad['no_similar'] & (overall['excelente'] | overall['bueno'] | overall['normal'] | overall['pesimo']), recomendacion['no_recomendado'])\n",
    "# regla 2: si la similaridad es muy similar, similar, poco similar o no similar y el overall es pesimo, entonces la recomendacion es no recomendado\n",
    "rule2 = ctrl.Rule(overall['pesimo'] & (similaridad['muy_similar'] | similaridad['similar'] | similaridad['poco_similar'] | similaridad['no_similar']), recomendacion['no_recomendado'])\n",
    "# regla 3: si la similaridad es muy similar o similar y el overall es excelente o bueno, entonces la recomendacion es muy recomendado\n",
    "rule3 = ctrl.Rule((overall['excelente'] | overall['bueno']) & (similaridad['muy_similar'] | similaridad['similar']), recomendacion['muy_recomendado'])\n",
    "# regla 4: si la similaridad es muy similar o similar y el overall es normal, entonces la recomendacion es recomendado\n",
    "rule4 = ctrl.Rule(overall['normal']  & (similaridad['muy_similar'] | similaridad['similar']), recomendacion['recomendado'])\n",
    "# regla 5: si la similaridad es muy similar o similar y el overall es excelente o bueno y poco similar, entonces la recomendacion es recomendado\n",
    "rule5 = ctrl.Rule((overall['excelente'] | overall['bueno']) & (similaridad['poco_similar']), recomendacion['recomendado'])\n",
    "# regla 6: si la similaridad es poco similar y el overall es normal, entonces la recomendacion es no recomendado\n",
    "rule6 = ctrl.Rule(overall['normal'] & similaridad['poco_similar'], recomendacion['no_recomendado'])\n",
    "\n",
    "# Sistema de control y simulación\n",
    "sistema_control = ctrl.ControlSystem([rule1, rule2, rule3, rule4, rule5, rule6])\n",
    "sistema_simulacion = ctrl.ControlSystemSimulation(sistema_control)"
   ]
  },
  {
   "cell_type": "markdown",
   "metadata": {},
   "source": [
    "testeamos"
   ]
  },
  {
   "cell_type": "code",
   "execution_count": 230,
   "metadata": {},
   "outputs": [
    {
     "name": "stdout",
     "output_type": "stream",
     "text": [
      "1.6333333333333335\n"
     ]
    }
   ],
   "source": [
    "# Pasar entradas al sistema\n",
    "sistema_simulacion.input['overall'] = 4  # Ejemplo de calificación\n",
    "sistema_simulacion.input['similaridad'] = 0.7  # Ejemplo de calificación\n",
    "sistema_simulacion.compute() # Defuzzificación\n",
    "\n",
    "# Por el metodo 'centroide'\n",
    "print(sistema_simulacion.output['recomendacion'])"
   ]
  },
  {
   "cell_type": "markdown",
   "metadata": {},
   "source": [
    "## MODULO 5\n",
    "### Defusificador"
   ]
  },
  {
   "cell_type": "markdown",
   "metadata": {},
   "source": [
    "Defuzzificamos el resultado"
   ]
  },
  {
   "cell_type": "code",
   "execution_count": 231,
   "metadata": {},
   "outputs": [],
   "source": [
    "def sistema_recomendacion_defuzzificado (recomendacion):\n",
    "    if recomendacion < 0.1:\n",
    "        return 'no_recomendado'\n",
    "    elif recomendacion < 1.1:\n",
    "        return 'recomendado'\n",
    "    else:\n",
    "        return 'muy_recomendado'\n",
    "    "
   ]
  },
  {
   "cell_type": "code",
   "execution_count": 232,
   "metadata": {},
   "outputs": [],
   "source": [
    "def sistema_recomendacion( similarity, overall):\n",
    "    sistema_simulacion.input['overall'] = overall  # Ejemplo de calificación\n",
    "    sistema_simulacion.input['similaridad'] = similarity # Ejemplo de calificación\n",
    "    sistema_simulacion.compute() # Defuzzificación\n",
    "    return (sistema_recomendacion_defuzzificado(sistema_simulacion.output['recomendacion']),sistema_simulacion.output['recomendacion'] )"
   ]
  },
  {
   "cell_type": "code",
   "execution_count": 233,
   "metadata": {},
   "outputs": [],
   "source": [
    "# Itera a través de los 4 conjuntos de resultados\n",
    "\n",
    "for i in range(4):\n",
    "   # Aplicar la función fuzzyReglas a cada fila y crear una nueva columna 'result'\n",
    "    final_results[i]['result'] = final_results[i].apply(lambda row: sistema_recomendacion(row['Score'], row['overall']), axis=1) \n",
    "\n",
    "# Para mostrar el DataFrame resultante\n",
    "for i, df_result in enumerate(final_results):\n",
    "    sorted_results = final_results[i].sort_values(by='result', key=lambda x: x.apply(lambda y: y[1] if isinstance(y, tuple) else y), ascending=False)\n",
    "\n",
    "\n"
   ]
  },
  {
   "cell_type": "code",
   "execution_count": 234,
   "metadata": {},
   "outputs": [
    {
     "name": "stdout",
     "output_type": "stream",
     "text": [
      "Producto seleccionado: \n"
     ]
    },
    {
     "data": {
      "text/html": [
       "<div>\n",
       "<style scoped>\n",
       "    .dataframe tbody tr th:only-of-type {\n",
       "        vertical-align: middle;\n",
       "    }\n",
       "\n",
       "    .dataframe tbody tr th {\n",
       "        vertical-align: top;\n",
       "    }\n",
       "\n",
       "    .dataframe thead th {\n",
       "        text-align: right;\n",
       "    }\n",
       "</style>\n",
       "<table border=\"1\" class=\"dataframe\">\n",
       "  <thead>\n",
       "    <tr style=\"text-align: right;\">\n",
       "      <th></th>\n",
       "      <th>asin</th>\n",
       "      <th>title</th>\n",
       "      <th>description</th>\n",
       "    </tr>\n",
       "  </thead>\n",
       "  <tbody>\n",
       "    <tr>\n",
       "      <th>3013</th>\n",
       "      <td>B00XII1UBE</td>\n",
       "      <td>&lt;span class=\"a-size-medium a-color-secondary\"</td>\n",
       "      <td>[Long synonymous with sophistication and glamo...</td>\n",
       "    </tr>\n",
       "  </tbody>\n",
       "</table>\n",
       "</div>"
      ],
      "text/plain": [
       "            asin                                          title  \\\n",
       "3013  B00XII1UBE  <span class=\"a-size-medium a-color-secondary\"   \n",
       "\n",
       "                                            description  \n",
       "3013  [Long synonymous with sophistication and glamo...  "
      ]
     },
     "metadata": {},
     "output_type": "display_data"
    },
    {
     "name": "stdout",
     "output_type": "stream",
     "text": [
      "Productos recomendados:\n"
     ]
    },
    {
     "data": {
      "text/html": [
       "<div>\n",
       "<style scoped>\n",
       "    .dataframe tbody tr th:only-of-type {\n",
       "        vertical-align: middle;\n",
       "    }\n",
       "\n",
       "    .dataframe tbody tr th {\n",
       "        vertical-align: top;\n",
       "    }\n",
       "\n",
       "    .dataframe thead th {\n",
       "        text-align: right;\n",
       "    }\n",
       "</style>\n",
       "<table border=\"1\" class=\"dataframe\">\n",
       "  <thead>\n",
       "    <tr style=\"text-align: right;\">\n",
       "      <th></th>\n",
       "      <th>asin</th>\n",
       "      <th>title</th>\n",
       "      <th>description</th>\n",
       "    </tr>\n",
       "  </thead>\n",
       "  <tbody>\n",
       "    <tr>\n",
       "      <th>0</th>\n",
       "      <td>B00005N7TG</td>\n",
       "      <td>&lt;span class=\"a-size-medium a-color-secondary\"</td>\n",
       "      <td>[Vogue is the fashion authority. Setting the s...</td>\n",
       "    </tr>\n",
       "    <tr>\n",
       "      <th>1</th>\n",
       "      <td>B00D8GWHYA</td>\n",
       "      <td>&lt;span class=\"a-size-medium a-color-secondary\"</td>\n",
       "      <td>[Glamour is for the woman who sets the directi...</td>\n",
       "    </tr>\n",
       "    <tr>\n",
       "      <th>2</th>\n",
       "      <td>B00HG1BP0U</td>\n",
       "      <td>&lt;span class=\"a-size-medium a-color-secondary\"</td>\n",
       "      <td>[Glamour is for the woman who sets the directi...</td>\n",
       "    </tr>\n",
       "    <tr>\n",
       "      <th>3</th>\n",
       "      <td>B00SIC2JSI</td>\n",
       "      <td>&lt;span class=\"a-size-medium a-color-secondary\"</td>\n",
       "      <td>[Elle is the world's largest fashion magazine ...</td>\n",
       "    </tr>\n",
       "    <tr>\n",
       "      <th>4</th>\n",
       "      <td>B00SIC2JY2</td>\n",
       "      <td>&lt;span class=\"a-size-medium a-color-secondary\"</td>\n",
       "      <td>[Elle is the world's largest fashion magazine ...</td>\n",
       "    </tr>\n",
       "  </tbody>\n",
       "</table>\n",
       "</div>"
      ],
      "text/plain": [
       "         asin                                          title  \\\n",
       "0  B00005N7TG  <span class=\"a-size-medium a-color-secondary\"   \n",
       "1  B00D8GWHYA  <span class=\"a-size-medium a-color-secondary\"   \n",
       "2  B00HG1BP0U  <span class=\"a-size-medium a-color-secondary\"   \n",
       "3  B00SIC2JSI  <span class=\"a-size-medium a-color-secondary\"   \n",
       "4  B00SIC2JY2  <span class=\"a-size-medium a-color-secondary\"   \n",
       "\n",
       "                                         description  \n",
       "0  [Vogue is the fashion authority. Setting the s...  \n",
       "1  [Glamour is for the woman who sets the directi...  \n",
       "2  [Glamour is for the woman who sets the directi...  \n",
       "3  [Elle is the world's largest fashion magazine ...  \n",
       "4  [Elle is the world's largest fashion magazine ...  "
      ]
     },
     "metadata": {},
     "output_type": "display_data"
    },
    {
     "name": "stdout",
     "output_type": "stream",
     "text": [
      "Producto seleccionado: \n"
     ]
    },
    {
     "data": {
      "text/html": [
       "<div>\n",
       "<style scoped>\n",
       "    .dataframe tbody tr th:only-of-type {\n",
       "        vertical-align: middle;\n",
       "    }\n",
       "\n",
       "    .dataframe tbody tr th {\n",
       "        vertical-align: top;\n",
       "    }\n",
       "\n",
       "    .dataframe thead th {\n",
       "        text-align: right;\n",
       "    }\n",
       "</style>\n",
       "<table border=\"1\" class=\"dataframe\">\n",
       "  <thead>\n",
       "    <tr style=\"text-align: right;\">\n",
       "      <th></th>\n",
       "      <th>asin</th>\n",
       "      <th>title</th>\n",
       "      <th>description</th>\n",
       "    </tr>\n",
       "  </thead>\n",
       "  <tbody>\n",
       "    <tr>\n",
       "      <th>3026</th>\n",
       "      <td>B00YQH9874</td>\n",
       "      <td>&lt;span class=\"a-size-medium a-color-secondary\"</td>\n",
       "      <td>[Cycle World, America's largest motorcycle med...</td>\n",
       "    </tr>\n",
       "  </tbody>\n",
       "</table>\n",
       "</div>"
      ],
      "text/plain": [
       "            asin                                          title  \\\n",
       "3026  B00YQH9874  <span class=\"a-size-medium a-color-secondary\"   \n",
       "\n",
       "                                            description  \n",
       "3026  [Cycle World, America's largest motorcycle med...  "
      ]
     },
     "metadata": {},
     "output_type": "display_data"
    },
    {
     "name": "stdout",
     "output_type": "stream",
     "text": [
      "Productos recomendados:\n"
     ]
    },
    {
     "data": {
      "text/html": [
       "<div>\n",
       "<style scoped>\n",
       "    .dataframe tbody tr th:only-of-type {\n",
       "        vertical-align: middle;\n",
       "    }\n",
       "\n",
       "    .dataframe tbody tr th {\n",
       "        vertical-align: top;\n",
       "    }\n",
       "\n",
       "    .dataframe thead th {\n",
       "        text-align: right;\n",
       "    }\n",
       "</style>\n",
       "<table border=\"1\" class=\"dataframe\">\n",
       "  <thead>\n",
       "    <tr style=\"text-align: right;\">\n",
       "      <th></th>\n",
       "      <th>asin</th>\n",
       "      <th>title</th>\n",
       "      <th>description</th>\n",
       "    </tr>\n",
       "  </thead>\n",
       "  <tbody>\n",
       "    <tr>\n",
       "      <th>0</th>\n",
       "      <td>B015HSVUKS</td>\n",
       "      <td>&lt;span class=\"a-size-medium a-color-secondary\"</td>\n",
       "      <td>[Home improvement, decorating, entertaining, c...</td>\n",
       "    </tr>\n",
       "    <tr>\n",
       "      <th>1</th>\n",
       "      <td>B01HI8V10E</td>\n",
       "      <td>&lt;span class=\"a-size-medium a-color-secondary\"</td>\n",
       "      <td>[Home improvement, decorating, entertaining, c...</td>\n",
       "    </tr>\n",
       "    <tr>\n",
       "      <th>2</th>\n",
       "      <td>B00SIC2JSI</td>\n",
       "      <td>&lt;span class=\"a-size-medium a-color-secondary\"</td>\n",
       "      <td>[Elle is the world's largest fashion magazine ...</td>\n",
       "    </tr>\n",
       "    <tr>\n",
       "      <th>3</th>\n",
       "      <td>B00SIC2JY2</td>\n",
       "      <td>&lt;span class=\"a-size-medium a-color-secondary\"</td>\n",
       "      <td>[Elle is the world's largest fashion magazine ...</td>\n",
       "    </tr>\n",
       "    <tr>\n",
       "      <th>4</th>\n",
       "      <td>B00VATZI1G</td>\n",
       "      <td>&lt;span class=\"a-size-medium a-color-secondary\"</td>\n",
       "      <td>[Elle is the world's largest fashion magazine ...</td>\n",
       "    </tr>\n",
       "  </tbody>\n",
       "</table>\n",
       "</div>"
      ],
      "text/plain": [
       "         asin                                          title  \\\n",
       "0  B015HSVUKS  <span class=\"a-size-medium a-color-secondary\"   \n",
       "1  B01HI8V10E  <span class=\"a-size-medium a-color-secondary\"   \n",
       "2  B00SIC2JSI  <span class=\"a-size-medium a-color-secondary\"   \n",
       "3  B00SIC2JY2  <span class=\"a-size-medium a-color-secondary\"   \n",
       "4  B00VATZI1G  <span class=\"a-size-medium a-color-secondary\"   \n",
       "\n",
       "                                         description  \n",
       "0  [Home improvement, decorating, entertaining, c...  \n",
       "1  [Home improvement, decorating, entertaining, c...  \n",
       "2  [Elle is the world's largest fashion magazine ...  \n",
       "3  [Elle is the world's largest fashion magazine ...  \n",
       "4  [Elle is the world's largest fashion magazine ...  "
      ]
     },
     "metadata": {},
     "output_type": "display_data"
    },
    {
     "name": "stdout",
     "output_type": "stream",
     "text": [
      "Producto seleccionado: \n"
     ]
    },
    {
     "data": {
      "text/html": [
       "<div>\n",
       "<style scoped>\n",
       "    .dataframe tbody tr th:only-of-type {\n",
       "        vertical-align: middle;\n",
       "    }\n",
       "\n",
       "    .dataframe tbody tr th {\n",
       "        vertical-align: top;\n",
       "    }\n",
       "\n",
       "    .dataframe thead th {\n",
       "        text-align: right;\n",
       "    }\n",
       "</style>\n",
       "<table border=\"1\" class=\"dataframe\">\n",
       "  <thead>\n",
       "    <tr style=\"text-align: right;\">\n",
       "      <th></th>\n",
       "      <th>asin</th>\n",
       "      <th>title</th>\n",
       "      <th>description</th>\n",
       "    </tr>\n",
       "  </thead>\n",
       "  <tbody>\n",
       "    <tr>\n",
       "      <th>2639</th>\n",
       "      <td>B009WBQX9K</td>\n",
       "      <td>&lt;span class=\"a-size-medium a-color-secondary\"</td>\n",
       "      <td>[At Rattle our purpose is to publish the best ...</td>\n",
       "    </tr>\n",
       "  </tbody>\n",
       "</table>\n",
       "</div>"
      ],
      "text/plain": [
       "            asin                                          title  \\\n",
       "2639  B009WBQX9K  <span class=\"a-size-medium a-color-secondary\"   \n",
       "\n",
       "                                            description  \n",
       "2639  [At Rattle our purpose is to publish the best ...  "
      ]
     },
     "metadata": {},
     "output_type": "display_data"
    },
    {
     "name": "stdout",
     "output_type": "stream",
     "text": [
      "Productos recomendados:\n"
     ]
    },
    {
     "data": {
      "text/html": [
       "<div>\n",
       "<style scoped>\n",
       "    .dataframe tbody tr th:only-of-type {\n",
       "        vertical-align: middle;\n",
       "    }\n",
       "\n",
       "    .dataframe tbody tr th {\n",
       "        vertical-align: top;\n",
       "    }\n",
       "\n",
       "    .dataframe thead th {\n",
       "        text-align: right;\n",
       "    }\n",
       "</style>\n",
       "<table border=\"1\" class=\"dataframe\">\n",
       "  <thead>\n",
       "    <tr style=\"text-align: right;\">\n",
       "      <th></th>\n",
       "      <th>asin</th>\n",
       "      <th>title</th>\n",
       "      <th>description</th>\n",
       "    </tr>\n",
       "  </thead>\n",
       "  <tbody>\n",
       "    <tr>\n",
       "      <th>0</th>\n",
       "      <td>B007TBWZ3I</td>\n",
       "      <td>&lt;span class=\"a-size-medium a-color-secondary\"</td>\n",
       "      <td>[Celebrating the Goddess in every woman, SageW...</td>\n",
       "    </tr>\n",
       "    <tr>\n",
       "      <th>1</th>\n",
       "      <td>B00007JXIB</td>\n",
       "      <td>&lt;span class=\"a-size-medium a-color-secondary\"</td>\n",
       "      <td>[We are a magazine that is by fans, for fans w...</td>\n",
       "    </tr>\n",
       "    <tr>\n",
       "      <th>2</th>\n",
       "      <td>B00HG1BOWO</td>\n",
       "      <td>&lt;span class=\"a-size-medium a-color-secondary\"</td>\n",
       "      <td>[WIRED makes sense of a world in constant tran...</td>\n",
       "    </tr>\n",
       "    <tr>\n",
       "      <th>3</th>\n",
       "      <td>B00N9KO2UM</td>\n",
       "      <td>&lt;span class=\"a-size-medium a-color-secondary\"</td>\n",
       "      <td>[WIRED makes sense of a world in constant tran...</td>\n",
       "    </tr>\n",
       "    <tr>\n",
       "      <th>4</th>\n",
       "      <td>B00O3IRBI4</td>\n",
       "      <td>&lt;span class=\"a-size-medium a-color-secondary\"</td>\n",
       "      <td>[WIRED makes sense of a world in constant tran...</td>\n",
       "    </tr>\n",
       "  </tbody>\n",
       "</table>\n",
       "</div>"
      ],
      "text/plain": [
       "         asin                                          title  \\\n",
       "0  B007TBWZ3I  <span class=\"a-size-medium a-color-secondary\"   \n",
       "1  B00007JXIB  <span class=\"a-size-medium a-color-secondary\"   \n",
       "2  B00HG1BOWO  <span class=\"a-size-medium a-color-secondary\"   \n",
       "3  B00N9KO2UM  <span class=\"a-size-medium a-color-secondary\"   \n",
       "4  B00O3IRBI4  <span class=\"a-size-medium a-color-secondary\"   \n",
       "\n",
       "                                         description  \n",
       "0  [Celebrating the Goddess in every woman, SageW...  \n",
       "1  [We are a magazine that is by fans, for fans w...  \n",
       "2  [WIRED makes sense of a world in constant tran...  \n",
       "3  [WIRED makes sense of a world in constant tran...  \n",
       "4  [WIRED makes sense of a world in constant tran...  "
      ]
     },
     "metadata": {},
     "output_type": "display_data"
    },
    {
     "name": "stdout",
     "output_type": "stream",
     "text": [
      "Producto seleccionado: \n"
     ]
    },
    {
     "data": {
      "text/html": [
       "<div>\n",
       "<style scoped>\n",
       "    .dataframe tbody tr th:only-of-type {\n",
       "        vertical-align: middle;\n",
       "    }\n",
       "\n",
       "    .dataframe tbody tr th {\n",
       "        vertical-align: top;\n",
       "    }\n",
       "\n",
       "    .dataframe thead th {\n",
       "        text-align: right;\n",
       "    }\n",
       "</style>\n",
       "<table border=\"1\" class=\"dataframe\">\n",
       "  <thead>\n",
       "    <tr style=\"text-align: right;\">\n",
       "      <th></th>\n",
       "      <th>asin</th>\n",
       "      <th>title</th>\n",
       "      <th>description</th>\n",
       "    </tr>\n",
       "  </thead>\n",
       "  <tbody>\n",
       "    <tr>\n",
       "      <th>227</th>\n",
       "      <td>B000063XJR</td>\n",
       "      <td>&lt;span class=\"a-size-medium a-color-secondary\"</td>\n",
       "      <td>[Skilled builders share tips, techniques and t...</td>\n",
       "    </tr>\n",
       "  </tbody>\n",
       "</table>\n",
       "</div>"
      ],
      "text/plain": [
       "           asin                                          title  \\\n",
       "227  B000063XJR  <span class=\"a-size-medium a-color-secondary\"   \n",
       "\n",
       "                                           description  \n",
       "227  [Skilled builders share tips, techniques and t...  "
      ]
     },
     "metadata": {},
     "output_type": "display_data"
    },
    {
     "name": "stdout",
     "output_type": "stream",
     "text": [
      "Productos recomendados:\n"
     ]
    },
    {
     "data": {
      "text/html": [
       "<div>\n",
       "<style scoped>\n",
       "    .dataframe tbody tr th:only-of-type {\n",
       "        vertical-align: middle;\n",
       "    }\n",
       "\n",
       "    .dataframe tbody tr th {\n",
       "        vertical-align: top;\n",
       "    }\n",
       "\n",
       "    .dataframe thead th {\n",
       "        text-align: right;\n",
       "    }\n",
       "</style>\n",
       "<table border=\"1\" class=\"dataframe\">\n",
       "  <thead>\n",
       "    <tr style=\"text-align: right;\">\n",
       "      <th></th>\n",
       "      <th>asin</th>\n",
       "      <th>title</th>\n",
       "      <th>description</th>\n",
       "    </tr>\n",
       "  </thead>\n",
       "  <tbody>\n",
       "    <tr>\n",
       "      <th>0</th>\n",
       "      <td>B000063XJH</td>\n",
       "      <td>&lt;span class=\"a-size-medium a-color-secondary\"</td>\n",
       "      <td>[The magazine for savvy woodworkers--from aspi...</td>\n",
       "    </tr>\n",
       "    <tr>\n",
       "      <th>1</th>\n",
       "      <td>B00PE3SNFM</td>\n",
       "      <td>&lt;span class=\"a-size-medium a-color-secondary\"</td>\n",
       "      <td>[, HGTV Magazine is one of the most popular pu...</td>\n",
       "    </tr>\n",
       "    <tr>\n",
       "      <th>2</th>\n",
       "      <td>B00O9K26AY</td>\n",
       "      <td>&lt;span class=\"a-size-medium a-color-secondary\"</td>\n",
       "      <td>[HGTV Magazine is one of the most popular publ...</td>\n",
       "    </tr>\n",
       "    <tr>\n",
       "      <th>3</th>\n",
       "      <td>B00XUMIBHY</td>\n",
       "      <td>&lt;span class=\"a-size-medium a-color-secondary\"</td>\n",
       "      <td>[HGTV Magazine is one of the most popular publ...</td>\n",
       "    </tr>\n",
       "    <tr>\n",
       "      <th>4</th>\n",
       "      <td>B000063XJI</td>\n",
       "      <td>&lt;span class=\"a-size-medium a-color-secondary\"</td>\n",
       "      <td>[Hands-on advice, information and inspiration ...</td>\n",
       "    </tr>\n",
       "  </tbody>\n",
       "</table>\n",
       "</div>"
      ],
      "text/plain": [
       "         asin                                          title  \\\n",
       "0  B000063XJH  <span class=\"a-size-medium a-color-secondary\"   \n",
       "1  B00PE3SNFM  <span class=\"a-size-medium a-color-secondary\"   \n",
       "2  B00O9K26AY  <span class=\"a-size-medium a-color-secondary\"   \n",
       "3  B00XUMIBHY  <span class=\"a-size-medium a-color-secondary\"   \n",
       "4  B000063XJI  <span class=\"a-size-medium a-color-secondary\"   \n",
       "\n",
       "                                         description  \n",
       "0  [The magazine for savvy woodworkers--from aspi...  \n",
       "1  [, HGTV Magazine is one of the most popular pu...  \n",
       "2  [HGTV Magazine is one of the most popular publ...  \n",
       "3  [HGTV Magazine is one of the most popular publ...  \n",
       "4  [Hands-on advice, information and inspiration ...  "
      ]
     },
     "metadata": {},
     "output_type": "display_data"
    }
   ],
   "source": [
    "for i in range(4):\n",
    "    producto_encontrado = df_meta_cortado.loc[df_meta_cortado['asin'] == random_asin_valores[i], ['asin', 'title', 'description']] \n",
    "    print(\"Producto seleccionado: \")\n",
    "    display(producto_encontrado)\n",
    "    resultado_completo = pd.merge(final_results[i], df_meta_cortado, on='asin')[['asin', 'title', 'description']]\n",
    "    print(\"Productos recomendados:\")\n",
    "    display(resultado_completo.head(5))\n"
   ]
  }
 ],
 "metadata": {
  "kernelspec": {
   "display_name": "Python 3",
   "language": "python",
   "name": "python3"
  },
  "language_info": {
   "codemirror_mode": {
    "name": "ipython",
    "version": 3
   },
   "file_extension": ".py",
   "mimetype": "text/x-python",
   "name": "python",
   "nbconvert_exporter": "python",
   "pygments_lexer": "ipython3",
   "version": "3.11.3"
  }
 },
 "nbformat": 4,
 "nbformat_minor": 2
}
