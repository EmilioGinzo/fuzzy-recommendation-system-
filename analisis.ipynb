{
 "cells": [
  {
   "cell_type": "markdown",
   "metadata": {},
   "source": [
    " - combinar las tablas\n",
    " - limpiar datos\n",
    " - combinar las columnas title, brand, summary, description en una nueva columna\n",
    " - tokenizar la nueva columnas combinada\n",
    " - calcular similitud con la similitud de los items tokenizados del coseno\n",
    " - los que son muy similares los eliminamos de la lista\n",
    " - agarramos algunos items de la lista y calculamos el mean del overall\n",
    " - ordenamos nuevamente descendentemente pero esta vez basados en el overall mean => lista2\n",
    " - recomendamos los 10 primeros de la lista 2\n",
    "\n"
   ]
  },
  {
   "cell_type": "code",
   "execution_count": 3,
   "metadata": {},
   "outputs": [],
   "source": [
    "import nltk\n",
    "import json\n",
    "import pandas as pd\n",
    "import gzip\n",
    "import numpy as np\n",
    "import matplotlib.pyplot as plt\n",
    "import seaborn as sns"
   ]
  },
  {
   "cell_type": "code",
   "execution_count": 4,
   "metadata": {},
   "outputs": [],
   "source": [
    "PATH = 'C:/Users/arase/OneDrive/Escritorio/Ara/A-Poli/IIN/7 Semestre/mate aplicada/2023/PROYECT FINAL/Segundo Parcial/AMAZON_FASHION.json.gz'\n",
    "\n",
    "def parse(path):\n",
    "  g = gzip.open(path, 'rb')\n",
    "  for l in g:\n",
    "    yield json.loads(l)\n",
    "\n",
    "def getDF(path):\n",
    "  i = 0\n",
    "  df = {}\n",
    "  for d in parse(path):\n",
    "    df[i] = d\n",
    "    i += 1\n",
    "  return pd.DataFrame.from_dict(df, orient='index')\n",
    "\n",
    "df = getDF(PATH)"
   ]
  },
  {
   "cell_type": "code",
   "execution_count": 5,
   "metadata": {},
   "outputs": [],
   "source": [
    "PATH = 'C:/Users/arase/OneDrive/Escritorio/Ara/A-Poli/IIN/7 Semestre/mate aplicada/2023/PROYECT FINAL/Segundo Parcial/meta_AMAZON_FASHION.json.gz'\n",
    "\n",
    "def parse(path):\n",
    "  g = gzip.open(path, 'rb')\n",
    "  for l in g:\n",
    "    yield json.loads(l)\n",
    "\n",
    "def getDF(path):\n",
    "  i = 0\n",
    "  df = {}\n",
    "  for d in parse(path):\n",
    "    df[i] = d\n",
    "    i += 1\n",
    "  return pd.DataFrame.from_dict(df, orient='index')\n",
    "\n",
    "df_meta = getDF(PATH)"
   ]
  },
  {
   "cell_type": "code",
   "execution_count": 6,
   "metadata": {},
   "outputs": [
    {
     "data": {
      "text/plain": [
       "(186637, 16)"
      ]
     },
     "execution_count": 6,
     "metadata": {},
     "output_type": "execute_result"
    }
   ],
   "source": [
    "df_meta.shape"
   ]
  },
  {
   "cell_type": "code",
   "execution_count": 7,
   "metadata": {},
   "outputs": [
    {
     "data": {
      "text/plain": [
       "186194"
      ]
     },
     "execution_count": 7,
     "metadata": {},
     "output_type": "execute_result"
    }
   ],
   "source": [
    "df_meta['asin'].nunique()"
   ]
  },
  {
   "cell_type": "markdown",
   "metadata": {},
   "source": [
    "notamos que hay productos que no son unicos, arreglamos eso"
   ]
  },
  {
   "cell_type": "code",
   "execution_count": 8,
   "metadata": {},
   "outputs": [
    {
     "data": {
      "text/plain": [
       "(186194, 16)"
      ]
     },
     "execution_count": 8,
     "metadata": {},
     "output_type": "execute_result"
    }
   ],
   "source": [
    "df_meta= df_meta.drop_duplicates(subset='asin', keep='first')\n",
    "df_meta.shape"
   ]
  },
  {
   "cell_type": "markdown",
   "metadata": {},
   "source": [
    "creamos una nueva columnas que contiene la informacion que necesitamos para encontrar items similares"
   ]
  },
  {
   "cell_type": "code",
   "execution_count": 9,
   "metadata": {},
   "outputs": [],
   "source": [
    "columns_to_combine = ['title', 'brand', 'summary', 'description', 'expliota']\n",
    "existing_columns = [col for col in columns_to_combine if col in df_meta.columns]\n",
    "\n",
    "if existing_columns:\n",
    "    # Al menos una de las columnas en 'existing_columns' existe en el df_metaFrame 'df_meta'.\n",
    "    # Puedes combinar las columnas existentes y crear la nueva columna 'combined_text'.\n",
    "    df_meta['combined_text'] = df_meta[existing_columns].apply(lambda row: ' '.join(str(val) for val in row), axis=1)"
   ]
  },
  {
   "cell_type": "code",
   "execution_count": 10,
   "metadata": {},
   "outputs": [
    {
     "data": {
      "text/plain": [
       "Text(0, 0.5, 'Count')"
      ]
     },
     "execution_count": 10,
     "metadata": {},
     "output_type": "execute_result"
    },
    {
     "data": {
      "image/png": "[encoded data removed]",
      "text/plain": [
       "<Figure size 1000x500 with 1 Axes>"
      ]
     },
     "metadata": {},
     "output_type": "display_data"
    }
   ],
   "source": [
    "ax = df['overall'].value_counts().sort_index().plot(kind='bar', title=\"Count of reviews by star\",figsize=(10, 5))\n",
    "ax.set_xlabel(\"Star\")\n",
    "ax.set_ylabel(\"Count\")\n"
   ]
  },
  {
   "cell_type": "markdown",
   "metadata": {},
   "source": [
    "notamos que los reviews estan sesgados hacia 5 estrellas"
   ]
  },
  {
   "cell_type": "markdown",
   "metadata": {},
   "source": [
    "calculamos el promedio de estrellas por producto y creamos una nueva columna en el df_metaFrame 'df_meta' para almacenar el promedio de estrellas por producto."
   ]
  },
  {
   "cell_type": "code",
   "execution_count": 11,
   "metadata": {},
   "outputs": [],
   "source": [
    "# Calcular el \"rating score\" promedio por 'asin'\n",
    "rating_score = df.groupby('asin')['overall'].mean().reset_index()\n",
    "\n",
    "# Renombrar la columna resultante como 'rating_score'\n",
    "rating_score.rename(columns={'overall': 'rating_score'}, inplace=True)\n",
    "\n",
    "# Fusionar el DataFrame original con el \"rating score\" usando 'asin' como clave\n",
    "df = df.merge(rating_score, on='asin', how='left')"
   ]
  },
  {
   "cell_type": "markdown",
   "metadata": {},
   "source": [
    "### Tokenizacion de comentarios"
   ]
  },
  {
   "cell_type": "code",
   "execution_count": 12,
   "metadata": {},
   "outputs": [
    {
     "data": {
      "text/plain": [
       "'Excellent product!'"
      ]
     },
     "execution_count": 12,
     "metadata": {},
     "output_type": "execute_result"
    }
   ],
   "source": [
    "example = df['reviewText'][39]\n",
    "example"
   ]
  },
  {
   "cell_type": "code",
   "execution_count": 13,
   "metadata": {},
   "outputs": [
    {
     "name": "stderr",
     "output_type": "stream",
     "text": [
      "[nltk_data] Downloading package punkt to\n",
      "[nltk_data]     C:\\Users\\arase\\AppData\\Roaming\\nltk_data...\n",
      "[nltk_data]   Unzipping tokenizers\\punkt.zip.\n"
     ]
    },
    {
     "data": {
      "text/plain": [
       "['Excellent', 'product', '!']"
      ]
     },
     "execution_count": 13,
     "metadata": {},
     "output_type": "execute_result"
    }
   ],
   "source": [
    "nltk.download('punkt')\n",
    "tokens = nltk.word_tokenize(example)\n",
    "tokens"
   ]
  },
  {
   "cell_type": "code",
   "execution_count": 14,
   "metadata": {},
   "outputs": [
    {
     "name": "stderr",
     "output_type": "stream",
     "text": [
      "[nltk_data] Downloading package punkt to\n",
      "[nltk_data]     C:\\Users\\arase\\AppData\\Roaming\\nltk_data...\n",
      "[nltk_data]   Package punkt is already up-to-date!\n",
      "[nltk_data] Downloading package averaged_perceptron_tagger to\n",
      "[nltk_data]     C:\\Users\\arase\\AppData\\Roaming\\nltk_data...\n",
      "[nltk_data]   Unzipping taggers\\averaged_perceptron_tagger.zip.\n",
      "[nltk_data] Downloading package maxent_ne_chunker to\n",
      "[nltk_data]     C:\\Users\\arase\\AppData\\Roaming\\nltk_data...\n",
      "[nltk_data]   Unzipping chunkers\\maxent_ne_chunker.zip.\n",
      "[nltk_data] Downloading package words to\n",
      "[nltk_data]     C:\\Users\\arase\\AppData\\Roaming\\nltk_data...\n",
      "[nltk_data]   Unzipping corpora\\words.zip.\n"
     ]
    },
    {
     "data": {
      "text/plain": [
       "True"
      ]
     },
     "execution_count": 14,
     "metadata": {},
     "output_type": "execute_result"
    }
   ],
   "source": [
    "nltk.download('punkt')\n",
    "nltk.download('averaged_perceptron_tagger')\n",
    "nltk.download('maxent_ne_chunker')\n",
    "nltk.download('words')"
   ]
  },
  {
   "cell_type": "code",
   "execution_count": 15,
   "metadata": {},
   "outputs": [
    {
     "data": {
      "text/plain": [
       "[('Excellent', 'JJ'), ('product', 'NN'), ('!', '.')]"
      ]
     },
     "execution_count": 15,
     "metadata": {},
     "output_type": "execute_result"
    }
   ],
   "source": [
    "tagged = nltk.pos_tag(tokens)\n",
    "tagged[:10]"
   ]
  },
  {
   "cell_type": "code",
   "execution_count": 16,
   "metadata": {},
   "outputs": [
    {
     "name": "stdout",
     "output_type": "stream",
     "text": [
      "(S Excellent/JJ product/NN !/.)\n"
     ]
    }
   ],
   "source": [
    "entities = nltk.chunk.ne_chunk(tagged)\n",
    "entities.pprint()"
   ]
  },
  {
   "cell_type": "code",
   "execution_count": 36,
   "metadata": {},
   "outputs": [
    {
     "data": {
      "text/html": [
       "<div>\n",
       "<style scoped>\n",
       "    .dataframe tbody tr th:only-of-type {\n",
       "        vertical-align: middle;\n",
       "    }\n",
       "\n",
       "    .dataframe tbody tr th {\n",
       "        vertical-align: top;\n",
       "    }\n",
       "\n",
       "    .dataframe thead th {\n",
       "        text-align: right;\n",
       "    }\n",
       "</style>\n",
       "<table border=\"1\" class=\"dataframe\">\n",
       "  <thead>\n",
       "    <tr style=\"text-align: right;\">\n",
       "      <th></th>\n",
       "      <th>asin</th>\n",
       "      <th>overall</th>\n",
       "    </tr>\n",
       "  </thead>\n",
       "  <tbody>\n",
       "    <tr>\n",
       "      <th>0</th>\n",
       "      <td>0764443682</td>\n",
       "      <td>5.000000</td>\n",
       "    </tr>\n",
       "    <tr>\n",
       "      <th>1</th>\n",
       "      <td>1291691480</td>\n",
       "      <td>5.000000</td>\n",
       "    </tr>\n",
       "    <tr>\n",
       "      <th>2</th>\n",
       "      <td>1940280001</td>\n",
       "      <td>5.000000</td>\n",
       "    </tr>\n",
       "    <tr>\n",
       "      <th>3</th>\n",
       "      <td>1940735033</td>\n",
       "      <td>4.857143</td>\n",
       "    </tr>\n",
       "    <tr>\n",
       "      <th>4</th>\n",
       "      <td>1940967805</td>\n",
       "      <td>5.000000</td>\n",
       "    </tr>\n",
       "    <tr>\n",
       "      <th>...</th>\n",
       "      <td>...</td>\n",
       "      <td>...</td>\n",
       "    </tr>\n",
       "    <tr>\n",
       "      <th>186184</th>\n",
       "      <td>B01HJGXL4O</td>\n",
       "      <td>5.000000</td>\n",
       "    </tr>\n",
       "    <tr>\n",
       "      <th>186185</th>\n",
       "      <td>B01HJGZVYW</td>\n",
       "      <td>4.000000</td>\n",
       "    </tr>\n",
       "    <tr>\n",
       "      <th>186186</th>\n",
       "      <td>B01HJH7JY6</td>\n",
       "      <td>5.000000</td>\n",
       "    </tr>\n",
       "    <tr>\n",
       "      <th>186187</th>\n",
       "      <td>B01HJHF97K</td>\n",
       "      <td>3.000000</td>\n",
       "    </tr>\n",
       "    <tr>\n",
       "      <th>186188</th>\n",
       "      <td>B01HJHTH5U</td>\n",
       "      <td>4.625000</td>\n",
       "    </tr>\n",
       "  </tbody>\n",
       "</table>\n",
       "<p>186189 rows × 2 columns</p>\n",
       "</div>"
      ],
      "text/plain": [
       "              asin   overall\n",
       "0       0764443682  5.000000\n",
       "1       1291691480  5.000000\n",
       "2       1940280001  5.000000\n",
       "3       1940735033  4.857143\n",
       "4       1940967805  5.000000\n",
       "...            ...       ...\n",
       "186184  B01HJGXL4O  5.000000\n",
       "186185  B01HJGZVYW  4.000000\n",
       "186186  B01HJH7JY6  5.000000\n",
       "186187  B01HJHF97K  3.000000\n",
       "186188  B01HJHTH5U  4.625000\n",
       "\n",
       "[186189 rows x 2 columns]"
      ]
     },
     "execution_count": 36,
     "metadata": {},
     "output_type": "execute_result"
    }
   ],
   "source": [
    "overall_mean = df.groupby('asin')['overall'].mean().reset_index()\n",
    "overall_mean\n",
    "# num_asin_values = df_meta['asin'].nunique()\n",
    "# num_asin_values"
   ]
  },
  {
   "cell_type": "code",
   "execution_count": 18,
   "metadata": {},
   "outputs": [],
   "source": [
    "df_meta['id']=[i for i in range(0,df_meta.shape[0])]"
   ]
  },
  {
   "cell_type": "markdown",
   "metadata": {},
   "source": [
    "reducimos el tama;o total de las muestras a fin de procesar mas rapido"
   ]
  },
  {
   "cell_type": "code",
   "execution_count": 19,
   "metadata": {},
   "outputs": [],
   "source": [
    "df_meta_cortado = df_meta.head(1000)"
   ]
  },
  {
   "cell_type": "code",
   "execution_count": 22,
   "metadata": {},
   "outputs": [],
   "source": [
    "from sklearn.feature_extraction.text import TfidfVectorizer\n",
    "\n",
    "vec = TfidfVectorizer()\n"
   ]
  },
  {
   "cell_type": "code",
   "execution_count": 23,
   "metadata": {},
   "outputs": [
    {
     "data": {
      "text/plain": [
       "(1000, 4729)"
      ]
     },
     "execution_count": 23,
     "metadata": {},
     "output_type": "execute_result"
    }
   ],
   "source": [
    "vecs = vec.fit_transform(df_meta_cortado['combined_text'].apply(lambda x: np.str_(x)))\n",
    "vecs.shape"
   ]
  },
  {
   "cell_type": "code",
   "execution_count": 24,
   "metadata": {},
   "outputs": [],
   "source": [
    "from sklearn.metrics.pairwise import cosine_similarity"
   ]
  },
  {
   "cell_type": "code",
   "execution_count": 25,
   "metadata": {},
   "outputs": [
    {
     "data": {
      "text/plain": [
       "array([[1.        , 0.00457813, 0.05680882, ..., 0.03664615, 0.00384476,\n",
       "        0.00273318],\n",
       "       [0.00457813, 1.        , 0.        , ..., 0.        , 0.00984572,\n",
       "        0.00699916],\n",
       "       [0.05680882, 0.        , 1.        , ..., 0.02968493, 0.02942811,\n",
       "        0.        ],\n",
       "       ...,\n",
       "       [0.03664615, 0.        , 0.02968493, ..., 1.        , 0.        ,\n",
       "        0.        ],\n",
       "       [0.00384476, 0.00984572, 0.02942811, ..., 0.        , 1.        ,\n",
       "        0.00587797],\n",
       "       [0.00273318, 0.00699916, 0.        , ..., 0.        , 0.00587797,\n",
       "        1.        ]])"
      ]
     },
     "execution_count": 25,
     "metadata": {},
     "output_type": "execute_result"
    }
   ],
   "source": [
    "sim = cosine_similarity(vecs)\n",
    "sim"
   ]
  },
  {
   "cell_type": "code",
   "execution_count": 26,
   "metadata": {},
   "outputs": [
    {
     "data": {
      "text/html": [
       "<div>\n",
       "<style scoped>\n",
       "    .dataframe tbody tr th:only-of-type {\n",
       "        vertical-align: middle;\n",
       "    }\n",
       "\n",
       "    .dataframe tbody tr th {\n",
       "        vertical-align: top;\n",
       "    }\n",
       "\n",
       "    .dataframe thead th {\n",
       "        text-align: right;\n",
       "    }\n",
       "</style>\n",
       "<table border=\"1\" class=\"dataframe\">\n",
       "  <thead>\n",
       "    <tr style=\"text-align: right;\">\n",
       "      <th></th>\n",
       "      <th>title</th>\n",
       "      <th>brand</th>\n",
       "      <th>feature</th>\n",
       "      <th>rank</th>\n",
       "      <th>date</th>\n",
       "      <th>asin</th>\n",
       "      <th>imageURL</th>\n",
       "      <th>imageURLHighRes</th>\n",
       "      <th>description</th>\n",
       "      <th>price</th>\n",
       "      <th>also_view</th>\n",
       "      <th>also_buy</th>\n",
       "      <th>fit</th>\n",
       "      <th>details</th>\n",
       "      <th>similar_item</th>\n",
       "      <th>tech1</th>\n",
       "      <th>combined_text</th>\n",
       "      <th>id</th>\n",
       "    </tr>\n",
       "  </thead>\n",
       "  <tbody>\n",
       "    <tr>\n",
       "      <th>0</th>\n",
       "      <td>Slime Time Fall Fest [With CDROM and Collector...</td>\n",
       "      <td>Group Publishing (CO)</td>\n",
       "      <td>[Product Dimensions:\\n                    \\n8....</td>\n",
       "      <td>13,052,976inClothing,Shoesamp;Jewelry(</td>\n",
       "      <td>8.70 inches</td>\n",
       "      <td>0764443682</td>\n",
       "      <td>[https://images-na.ssl-images-amazon.com/image...</td>\n",
       "      <td>[https://images-na.ssl-images-amazon.com/image...</td>\n",
       "      <td>NaN</td>\n",
       "      <td>NaN</td>\n",
       "      <td>NaN</td>\n",
       "      <td>NaN</td>\n",
       "      <td>NaN</td>\n",
       "      <td>NaN</td>\n",
       "      <td>NaN</td>\n",
       "      <td>NaN</td>\n",
       "      <td>Slime Time Fall Fest [With CDROM and Collector...</td>\n",
       "      <td>0</td>\n",
       "    </tr>\n",
       "    <tr>\n",
       "      <th>1</th>\n",
       "      <td>XCC Qi promise new spider snake preparing men'...</td>\n",
       "      <td>NaN</td>\n",
       "      <td>NaN</td>\n",
       "      <td>11,654,581inClothing,Shoesamp;Jewelry(</td>\n",
       "      <td>5 star</td>\n",
       "      <td>1291691480</td>\n",
       "      <td>[https://images-na.ssl-images-amazon.com/image...</td>\n",
       "      <td>[https://images-na.ssl-images-amazon.com/image...</td>\n",
       "      <td>NaN</td>\n",
       "      <td>NaN</td>\n",
       "      <td>NaN</td>\n",
       "      <td>NaN</td>\n",
       "      <td>NaN</td>\n",
       "      <td>NaN</td>\n",
       "      <td>NaN</td>\n",
       "      <td>NaN</td>\n",
       "      <td>XCC Qi promise new spider snake preparing men'...</td>\n",
       "      <td>1</td>\n",
       "    </tr>\n",
       "  </tbody>\n",
       "</table>\n",
       "</div>"
      ],
      "text/plain": [
       "                                               title                  brand  \\\n",
       "0  Slime Time Fall Fest [With CDROM and Collector...  Group Publishing (CO)   \n",
       "1  XCC Qi promise new spider snake preparing men'...                    NaN   \n",
       "\n",
       "                                             feature  \\\n",
       "0  [Product Dimensions:\\n                    \\n8....   \n",
       "1                                                NaN   \n",
       "\n",
       "                                     rank         date        asin  \\\n",
       "0  13,052,976inClothing,Shoesamp;Jewelry(  8.70 inches  0764443682   \n",
       "1  11,654,581inClothing,Shoesamp;Jewelry(       5 star  1291691480   \n",
       "\n",
       "                                            imageURL  \\\n",
       "0  [https://images-na.ssl-images-amazon.com/image...   \n",
       "1  [https://images-na.ssl-images-amazon.com/image...   \n",
       "\n",
       "                                     imageURLHighRes description price  \\\n",
       "0  [https://images-na.ssl-images-amazon.com/image...         NaN   NaN   \n",
       "1  [https://images-na.ssl-images-amazon.com/image...         NaN   NaN   \n",
       "\n",
       "  also_view also_buy  fit details similar_item tech1  \\\n",
       "0       NaN      NaN  NaN     NaN          NaN   NaN   \n",
       "1       NaN      NaN  NaN     NaN          NaN   NaN   \n",
       "\n",
       "                                       combined_text  id  \n",
       "0  Slime Time Fall Fest [With CDROM and Collector...   0  \n",
       "1  XCC Qi promise new spider snake preparing men'...   1  "
      ]
     },
     "execution_count": 26,
     "metadata": {},
     "output_type": "execute_result"
    }
   ],
   "source": [
    "df_meta_cortado.head(2)"
   ]
  },
  {
   "cell_type": "code",
   "execution_count": 96,
   "metadata": {},
   "outputs": [],
   "source": [
    "def recommend(asin):\n",
    "    item_id = df_meta_cortado[df_meta_cortado.asin == asin]['id'].values[0]\n",
    "    scores = list(enumerate(sim[item_id]))\n",
    "    sorted_scores= sorted(scores, key=lambda x:x[1], reverse=True)\n",
    "    sorted_scores=sorted_scores[1:]\n",
    "    items_selected=[df_meta_cortado[items_selected[0]==df_meta_cortado['id']]['asin'].values[0] for items_selected in sorted_scores]\n",
    "    return items_selected, sorted_scores"
   ]
  },
  {
   "cell_type": "code",
   "execution_count": 97,
   "metadata": {},
   "outputs": [
    {
     "name": "stdout",
     "output_type": "stream",
     "text": [
      "['B0001NLH30', 'B0001NLHUS', 'B0001NLH1C', 'B0006U8BPK', 'B00007AV0C', 'B0000BZZEM', 'B0007TBNOG', 'B0000A98WO', 'B0007TBMWO', 'B0000A98NK', 'B0000ANI6K', 'B00023JP38', 'B000AI9VLQ', 'B000685FK6', 'B0000733PM', 'B0007OTTTM', 'B0000BZZEO', 'B000072ZF7', 'B00063W51I', 'B000A87TLA', 'B0007YWT2Q', 'B00024S6LY', 'B000B30W54', 'B000ANNKEK', 'B000072WTB', 'B0009YI1I0', '0764443682', 'B00069472C', 'B0000U0JP6', 'B000078P9Q', 'B000078R4R', 'B000B6A3ZU', 'B0000Z7YJU', 'B0002X9A5G', 'B0002XRP5I', 'B000A89BIE', 'B0006HIYJQ', 'B0002ZG5IE', 'B0000D8VVN', 'B0006SUTQ6', 'B0000U0HBC', 'B0000A98WH', 'B0001NM176', 'B000664B30', 'B00063VPNC', 'B0000WMS7Q', 'B000642UQC', 'B00067IF22', 'B0007KLCZ0', 'B000AG2138', 'B000AYOK6G', 'B0008239W6', 'B0002CU718', 'B00008MN6L', 'B000A6HJV2', 'B0001NM180', 'B0001F2XAY', 'B0002XRP4E', 'B0002PYWRA', 'B0006SUTRK', 'B0001F3NRG', 'B0000BX8MQ', 'B0002PZ5H6', 'B0002PZ5HQ', 'B000AQVC2Y', 'B0006N4YDA', 'B00007GKHE', 'B00020O9DC', 'B0000W3I1G', 'B000A8N1NA', 'B0001F331C', 'B00013UWR2', 'B00006MVYA', 'B000AA2TKE', 'B000AAY46Q', 'B00093EFJA', 'B00015VKT4', 'B0000731RO', 'B0009PO3GS', 'B0002G97KG', 'B0000VIKWY', '630456984X', 'B0002BKVTC', 'B000ABCUDO', 'B00008KFJK', 'B0007KJSOM', 'B000A809S0', 'B00008DH3B', 'B0009Y2DKC', 'B0002WRLXU', 'B0002CVN1G', 'B000A7OOAK', 'B0002MR9RS', 'B0007L0CJ6', 'B00030EZLM', 'B00099H07S', 'B0000VA1FI', 'B0009XS5VE', 'B00099FAPC', 'B0006I4WCI', 'B000AI80JK', 'B0006I9MN2', 'B000073249', 'B0002Z88E8', 'B000AY6KRS', 'B0007Y5ORS', 'B000687RB6', 'B0002MGRX0', 'B000ALD0OC', 'B0002WRLO4', 'B0002WUYFW', 'B0007YR67E', 'B0007A8YAQ', 'B0000TZPE2', 'B0006SUTKM', 'B0006N2C2A', 'B00008K1OX', 'B000AA79MM', 'B0006I9JJ4', 'B0002PZ4OK', 'B0002PXZ14', 'B0002PYLEE', 'B0007UQMDC', 'B0009YV12S', 'B0000733OT', 'B0002WUYCK', 'B0002BKVZG', 'B000673JT6', 'B000AHXPWI', 'B0002GRZCS', 'B0000AOY16', 'B00080CYQA', 'B0006GB3O0', 'B0000E62U4', 'B0000732EF', 'B0002KN80M', 'B0000CH6PW', 'B00030AZKC', 'B0000E62U3', 'B0001F322C', 'B0000D9TB5', 'B0000ERME8', 'B000AI4HEM', 'B00013PE84', 'B00066G516', 'B0006I9W9G', 'B0002KMXDA', 'B0002KMX1M', 'B0002COCP0', 'B0001KOC5S', 'B00065FZTA', 'B000AI7CHG', 'B000B2QT70', 'B00029BK80', 'B0002TQBMK', 'B0002FQC6O', 'B0006Q3QBS', 'B00007FCJS', 'B0007UC2L8', 'B0002BL81M', 'B000AIA13S', 'B0009YK6G0', 'B00007G9CV', 'B000AI6I0I', 'B000AI6I0S', 'B00008ID39', 'B000B2HQ7M', 'B00007FB6H', 'B0007VVEJS', 'B0002ISTO4', 'B0006I9XZY', 'B000826H48', 'B00020O3OC', 'B0009WOMHQ', 'B0000ZB9FU', 'B0000AOXNI', 'B0000E62U2', 'B0000AGQ35', 'B000094M38', 'B0000E62U6', 'B00081AC68', 'B0000E62UA', 'B0006I9X3Q', 'B00007325C', 'B000652DHM', 'B0002Y81FU', '1942705034', 'B0002QVAO2', 'B0006MZWKU', 'B0000732EP', 'B000ACZI7S', 'B00064UTIS', 'B00076QG32', 'B00009PLNP', 'B000ANGCTU', 'B0000E62XO', 'B0000E1B1E', 'B00008NMKE', 'B0007SN2QY', 'B0009K460Q', 'B0006I9X5O', 'B00064C4YK', 'B0009ROQCC', 'B0006B92ZW', 'B000239INA', 'B0006AZ9KU', 'B00064USV6', 'B00065G11Q', 'B0001NLUR8', 'B0006SJ6TM', 'B000099D5H', 'B00008JQF0', 'B000AUKUP0', 'B00008IPXM', 'B0007OTES8', 'B0001M7YH4', 'B00065G1CA', 'B0009A6KFA', 'B00008JWXH', 'B00065FZTK', 'B0007A94AK', 'B00008NMKB', 'B00065G17U', 'B0006Q3Q4A', 'B00064URQM', 'B0006SU9R0', 'B0009WMLCY', 'B00008JQLL', 'B000694IXK', 'B00008JVTT', 'B000AI4TBI', 'B00008JXTW', '7106116521', 'B0002UQASO', 'B0006HB4W0', 'B00008JPRZ', 'B00008JRUJ', 'B0006Q3Q4K', 'B0009K6B9U', 'B0006AZ7MA', 'B0006HB4XE', 'B000AI6HZE', 'B00065G0S0', 'B00023XF98', 'B000AE6UZA', 'B0006M4LCU', 'B000AAT2F4', 'B0006I9P0C', 'B0006M4LD4', 'B00008JOQI', 'B00012UWN2', 'B00017WT3S', 'B0007W18Z2', 'B0009F7SD8', 'B00064UT10', 'B0009NUG8Y', 'B000A0EY1G', '3293015344', 'B0007Z3LVS', 'B0002O5H7A', 'B0007Z8PHI', 'B0007Z8PHS', 'B0002O60U8', 'B00023XGTC', '1291691480', 'B00069SS7C', 'B000A50WIA', 'B0008GLL04', 'B0002UT2N4', 'B0006IBGRM', '9269808971', 'B000AQAQMG', '1940967805', 'B0006PLERC', 'B0007RDYK4', 'B0007R0BLE', 'B0007R0BLY', 'B0007RDYFO', 'B000A4XSOQ', 'B00098357S', 'B0009815P2', 'B0000C2RFX', 'B0000C2RNF', 'B0000C2RR0', 'B000A4Z3UI', 'B000A1GFR6', 'B0007G70AU', 'B0007LXT8W', 'B0007RXLYI', 'B0006HGLLY', 'B00063VWT4', 'B000765Y30', 'B0002RG604', 'B0000A5MYM', 'B0002UU60M', 'B00063VWTY', 'B0009G0ADW', 'B00076EN2I', 'B000765Y80', 'B0006893X6', 'B0002UQNNQ', 'B000765Y44', 'B00076EN00', 'B000A8CSZW', 'B0002QPM9Q', 'B0002QPMB4', 'B0007TJZVO', 'B000ARB2RI', 'B000AUABNQ', 'B000765Y4E', 'B00076ELS4', 'B00076ELI4', 'B00076EL0M', 'B00076ELNO', 'B00017YIVO', 'B0002V27WQ', 'B0007XNP6Q', 'B00063W5J0', 'B000B872NO', 'B000765Y6M', 'B0009A6OZG', 'B00076601A', 'B00076EL1Q', 'B0007LR3CU', 'B0006URVUQ', 'B0007OCOB2', 'B000AY0R9K', 'B0006TZU82', 'B0002USZMI', 'B0009OLXMG', 'B0007RDYDG', 'B000765Z6Q', 'B000AO6LPY', 'B0006ITDCW', 'B0009UL1I6', 'B0000732QU', 'B000078QJY', 'B0007TMSMW', 'B00012PV8S', 'B00098358W', 'B0000732QL', 'B0000AWHAA', 'B0009U6YWE', 'B00068962O', 'B000AAJK2Y', 'B000AHR1HI', 'B0009KKK24', 'B0007TQLAM', 'B0009QWTYK', 'B000078QKW', 'B00099YXHI', 'B000078QKZ', 'B000AGR822', 'B0006PXMRC', 'B0002QVF2E', 'B0000YS13Y', 'B0007XVXLK', 'B00099Z6N8', 'B0001NE6MO', 'B0006ZD9AM', 'B0006V9HI4', 'B00084JB44', 'B000632QX0', 'B00009Z707', 'B00061TTKK', 'B000632R2A', 'B00065PGJY', 'B00009Z70E', 'B00009YFBH', 'B00063VX0W', 'B000632RAW', 'B0007Z4LQ2', 'B0009QZCVC', 'B000297MHI', 'B00063VX66', 'B0001PNGGE', 'B000072WZM', 'B0009R2XAE', 'B000078PE5', 'B000AY0QFU', 'B0009VPGCC', 'B0000DH7V8', 'B0006841RO', 'B00076EMF6', 'B0009QZAK0', 'B000AKXEXA', 'B000ANNKEA', 'B00008OISX', 'B0007XJ5ME', 'B00076EMO2', 'B0002H2XME', 'B00063VXDE', 'B0006NMQB2', 'B0000TIIDM', 'B000ANQXEE', 'B0007RXLV6', 'B0008GOKUC', 'B0009NG5RK', 'B0007YWT3A', 'B0009QW5IK', 'B0000AOX0Y', 'B0002UU5O4', 'B00076EM2E', 'B00008DHGH', 'B000ANLXQ2', 'B000ANLXPS', 'B0000730S0', 'B00076EMBK', 'B0007Z6FTI', 'B0009JMGM2', 'B0009I4YBY', 'B000AI2KJQ', 'B00007GDA2', 'B000AI3R5C', 'B0007YMSWM', 'B0007YMSX6', 'B0007KLGJC', 'B000ANQXE4', 'B000073147', 'B000AYI7WY', 'B0000733S9', 'B0006V6DCW', 'B00013MY14', 'B00007CWBQ', 'B0009JMGSG', 'B0009PYCKK', 'B00008DHCF', 'B00008DH8M', 'B000A84HPQ', 'B000AYJN2M', 'B0009QZAKU', 'B0000U6ODW', 'B000AEO4LM', 'B0000AWX3V', 'B0002XNU7A', 'B00076EMGK', 'B000ANNKE0', 'B000072ZPG', 'B0006IXEG8', 'B000078QW4', 'B000765YNU', 'B00076601U', 'B0006FYTWY', 'B0006V26MI', 'B0000ZG44Q', 'B0001YMVVQ', 'B0002QPJFS', 'B00019YC5Y', 'B0009NYJF0', 'B0007KQOMQ', 'B0001LU08U', 'B0007MV6PY', 'B00008NUQD', 'B00008DHDV', 'B000ARHOXO', 'B000078Q04', 'B000AI0UMA', 'B000072X6P', 'B0002RAL00', 'B00008691S', 'B0000BZZCZ', 'B0000DIPR8', 'B0009K5XKS', 'B0008JF044', 'B000078Q6P', 'B00094OQNY', 'B000AT4INQ', 'B0001I56QE', 'B0007Y5FMW', 'B0009WH41W', 'B0000869EU', 'B00007GD9P', 'B000AT8GEI', 'B000078Q0G', 'B0009JI950', 'B0000A98CV', 'B0008IT5BE', 'B0006V7IGC', 'B00080ZHKU', 'B0007NBT2S', 'B0001NLTR4', 'B00062Y4MM', 'B0002TGUU8', 'B000AJEYGW', 'B0006V26NC', 'B0007LNEHI', 'B0001CUOSK', 'B0007Z17XM', 'B0008JF058', 'B0009QJYR0', 'B000AT6MC6', 'B0002CKA10', 'B000AHZMVA', 'B0008JF04Y', 'B000AHY3E2', 'B0007MV6Q8', 'B0002L2LGI', 'B0006A7ZBQ', 'B0007SMKOY', 'B000AI7PDM', 'B0002S9FQK', 'B0006HENSW', 'B0007XWATE', 'B000AI6CFE', 'B0000DGL0E', 'B00012O2MO', 'B0007M2ANQ', 'B0001O2OG8', 'B00007337N', 'B0001NPWYK', 'B0001NLQOK', 'B0009A0WCM', 'B0009PAN3U', 'B0006I9XWM', 'B0000E61QB', 'B0002XTZCY', 'B000694HY0', 'B000072ZTR', 'B000A12XVI', 'B000627ECO', 'B00081FOTS', 'B000AI8C9I', 'B000AI5LIS', 'B00080VFQU', 'B0001YJ13C', 'B000B8LWBC', 'B0009WOOM4', 'B00066VSJA', 'B0007CU006', 'B000B3DAAI', 'B0001NLURS', 'B0009WH4I0', 'B0001NLO7O', 'B0000VWBD8', 'B0008JF02Q', 'B0000733S8', 'B0009G9BUK', 'B000AC7OCK', 'B000AI1MAO', 'B0002Y8E2K', 'B0009WMMPU', 'B0000730SA', 'B0000E6273', 'B000AI3SJW', 'B0001N6KZA', 'B0007TBRZQ', 'B000AHY48C', 'B000AHY26G', 'B000073209', 'B0001NPWZ4', 'B00007AT01', 'B000AO4MSM', 'B000AI3SD8', 'B0001NPWZE', 'B0009A0VFA', 'B000AAWJBS', 'B0002V7BFE', 'B000072YTO', 'B000AI1OL6', 'B000AI5K48', 'B0002Y83ZI', 'B000B39NM2', 'B0007MV6PO', 'B0002T1HBK', 'B0007S8CBE', 'B0002C9MGO', 'B0002PR25Y', 'B0008JGXGS', 'B000074ULT', 'B0007PR7QI', 'B0001NLM8U', 'B00007ATWM', 'B000A0ODYY', 'B0009V7OXG', 'B0006V28B2', 'B0007OK5DQ', 'B0000CH6QD', 'B0007XWDAU', 'B000AI9VNY', 'B0000E630X', 'B00009MFB6', 'B0007Y2BL0', 'B000657HRS', 'B00092GNUU', '5378828716', 'B000621ZN8', 'B0007VZLH4', 'B0006V28IA', 'B000657HS2', 'B000B59YC4', 'B0001Q5ZQW', 'B00009ESVL', 'B0006I9M0K', 'B000657HSC', 'B0007PQ656', 'B0007NCGYI', 'B000ALMN18', 'B0007KZRYW', 'B0009XTTVY', 'B000B3GMOO', 'B000B305YC', 'B0001Y7OTU', 'B0001PNF5G', 'B000AI1OHA', 'B00024R0NO', 'B0000YWFKE', 'B000ALWZ3Y', 'B000ALWZ48', 'B00019XRWI', 'B0009RVF1C', 'B0002Y7ZRK', 'B0007QQN94', 'B000B2ATVW', 'B000B7C6CW', 'B0002BKY44', 'B00005OTJ8', 'B000AZBMCK', 'B000AYI81E', 'B0000E61Q8', 'B0000V9K46', '6041002984', 'B0006UH9ZS', 'B00099Z70K', 'B0000E6HE0', 'B000072XXH', 'B0000CH6GE', 'B0002PQLGU', 'B0002BLF8S', 'B000ARMJVQ', 'B0007PQ660', 'B0006SFWWM', 'B0002YOFAA', 'B0000CCYOH', 'B00064GYJG', 'B0009JQJJ8', '1940735033', 'B000072XQQ', 'B0006O4V3C', 'B000AI0MV4', 'B000AI0FXY', 'B000AI58R2', 'B0007PR7R2', 'B0001GN7YY', 'B0006V7BNM', 'B00015UY6E', 'B0002PQLH4', 'B0000ESRR6', 'B000AI1IMQ', '9239281533', 'B000A3FHJG', 'B0009K60VO', 'B0006ICJ28', 'B0007TBTFE', 'B0000C3G7G', 'B0006ICMP2', 'B000694OKM', 'B0000C3GSM', 'B000072XRF', 'B0007XULRC', 'B0009KHBJY', 'B000694NYE', 'B0006ICM6G', 'B000AI7RLM', 'B0007LTZN0', 'B00012O2RY', '9239282785', 'B000AL5AQS', 'B0000C85Q1', 'B0000ESRDC', 'B0007O3CA4', '8279996567', 'B0007TC0VQ', 'B0009WH688', 'B0002HBBAO', 'B0002C6NL6', 'B000AOVNZW', 'B0009PPV1O', 'B000AHWE6G', 'B0000ESRRQ', 'B0009331XG', 'B0000ERQV7', 'B0009KBVE0', 'B0002MQR6C', 'B0000ERU6T', 'B00018CY4G', 'B00020OGL2', 'B00018WRZ2', 'B0006LPWTM', 'B0009NAGS4', 'B0006ICITW', 'B0002D8G5G', 'B0002U52F6', 'B00020M23Q', 'B0000Z7YC2', 'B0006ICMIY', 'B0002802EE', 'B000078QIN', 'B0000ESGMI', 'B000AR7RA4', 'B0000U34JO', 'B0000ES6QK', 'B000085HZL', 'B0002XRMDS', 'B0006V7BMS', 'B0001B97J8', 'B0009H0RYS', 'B00080QZAQ', 'B0009GELTG', 'B0006FUF68', 'B0006ICSVA', 'B000AR82AS', 'B0000U2RCO', 'B0006ICHEI', 'B0001ABWHY', 'B00062NHH0', 'B0001ABV66', 'B0000U37F0', 'B000A6PJR8', 'B0007PRMT0', 'B0007PLXO0', 'B0009WOMMG', 'B0009UT1F6', 'B00029GPSU', 'B0000ES3LP', 'B0000ERUR9', 'B000A0Q1SA', 'B0008MF9II', 'B0008Q5KZQ', 'B0000V9KRS', 'B000A15X6K', 'B0007ZO59U', 'B00008MZCI', 'B0006ICKZ4', 'B0002D8GG0', 'B0007R76W6', 'B0000ERUK7', 'B0007KLCSW', 'B0002V4W74', 'B0002RE4VC', 'B0000AOE9U', 'B0002E1PRQ', 'B0000A9Y61', 'B0002E1PO4', 'B0002E1PQ2', 'B0002IHBRA', 'B0009A1EA6', 'B0009B7TF4', 'B000AO7PY0', 'B000A2SNPW', 'B000A2SOCO', 'B000A2SNTS', 'B0007CNK8K', 'B0009GI0YS', 'B000AHHVQE', 'B0007YGI9G', 'B0009GHZYE', 'B000A3904E', 'B000A2RRXG', 'B000A2TG1C', 'B000B65MNI', 'B0007QC3Y8', 'B0000YBW8A', 'B0009O8MKC', 'B000AN3KAE', 'B0001YS8JA', 'B000AN7K5K', '1940280001', '8037200124', '8037200221', '9654263246', 'B00004T3SN', 'B00007GDFV', 'B00009JV4A', 'B00009JYIY', 'B00009PU5O', 'B00009WNBP', 'B00009XY37', 'B0000A1YH1', 'B0000AGRHJ', 'B0000AWRIF', 'B0000AWVWC', 'B0000AWPJE', 'B0000AWTWR', 'B0000AWYXK', 'B0000AWXMM', 'B0000AWOBT', 'B0000BUWK5', 'B0000BUWIZ', 'B0000BUXB5', 'B0000BYA3N', 'B0000CDVVL', 'B0000CGHG7', 'B0000D8WDJ', 'B0000D8WMP', 'B0000D8XF8', 'B0000E1MN4', 'B0000E1MGG', 'B0000E1LZK', 'B0000EVVQ8', 'B0000EVVP4', 'B0000EVVOU', 'B0000EVX1Q', 'B0000EVXVQ', 'B0000EVVQI', 'B0000EVWYO', 'B0000EVVPY', 'B0000EVWWG', 'B0000EVXVG', 'B0000TF0BU', 'B0000TVPQE', 'B0000UYZJC', 'B0000W53NM', 'B0000WMWTU', 'B0000WKVVQ', 'B0000WMRWM', 'B0000WWT9I', 'B0000WWUMO', 'B0000WWTKM', 'B0000WWTY8', 'B0000WWUBU', 'B0000WWTHU', 'B0000YTZMU', 'B0000ZH4YK', 'B0000ZH45Y', 'B000100E96', 'B00011QQB0', 'B00015EJTC', 'B000162XEE', 'B0001741IY', 'B00017WSRU', 'B00017WT2Y', 'B00017WSW0', 'B00017WRK8', 'B000185LXW', 'B000185KAQ', 'B00018I6YI', 'B00018I6Z2', 'B00018I6ZM', 'B00018ZPO2', 'B00019VMTI', 'B00019WPNK', 'B00019VW7U', 'B00019WB8Y', 'B00019WSCI', 'B0001ABCRY', 'B0001BN4DS', 'B0001BN4A6', 'B0001CTWKG', 'B0001CTWR4', 'B0001DCRVQ', 'B0001EFBUY', 'B0001H5ZHK', 'B0001K3HT0', 'B0001KHRKU', 'B0001LU1H0', 'B0001M7XK2', 'B0001ML754', 'B0001NM7SY', 'B0001V4C66', 'B0001Y50WS', 'B0001ZUVBM', 'B00023JSJ4', 'B00023JX9Y', 'B00023JWH2', 'B00023JWIG', 'B00023K7J4', 'B00024VSG4', 'B00027677G', 'B00028A9EC', 'B0002935WE', 'B0002H45NY', 'B0002HU8XU', 'B0002IRS64', 'B0002KBQ0Q', 'B0002LCWIU', 'B0002LCWJ4', 'B0002NWZ4Y', 'B0002T3YEI', 'B0002T40ZK', 'B0002TG9Q8', 'B0002TG9IQ', 'B0002TKBSU', 'B0002TRHLE', 'B0002TRHNM', 'B0002UCNUI', 'B0002V22A8', 'B0002V2T6A', 'B0002V3QYY', 'B0002V45ZS', 'B0002V8RSO', 'B0002WRIX8', 'B0002Z1JNK', 'B0002Z7ZII', 'B0002ZGRNM', 'B0002ZKFLW', 'B0004HCKDY', 'B0004HA7Z2', 'B0004HAUX6', 'B0004HD8T4', 'B0004HC32W', 'B0004HD8VW', 'B0004LVKQS', 'B00061RFTW', 'B00061RG3M', 'B00063H8PG', 'B00063VWSA', 'B000646BWG', 'B000646CVG', 'B0006468QA', 'B000652LHY', 'B000652LHO', 'B00067VVEQ', 'B0006A1OM2', 'B0006B4ZA4', 'B0006B5C0G', 'B0006BDF8C', 'B0006BHRZ4', 'B0006BHTG6', 'B0006I08DK', 'B0006J31WY', 'B0006NUPU6', 'B0006NW5O0', 'B0006OMQES', 'B0006SE0WK', 'B0006USHQS', 'B0006V7I76', 'B0006VCG6E', 'B0006VVMP0', 'B0006VWSDA', 'B0006YY7XQ', 'B000700ISC', 'B00073G8VA', 'B00075EMAC', 'B00075VSFE', 'B000766R7M', 'B00078K226', 'B0007IGCUW', 'B0007L1Y3O', 'B0007LC78U', 'B0007M0VT6', 'B0007M4T44', 'B0007NBT3M', 'B0007OWT5I', 'B0007PBHIM', 'B0007RNRKQ', 'B0007TYMNA', 'B0007V8AZY', 'B0007WPZBK', 'B0007XVU0Y', 'B0007XU0SW', 'B0007YT1DQ', 'B00080L00Q', 'B00080L4D4', 'B000851GK0', 'B0008F6WMM', 'B0008GNA8U', 'B000928DMG', 'B00092D46G', 'B00095LIES', 'B00099YSS2', 'B00099YXJ6', 'B0009EHEK6', 'B0009EYJIQ', 'B0009EYJJK', 'B0009G929K', 'B0009GBLNU', 'B0009JB5KG', 'B0009JO9NQ', 'B0009M96EK', 'B0009MZWSO', 'B0009MZWRA', 'B0009MZWS4', 'B0009MZWKW', 'B0009NDUPA', 'B0009NDUPK', 'B0009NGO9E', 'B0009NLJC6', 'B0009PLVF4', 'B0009Q4AHO', 'B0009R2OE4', 'B0009U5YMK', 'B000A134V6', 'B000A3FGCO', 'B000A3U7YG', 'B000A3V1KU', 'B000A5LR2A', 'B000A5OVGE', 'B000A7IWZS', 'B000A83TLO', 'B000A8BO3E', 'B000ABW67Y', 'B000AL4RXA', 'B000AN7KG4', 'B000AQNF1A', 'B000ARKNFK', 'B000AUG4LO', 'B000AYFZ7Y', 'B000B5GU9Y', 'B000B7RD48']\n",
      "[(297, 0.35632088724547323), (309, 0.3423792970309506), (298, 0.3343886668301189), (586, 0.22771284078989293), (59, 0.19598189626488433), (137, 0.18819810977508622), (691, 0.18080430618163593), (114, 0.1708513884718601), (692, 0.17042984371019484), (112, 0.16339388396514157), (119, 0.16050394086536737), (329, 0.15909302305683112), (933, 0.1550598527440707), (511, 0.15055027732351703), (39, 0.1474384135021219), (665, 0.14634709378708807), (138, 0.14573706026234529), (26, 0.1418372092710524), (476, 0.1358141277830715), (882, 0.13377497352518608), (720, 0.13081243777620405), (339, 0.12856327923465924), (987, 0.12855337358556845), (950, 0.12511841420766553), (36, 0.12443390746687154), (850, 0.12112595917409945), (0, 0.11587404428857277), (519, 0.1082780346928851), (200, 0.09589789439856064), (49, 0.09408098275127431), (56, 0.09195273130739914), (995, 0.08850647774039147), (228, 0.07028540876945834), (435, 0.06211724249200081), (438, 0.06211724249200081), (883, 0.0562829429543819), (538, 0.05413092824149751), (449, 0.05013563109096284), (154, 0.04896775727961861), (582, 0.04844783089731942), (201, 0.04790011374375408), (113, 0.0478474270762585), (308, 0.04762215841224444), (504, 0.047471908849440685), (479, 0.04741226276390065), (217, 0.0468002273450343), (481, 0.046737973133781134), (508, 0.046358077767529066), (640, 0.04582355428335771), (899, 0.04582355428335771), (982, 0.04582355428335771), (737, 0.045229959103438466), (357, 0.045005922696846896), (90, 0.044329913241967604), (875, 0.04385847462750803), (304, 0.043809461634365686), (282, 0.043759641941550784), (439, 0.0437035654109043), (391, 0.04361602841147054), (584, 0.043539785150652315), (280, 0.043257150743352984), (135, 0.043045359962723635), (393, 0.04297753351715119), (394, 0.04297753351715119), (962, 0.042946516019699364), (567, 0.04275062199341161), (68, 0.04253833222169093), (326, 0.04227839746783528), (212, 0.04206174512902544), (886, 0.04171484048750464), (281, 0.04160414353649848), (242, 0.04150772505186422), (20, 0.04138235625760393), (887, 0.04135000657314805), (892, 0.041238127439866), (757, 0.0410612856970049), (244, 0.040690365516899835), (40, 0.040539101963084884), (819, 0.04012771913111884), (364, 0.039651692913678746), (210, 0.039529916725091326), (9, 0.03940455876806832), (351, 0.03936668849901361), (893, 0.0392370068619749), (88, 0.03920410644146701), (639, 0.03920308971786805), (879, 0.03906535828857804), (74, 0.03901214737931462), (849, 0.038952575272385374), (432, 0.038709660498632774), (356, 0.03851741569256751), (878, 0.03822128223948732), (381, 0.03816783734857694), (645, 0.038028578364530635), (453, 0.03783485856447937), (764, 0.037812694925581626), (209, 0.03766152785598695), (847, 0.03763519985733576), (763, 0.0373641651465405), (540, 0.0373533092420578), (927, 0.03734835277772805), (550, 0.03728627381701298), (35, 0.037207755023260576), (448, 0.03714575307153397), (977, 0.036969633849035795), (713, 0.036853808838169175), (512, 0.0367729107335017), (380, 0.03665266579566358), (941, 0.03664054526477889), (431, 0.03649504039940774), (433, 0.03634848606931596), (718, 0.036161883510642), (634, 0.036130692955389836), (199, 0.03603394034752677), (583, 0.036013840750982885), (566, 0.035959326862704095), (85, 0.03594892852519792), (888, 0.035918325418762595), (544, 0.03588655193234719), (392, 0.035854762568117565), (389, 0.03584433887136138), (390, 0.03584433887136138), (698, 0.035825870153537206), (852, 0.0354582809563863), (37, 0.03541710656595469), (434, 0.03537013572646443), (349, 0.035317841709012816), (507, 0.03519601565270301), (908, 0.034955021346684836), (365, 0.03485578840620887), (122, 0.03432645751706725), (729, 0.034251551987037304), (533, 0.03417103109194051), (167, 0.034099834212050185), (46, 0.033746670516990415), (374, 0.03372294948462965), (149, 0.03351753229419224), (452, 0.03318374506147262), (170, 0.03318058603273718), (283, 0.03296815058897372), (156, 0.03291727738271095), (183, 0.032851238133922094), (931, 0.03278543829077732), (241, 0.03274762951605911), (505, 0.03253515395741333), (545, 0.03252651760620014), (375, 0.03249472886706817), (376, 0.03249472886706817), (355, 0.03248296795070583), (289, 0.032369975260156704), (497, 0.03231929932594814), (921, 0.03226086038875063), (986, 0.03224449731680052), (345, 0.03218244166685161), (411, 0.03213153670006753), (363, 0.03213015827861014), (576, 0.032121837377978774), (64, 0.031881047727154416), (697, 0.031821786721336766), (347, 0.03159557538455485), (936, 0.031411666031990304), (851, 0.031292177831126866), (65, 0.03122000993356848), (922, 0.031056245491913156), (934, 0.031056245491913156), (78, 0.031033241660399974), (985, 0.0306917569099192), (63, 0.030565293520821192), (700, 0.030490840225225087), (371, 0.030408043834425847), (543, 0.030403365773362685), (738, 0.030381415195176988), (325, 0.030286370535792157), (842, 0.030205668618471536), (229, 0.030170799731664723), (121, 0.030048194653884384), (164, 0.030029756270376663), (116, 0.029985053526951803), (96, 0.029722269384992367), (169, 0.02971519453195155), (735, 0.029616281025906594), (166, 0.029615582129658657), (541, 0.029516612527249183), (44, 0.02941993404491878), (491, 0.02934952269644115), (441, 0.02932735635795629), (5, 0.029215558165145365), (399, 0.029094966264486984), (565, 0.029007885458677104), (43, 0.02893534091355001), (896, 0.028674044387547868), (488, 0.028664605520776203), (631, 0.028601630944629697), (102, 0.02859867240776716), (948, 0.028536678164264553), (172, 0.028519407980804382), (160, 0.028424523893282955), (93, 0.02829759687595292), (687, 0.02824623448115817), (795, 0.0282032111358322), (542, 0.02817368723566355), (485, 0.028086005217752036), (831, 0.02805196068916163), (526, 0.02790060199901392), (328, 0.027860391213768605), (523, 0.027800421329068906), (489, 0.027724613518164888), (498, 0.027714249671069432), (302, 0.027666936688950015), (580, 0.027613314973910674), (97, 0.027438695779629083), (84, 0.02737712530927257), (973, 0.027312601731360974), (79, 0.02715789418619715), (664, 0.02693832437703702), (292, 0.02678009487263296), (502, 0.026752107180018227), (774, 0.02669404777348359), (87, 0.026540274751804312), (501, 0.026516277714867892), (633, 0.026506623362612374), (92, 0.026361022834497188), (499, 0.026244749136958772), (575, 0.026132643417466246), (490, 0.026086158853321537), (581, 0.026024392233534772), (846, 0.02596419767804333), (80, 0.02589740572349884), (516, 0.025773651290235344), (82, 0.02564393170173856), (917, 0.025591881558330573), (86, 0.025536266518386152), (10, 0.025436380437154325), (416, 0.02543289693017521), (535, 0.025421004307698336), (81, 0.025374227382457794), (83, 0.0252968164285669), (577, 0.025282038208760096), (797, 0.025248225689116558), (524, 0.025089778935611137), (534, 0.024881467351586795), (925, 0.02473044032777783), (500, 0.02467103049933352), (335, 0.02452868887396862), (897, 0.024389266302630115), (563, 0.024360481429409164), (890, 0.024359318416513478), (546, 0.024078867634870767), (564, 0.023962518471542075), (89, 0.02388805981258111), (239, 0.023261321679162377), (251, 0.023232961728044774), (702, 0.02291268725670518), (779, 0.022884374484394718), (487, 0.022589704472050293), (813, 0.022584521470823193), (853, 0.022279082048126512), (6, 0.02214276399451564), (723, 0.02213676029613755), (384, 0.021430861008757317), (726, 0.021320843454240776), (727, 0.021320843454240776), (385, 0.021197778547408043), (336, 0.021063166973331514), (1, 0.021000034658168), (520, 0.020993282030754824), (871, 0.02097379294889891), (742, 0.020865228485645055), (419, 0.020819250178094887), (547, 0.02081747489871084), (16, 0.02071440630521005), (960, 0.02067196343849004), (4, 0.0206185699569682), (573, 0.02060953592484018), (679, 0.020530108525149516), (676, 0.020279627396536923), (677, 0.020279627396536923), (681, 0.020278418606073722), (872, 0.01999083061533249), (761, 0.019830937561257075), (762, 0.019830937561257075), (140, 0.019784271287052475), (141, 0.019784271287052475), (142, 0.019784271287052475), (870, 0.019750353734600854), (859, 0.019703550134423074), (637, 0.01965059916942337), (651, 0.01953556439813869), (683, 0.019300703031580452), (537, 0.019048802329501683), (480, 0.019039805140759387), (609, 0.018999662951836364), (402, 0.018994264564338635), (110, 0.018805210974830344), (420, 0.018750800640686533), (473, 0.018634340209818318), (780, 0.01852919936387537), (622, 0.01844555310768483), (612, 0.01825116700677728), (513, 0.018220665898336697), (417, 0.01820624868298452), (615, 0.018182249434860673), (621, 0.018048146640007052), (885, 0.017997833673383735), (395, 0.01796529447150724), (396, 0.01796529447150724), (693, 0.01796529447150724), (965, 0.017958039450918017), (972, 0.017930524631927843), (613, 0.017907729733752285), (620, 0.01784430796506256), (623, 0.01784430796506256), (625, 0.01784430796506256), (628, 0.01784430796506256), (253, 0.017730173700240884), (423, 0.01769293279567848), (705, 0.017641463729471313), (478, 0.01763619658426943), (998, 0.01763606305221209), (610, 0.017605290819330474), (773, 0.01759742520048679), (616, 0.01750519952292346), (618, 0.017483767733918104), (649, 0.01744002694499225), (589, 0.017422680340027592), (662, 0.0173457985489584), (976, 0.017259016628932672), (585, 0.01715562215749474), (418, 0.0170280968856116), (816, 0.016949776720173913), (680, 0.016928193034960147), (611, 0.01686983001364946), (957, 0.016831990803975662), (559, 0.016810509535186684), (835, 0.016788228637183236), (41, 0.01671299941717426), (51, 0.01667576459091535), (694, 0.01655351266035066), (238, 0.016506494309823993), (760, 0.016499525773524162), (34, 0.016499339957200116), (123, 0.016409951581458162), (834, 0.016396154970518276), (514, 0.016307418522720014), (889, 0.016288961292340122), (902, 0.016288961292340122), (801, 0.016236274717833208), (695, 0.016229693661348767), (825, 0.016186960142531962), (53, 0.01604559478380464), (766, 0.016022306843197723), (54, 0.016008052819433797), (900, 0.015960073153860572), (574, 0.015919997809241953), (398, 0.015880873788619396), (225, 0.01584349319428166), (709, 0.015834123958788807), (769, 0.01583059593225517), (296, 0.015816608738003224), (604, 0.015775261805565134), (599, 0.015740969251711985), (739, 0.01572877629437903), (469, 0.01571658369678247), (108, 0.015677177799477915), (463, 0.015645648892309506), (468, 0.01563442024827885), (503, 0.015626927284804755), (107, 0.015618272416876732), (106, 0.015604086354048112), (472, 0.015600093979737197), (470, 0.015522400579719091), (725, 0.01551089698970192), (827, 0.015475361664622996), (344, 0.015449417105182847), (477, 0.015441785678023628), (314, 0.015267610835978053), (22, 0.01525263588437559), (830, 0.015234714334237951), (50, 0.015214743174693936), (975, 0.015213548550988403), (838, 0.015177992437893336), (158, 0.015157513422416585), (510, 0.015114282131669897), (630, 0.014999397829945704), (828, 0.014975455774920583), (938, 0.01495225414771185), (953, 0.014947519204902542), (95, 0.014941846132923637), (704, 0.01494028300410861), (624, 0.01489680174701163), (366, 0.014890267541524782), (475, 0.014865580960718838), (568, 0.01485317578816323), (197, 0.014812022158477765), (955, 0.014793872044105422), (684, 0.014744697442448156), (744, 0.014741193153208623), (810, 0.014723292015007411), (721, 0.014713022229641244), (824, 0.014703079552222515), (120, 0.014655231613697776), (421, 0.014651179654743744), (626, 0.014646595595738176), (73, 0.014636356695405575), (949, 0.014634915870447617), (952, 0.014611279900517506), (25, 0.014599923975144416), (629, 0.014554129584499368), (724, 0.014548615540014112), (792, 0.014539366215973444), (788, 0.014526552947900206), (912, 0.014500767587197965), (66, 0.014499293580117789), (918, 0.014483248985321833), (716, 0.014461239124853234), (717, 0.014461239124853234), (641, 0.014452899673064276), (954, 0.014375877971232938), (47, 0.014312190169044592), (980, 0.014302589997648755), (31, 0.014250031035096578), (596, 0.01421396656850593), (240, 0.014190549217046985), (62, 0.014190235479215819), (791, 0.014154565339068344), (821, 0.014154565339068344), (75, 0.014145337383978562), (77, 0.014132304941018517), (881, 0.014128524137227235), (981, 0.014118418587009076), (826, 0.01409386286963587), (205, 0.014080774615268262), (898, 0.014063359874870812), (127, 0.01402775706534333), (436, 0.01402775706534333), (627, 0.014018398618249432), (951, 0.014000848809902863), (29, 0.01394011561488205), (560, 0.013936881695079601), (52, 0.013917405492465248), (614, 0.013916751974464202), (619, 0.013916751974464202), (532, 0.013901979373335831), (592, 0.013855071916295867), (232, 0.013812095309423227), (321, 0.013788266850025032), (397, 0.013788266850025032), (266, 0.01374335234790953), (814, 0.013688187007007163), (643, 0.013676559018903736), (290, 0.013656376065646073), (657, 0.013650534441231264), (94, 0.01363669803628935), (76, 0.013620757137536233), (966, 0.01360793046136382), (58, 0.01359817860890954), (910, 0.013587399746620604), (21, 0.013585856775788118), (400, 0.013559083166451274), (71, 0.013549132292250278), (139, 0.013530276633650954), (159, 0.01352506154380263), (796, 0.013520848571805482), (749, 0.013513617916917173), (55, 0.013508197804727288), (758, 0.0135066223216776), (969, 0.013494912135052684), (286, 0.013467473399184934), (714, 0.013444124949277126), (840, 0.013437764135728543), (72, 0.013400103280867192), (67, 0.013382491155779988), (971, 0.013377786043780801), (48, 0.013368810761610617), (790, 0.013365620764021598), (111, 0.013348097776511011), (745, 0.013340032810770666), (597, 0.013324251625137722), (734, 0.013310133014426807), (658, 0.013309421856878719), (303, 0.01329882200752717), (467, 0.013259156699302683), (408, 0.013214722974594795), (937, 0.013212071294285402), (593, 0.013185407143098186), (648, 0.01317173570510423), (276, 0.013166427339376098), (722, 0.013151115465477226), (747, 0.013116172770721638), (823, 0.013094949563582182), (970, 0.013094589773978775), (354, 0.01309007052375157), (905, 0.013083695008187892), (746, 0.013069964315806945), (909, 0.013058974426151034), (656, 0.013057709162596529), (377, 0.013031677387131693), (522, 0.013018181555240645), (686, 0.01295531706275969), (932, 0.012930311071588065), (403, 0.012924288988433548), (536, 0.012903929515497852), (710, 0.012894767281172413), (923, 0.012861792099595265), (157, 0.012859985627960507), (237, 0.01285503383885849), (653, 0.012828529560654441), (313, 0.012819521458647612), (30, 0.012781495270935604), (310, 0.012762500981178211), (305, 0.012747495319007892), (770, 0.012732525959921128), (817, 0.012687875440893325), (548, 0.012677614150320413), (165, 0.012671944427678196), (440, 0.012666219104440556), (517, 0.012650704335720941), (28, 0.012639709078873419), (857, 0.012632237336475899), (465, 0.012600141170912363), (736, 0.012596537143099457), (924, 0.012590549685160792), (919, 0.012583073433552791), (733, 0.01254054421086103), (320, 0.012538503139876981), (999, 0.01253718514749281), (844, 0.012464305258531797), (506, 0.01238572753662849), (636, 0.012374115898471889), (991, 0.01235540739803459), (307, 0.012354233220219729), (841, 0.012353260664369387), (301, 0.012348742034595647), (211, 0.012329913433853937), (748, 0.012324973010514806), (32, 0.012250021146181721), (781, 0.012242908880306425), (895, 0.012239892369060526), (911, 0.012224370102132787), (442, 0.012213064362516058), (845, 0.01221093700545436), (24, 0.012199301298024613), (171, 0.012193342962225316), (916, 0.012192702846766676), (295, 0.012141923820737737), (689, 0.012123526894848934), (904, 0.012120128789152931), (914, 0.012106136122039458), (42, 0.012097603479197269), (312, 0.012093442346261318), (61, 0.012078273962855383), (956, 0.012077892631945886), (929, 0.012074046003211814), (311, 0.012066340900765561), (771, 0.012062267307472134), (891, 0.012044988598683732), (428, 0.011999323294584426), (33, 0.011974951028027061), (913, 0.01194632017977493), (935, 0.011936409103453609), (443, 0.011931388990284295), (989, 0.011903657792317543), (655, 0.01187734493372075), (404, 0.011874286345863096), (685, 0.011861502776823666), (353, 0.011840443050956084), (388, 0.011818239388352993), (750, 0.011802613934513675), (45, 0.011794725385667509), (672, 0.011770016999619796), (300, 0.01176755503673315), (60, 0.011750140110855265), (854, 0.011695775092416621), (837, 0.011682731500296894), (590, 0.011659354081279069), (663, 0.011638662548582526), (151, 0.011634904994077619), (711, 0.011625427164735075), (930, 0.011607423995113629), (168, 0.011607361001699944), (101, 0.011595900149697365), (712, 0.011587886850333705), (495, 0.011578667430089328), (755, 0.011537240082124707), (7, 0.011528525969559904), (464, 0.011510263758410697), (701, 0.011506515228489674), (591, 0.01149885944735428), (494, 0.011494307403061852), (992, 0.011494277672555927), (316, 0.011493734165062343), (98, 0.011458318889141852), (549, 0.0114542531458297), (496, 0.011424096488986357), (669, 0.011398161574124972), (660, 0.011383188276191), (942, 0.01134198290661316), (644, 0.011341896908282974), (848, 0.01132556061201311), (990, 0.011283444989337936), (988, 0.011282848931578798), (319, 0.011277337591386216), (315, 0.011211438677493081), (926, 0.011176474745545506), (337, 0.011154156565743702), (227, 0.011152851723405608), (943, 0.011125574334489512), (944, 0.011125574334489512), (263, 0.011124233590689325), (832, 0.01111899763908843), (444, 0.011106420925556805), (675, 0.011095419000005793), (984, 0.011087861706132232), (996, 0.01106717636095818), (350, 0.011062771608781153), (19, 0.01104517455391016), (983, 0.011002301789623095), (979, 0.01095840938280427), (173, 0.010886655199438489), (207, 0.010886085793948242), (8, 0.01087622526820969), (587, 0.010861252276997132), (767, 0.010827256198838212), (174, 0.01075551517786244), (27, 0.010691117998545434), (150, 0.010682720660498173), (386, 0.010677885488091423), (348, 0.010645683860380287), (968, 0.010645642422586357), (671, 0.010638784857784363), (579, 0.010604032819543044), (445, 0.010598916484601548), (146, 0.010584602675025059), (486, 0.01054199098567654), (794, 0.01053111873224531), (3, 0.01052441099312345), (23, 0.010510010653143255), (571, 0.010484256143154735), (907, 0.01045833830213618), (906, 0.010456432559704274), (920, 0.010366654585619467), (670, 0.010361794321254067), (284, 0.010359747662287512), (595, 0.010340298952944022), (245, 0.010317637653699571), (387, 0.010276720445493086), (182, 0.010144380485330737), (915, 0.010142421579093178), (15, 0.010128866038580426), (867, 0.010068682832458507), (798, 0.010060370254337819), (552, 0.009934009685093684), (688, 0.009918396696409258), (143, 0.009887129441696943), (557, 0.009885776145180226), (518, 0.009883634710417066), (144, 0.009702648142869731), (38, 0.00967471044365416), (707, 0.009658236180415634), (800, 0.009657365997490135), (515, 0.009651032641102971), (558, 0.009630777933606081), (928, 0.009626602668392326), (650, 0.009585776372601348), (236, 0.009584814949528578), (14, 0.00957610578566164), (940, 0.009467558897421735), (145, 0.009452753584714186), (179, 0.009446598160892404), (661, 0.009425035685963798), (13, 0.00933214400829063), (690, 0.009315311587936284), (839, 0.009293078007332409), (368, 0.009171020394555236), (352, 0.009117042804366534), (959, 0.00897661853567506), (820, 0.008888794147985976), (903, 0.008858713520991542), (180, 0.008780353866826534), (756, 0.008756797743920346), (175, 0.00873223905521715), (799, 0.008666343335902448), (382, 0.008579329935454242), (176, 0.008549522676067853), (256, 0.008519283379047532), (327, 0.008445703660542899), (260, 0.008436768574391393), (562, 0.008366847605296959), (807, 0.008176057849248729), (554, 0.008021641254882509), (358, 0.008015320663465405), (414, 0.008004250426024795), (324, 0.007980704666850476), (230, 0.007970165593336105), (555, 0.007907387816886048), (341, 0.007891524252334711), (57, 0.007858747160518199), (184, 0.007807200727716194), (964, 0.007624084319356096), (204, 0.007612310448386405), (195, 0.007572343455016138), (70, 0.007501706315961), (437, 0.00743697559472769), (598, 0.007423771808555613), (272, 0.007351994870012516), (787, 0.007295540341500726), (732, 0.0072821130306164146), (783, 0.0072821130306164146), (531, 0.007277834063800865), (556, 0.0071228823018344945), (963, 0.007105136609372127), (202, 0.007089274346056519), (553, 0.007064883391718144), (271, 0.007020268286561901), (466, 0.007019137251832888), (269, 0.006977486317883428), (203, 0.006965862703865877), (876, 0.006944167998060131), (673, 0.0068943269922809285), (668, 0.006868865387022429), (843, 0.00680279163083071), (836, 0.0067972833538553785), (346, 0.0067687928622263615), (178, 0.00676229600065849), (177, 0.0067342908908688826), (855, 0.006721347353680953), (752, 0.006656657609919128), (751, 0.0066230403954814915), (208, 0.006566402678385757), (858, 0.006543447116417064), (728, 0.006485843937978374), (91, 0.006483085457848608), (551, 0.0064560550271998895), (359, 0.006332259656488616), (678, 0.006241349234430345), (181, 0.006211612239977776), (642, 0.0061382405486535025), (427, 0.006083714365284906), (401, 0.006051827537963148), (118, 0.005853916694735302), (362, 0.00569333300335851), (115, 0.005693144267875571), (361, 0.005630885887693002), (360, 0.005625376633094855), (370, 0.005500367948028329), (772, 0.005433931246144839), (775, 0.005309344222852275), (958, 0.005255237955178497), (861, 0.0051232938368809405), (860, 0.0051190670737610924), (863, 0.005112819283057361), (635, 0.004925977190237125), (784, 0.004839966558932108), (901, 0.004808067569989092), (715, 0.00476711828276768), (786, 0.00466083002921527), (865, 0.004589871352726626), (862, 0.004520986691931731), (864, 0.004513784211386345), (994, 0.004513784211386345), (674, 0.004458981942774024), (224, 0.004368724006110229), (815, 0.00394239524684006), (945, 0.003375627629563856), (322, 0.003189300953926062), (946, 0.0020863675122435817), (2, 0.0), (11, 0.0), (12, 0.0), (17, 0.0), (18, 0.0), (69, 0.0), (99, 0.0), (100, 0.0), (103, 0.0), (104, 0.0), (105, 0.0), (109, 0.0), (117, 0.0), (124, 0.0), (125, 0.0), (126, 0.0), (128, 0.0), (129, 0.0), (130, 0.0), (131, 0.0), (132, 0.0), (133, 0.0), (134, 0.0), (136, 0.0), (147, 0.0), (148, 0.0), (152, 0.0), (153, 0.0), (155, 0.0), (161, 0.0), (162, 0.0), (163, 0.0), (185, 0.0), (186, 0.0), (187, 0.0), (188, 0.0), (189, 0.0), (190, 0.0), (191, 0.0), (192, 0.0), (193, 0.0), (194, 0.0), (196, 0.0), (198, 0.0), (206, 0.0), (213, 0.0), (214, 0.0), (215, 0.0), (216, 0.0), (218, 0.0), (219, 0.0), (220, 0.0), (221, 0.0), (222, 0.0), (223, 0.0), (226, 0.0), (231, 0.0), (233, 0.0), (234, 0.0), (235, 0.0), (243, 0.0), (246, 0.0), (247, 0.0), (248, 0.0), (249, 0.0), (250, 0.0), (252, 0.0), (254, 0.0), (255, 0.0), (257, 0.0), (258, 0.0), (259, 0.0), (261, 0.0), (262, 0.0), (264, 0.0), (265, 0.0), (267, 0.0), (268, 0.0), (270, 0.0), (273, 0.0), (274, 0.0), (275, 0.0), (277, 0.0), (278, 0.0), (279, 0.0), (285, 0.0), (287, 0.0), (288, 0.0), (291, 0.0), (293, 0.0), (294, 0.0), (306, 0.0), (317, 0.0), (318, 0.0), (323, 0.0), (330, 0.0), (331, 0.0), (332, 0.0), (333, 0.0), (334, 0.0), (338, 0.0), (340, 0.0), (342, 0.0), (343, 0.0), (367, 0.0), (369, 0.0), (372, 0.0), (373, 0.0), (378, 0.0), (379, 0.0), (383, 0.0), (405, 0.0), (406, 0.0), (407, 0.0), (409, 0.0), (410, 0.0), (412, 0.0), (413, 0.0), (415, 0.0), (422, 0.0), (424, 0.0), (425, 0.0), (426, 0.0), (429, 0.0), (430, 0.0), (446, 0.0), (447, 0.0), (450, 0.0), (451, 0.0), (454, 0.0), (455, 0.0), (456, 0.0), (457, 0.0), (458, 0.0), (459, 0.0), (460, 0.0), (461, 0.0), (462, 0.0), (471, 0.0), (474, 0.0), (482, 0.0), (483, 0.0), (484, 0.0), (492, 0.0), (493, 0.0), (509, 0.0), (521, 0.0), (525, 0.0), (527, 0.0), (528, 0.0), (529, 0.0), (530, 0.0), (539, 0.0), (561, 0.0), (569, 0.0), (570, 0.0), (572, 0.0), (578, 0.0), (588, 0.0), (594, 0.0), (600, 0.0), (601, 0.0), (602, 0.0), (603, 0.0), (605, 0.0), (606, 0.0), (607, 0.0), (608, 0.0), (617, 0.0), (632, 0.0), (638, 0.0), (646, 0.0), (647, 0.0), (652, 0.0), (654, 0.0), (659, 0.0), (666, 0.0), (667, 0.0), (682, 0.0), (696, 0.0), (699, 0.0), (703, 0.0), (706, 0.0), (708, 0.0), (719, 0.0), (730, 0.0), (731, 0.0), (740, 0.0), (741, 0.0), (743, 0.0), (753, 0.0), (754, 0.0), (759, 0.0), (765, 0.0), (768, 0.0), (776, 0.0), (777, 0.0), (778, 0.0), (782, 0.0), (785, 0.0), (789, 0.0), (793, 0.0), (802, 0.0), (803, 0.0), (804, 0.0), (805, 0.0), (806, 0.0), (808, 0.0), (809, 0.0), (811, 0.0), (812, 0.0), (818, 0.0), (822, 0.0), (829, 0.0), (833, 0.0), (856, 0.0), (866, 0.0), (868, 0.0), (869, 0.0), (873, 0.0), (874, 0.0), (877, 0.0), (880, 0.0), (884, 0.0), (894, 0.0), (939, 0.0), (947, 0.0), (961, 0.0), (967, 0.0), (974, 0.0), (978, 0.0), (993, 0.0), (997, 0.0)]\n",
      "Item ID:  297\n",
      "Similarity Score:  0.35632088724547323\n",
      "ASIN:  B0001NLH30\n",
      "\n",
      "\n",
      "Overall Mean:  4.0\n",
      "\n",
      "\n",
      "Item ID:  309\n",
      "Similarity Score:  0.3423792970309506\n",
      "ASIN:  B0001NLHUS\n",
      "\n",
      "\n",
      "Overall Mean:  3.0\n",
      "\n",
      "\n"
     ]
    }
   ],
   "source": [
    "asins, scores = recommend('B0001NLGV8')\n",
    "print(asins)\n",
    "print(scores)\n",
    "\n",
    "for i in range(2):\n",
    "    print('Item ID: ',scores[i][0])\n",
    "    print('Similarity Score: ',scores[i][1])\n",
    "    print('ASIN: ',asins[i])\n",
    "    print('\\n')\n",
    "    # Busca el 'overall_mean' correspondiente al 'asin'\n",
    "    overall_mean_item = overall_mean.loc[overall_mean['asin'] == asins[i], 'overall'].values[0]\n",
    "    print('Overall Mean: ', overall_mean_item)\n",
    "    print('\\n')"
   ]
  },
  {
   "cell_type": "code",
   "execution_count": 98,
   "metadata": {},
   "outputs": [
    {
     "name": "stdout",
     "output_type": "stream",
     "text": [
      "['B0001NLH30', 'B0001NLHUS', 'B0001NLH1C', 'B0006U8BPK', 'B00007AV0C', 'B0000BZZEM', 'B0007TBNOG', 'B0000A98WO', 'B0007TBMWO', 'B0000A98NK']\n",
      "         asin                       Score  overall\n",
      "0  B0001NLH30  (297, 0.35632088724547323)      4.0\n",
      "1  B0001NLHUS   (309, 0.3423792970309506)      3.0\n",
      "2  B0001NLH1C   (298, 0.3343886668301189)      1.0\n",
      "3  B0006U8BPK  (586, 0.22771284078989293)      5.0\n",
      "4  B00007AV0C   (59, 0.19598189626488433)      5.0\n",
      "5  B0000BZZEM  (137, 0.18819810977508622)      5.0\n",
      "6  B0007TBNOG  (691, 0.18080430618163593)      5.0\n",
      "7  B0000A98WO   (114, 0.1708513884718601)      4.0\n",
      "8  B0007TBMWO  (692, 0.17042984371019484)      5.0\n",
      "9  B0000A98NK  (112, 0.16339388396514157)      5.0\n"
     ]
    }
   ],
   "source": [
    "top_100_score = scores[:10]\n",
    "top_100_asin = asins[:10]\n",
    "\n",
    "print(top_100_asin)\n",
    "# Crear una lista de tuplas que contenga el ASIN, el score y el overall en el mismo orden\n",
    "data = list(zip(top_100_asin, top_100_score))\n",
    "\n",
    "# Crear un DataFrame a partir de los datos combinados\n",
    "df_result = pd.DataFrame(data, columns=['asin', 'Score'])\n",
    "\n",
    "# Realizar un join entre df_result y result usando la columna 'ASIN' como clave de unión\n",
    "final_result = pd.merge(df_result, overall_mean, on='asin')\n",
    "\n",
    "# Imprimir el resultado final\n",
    "print(final_result)\n"
   ]
  },
  {
   "cell_type": "code",
   "execution_count": 65,
   "metadata": {},
   "outputs": [
    {
     "name": "stdout",
     "output_type": "stream",
     "text": [
      "         asin                       Score  overall  \\\n",
      "0  B0001NLH30  (297, 0.35632088724547323)      4.0   \n",
      "1  B0001NLHUS   (309, 0.3423792970309506)      3.0   \n",
      "2  B0001NLH1C   (298, 0.3343886668301189)      1.0   \n",
      "3  B0006U8BPK  (586, 0.22771284078989293)      5.0   \n",
      "4  B00007AV0C   (59, 0.19598189626488433)      5.0   \n",
      "5  B0000BZZEM  (137, 0.18819810977508622)      5.0   \n",
      "6  B0007TBNOG  (691, 0.18080430618163593)      5.0   \n",
      "7  B0000A98WO   (114, 0.1708513884718601)      4.0   \n",
      "8  B0007TBMWO  (692, 0.17042984371019484)      5.0   \n",
      "9  B0000A98NK  (112, 0.16339388396514157)      5.0   \n",
      "\n",
      "                                               title brand feature  \\\n",
      "0  Samsonite Umbrellas Mini Flat Lightweight Open...   NaN     NaN   \n",
      "1  Samsonite Umbrellas Ultra Mini Flat Lightweigh...   NaN     NaN   \n",
      "2  Samsonite Umbrellas Mini Flat Lightweight Open...   NaN     NaN   \n",
      "3  OWC Single Cherry Wood Automatic Watch Winder ...  AROA     NaN   \n",
      "4  Samsonite Business Cases Leather Portfolio (Bl...   NaN     NaN   \n",
      "5                 Samsonite Sideloader Mobile Office   NaN     NaN   \n",
      "6    Samsonite Silhouette 9 Commuter Tote (Burgundy)   NaN     NaN   \n",
      "7           CalPak Arctic Circle (Navy/ Grey/ Black)   NaN     NaN   \n",
      "8     Samsonite Oyster Beauty Case (closeout) (Teal)   NaN     NaN   \n",
      "9     Samsonite Swing (Closeout) (Key Lime/Charcoal)   NaN     NaN   \n",
      "\n",
      "                                     rank               date  \\\n",
      "0      25,882,901inClothing,ShoesJewelry(  5 star5 star (0%)   \n",
      "1      25,658,552inClothing,ShoesJewelry(  5 star5 star (0%)   \n",
      "2      26,064,172inClothing,ShoesJewelry(  5 star5 star (0%)   \n",
      "3                                     NaN             5 star   \n",
      "4      25,422,306inClothing,ShoesJewelry(             5 star   \n",
      "5  26,001,155inClothing,Shoesamp;Jewelry(             5 star   \n",
      "6                                     NaN             5 star   \n",
      "7      26,152,751inClothing,ShoesJewelry(  5 star5 star (0%)   \n",
      "8      25,802,285inClothing,ShoesJewelry(             5 star   \n",
      "9      26,306,009inClothing,ShoesJewelry(             5 star   \n",
      "\n",
      "                                            imageURL  \\\n",
      "0                                                NaN   \n",
      "1                                                NaN   \n",
      "2                                                NaN   \n",
      "3                                                NaN   \n",
      "4                                                NaN   \n",
      "5  [https://images-na.ssl-images-amazon.com/image...   \n",
      "6                                                NaN   \n",
      "7  [https://images-na.ssl-images-amazon.com/image...   \n",
      "8                                                NaN   \n",
      "9                                                NaN   \n",
      "\n",
      "                                     imageURLHighRes description price  \\\n",
      "0                                                NaN         NaN   NaN   \n",
      "1                                                NaN         NaN   NaN   \n",
      "2                                                NaN         NaN   NaN   \n",
      "3                                                NaN         NaN   NaN   \n",
      "4                                                NaN         NaN   NaN   \n",
      "5  [https://images-na.ssl-images-amazon.com/image...         NaN   NaN   \n",
      "6                                                NaN         NaN   NaN   \n",
      "7  [https://images-na.ssl-images-amazon.com/image...         NaN   NaN   \n",
      "8                                                NaN         NaN   NaN   \n",
      "9                                                NaN         NaN   NaN   \n",
      "\n",
      "  also_view also_buy  fit details similar_item tech1  \\\n",
      "0       NaN      NaN  NaN     NaN          NaN   NaN   \n",
      "1       NaN      NaN  NaN     NaN          NaN   NaN   \n",
      "2       NaN      NaN  NaN     NaN          NaN   NaN   \n",
      "3       NaN      NaN  NaN     NaN          NaN   NaN   \n",
      "4       NaN      NaN  NaN     NaN          NaN   NaN   \n",
      "5       NaN      NaN  NaN     NaN          NaN   NaN   \n",
      "6       NaN      NaN  NaN     NaN          NaN   NaN   \n",
      "7       NaN      NaN  NaN     NaN          NaN   NaN   \n",
      "8       NaN      NaN  NaN     NaN          NaN   NaN   \n",
      "9       NaN      NaN  NaN     NaN          NaN   NaN   \n",
      "\n",
      "                                       combined_text   id  \n",
      "0  Samsonite Umbrellas Mini Flat Lightweight Open...  297  \n",
      "1  Samsonite Umbrellas Ultra Mini Flat Lightweigh...  309  \n",
      "2  Samsonite Umbrellas Mini Flat Lightweight Open...  298  \n",
      "3  OWC Single Cherry Wood Automatic Watch Winder ...  586  \n",
      "4  Samsonite Business Cases Leather Portfolio (Bl...   59  \n",
      "5         Samsonite Sideloader Mobile Office nan nan  137  \n",
      "6  Samsonite Silhouette 9 Commuter Tote (Burgundy...  691  \n",
      "7   CalPak Arctic Circle (Navy/ Grey/ Black) nan nan  114  \n",
      "8  Samsonite Oyster Beauty Case (closeout) (Teal)...  692  \n",
      "9  Samsonite Swing (Closeout) (Key Lime/Charcoal)...  112  \n"
     ]
    }
   ],
   "source": [
    "# Realizar un join entre final_result y dataset_original utilizando la columna 'ASIN' como clave de unión\n",
    "resultado_completo = pd.merge(final_result, df_meta_cortado, on='asin')\n",
    "\n",
    "# Imprimir el resultado completo\n",
    "print(resultado_completo)\n"
   ]
  }
 ],
 "metadata": {
  "kernelspec": {
   "display_name": "Python 3",
   "language": "python",
   "name": "python3"
  },
  "language_info": {
   "codemirror_mode": {
    "name": "ipython",
    "version": 3
   },
   "file_extension": ".py",
   "mimetype": "text/x-python",
   "name": "python",
   "nbconvert_exporter": "python",
   "pygments_lexer": "ipython3",
   "version": "3.11.3"
  }
 },
 "nbformat": 4,
 "nbformat_minor": 2
}
